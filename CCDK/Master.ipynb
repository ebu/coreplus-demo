{
 "cells": [
  {
   "cell_type": "markdown",
   "id": "e1f662fd-7acd-48f9-8da0-9b0e8a6aff36",
   "metadata": {
    "tags": []
   },
   "source": [
    "# Preamble\n",
    "## Importing necessary libraries and scripts\n",
    "The code below consist of imports for libraries and scripts necessary for generating visualizations."
   ]
  },
  {
   "cell_type": "code",
   "execution_count": 1,
   "id": "99bddc85",
   "metadata": {
    "scrolled": true
   },
   "outputs": [],
   "source": [
    "import sys\n",
    "import pandas as pd\n",
    "import itables.options as opt\n",
    "from itables import init_notebook_mode, show\n",
    "from scripts.ontologies import (get_individual, get_model, get_all_classes, get_non_subclasses, get_description,\n",
    "                                get_classes_by_labels, get_leafs, get_non_leafs, get_subclasses, get_properties,\n",
    "                                visualize, itable_config)\n",
    "from scripts.config import ITABLE_COLDEF, ITABLE_TITLE"
   ]
  },
  {
   "cell_type": "markdown",
   "id": "7e109785-5d77-4d8f-a49c-4073dcc40874",
   "metadata": {},
   "source": [
    "## Acquiring the model\n",
    "The code below is reponsible for accessing the endpoints to acquire the model, using the credentials provided as parameters named **username** and **password**. It involves acquiring **classes** along with their respective **descriptions** and **attributes**. "
   ]
  },
  {
   "cell_type": "code",
   "execution_count": 2,
   "id": "d00298cf-e452-4d22-83dc-bcf1adcc291d",
   "metadata": {},
   "outputs": [],
   "source": [
    "USERNAME = 'demo-user'\n",
    "PASSWORD = 'demo'"
   ]
  },
  {
   "cell_type": "code",
   "execution_count": 3,
   "id": "01aeaa48-1e06-48af-9733-81660294f6be",
   "metadata": {},
   "outputs": [
    {
     "data": {
      "application/javascript": [
       "if (typeof require !== 'undefined')\n",
       "    require.config({\n",
       "        paths: {\n",
       "            jquery: 'https://code.jquery.com/jquery-3.5.1.min',\n",
       "            datatables: 'https://cdn.datatables.net/1.11.3/js/jquery.dataTables.min',\n",
       "        }\n",
       "    });\n"
      ],
      "text/plain": [
       "<IPython.core.display.Javascript object>"
      ]
     },
     "metadata": {},
     "output_type": "display_data"
    }
   ],
   "source": [
    "classes_df = get_model(username=USERNAME, password=PASSWORD)\n",
    "# Configuration for itables \n",
    "itable_config(opt, init_notebook_mode)"
   ]
  },
  {
   "cell_type": "markdown",
   "id": "cc4fb9e9-40f2-4571-aa8e-e81c7b5cdff7",
   "metadata": {},
   "source": [
    "## Configuring itables and DataFrames \n",
    "The code below is reponsible for configuring itables for optimized tabluar visualizations. It also includes transformation of DataFrame for later use. "
   ]
  },
  {
   "cell_type": "code",
   "execution_count": 4,
   "id": "153bea62-6330-469b-ae20-0e0786248ed1",
   "metadata": {},
   "outputs": [
    {
     "data": {
      "text/html": [
       "<table id=\"3bcf8696-9245-4592-a6ba-1e338f653556\" class=\"cell-border stripe hover\"style=\"max-width:100%\"><h4 style=\"text-alignt:center\"><label style=\"font-weight:bold\">Table: </label><label>List of classes</label></h4><thead>\n",
       "    <tr style=\"text-align: right;\">\n",
       "      \n",
       "      <th>Class Label</th>\n",
       "      <th>hasNoSubclasses</th>\n",
       "      <th>Class IRI</th>\n",
       "    </tr>\n",
       "  </thead><tbody><tr><td>Loading... (need <a href=https://mwouts.github.io/itables/troubleshooting.html>help</a>?)</td></tr></tbody></table>\n",
       "<link rel=\"stylesheet\" type=\"text/css\" href=\"https://cdn.datatables.net/1.11.3/css/jquery.dataTables.min.css\">\n",
       "<style> table td {\n",
       "    text-overflow: ellipsis;\n",
       "    overflow: hidden;\n",
       "} </style>\n",
       "<style> table th {\n",
       "    text-overflow: ellipsis;\n",
       "    overflow: hidden;\n",
       "} </style>\n",
       "<script type=\"module\">\n",
       "    // Define the table data\n",
       "    const data = [[\"Actuator\", true, \"http://ont.enapso.com/foundation#Actuator\"], [\"Argument\", true, \"http://ont.enapso.com/foundation#Argument\"], [\"Aspect \\\"Architecture\\\"\", true, \"http://ont.enapso.com/foundation#AspectArchitecture\"], [\"Aspect \\\"Behavior\\\"\", true, \"http://ont.enapso.com/foundation#AspectBehavior\"], [\"Aspect \\\"Business Logic\\\"\", true, \"http://ont.enapso.com/foundation#AspectBusinessLogic\"], [\"Aspect \\\"Design\\\"\", true, \"http://ont.enapso.com/foundation#AspectDesign\"], [\"Aspect \\\"Layout\\\"\", true, \"http://ont.enapso.com/foundation#AspectLayout\"], [\"Aspect \\\"Life Cycle\\\"\", true, \"http://ont.enapso.com/foundation#AspectLifeCycle\"], [\"Aspect \\\"Navigation\\\"\", true, \"http://ont.enapso.com/foundation#AspectNavigation\"], [\"Aspect \\\"User Interaction\\\"\", true, \"http://ont.enapso.com/foundation#AspectUserInteraction\"], [\"Aspect \\\"Workflow\\\"\", true, \"http://ont.enapso.com/foundation#AspectWorkflow\"], [\"Attribute\", false, \"http://ont.enapso.com/foundation#Attribute\"], [\"Compound Attribute\", true, \"http://ont.enapso.com/foundation#CompoundAttribute\"], [\"Capability\", false, \"http://ont.enapso.com/foundation#Capability\"], [\"Compound Capability\", true, \"http://ont.enapso.com/foundation#CompoundCapability\"], [\"Class\", true, \"http://ont.enapso.com/foundation#Class\"], [\"Constraint\", false, \"http://ont.enapso.com/foundation#Constraint\"], [\"Default Constraint\", true, \"http://ont.enapso.com/foundation#DefaultConstraint\"], [\"Enumeration Constraint\", true, \"http://ont.enapso.com/foundation#EnumerationConstraint\"], [\"Existence Constraint\", true, \"http://ont.enapso.com/foundation#ExistenceConstraint\"], [\"Range Constraint\", true, \"http://ont.enapso.com/foundation#RangeConstraint\"], [\"Relational Constraint\", false, \"http://ont.enapso.com/foundation#RelationalConstraint\"], [\"Foreign Key Constraint\", true, \"http://ont.enapso.com/foundation#ForeignKeyConstraint\"], [\"Primary Key Constraint\", true, \"http://ont.enapso.com/foundation#PrimaryKeyConstraint\"], [\"Referential Integerity Constraint\", false, \"http://ont.enapso.com/foundation#ReferentialIntegerityConstraint\"], [\"Delete Cascade Constraint\", true, \"http://ont.enapso.com/foundation#DeleteCascadeConstraint\"], [\"Delete Restrict Constraint\", true, \"http://ont.enapso.com/foundation#DeleteRestrictConstraint\"], [\"Delete Set Null Constraint\", true, \"http://ont.enapso.com/foundation#DeleteSetNullConstraint\"], [\"Type Constraint\", true, \"http://ont.enapso.com/foundation#TypeConstraint\"], [\"Unique Constraint\", true, \"http://ont.enapso.com/foundation#UniqueConstraint\"], [\"Context\", true, \"http://ont.enapso.com/foundation#Context\"], [\"Context Mapper\", true, \"http://ont.enapso.com/foundation#ContextMapper\"], [\"Css\", true, \"http://ont.enapso.com/foundation#Css\"], [\"Entity\", true, \"http://ont.enapso.com/foundation#Entity\"], [\"Exception\", true, \"http://ont.enapso.com/foundation#Exception\"], [\"Experience\", true, \"http://ont.enapso.com/foundation#Experience\"], [\"Interface\", true, \"http://ont.enapso.com/foundation#Interface\"], [\"Message\", true, \"http://ont.enapso.com/foundation#Message\"], [\"Message Processor\", true, \"http://ont.enapso.com/foundation#MessageProcessor\"], [\"Process\", true, \"http://ont.enapso.com/foundation#Process\"], [\"Relation\", false, \"http://ont.enapso.com/foundation#Relation\"], [\"Child 2 Parent Relation\", true, \"http://ont.enapso.com/foundation#Child2ParentRelation\"], [\"Many To Many Relation\", true, \"http://ont.enapso.com/foundation#ManyToManyRelation\"], [\"N 2 M Relation\", true, \"http://ont.enapso.com/foundation#N2MRelation\"], [\"One 2 One Association\", true, \"http://ont.enapso.com/foundation#One2OneAssociation\"], [\"One To Many Relation\", true, \"http://ont.enapso.com/foundation#OneToManyRelation\"], [\"One To One Relation\", true, \"http://ont.enapso.com/foundation#OneToOneRelation\"], [\"Parent 2 Child Relation\", false, \"http://ont.enapso.com/foundation#Parent2ChildRelation\"], [\"Resource 2 Attribute Relation\", true, \"http://ont.enapso.com/foundation#Resource2AttributeRelation\"], [\"Resource 2 Capability Relation\", true, \"http://ont.enapso.com/foundation#Resource2CapabilityRelation\"], [\"Requirement\", true, \"http://ont.enapso.com/foundation#Requirement\"], [\"Resource\", false, \"http://ont.enapso.com/foundation#Resource\"], [\"Compound Resource\", true, \"http://ont.enapso.com/foundation#CompoundResource\"], [\"Sensor\", true, \"http://ont.enapso.com/foundation#Sensor\"], [\"Service\", false, \"http://ont.enapso.com/foundation#Service\"], [\"JavaScript Service\", true, \"http://ont.enapso.com/foundation#JavascriptService\"], [\"Statement\", true, \"http://ont.enapso.com/foundation#Statement\"], [\"Data Property Generator\", false, \"http://ont.enapso.com/model/mockaspect#DataPropertyGenerator\"], [\"Mock Data Specification\", true, \"http://ont.enapso.com/model/mockaspect#MockDataSpecification\"], [\"Object Relation Generator\", true, \"http://ont.enapso.com/model/mockaspect#ObjectRelationGenerator\"], [\"Noun\", true, \"http://ont.enapso.com/terms#Noun\"], [\"Term\", true, \"http://ont.enapso.com/terms#Term\"], [\"Verb\", true, \"http://ont.enapso.com/terms#Verb\"], [\"Delivery Plan\", true, \"http://ont.enapso.com/truck#DeliveryPlan\"], [\"Location\", false, \"http://ont.enapso.com/truck#Location\"], [\"Geo Location\", true, \"http://ont.enapso.com/truck#GeoLocation\"], [\"Street Location\", true, \"http://ont.enapso.com/truck#StreetLocation\"], [\"Map\", true, \"http://ont.enapso.com/truck#Map\"], [\"Order\", true, \"http://ont.enapso.com/truck#Order\"], [\"Rate\", true, \"http://ont.enapso.com/truck#Rate\"], [\"Route\", true, \"http://ont.enapso.com/truck#Route\"], [\"Transport Company\", true, \"http://ont.enapso.com/truck#TransportCompany\"], [\"Truck\", true, \"http://ont.enapso.com/truck#Truck\"], [\"Agent\", true, \"http://purl.org/dc/elements/1.1/Agent\"], [\"Account\", true, \"http://www.ebu.ch/metadata/ontologies/ebuccdm#Account\"], [\"Asset value\", true, \"http://www.ebu.ch/metadata/ontologies/ebuccdm#AssetValue\"], [\"Audience\", true, \"http://www.ebu.ch/metadata/ontologies/ebuccdm#Audience\"], [\"Audit Report\", true, \"http://www.ebu.ch/metadata/ontologies/ebuccdm#AuditReport\"], [\"Campaign\", true, \"http://www.ebu.ch/metadata/ontologies/ebuccdm#Campaign\"], [\"Device\", true, \"http://www.ebu.ch/metadata/ontologies/ebuccdm#ConsumptionDevice\"], [\"Consumption device profile\", true, \"http://www.ebu.ch/metadata/ontologies/ebuccdm#ConsumptionDeviceProfile\"], [\"Consumption event\", true, \"http://www.ebu.ch/metadata/ontologies/ebuccdm#ConsumptionEvent\"], [\"Consumption licence\", true, \"http://www.ebu.ch/metadata/ontologies/ebuccdm#ConsumptionLicence\"], [\"Contract\", true, \"http://www.ebu.ch/metadata/ontologies/ebuccdm#Contract\"], [\"Contract cost\", true, \"http://www.ebu.ch/metadata/ontologies/ebuccdm#ContractCost\"], [\"Measure\", true, \"http://www.ebu.ch/metadata/ontologies/ebuccdm#Measure\"], [\"On Stage Position\", true, \"http://www.ebu.ch/metadata/ontologies/ebuccdm#OnStagePosition\"], [\"Production device\", true, \"http://www.ebu.ch/metadata/ontologies/ebuccdm#ProductionDevice\"], [\"Audit Job\", true, \"http://www.ebu.ch/metadata/ontologies/ebuccdm#AuditJob\"], [\"Production job\", false, \"http://www.ebu.ch/metadata/ontologies/ebuccdm#ProductionJob\"], [\"Production order\", true, \"http://www.ebu.ch/metadata/ontologies/ebuccdm#ProductionOrder\"], [\"Resonance\", true, \"http://www.ebu.ch/metadata/ontologies/ebuccdm#Resonance\"], [\"Resonance event\", true, \"http://www.ebu.ch/metadata/ontologies/ebuccdm#ResonanceEvent\"], [\"Rule\", true, \"http://www.ebu.ch/metadata/ontologies/ebuccdm#Rule\"], [\"Stage\", true, \"http://www.ebu.ch/metadata/ontologies/ebuccdm#Stage\"], [\"Action\", true, \"http://www.ebu.ch/metadata/ontologies/ebucore/ebucore#Action\"], [\"Cast member\", true, \"http://www.ebu.ch/metadata/ontologies/ebucore/ebucore#Cast\"], [\"Crew\", true, \"http://www.ebu.ch/metadata/ontologies/ebucore/ebucore#Crew\"], [\"Organisation\", false, \"http://www.ebu.ch/metadata/ontologies/ebucore/ebucore#Organisation\"], [\"Affiliation\", true, \"http://www.ebu.ch/metadata/ontologies/ebucore/ebucore#Affiliation\"], [\"Department\", true, \"http://www.ebu.ch/metadata/ontologies/ebucore/ebucore#Department\"], [\"Fictional organisation\", true, \"http://www.ebu.ch/metadata/ontologies/ebucore/ebucore#FictionalOrganisation\"], [\"Party\", true, \"http://www.ebu.ch/metadata/ontologies/ebucore/ebucore#Party\"], [\"Consumer\", true, \"http://www.ebu.ch/metadata/ontologies/ebuccdm#Consumer\"], [\"Character\", true, \"http://www.ebu.ch/metadata/ontologies/ebucore/ebucore#Character\"], [\"Contact\", true, \"http://www.ebu.ch/metadata/ontologies/ebucore/ebucore#Contact\"], [\"Fictional person\", true, \"http://www.ebu.ch/metadata/ontologies/ebucore/ebucore#FictionalPerson\"], [\"Staff member.\", true, \"http://www.ebu.ch/metadata/ontologies/ebucore/ebucore#Staff\"], [\"Person\", false, \"http://www.ebu.ch/metadata/ontologies/ebucore/ebucore#Person\"], [\"Team\", true, \"http://www.ebu.ch/metadata/ontologies/ebucore/ebucore#Team\"], [\"Agent\", false, \"http://www.ebu.ch/metadata/ontologies/ebucore/ebucore#Agent\"], [\"Animal\", true, \"http://www.ebu.ch/metadata/ontologies/ebucore/ebucore#Animal\"], [\"Annotation\", false, \"http://www.ebu.ch/metadata/ontologies/ebucore/ebucore#Annotation\"], [\"Text Annotation\", true, \"http://www.ebu.ch/metadata/ontologies/ebucore/ebucore#TextAnnotation\"], [\"Costume\", true, \"http://www.ebu.ch/metadata/ontologies/ebucore/ebucore#Costume\"], [\"Food\", true, \"http://www.ebu.ch/metadata/ontologies/ebucore/ebucore#Food\"], [\"Props\", true, \"http://www.ebu.ch/metadata/ontologies/ebucore/ebucore#Props\"], [\"Artefact\", false, \"http://www.ebu.ch/metadata/ontologies/ebucore/ebucore#Artefact\"], [\"Business Object\", false, \"http://www.ebu.ch/metadata/ontologies/ebucore/ebucore#BusinessObject\"], [\"Bibliographical object\", false, \"http://www.ebu.ch/metadata/ontologies/ebucore/ebucore#BibliographicalObject\"], [\"Biography\", true, \"http://www.ebu.ch/metadata/ontologies/ebucore/ebucore#Biography\"], [\"Record\", true, \"http://www.ebu.ch/metadata/ontologies/ebucore/ebucore#Record\"], [\"BMContent\", true, \"http://www.ebu.ch/metadata/ontologies/ebucore/ebucore#BMContent\"], [\"Clip\", true, \"http://www.ebu.ch/metadata/ontologies/ebucore/ebucore#Clip\"], [\"Episode\", true, \"http://www.ebu.ch/metadata/ontologies/ebucore/ebucore#Episode\"], [\"Feature\", true, \"http://www.ebu.ch/metadata/ontologies/ebucore/ebucore#Feature\"], [\"Item\", false, \"http://www.ebu.ch/metadata/ontologies/ebucore/ebucore#Item\"], [\"Breaking news item\", true, \"http://www.ebu.ch/metadata/ontologies/ebucore/ebucore#BreakingNewsItem\"], [\"News Item\", true, \"http://www.ebu.ch/metadata/ontologies/ebucore/ebucore#NewsItem\"], [\"Review\", true, \"http://www.ebu.ch/metadata/ontologies/ebucore/ebucore#Review\"], [\"Sport item\", true, \"http://www.ebu.ch/metadata/ontologies/ebucore/ebucore#SportItem\"], [\"Part, Fragment, Segment\", true, \"http://www.ebu.ch/metadata/ontologies/ebucore/ebucore#Part\"], [\"Programme\", false, \"http://www.ebu.ch/metadata/ontologies/ebucore/ebucore#Programme\"], [\"Audio content\", true, \"http://www.ebu.ch/metadata/ontologies/ebucore/ebucore#AudioContent\"], [\"Audio programme\", true, \"http://www.ebu.ch/metadata/ontologies/ebucore/ebucore#AudioProgramme\"], [\"Radio Programme\", true, \"http://www.ebu.ch/metadata/ontologies/ebucore/ebucore#RadioProgramme\"], [\"TV Programme\", true, \"http://www.ebu.ch/metadata/ontologies/ebucore/ebucore#TVProgramme\"], [\"Scene\", true, \"http://www.ebu.ch/metadata/ontologies/ebucore/ebucore#Scene\"], [\"Shot\", true, \"http://www.ebu.ch/metadata/ontologies/ebucore/ebucore#Shot\"], [\"Take\", true, \"http://www.ebu.ch/metadata/ontologies/ebucore/ebucore#Take\"], [\"Version\", true, \"http://www.ebu.ch/metadata/ontologies/ebucore/ebucore#Version\"], [\"Editorial object\", false, \"http://www.ebu.ch/metadata/ontologies/ebucore/ebucore#EditorialObject\"], [\"Image\", true, \"http://www.ebu.ch/metadata/ontologies/ebucore/ebucore#Image\"], [\"Group\", false, \"http://www.ebu.ch/metadata/ontologies/ebucore/ebucore#Group\"], [\"Brand\", true, \"http://www.ebu.ch/metadata/ontologies/ebucore/ebucore#Brand\"], [\"Collection\", true, \"http://www.ebu.ch/metadata/ontologies/ebucore/ebucore#Collection\"], [\"Season\", true, \"http://www.ebu.ch/metadata/ontologies/ebucore/ebucore#Season\"], [\"Series\", true, \"http://www.ebu.ch/metadata/ontologies/ebucore/ebucore#Series\"], [\"Document\", false, \"http://www.ebu.ch/metadata/ontologies/ebucore/ebucore#Document\"], [\"Dopesheet\", true, \"http://www.ebu.ch/metadata/ontologies/ebucore/ebucore#Dopesheet\"], [\"Audio object\", true, \"http://www.ebu.ch/metadata/ontologies/ebucore/ebucore#AudioObject\"], [\"Component\", false, \"http://www.ebu.ch/metadata/ontologies/ebucore/ebucore#Component\"], [\"Stream\", false, \"http://www.ebu.ch/metadata/ontologies/ebucore/ebucore#Stream\"], [\"Audio stream\", true, \"http://www.ebu.ch/metadata/ontologies/ebucore/ebucore#AudioStream\"], [\"Video stream\", true, \"http://www.ebu.ch/metadata/ontologies/ebucore/ebucore#VideoStream\"], [\"BMEssence\", true, \"http://www.ebu.ch/metadata/ontologies/ebucore/ebucore#BMEssence\"], [\"Essence\", false, \"http://www.ebu.ch/metadata/ontologies/ebucore/ebucore#Essence\"], [\"Media Fragment\", true, \"http://www.ebu.ch/metadata/ontologies/ebucore/ebucore#MediaFragment\"], [\"Template\", false, \"http://www.ebu.ch/metadata/ontologies/ebucore/ebucore#Template\"], [\"BMTemplate\", true, \"http://www.ebu.ch/metadata/ontologies/ebucore/ebucore#BMTemplate\"], [\"Audio track\", false, \"http://www.ebu.ch/metadata/ontologies/ebucore/ebucore#AudioTrack\"], [\"Audio description\", true, \"http://www.ebu.ch/metadata/ontologies/ebucore/ebucore#AudioDescription\"], [\"Captioning\", false, \"http://www.ebu.ch/metadata/ontologies/ebucore/ebucore#Captioning\"], [\"Closed caption\", true, \"http://www.ebu.ch/metadata/ontologies/ebucore/ebucore#ClosedCaptions\"], [\"Open captions\", true, \"http://www.ebu.ch/metadata/ontologies/ebucore/ebucore#OpenCaptions\"], [\"Data track\", false, \"http://www.ebu.ch/metadata/ontologies/ebucore/ebucore#DataTrack\"], [\"Ancillary data\", true, \"http://www.ebu.ch/metadata/ontologies/ebucore/ebucore#AncillaryData\"], [\"Metadata track\", true, \"http://www.ebu.ch/metadata/ontologies/ebucore/ebucore#MetadataTrack\"], [\"Subtitling\", false, \"http://www.ebu.ch/metadata/ontologies/ebucore/ebucore#Subtitling\"], [\"Closed subtitling\", true, \"http://www.ebu.ch/metadata/ontologies/ebucore/ebucore#ClosedSubtitling\"], [\"Open subtitling\", true, \"http://www.ebu.ch/metadata/ontologies/ebucore/ebucore#OpenSubtitling\"], [\"Timecode track\", true, \"http://www.ebu.ch/metadata/ontologies/ebucore/ebucore#TimecodeTrack\"], [\"Video track\", false, \"http://www.ebu.ch/metadata/ontologies/ebucore/ebucore#VideoTrack\"], [\"Signing\", true, \"http://www.ebu.ch/metadata/ontologies/ebucore/ebucore#Signing\"], [\"Track\", false, \"http://www.ebu.ch/metadata/ontologies/ebucore/ebucore#Track\"], [\"Media resource\", false, \"http://www.ebu.ch/metadata/ontologies/ebucore/ebucore#MediaResource\"], [\"Physical resource\", true, \"http://www.ebu.ch/metadata/ontologies/ebucore/ebucore#PhysicalResource\"], [\"Picture\", false, \"http://www.ebu.ch/metadata/ontologies/ebucore/ebucore#Picture\"], [\"key frame\", true, \"http://www.ebu.ch/metadata/ontologies/ebucore/ebucore#Keyframe\"], [\"Logo\", true, \"http://www.ebu.ch/metadata/ontologies/ebucore/ebucore#Logo\"], [\"Pictogram\", true, \"http://www.ebu.ch/metadata/ontologies/ebucore/ebucore#Pictogram\"], [\"Sticker\", true, \"http://www.ebu.ch/metadata/ontologies/ebucore/ebucore#Sticker\"], [\"Thumbnail\", true, \"http://www.ebu.ch/metadata/ontologies/ebucore/ebucore#Thumbnail\"], [\"Resource\", false, \"http://www.ebu.ch/metadata/ontologies/ebucore/ebucore#Resource\"], [\"Asset\", false, \"http://www.ebu.ch/metadata/ontologies/ebucore/ebucore#Asset\"], [\"Award\", true, \"http://www.ebu.ch/metadata/ontologies/ebucore/ebucore#Award\"], [\"Codec\", false, \"http://www.ebu.ch/metadata/ontologies/ebucore/ebucore#Codec\"], [\"Audio codec\", true, \"http://www.ebu.ch/metadata/ontologies/ebucore/ebucore#AudioCodec\"], [\"Container codec\", true, \"http://www.ebu.ch/metadata/ontologies/ebucore/ebucore#ContainerCodec\"], [\"Image codec\", true, \"http://www.ebu.ch/metadata/ontologies/ebucore/ebucore#ImageCodec\"], [\"Video codec\", true, \"http://www.ebu.ch/metadata/ontologies/ebucore/ebucore#VideoCodec\"], [\"Emotion\", true, \"http://www.ebu.ch/metadata/ontologies/ebucore/ebucore#Emotion\"], [\"Depicted Event\", true, \"http://www.ebu.ch/metadata/ontologies/ebucore/ebucore#DepictedEvent\"], [\"Fictional event\", true, \"http://www.ebu.ch/metadata/ontologies/ebucore/ebucore#FictionalEvent\"], [\"Key event\", false, \"http://www.ebu.ch/metadata/ontologies/ebucore/ebucore#KeyEvent\"], [\"Key career event\", true, \"http://www.ebu.ch/metadata/ontologies/ebucore/ebucore#KeyCareerEvent\"], [\"Key personal event\", true, \"http://www.ebu.ch/metadata/ontologies/ebucore/ebucore#KeyPersonalEvent\"], [\"Event\", false, \"http://www.ebu.ch/metadata/ontologies/ebucore/ebucore#Event\"], [\"Identifier\", false, \"http://www.ebu.ch/metadata/ontologies/ebucore/ebucore#Identifier\"], [\"EIDR\", true, \"http://www.ebu.ch/metadata/ontologies/ebucore/ebucore#EidrIdentifier\"], [\"IMedia Identifier\", true, \"http://www.ebu.ch/metadata/ontologies/ebucore/ebucore#IMediaIdentifier\"], [\"ISAN\", true, \"http://www.ebu.ch/metadata/ontologies/ebucore/ebucore#IsanIdentifier\"], [\"Link\", true, \"http://www.ebu.ch/metadata/ontologies/ebucore/ebucore#Link\"], [\"Fictional location\", true, \"http://www.ebu.ch/metadata/ontologies/ebucore/ebucore#FictionalLocation\"], [\"Location\", false, \"http://www.ebu.ch/metadata/ontologies/ebucore/ebucore#Location\"], [\"Locator\", true, \"http://www.ebu.ch/metadata/ontologies/ebucore/ebucore#Locator\"], [\"Publication Event\", true, \"http://www.ebu.ch/metadata/ontologies/ebucore/ebucore#PublicationEvent\"], [\"Publication History\", true, \"http://www.ebu.ch/metadata/ontologies/ebucore/ebucore#PublicationHistory\"], [\"Publication logg\", true, \"http://www.ebu.ch/metadata/ontologies/ebucore/ebucore#PublicationLogg\"], [\"Publication plan\", true, \"http://www.ebu.ch/metadata/ontologies/ebucore/ebucore#PublicationPlan\"], [\"Rating\", false, \"http://www.ebu.ch/metadata/ontologies/ebucore/ebucore#Rating\"], [\"Target audience\", true, \"http://www.ebu.ch/metadata/ontologies/ebucore/ebucore#AudienceLevel\"], [\"Audience rating\", true, \"http://www.ebu.ch/metadata/ontologies/ebucore/ebucore#AudienceRating\"], [\"Relation\", true, \"http://www.ebu.ch/metadata/ontologies/ebucore/ebucore#Relation\"], [\"Access conditions\", true, \"http://www.ebu.ch/metadata/ontologies/ebucore/ebucore#AccessConditions\"], [\"Copyright\", true, \"http://www.ebu.ch/metadata/ontologies/ebucore/ebucore#Copyright\"], [\"Coverage restrictions\", true, \"http://www.ebu.ch/metadata/ontologies/ebucore/ebucore#CoverageRestrictions\"], [\"Creative commons\", true, \"http://www.ebu.ch/metadata/ontologies/ebucore/ebucore#CreativeCommons\"], [\"Disclaimer\", true, \"http://www.ebu.ch/metadata/ontologies/ebucore/ebucore#Disclaimer\"], [\"Exploitation issues\", true, \"http://www.ebu.ch/metadata/ontologies/ebucore/ebucore#ExploitationIssues\"], [\"IPR restrictions\", true, \"http://www.ebu.ch/metadata/ontologies/ebucore/ebucore#IPRRestrictions\"], [\"Licensing\", true, \"http://www.ebu.ch/metadata/ontologies/ebucore/ebucore#Licensing\"], [\"Rights Clearance\", true, \"http://www.ebu.ch/metadata/ontologies/ebucore/ebucore#RightsClearance\"], [\"Usage restrictions\", true, \"http://www.ebu.ch/metadata/ontologies/ebucore/ebucore#UsageRestrictions\"], [\"Usage rights\", true, \"http://www.ebu.ch/metadata/ontologies/ebucore/ebucore#UsageRights\"], [\"Rights\", false, \"http://www.ebu.ch/metadata/ontologies/ebucore/ebucore#Rights\"], [\"Platform\", true, \"http://www.ebu.ch/metadata/ontologies/ebucore/ebucore#Platform\"], [\"Publication channel\", true, \"http://www.ebu.ch/metadata/ontologies/ebucore/ebucore#PublicationChannel\"], [\"Service\", false, \"http://www.ebu.ch/metadata/ontologies/ebucore/ebucore#Service\"], [\"Text line\", true, \"http://www.ebu.ch/metadata/ontologies/ebucore/ebucore#TextLine\"], [\"Timeline point\", false, \"http://www.ebu.ch/metadata/ontologies/ebucore/ebucore#TimelinePoint\"], [\"Edit unit count\", true, \"http://www.ebu.ch/metadata/ontologies/ebucore/ebucore#EditUnitCount\"], [\"Normal play time\", true, \"http://www.ebu.ch/metadata/ontologies/ebucore/ebucore#NormalPlayTime\"], [\"Time code\", true, \"http://www.ebu.ch/metadata/ontologies/ebucore/ebucore#TimeCode\"], [\"Time code with dropframe\", true, \"http://www.ebu.ch/metadata/ontologies/ebucore/ebucore#TimecodeDropFrame\"], [\"Timeline track\", true, \"http://www.ebu.ch/metadata/ontologies/ebucore/ebucore#TimelineTrack\"], [\"Time instant\", false, \"http://www.w3.org/2006/time#Instant\"], [\"Uncertain date\", true, \"http://www.ebu.ch/metadata/ontologies/ebucore/ebucore#UncertainDate\"], [\"Date-time description\", true, \"http://www.w3.org/2006/time#DateTimeDescription\"], [\"Temporal reference system\", true, \"http://www.w3.org/2006/time#TRS\"]];\n",
       "\n",
       "    if (typeof require === 'undefined') {\n",
       "        // TODO: This should become the default (use a simple import)\n",
       "        // when the ESM version works independently of whether\n",
       "        // require.js is there or not, see\n",
       "        // https://datatables.net/forums/discussion/69066/esm-es6-module-support?\n",
       "        const {default: $} = await import(\"https://esm.sh/jquery@3.5.0\");\n",
       "        const {default: initDataTables} = await import(\"https://esm.sh/datatables.net@1.11.3?deps=jquery@3.5.0\");\n",
       "\n",
       "        initDataTables();\n",
       "\n",
       "        // Define the dt_args\n",
       "        let dt_args = {\"columnDefs\": [{\"width\": \"120px\", \"className\": \"dt-center\", \"targets\": \"_all\", \"createdCell\": \n",
       "                    function (td, cellData, rowData, row, col) {\n",
       "                        $(td).css('word-wrap', 'break-word')\n",
       "                        if (cellData == false) {\n",
       "                            $(td).css('color', '#7da5c0')\n",
       "                            $(td).css('font-weight', 'bold')\n",
       "                            $(td).html = \"False\"\n",
       "                        }\n",
       "                        else if (cellData == true) {\n",
       "                            $(td).css('color', '#7cbc97')\n",
       "                            $(td).css('font-weight', 'bold')\n",
       "                            $(td).html = \"True\"\n",
       "                        }\n",
       "                    }\n",
       "                    }], \"lengthMenu\": [5, 10, 25, 50, -1]};\n",
       "        dt_args[\"data\"] = data;\n",
       "\n",
       "        // Display the table\n",
       "        $(document).ready(function () {\n",
       "            $('#3bcf8696-9245-4592-a6ba-1e338f653556').DataTable(dt_args);\n",
       "        });\n",
       "    } else {\n",
       "        require([\"jquery\", \"datatables\"], ($, datatables) => {\n",
       "                // Define the dt_args\n",
       "                let dt_args = {\"columnDefs\": [{\"width\": \"120px\", \"className\": \"dt-center\", \"targets\": \"_all\", \"createdCell\": \n",
       "                    function (td, cellData, rowData, row, col) {\n",
       "                        $(td).css('word-wrap', 'break-word')\n",
       "                        if (cellData == false) {\n",
       "                            $(td).css('color', '#7da5c0')\n",
       "                            $(td).css('font-weight', 'bold')\n",
       "                            $(td).html = \"False\"\n",
       "                        }\n",
       "                        else if (cellData == true) {\n",
       "                            $(td).css('color', '#7cbc97')\n",
       "                            $(td).css('font-weight', 'bold')\n",
       "                            $(td).html = \"True\"\n",
       "                        }\n",
       "                    }\n",
       "                    }], \"lengthMenu\": [5, 10, 25, 50, -1]};\n",
       "                dt_args[\"data\"] = data;\n",
       "\n",
       "                // Display the table\n",
       "                $(document).ready(function () {\n",
       "                    $('#3bcf8696-9245-4592-a6ba-1e338f653556').DataTable(dt_args);\n",
       "                });\n",
       "            }\n",
       "        )\n",
       "    }\n",
       "</script>\n"
      ],
      "text/plain": [
       "<IPython.core.display.HTML object>"
      ]
     },
     "metadata": {},
     "output_type": "display_data"
    }
   ],
   "source": [
    "all_classes_df = get_all_classes(source_df=classes_df, language='en', show_table=True)"
   ]
  },
  {
   "cell_type": "code",
   "execution_count": 5,
   "id": "2bea315e-fefd-4913-84dd-eec9566eb8e3",
   "metadata": {},
   "outputs": [
    {
     "data": {
      "text/html": [
       "<table id=\"e361a685-3ebb-4ba4-934c-e6b924491154\" class=\"cell-border stripe hover\"style=\"max-width:100%\"><h4 style=\"text-alignt:center\"><label style=\"font-weight:bold\">Table: </label><label>Hierarchy of class Editorial object</label></h4><thead>\n",
       "    <tr style=\"text-align: right;\">\n",
       "      \n",
       "      <th>Class Label</th>\n",
       "      <th>Class IRI</th>\n",
       "      <th>hasNoSubclasses</th>\n",
       "      <th>Superclass Labels</th>\n",
       "      <th>Superclass IRIs</th>\n",
       "    </tr>\n",
       "  </thead><tbody><tr><td>Loading... (need <a href=https://mwouts.github.io/itables/troubleshooting.html>help</a>?)</td></tr></tbody></table>\n",
       "<link rel=\"stylesheet\" type=\"text/css\" href=\"https://cdn.datatables.net/1.11.3/css/jquery.dataTables.min.css\">\n",
       "<style> table td {\n",
       "    text-overflow: ellipsis;\n",
       "    overflow: hidden;\n",
       "} </style>\n",
       "<style> table th {\n",
       "    text-overflow: ellipsis;\n",
       "    overflow: hidden;\n",
       "} </style>\n",
       "<script type=\"module\">\n",
       "    // Define the table data\n",
       "    const data = [[\"BMContent\", \"http://www.ebu.ch/metadata/ontologies/ebucore/ebucore#BMContent\", true, \"Editorial object\", \"http://www.ebu.ch/metadata/ontologies/ebucore/ebucore#EditorialObject\"], [\"Business Object\", \"http://www.ebu.ch/metadata/ontologies/ebucore/ebucore#BusinessObject\", false, \"Asset\", \"http://www.ebu.ch/metadata/ontologies/ebucore/ebucore#Asset\"], [\"Clip\", \"http://www.ebu.ch/metadata/ontologies/ebucore/ebucore#Clip\", true, \"Editorial object\", \"http://www.ebu.ch/metadata/ontologies/ebucore/ebucore#EditorialObject\"], [\"Editorial object\", \"http://www.ebu.ch/metadata/ontologies/ebucore/ebucore#EditorialObject\", false, \"Business Object\", \"http://www.ebu.ch/metadata/ontologies/ebucore/ebucore#BusinessObject\"], [\"Episode\", \"http://www.ebu.ch/metadata/ontologies/ebucore/ebucore#Episode\", true, \"Editorial object\", \"http://www.ebu.ch/metadata/ontologies/ebucore/ebucore#EditorialObject\"], [\"Feature\", \"http://www.ebu.ch/metadata/ontologies/ebucore/ebucore#Feature\", true, \"Editorial object\", \"http://www.ebu.ch/metadata/ontologies/ebucore/ebucore#EditorialObject\"], [\"Item\", \"http://www.ebu.ch/metadata/ontologies/ebucore/ebucore#Item\", false, \"Editorial object\", \"http://www.ebu.ch/metadata/ontologies/ebucore/ebucore#EditorialObject\"], [\"Part, Fragment, Segment\", \"http://www.ebu.ch/metadata/ontologies/ebucore/ebucore#Part\", true, \"Editorial object\", \"http://www.ebu.ch/metadata/ontologies/ebucore/ebucore#EditorialObject\"], [\"Programme\", \"http://www.ebu.ch/metadata/ontologies/ebucore/ebucore#Programme\", false, \"Editorial object\", \"http://www.ebu.ch/metadata/ontologies/ebucore/ebucore#EditorialObject\"], [\"Scene\", \"http://www.ebu.ch/metadata/ontologies/ebucore/ebucore#Scene\", true, \"Editorial object\", \"http://www.ebu.ch/metadata/ontologies/ebucore/ebucore#EditorialObject\"], [\"Shot\", \"http://www.ebu.ch/metadata/ontologies/ebucore/ebucore#Shot\", true, \"Editorial object\", \"http://www.ebu.ch/metadata/ontologies/ebucore/ebucore#EditorialObject\"], [\"Take\", \"http://www.ebu.ch/metadata/ontologies/ebucore/ebucore#Take\", true, \"Editorial object\", \"http://www.ebu.ch/metadata/ontologies/ebucore/ebucore#EditorialObject\"], [\"Version\", \"http://www.ebu.ch/metadata/ontologies/ebucore/ebucore#Version\", true, \"Editorial object\", \"http://www.ebu.ch/metadata/ontologies/ebucore/ebucore#EditorialObject\"]];\n",
       "\n",
       "    if (typeof require === 'undefined') {\n",
       "        // TODO: This should become the default (use a simple import)\n",
       "        // when the ESM version works independently of whether\n",
       "        // require.js is there or not, see\n",
       "        // https://datatables.net/forums/discussion/69066/esm-es6-module-support?\n",
       "        const {default: $} = await import(\"https://esm.sh/jquery@3.5.0\");\n",
       "        const {default: initDataTables} = await import(\"https://esm.sh/datatables.net@1.11.3?deps=jquery@3.5.0\");\n",
       "\n",
       "        initDataTables();\n",
       "\n",
       "        // Define the dt_args\n",
       "        let dt_args = {\"columnDefs\": [{\"width\": \"120px\", \"className\": \"dt-center\", \"targets\": \"_all\", \"createdCell\": \n",
       "                    function (td, cellData, rowData, row, col) {\n",
       "                        $(td).css('word-wrap', 'break-word')\n",
       "                        if (cellData == false) {\n",
       "                            $(td).css('color', '#7da5c0')\n",
       "                            $(td).css('font-weight', 'bold')\n",
       "                            $(td).html = \"False\"\n",
       "                        }\n",
       "                        else if (cellData == true) {\n",
       "                            $(td).css('color', '#7cbc97')\n",
       "                            $(td).css('font-weight', 'bold')\n",
       "                            $(td).html = \"True\"\n",
       "                        }\n",
       "                    }\n",
       "                    }], \"lengthMenu\": [5, 10, 25, 50, -1]};\n",
       "        dt_args[\"data\"] = data;\n",
       "\n",
       "        // Display the table\n",
       "        $(document).ready(function () {\n",
       "            $('#e361a685-3ebb-4ba4-934c-e6b924491154').DataTable(dt_args);\n",
       "        });\n",
       "    } else {\n",
       "        require([\"jquery\", \"datatables\"], ($, datatables) => {\n",
       "                // Define the dt_args\n",
       "                let dt_args = {\"columnDefs\": [{\"width\": \"120px\", \"className\": \"dt-center\", \"targets\": \"_all\", \"createdCell\": \n",
       "                    function (td, cellData, rowData, row, col) {\n",
       "                        $(td).css('word-wrap', 'break-word')\n",
       "                        if (cellData == false) {\n",
       "                            $(td).css('color', '#7da5c0')\n",
       "                            $(td).css('font-weight', 'bold')\n",
       "                            $(td).html = \"False\"\n",
       "                        }\n",
       "                        else if (cellData == true) {\n",
       "                            $(td).css('color', '#7cbc97')\n",
       "                            $(td).css('font-weight', 'bold')\n",
       "                            $(td).html = \"True\"\n",
       "                        }\n",
       "                    }\n",
       "                    }], \"lengthMenu\": [5, 10, 25, 50, -1]};\n",
       "                dt_args[\"data\"] = data;\n",
       "\n",
       "                // Display the table\n",
       "                $(document).ready(function () {\n",
       "                    $('#e361a685-3ebb-4ba4-934c-e6b924491154').DataTable(dt_args);\n",
       "                });\n",
       "            }\n",
       "        )\n",
       "    }\n",
       "</script>\n"
      ],
      "text/plain": [
       "<IPython.core.display.HTML object>"
      ]
     },
     "metadata": {},
     "output_type": "display_data"
    }
   ],
   "source": [
    "classes_by_labels = get_classes_by_labels(source_df=classes_df, \n",
    "                                          labels=['Editorial object'], \n",
    "                                          show_subclasses=True, \n",
    "                                          show_superclasses=True, \n",
    "                                          language='en',\n",
    "                                          show_table=True)"
   ]
  },
  {
   "cell_type": "code",
   "execution_count": 6,
   "id": "da5019a1-12ec-4cba-948f-1400124944cf",
   "metadata": {},
   "outputs": [
    {
     "data": {
      "text/html": [
       "\n",
       "        <iframe\n",
       "            width=\"100%\"\n",
       "            height=\"800px\"\n",
       "            src=\"editorial_object.html\"\n",
       "            frameborder=\"0\"\n",
       "            allowfullscreen\n",
       "            \n",
       "        ></iframe>\n",
       "        "
      ],
      "text/plain": [
       "<IPython.lib.display.IFrame at 0x7f171b3bca00>"
      ]
     },
     "execution_count": 6,
     "metadata": {},
     "output_type": "execute_result"
    }
   ],
   "source": [
    "network = visualize(source_df=classes_df,\n",
    "                    labels=['Editorial object'], \n",
    "                    title='Hierarchy of class Editorial object', \n",
    "                    show_properties=False, \n",
    "                    show_legend=True,\n",
    "                    show_subclasses=True, \n",
    "                    show_superclasses=True, \n",
    "                    language='en',\n",
    "                    verbose=True)\n",
    "    \n",
    "network.show('editorial_object.html')"
   ]
  },
  {
   "cell_type": "code",
   "execution_count": 7,
   "id": "53317edd-f0b6-42a2-b5cb-ae473d96fdb0",
   "metadata": {},
   "outputs": [
    {
     "data": {
      "text/html": [
       "<table id=\"60beb837-c49b-40d0-b2f1-879bce41a2ee\" class=\"cell-border stripe hover\"style=\"max-width:100%\"><h4 style=\"text-alignt:center\"><label style=\"font-weight:bold\">Table: </label><label>Properties of class EditorialObject</label></h4><thead>\n",
       "    <tr style=\"text-align: right;\">\n",
       "      \n",
       "      <th>Property</th>\n",
       "      <th>Type</th>\n",
       "      <th>Range</th>\n",
       "      <th>Max Cardinality</th>\n",
       "      <th>Some Values From</th>\n",
       "    </tr>\n",
       "  </thead><tbody><tr><td>Loading... (need <a href=https://mwouts.github.io/itables/troubleshooting.html>help</a>?)</td></tr></tbody></table>\n",
       "<link rel=\"stylesheet\" type=\"text/css\" href=\"https://cdn.datatables.net/1.11.3/css/jquery.dataTables.min.css\">\n",
       "<style> table td {\n",
       "    text-overflow: ellipsis;\n",
       "    overflow: hidden;\n",
       "} </style>\n",
       "<style> table th {\n",
       "    text-overflow: ellipsis;\n",
       "    overflow: hidden;\n",
       "} </style>\n",
       "<script type=\"module\">\n",
       "    // Define the table data\n",
       "    const data = [[\"ec:dateBroadcast\", \"owl:ObjectProperty\", \"time:Instant\", \"1.0\", \"\"], [\"ec:translationTitle\", \"owl:DatatypeProperty\", \"rdfs:Literal\", \"\", \"rdfs:Literal\"], [\"ec:approvedBy\", \"owl:ObjectProperty\", \"ec:Agent\", \"\", \"ec:Agent\"], [\"ec:hasPart\", \"owl:ObjectProperty\", \"ec:Part\", \"\", \"ec:Part\"], [\"ec:isBrand\", \"owl:ObjectProperty\", \"ec:Brand\", \"\", \"ec:Brand\"], [\"ec:resourceOffset\", \"owl:ObjectProperty\", \"ec:TimelinePoint\", \"\", \"ec:TimelinePoint\"], [\"ebuccdm:orderedFlag\", \"owl:DatatypeProperty\", \"xsd:boolean\", \"\", \"\"], [\"ebuccdm:hasAssociatedProductionJob\", \"owl:ObjectProperty\", \"ebuccdm:ProductionJob\", \"\", \"\"], [\"ebuccdm:hasRelatedResonanceEvent\", \"owl:ObjectProperty\", \"ebuccdm:ResonanceEvent\", \"\", \"\"], [\"ebuccdm:isCommissionedBy\", \"owl:ObjectProperty\", \"ebuccdm:Contract\", \"\", \"\"], [\"ebuccdm:isExtractOf\", \"owl:ObjectProperty\", \"ec:EditorialObject\", \"\", \"\"], [\"ec:editorialObjectType\", \"owl:ObjectProperty\", \"skos:Concept\", \"\", \"\"], [\"ec:hasScene\", \"owl:ObjectProperty\", \"ec:Scene\", \"\", \"\"], [\"ec:hasTake\", \"owl:ObjectProperty\", \"ec:Take\", \"\", \"\"], [\"ec:hasTimelineTrack\", \"owl:ObjectProperty\", \"ec:TimelineTrack\", \"\", \"\"], [\"ec:orderedFlag\", \"owl:DatatypeProperty\", \"xsd:boolean\", \"\", \"\"], [\"ec:partTotalNumber\", \"owl:DatatypeProperty\", \"xsd:integer\", \"\", \"\"], [\"ec:position\", \"owl:DatatypeProperty\", \"rdfs:Literal\", \"\", \"\"], [\"ec:hasContentEditorialFormat\", \"owl:ObjectProperty\", \"ec:ContentEditorialFormat\", \"\", \"\"], [\"ec:hasObjectType\", \"owl:ObjectProperty\", \"ec:ObjectType\", \"\", \"\"], [\"ec:hasParentEditorialObject\", \"owl:ObjectProperty\", \"ec:EditorialObject\", \"\", \"\"], [\"ec:hasTimelineTrack\", \"owl:ObjectProperty\", \"ec:TimelineTrack\", \"\", \"\"], [\"ec:isInstantiatedBy\", \"owl:ObjectProperty\", \"ec:MediaResource\", \"\", \"\"], [\"ec:isDistributedOn\", \"owl:ObjectProperty\", \"ec:Service\", \"\", \"\"], [\"ec:isEditorialFormatOf\", \"owl:ObjectProperty\", \"ec:EditorialObject\", \"\", \"\"], [\"ec:isScheduledOn\", \"owl:ObjectProperty\", \"ec:PublicationEvent\", \"\", \"\"], [\"ec:isTimelineTrackPartOf\", \"owl:ObjectProperty\", \"ec:TimelineTrack\", \"\", \"\"], [\"ec:references\", \"owl:ObjectProperty\", \"ec:MediaResource\", \"\", \"\"], [\"ec:represents\", \"owl:ObjectProperty\", \"ec:Asset\", \"\", \"\"]];\n",
       "\n",
       "    if (typeof require === 'undefined') {\n",
       "        // TODO: This should become the default (use a simple import)\n",
       "        // when the ESM version works independently of whether\n",
       "        // require.js is there or not, see\n",
       "        // https://datatables.net/forums/discussion/69066/esm-es6-module-support?\n",
       "        const {default: $} = await import(\"https://esm.sh/jquery@3.5.0\");\n",
       "        const {default: initDataTables} = await import(\"https://esm.sh/datatables.net@1.11.3?deps=jquery@3.5.0\");\n",
       "\n",
       "        initDataTables();\n",
       "\n",
       "        // Define the dt_args\n",
       "        let dt_args = {\"columnDefs\": [{\"width\": \"120px\", \"className\": \"dt-center\", \"targets\": \"_all\", \"createdCell\": \n",
       "                    function (td, cellData, rowData, row, col) {\n",
       "                        $(td).css('word-wrap', 'break-word')\n",
       "                        if (cellData == false) {\n",
       "                            $(td).css('color', '#7da5c0')\n",
       "                            $(td).css('font-weight', 'bold')\n",
       "                            $(td).html = \"False\"\n",
       "                        }\n",
       "                        else if (cellData == true) {\n",
       "                            $(td).css('color', '#7cbc97')\n",
       "                            $(td).css('font-weight', 'bold')\n",
       "                            $(td).html = \"True\"\n",
       "                        }\n",
       "                    }\n",
       "                    }], \"lengthMenu\": [5, 10, 25, 50, -1]};\n",
       "        dt_args[\"data\"] = data;\n",
       "\n",
       "        // Display the table\n",
       "        $(document).ready(function () {\n",
       "            $('#60beb837-c49b-40d0-b2f1-879bce41a2ee').DataTable(dt_args);\n",
       "        });\n",
       "    } else {\n",
       "        require([\"jquery\", \"datatables\"], ($, datatables) => {\n",
       "                // Define the dt_args\n",
       "                let dt_args = {\"columnDefs\": [{\"width\": \"120px\", \"className\": \"dt-center\", \"targets\": \"_all\", \"createdCell\": \n",
       "                    function (td, cellData, rowData, row, col) {\n",
       "                        $(td).css('word-wrap', 'break-word')\n",
       "                        if (cellData == false) {\n",
       "                            $(td).css('color', '#7da5c0')\n",
       "                            $(td).css('font-weight', 'bold')\n",
       "                            $(td).html = \"False\"\n",
       "                        }\n",
       "                        else if (cellData == true) {\n",
       "                            $(td).css('color', '#7cbc97')\n",
       "                            $(td).css('font-weight', 'bold')\n",
       "                            $(td).html = \"True\"\n",
       "                        }\n",
       "                    }\n",
       "                    }], \"lengthMenu\": [5, 10, 25, 50, -1]};\n",
       "                dt_args[\"data\"] = data;\n",
       "\n",
       "                // Display the table\n",
       "                $(document).ready(function () {\n",
       "                    $('#60beb837-c49b-40d0-b2f1-879bce41a2ee').DataTable(dt_args);\n",
       "                });\n",
       "            }\n",
       "        )\n",
       "    }\n",
       "</script>\n"
      ],
      "text/plain": [
       "<IPython.core.display.HTML object>"
      ]
     },
     "metadata": {},
     "output_type": "display_data"
    }
   ],
   "source": [
    "properties = get_properties(iri='http://www.ebu.ch/metadata/ontologies/ebucore/ebucore#EditorialObject', \n",
    "                           username=USERNAME, \n",
    "                           password=PASSWORD,\n",
    "                           show_table=True)"
   ]
  },
  {
   "cell_type": "code",
   "execution_count": 9,
   "id": "be45e4d0-c427-4e92-a52b-bb1722b7655e",
   "metadata": {},
   "outputs": [
    {
     "data": {
      "text/html": [
       "\n",
       "        <iframe\n",
       "            width=\"100%\"\n",
       "            height=\"800px\"\n",
       "            src=\"editorial_object_w_properties.html\"\n",
       "            frameborder=\"0\"\n",
       "            allowfullscreen\n",
       "            \n",
       "        ></iframe>\n",
       "        "
      ],
      "text/plain": [
       "<IPython.lib.display.IFrame at 0x7f171a679be0>"
      ]
     },
     "execution_count": 9,
     "metadata": {},
     "output_type": "execute_result"
    }
   ],
   "source": [
    "network = visualize(source_df=classes_df,\n",
    "                    labels=['Editorial object'], \n",
    "                    title='Properties of class Editorial object', \n",
    "                    show_properties=True, \n",
    "                    show_legend=True,\n",
    "                    show_subclasses=False, \n",
    "                    show_superclasses=False, \n",
    "                    language='en',\n",
    "                    verbose=True)\n",
    "    \n",
    "network.show('editorial_object_w_properties.html')"
   ]
  },
  {
   "cell_type": "code",
   "execution_count": 10,
   "id": "8db7e8d8-be61-492b-b5f1-6fd86045d2ce",
   "metadata": {},
   "outputs": [
    {
     "data": {
      "text/html": [
       "<table id=\"dd11c9f8-3698-45ec-b050-f23154830558\" class=\"cell-border stripe hover\"style=\"max-width:100%\"><h4 style=\"text-alignt:center\"><label style=\"font-weight:bold\">Table: </label><label>Individuals of class EditorialObject</label></h4><thead>\n",
       "    <tr style=\"text-align: right;\">\n",
       "      \n",
       "      <th>iri</th>\n",
       "      <th>aspectRatio</th>\n",
       "      <th>alternativeTitle</th>\n",
       "      <th>contentDescription</th>\n",
       "    </tr>\n",
       "  </thead><tbody><tr><td>Loading... (need <a href=https://mwouts.github.io/itables/troubleshooting.html>help</a>?)</td></tr></tbody></table>\n",
       "<link rel=\"stylesheet\" type=\"text/css\" href=\"https://cdn.datatables.net/1.11.3/css/jquery.dataTables.min.css\">\n",
       "<style> table td {\n",
       "    text-overflow: ellipsis;\n",
       "    overflow: hidden;\n",
       "} </style>\n",
       "<style> table th {\n",
       "    text-overflow: ellipsis;\n",
       "    overflow: hidden;\n",
       "} </style>\n",
       "<script type=\"module\">\n",
       "    // Define the table data\n",
       "    const data = [[\"http://www.ebu.ch/metadata/ontologies/ebucore/ebucore#SOMEPROGRAMME\", \"16:9\", \"Et prg\", \"Et merke\"], [\"http://www.ebu.ch/metadata/ontologies/ebucore/ebucore#SOMEPROGRAMME\", \"16:9\", \"Et prg\", \"et annet merke (some tag)\"]];\n",
       "\n",
       "    if (typeof require === 'undefined') {\n",
       "        // TODO: This should become the default (use a simple import)\n",
       "        // when the ESM version works independently of whether\n",
       "        // require.js is there or not, see\n",
       "        // https://datatables.net/forums/discussion/69066/esm-es6-module-support?\n",
       "        const {default: $} = await import(\"https://esm.sh/jquery@3.5.0\");\n",
       "        const {default: initDataTables} = await import(\"https://esm.sh/datatables.net@1.11.3?deps=jquery@3.5.0\");\n",
       "\n",
       "        initDataTables();\n",
       "\n",
       "        // Define the dt_args\n",
       "        let dt_args = {\"columnDefs\": [{\"width\": \"120px\", \"className\": \"dt-center\", \"targets\": \"_all\", \"createdCell\": \n",
       "                    function (td, cellData, rowData, row, col) {\n",
       "                        $(td).css('word-wrap', 'break-word')\n",
       "                        if (cellData == false) {\n",
       "                            $(td).css('color', '#7da5c0')\n",
       "                            $(td).css('font-weight', 'bold')\n",
       "                            $(td).html = \"False\"\n",
       "                        }\n",
       "                        else if (cellData == true) {\n",
       "                            $(td).css('color', '#7cbc97')\n",
       "                            $(td).css('font-weight', 'bold')\n",
       "                            $(td).html = \"True\"\n",
       "                        }\n",
       "                    }\n",
       "                    }], \"lengthMenu\": [5, 10, 25, 50, -1], \"paging\": false};\n",
       "        dt_args[\"data\"] = data;\n",
       "\n",
       "        // Display the table\n",
       "        $(document).ready(function () {\n",
       "            $('#dd11c9f8-3698-45ec-b050-f23154830558').DataTable(dt_args);\n",
       "        });\n",
       "    } else {\n",
       "        require([\"jquery\", \"datatables\"], ($, datatables) => {\n",
       "                // Define the dt_args\n",
       "                let dt_args = {\"columnDefs\": [{\"width\": \"120px\", \"className\": \"dt-center\", \"targets\": \"_all\", \"createdCell\": \n",
       "                    function (td, cellData, rowData, row, col) {\n",
       "                        $(td).css('word-wrap', 'break-word')\n",
       "                        if (cellData == false) {\n",
       "                            $(td).css('color', '#7da5c0')\n",
       "                            $(td).css('font-weight', 'bold')\n",
       "                            $(td).html = \"False\"\n",
       "                        }\n",
       "                        else if (cellData == true) {\n",
       "                            $(td).css('color', '#7cbc97')\n",
       "                            $(td).css('font-weight', 'bold')\n",
       "                            $(td).html = \"True\"\n",
       "                        }\n",
       "                    }\n",
       "                    }], \"lengthMenu\": [5, 10, 25, 50, -1], \"paging\": false};\n",
       "                dt_args[\"data\"] = data;\n",
       "\n",
       "                // Display the table\n",
       "                $(document).ready(function () {\n",
       "                    $('#dd11c9f8-3698-45ec-b050-f23154830558').DataTable(dt_args);\n",
       "                });\n",
       "            }\n",
       "        )\n",
       "    }\n",
       "</script>\n"
      ],
      "text/plain": [
       "<IPython.core.display.HTML object>"
      ]
     },
     "metadata": {},
     "output_type": "display_data"
    }
   ],
   "source": [
    "individuals = get_individual(iri='http://www.ebu.ch/metadata/ontologies/ebucore/ebucore#EditorialObject', \n",
    "                              username='demo-user', \n",
    "                              password='demo', \n",
    "                              show_table=True)"
   ]
  },
  {
   "cell_type": "code",
   "execution_count": 11,
   "id": "93d0bbaa-2b26-4154-857e-a28aca0d058c",
   "metadata": {},
   "outputs": [
    {
     "data": {
      "text/html": [
       "<table id=\"eefe91d7-348a-41ed-9754-2a2318bc2de7\" class=\"cell-border stripe hover\"style=\"max-width:100%\"><h4 style=\"text-alignt:center\"><label style=\"font-weight:bold\">Table: </label><label>Description of class Editorial object</label></h4><thead>\n",
       "    <tr style=\"text-align: right;\">\n",
       "      \n",
       "      <th>Class Label</th>\n",
       "      <th>Description</th>\n",
       "      <th>Class IRI</th>\n",
       "    </tr>\n",
       "  </thead><tbody><tr><td>Loading... (need <a href=https://mwouts.github.io/itables/troubleshooting.html>help</a>?)</td></tr></tbody></table>\n",
       "<link rel=\"stylesheet\" type=\"text/css\" href=\"https://cdn.datatables.net/1.11.3/css/jquery.dataTables.min.css\">\n",
       "<style> table td {\n",
       "    text-overflow: ellipsis;\n",
       "    overflow: hidden;\n",
       "} </style>\n",
       "<style> table th {\n",
       "    text-overflow: ellipsis;\n",
       "    overflow: hidden;\n",
       "} </style>\n",
       "<script type=\"module\">\n",
       "    // Define the table data\n",
       "    const data = [[\"Editorial object\", \"This is the new description for the editorial object\", \"http://www.ebu.ch/metadata/ontologies/ebucore/ebucore#EditorialObject\"]];\n",
       "\n",
       "    if (typeof require === 'undefined') {\n",
       "        // TODO: This should become the default (use a simple import)\n",
       "        // when the ESM version works independently of whether\n",
       "        // require.js is there or not, see\n",
       "        // https://datatables.net/forums/discussion/69066/esm-es6-module-support?\n",
       "        const {default: $} = await import(\"https://esm.sh/jquery@3.5.0\");\n",
       "        const {default: initDataTables} = await import(\"https://esm.sh/datatables.net@1.11.3?deps=jquery@3.5.0\");\n",
       "\n",
       "        initDataTables();\n",
       "\n",
       "        // Define the dt_args\n",
       "        let dt_args = {\"columnDefs\": [{\"width\": \"120px\", \"className\": \"dt-center\", \"targets\": \"_all\", \"createdCell\": \n",
       "                    function (td, cellData, rowData, row, col) {\n",
       "                        $(td).css('word-wrap', 'break-word')\n",
       "                        if (cellData == false) {\n",
       "                            $(td).css('color', '#7da5c0')\n",
       "                            $(td).css('font-weight', 'bold')\n",
       "                            $(td).html = \"False\"\n",
       "                        }\n",
       "                        else if (cellData == true) {\n",
       "                            $(td).css('color', '#7cbc97')\n",
       "                            $(td).css('font-weight', 'bold')\n",
       "                            $(td).html = \"True\"\n",
       "                        }\n",
       "                    }\n",
       "                    }], \"lengthMenu\": [5, 10, 25, 50, -1], \"paging\": false};\n",
       "        dt_args[\"data\"] = data;\n",
       "\n",
       "        // Display the table\n",
       "        $(document).ready(function () {\n",
       "            $('#eefe91d7-348a-41ed-9754-2a2318bc2de7').DataTable(dt_args);\n",
       "        });\n",
       "    } else {\n",
       "        require([\"jquery\", \"datatables\"], ($, datatables) => {\n",
       "                // Define the dt_args\n",
       "                let dt_args = {\"columnDefs\": [{\"width\": \"120px\", \"className\": \"dt-center\", \"targets\": \"_all\", \"createdCell\": \n",
       "                    function (td, cellData, rowData, row, col) {\n",
       "                        $(td).css('word-wrap', 'break-word')\n",
       "                        if (cellData == false) {\n",
       "                            $(td).css('color', '#7da5c0')\n",
       "                            $(td).css('font-weight', 'bold')\n",
       "                            $(td).html = \"False\"\n",
       "                        }\n",
       "                        else if (cellData == true) {\n",
       "                            $(td).css('color', '#7cbc97')\n",
       "                            $(td).css('font-weight', 'bold')\n",
       "                            $(td).html = \"True\"\n",
       "                        }\n",
       "                    }\n",
       "                    }], \"lengthMenu\": [5, 10, 25, 50, -1], \"paging\": false};\n",
       "                dt_args[\"data\"] = data;\n",
       "\n",
       "                // Display the table\n",
       "                $(document).ready(function () {\n",
       "                    $('#eefe91d7-348a-41ed-9754-2a2318bc2de7').DataTable(dt_args);\n",
       "                });\n",
       "            }\n",
       "        )\n",
       "    }\n",
       "</script>\n"
      ],
      "text/plain": [
       "<IPython.core.display.HTML object>"
      ]
     },
     "metadata": {},
     "output_type": "display_data"
    }
   ],
   "source": [
    "description = get_description(source_df=classes_df, \n",
    "                                label='Editorial object', \n",
    "                                language='en', \n",
    "                                show_table=True)"
   ]
  },
  {
   "cell_type": "code",
   "execution_count": null,
   "id": "94a5ad51-ee02-46d9-8424-ad3284791161",
   "metadata": {},
   "outputs": [],
   "source": []
  },
  {
   "cell_type": "code",
   "execution_count": null,
   "id": "cd8654e3",
   "metadata": {},
   "outputs": [],
   "source": []
  }
 ],
 "metadata": {
  "kernelspec": {
   "display_name": "Python 3 (ipykernel)",
   "language": "python",
   "name": "python3"
  },
  "language_info": {
   "codemirror_mode": {
    "name": "ipython",
    "version": 3
   },
   "file_extension": ".py",
   "mimetype": "text/x-python",
   "name": "python",
   "nbconvert_exporter": "python",
   "pygments_lexer": "ipython3",
   "version": "3.8.13"
  }
 },
 "nbformat": 4,
 "nbformat_minor": 5
}
