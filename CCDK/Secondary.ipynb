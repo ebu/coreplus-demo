{
 "cells": [
  {
   "cell_type": "markdown",
   "id": "7778cfc6",
   "metadata": {},
   "source": [
    "# Importing Libraries and Scripts\n",
    "The code below consist of imports for libraries and scripts necessary for generating visualizations."
   ]
  },
  {
   "cell_type": "code",
   "execution_count": 3,
   "id": "99bddc85",
   "metadata": {
    "scrolled": true
   },
   "outputs": [],
   "source": [
    "import sys\n",
    "import random\n",
    "import pandas as pd\n",
    "import networkx as nx\n",
    "import itables.options as opt\n",
    "from auth import authenticate\n",
    "from pyvis.network import Network\n",
    "from itables import init_notebook_mode, show\n",
    "from ontologies import get_classes, get_attributes, get_descriptions, read_individual"
   ]
  },
  {
   "cell_type": "markdown",
   "id": "bbe65ccc",
   "metadata": {},
   "source": [
    "# Authenticating\n",
    "The code below is responsible for the authentication of the provided credentials in order to access the model from the enpoint later."
   ]
  },
  {
   "cell_type": "code",
   "execution_count": 4,
   "id": "0fae4b4e",
   "metadata": {
    "tags": []
   },
   "outputs": [
    {
     "name": "stdout",
     "output_type": "stream",
     "text": [
      "Provided credentials have been authenticated."
     ]
    }
   ],
   "source": [
    "status, message = authenticate(username='demo-user', password='demo')\n",
    "if not status:\n",
    "    sys.stdout.write(message)\n",
    "else:\n",
    "    sys.stdout.write('Provided credentials have been authenticated.')"
   ]
  },
  {
   "cell_type": "markdown",
   "id": "21c5396f",
   "metadata": {},
   "source": [
    "# Acquiring the Classes, Attributes and Descriptions\n",
    "The code below uses the token received from the step above to acquire models data from the available endpoints. **This step would fail if authentication was not completed successfuly prior to this step.**"
   ]
  },
  {
   "cell_type": "code",
   "execution_count": 5,
   "id": "ec46ca48",
   "metadata": {},
   "outputs": [
    {
     "name": "stdout",
     "output_type": "stream",
     "text": [
      "Data for classes has been acquired successfuly.\n",
      "Description for classes have been acquired successfuly.\n",
      "Data for class attributes has been acquired successfuly.\n"
     ]
    }
   ],
   "source": [
    "if status:\n",
    "    status, data = get_classes(access_token=message.get('access_token'))\n",
    "    if status:\n",
    "        df = pd.DataFrame(data=data)\n",
    "    if data:\n",
    "        status, descriptions = get_descriptions(access_token=message.get('access_token'))\n",
    "        attributes = get_attributes(username='demo-user', password='demo', classes=data, cache=False)\n",
    "else:\n",
    "    sys.stdout.write('Aunthication is required before proceeding.\\n')"
   ]
  },
  {
   "cell_type": "code",
   "execution_count": null,
   "id": "6bf08aa1",
   "metadata": {},
   "outputs": [],
   "source": [
    "# config for displaying table better \n",
    "opt.lengthMenu = [2, 4, 8]\n",
    "pd.set_option(\"display.max_rows\", None)\n",
    "pd.set_option(\"max_colwidth\", None)\n",
    "pd.set_option(\"max_seq_items\", None)\n",
    "opt.maxBytes = 0\n",
    "opt.classes = ['cell-border', \"stripe\", 'hover']\n",
    "init_notebook_mode(all_interactive=True)\n",
    "\n",
    "\n",
    "# cleaning for better more readable tables\n",
    "df.columns = ['Class Label', 'Class IRI', 'Language', 'Leaf', 'Parent']\n",
    "df = df[['Class Label', 'Language', 'Leaf', 'Parent', 'Class IRI']]\n",
    "df['Leaf'] = df['Leaf'].fillna(False)\n",
    "df['Language'] = df['Language'].fillna('')\n"
   ]
  },
  {
   "cell_type": "markdown",
   "id": "bbb0e379",
   "metadata": {},
   "source": [
    "# Generating DataFrame and other utility methods "
   ]
  },
  {
   "cell_type": "code",
   "execution_count": null,
   "id": "4d95341d",
   "metadata": {},
   "outputs": [],
   "source": [
    "classes = df.copy()\n",
    "\n",
    "def get_classes_(labels, children=True, lang='en'):\n",
    "    \n",
    "    lang_classes = classes.copy()[classes['Language']==lang]\n",
    "    resultant = pd.DataFrame()\n",
    "    for label in labels:\n",
    "        if children:\n",
    "            chunk_df = lang_classes.copy()[(lang_classes['Class Label'] == label) | (lang_classes['Parent'] == label)]\n",
    "        else:\n",
    "            chunk_df = lang_classes.copy()[(lang_classes['Class Label'] == label)]\n",
    "        resultant = pd.concat([resultant, chunk_df])\n",
    "    return resultant\n",
    "\n",
    "def get_leafs(lang='en'):\n",
    "    \n",
    "    leafs = classes.copy()[(classes['Leaf'] == True) & (classes['Language'] == lang)]\n",
    "    return leafs\n",
    "\n",
    "def get_non_leafs(lang='en'):\n",
    "    \n",
    "    non_leafs = classes.copy()[(classes['Leaf'] == False) & (classes['Language'] == lang)]\n",
    "    return non_leafs\n",
    "\n",
    "def get_children(lang='en'):\n",
    "    \n",
    "    children = classes.copy()[(classes['Parent'] != '') & (classes['Language'] == lang)]\n",
    "    return children\n",
    "\n",
    "def get_non_children(lang='en'):\n",
    "    \n",
    "    non_children = classes.copy()[(df['Parent'] == '') & (classes['Language'] == lang)]\n",
    "    return non_children\n",
    "\n",
    "def get_unqiue_classes(lang='en'):\n",
    "    \n",
    "    # unique_classes_df = classes.copy()[['Class Label', 'Language', 'Class IRI']]\n",
    "    # unique_classes_df.drop_duplicates(subset='Class Label', inplace=True)\n",
    "    # return unique_classes_df.copy()[unique_classes_df['Language'] == lang]\n",
    "    unique_classes_df = classes.copy()[classes['Language'] == lang]\n",
    "    unique_classes_df.drop_duplicates(subset='Class Label', inplace=True)\n",
    "    return unique_classes_df[['Class Label', 'Leaf', 'Class IRI']]\n",
    "\n",
    "def query_attrs(label):\n",
    "    attrs = attributes.get(label, None)\n",
    "    if attrs:\n",
    "        attrs = pd.DataFrame(attrs)\n",
    "    return attrs\n",
    "\n",
    "def generate_graph(graph_df):\n",
    "    \n",
    "    G =  nx.from_pandas_edgelist(graph_df, source='Class Label', target='Parent', arrows=True)\n",
    "    net = Network(notebook=True, height='500px', width='900px')\n",
    "    net.from_nx(G, show_edge_weights=False)\n",
    "    net.set_edge_smooth('dynamic')\n",
    "    return net\n",
    "# def generate_graph(graph_df):\n",
    "    \n",
    "    \n",
    "# resultant_graph = generate_graph(graph_df=resultant_df)\n",
    "# resultant_graph.show('resultant.html')\n",
    "\n",
    "def generate_graph(graph_df):\n",
    "    \n",
    "    G =  nx.from_pandas_edgelist(graph_df, source='Class Label', target='Parent', arrows=True)\n",
    "    net = Network(notebook=True, height='500px', width='900px')\n",
    "    net.from_nx(G, show_edge_weights=False)\n",
    "    net.set_edge_smooth('dynamic')\n",
    "    return net\n",
    "# def generate_graph(graph_df):\n",
    "    \n",
    "    \n",
    "# resultant_graph = generate_graph(graph_df=resultant_df)\n",
    "# resultant_graph.show('resultant.html')\n",
    "\n",
    "def generate_visualization_(resultant_df, heading, legend):\n",
    "    nodes = {}\n",
    "    parents = {}\n",
    "    for index, row in resultant_df.iterrows():\n",
    "        class_label = row.pop('Class Label')\n",
    "        if not class_label in nodes:\n",
    "            nodes.update({class_label: {\n",
    "                                        'n_id': random.randint(0,100),\n",
    "                                        **row\n",
    "                                        }\n",
    "                        })\n",
    "    #     parent = row.pop('Parent')\n",
    "    #     if not parent in nodes:\n",
    "    #         parents.update({parent: {\n",
    "    #                                 'n_id': random.randint(0,100)\n",
    "    #                                 }\n",
    "    #                      })\n",
    "    # for key, value in nodes.items():\n",
    "    #     print(key, value)\n",
    "    net = Network(\"700px\", \"900px\", notebook=True, directed=True, heading=heading)\n",
    "    for key, value in nodes.items():\n",
    "        iri = df.copy()[df['Class Label']==key][['Class IRI']]\n",
    "        iri.drop_duplicates(subset='Class IRI', inplace=True)\n",
    "        iri = iri['Class IRI'].values[0]\n",
    "        description = descriptions.get(iri, None)\n",
    "        if description:\n",
    "            description = description.get('en')\n",
    "        else:\n",
    "            description = 'Description not available'\n",
    "        if value.get('Leaf'):\n",
    "            color = '#AED6F1'\n",
    "        else:\n",
    "            color = '#ABEBC6'\n",
    "        net.add_node(n_id=value.get('n_id'), label=key, title=description, color=color, shape='dot')\n",
    "    if legend:\n",
    "        leg1= net.add_node(n_id=-1, label='Leafs', title='Representation of leaf nodes', color='#AED6F1', shape='dot', x=-400, y=-500, physics=False)\n",
    "        leg2 = net.add_node(n_id=-2, label='Non-Leafs', title='Representation of non-leaf nodes', color='#ABEBC6', shape='dot', x=-400, y=-400, physics=False)\n",
    "\n",
    "    \n",
    "    \n",
    "    for key, value in nodes.items():\n",
    "        parent = value.get('Parent', None)\n",
    "    #     print(parent)\n",
    "        if parent:\n",
    "            _to = value.get('n_id', None)\n",
    "            _from = nodes.get(parent, {}).get('n_id', None)\n",
    "            if _to and _from:\n",
    "                net.add_edge(_to, _from, arrowStrikethrough=True)\n",
    "    return net\n",
    "\n",
    "def generate_table(df, num, title):\n",
    "    show(df,\n",
    "    columnDefs=[\n",
    "        {   \"width\": \"120px\",\n",
    "             \"className\": \"dt-center\",\n",
    "            \"targets\": \"_all\",\n",
    "            \"createdCell\": \"\"\"\n",
    "            function (td, cellData, rowData, row, col) {\n",
    "                console.log(rowData)\n",
    "                $(td).css('word-wrap', 'break-word')\n",
    "                if (cellData == false) {\n",
    "                    $(td).css('color', '#FE0707')\n",
    "                    $(td).css('font-weight', 'bold')\n",
    "                }\n",
    "                else if (cellData == true) {\n",
    "                    $(td).css('color', '#1892E7')\n",
    "                    $(td).css('font-weight', 'bold')\n",
    "                }\n",
    "            }\n",
    "            \"\"\",\n",
    "        }\n",
    "    ],\n",
    "    eval_functions=True,\n",
    "    tags=f'<caption style=\"caption-side:bottom;padding:10px;\"><i>Table {num}: </i>{title}</caption>')"
   ]
  },
  {
   "cell_type": "markdown",
   "id": "74a4dffb",
   "metadata": {},
   "source": [
    "# Individuals Data"
   ]
  },
  {
   "cell_type": "code",
   "execution_count": null,
   "id": "c11a2757",
   "metadata": {},
   "outputs": [],
   "source": [
    "status, message = authenticate(username='demo-user', password='demo')\n",
    "if not status:\n",
    "    sys.stdout.write(message)\n",
    "else:\n",
    "    sys.stdout.write('Provided credentials have been authenticated.')\n",
    "    \n",
    "status, individuals = read_individual(access_token=message.get('access_token'))\n",
    "individuals_df = pd.DataFrame(data=individuals)\n",
    "individuals_df.columns = ['IRI', 'Family Name', 'Given Name']\n",
    "individuals_df = individuals_df[['Family Name', 'Given Name', 'IRI']]\n",
    "generate_table(individuals_df, 1, 'Individuals data')"
   ]
  },
  {
   "cell_type": "code",
   "execution_count": null,
   "id": "c0f01c65-7dbe-4236-bb4c-290105030ea6",
   "metadata": {},
   "outputs": [],
   "source": [
    "en_unique_classes = get_unqiue_classes(lang='en')\n",
    "generate_table(en_unique_classes, 2, 'Classes available in English')"
   ]
  },
  {
   "cell_type": "code",
   "execution_count": null,
   "id": "22cade48",
   "metadata": {},
   "outputs": [],
   "source": [
    "de_unique_classes = get_unqiue_classes(lang='de')\n",
    "generate_table(de_unique_classes, 3, 'Classes available in German')"
   ]
  },
  {
   "cell_type": "code",
   "execution_count": null,
   "id": "cb3401a4",
   "metadata": {},
   "outputs": [],
   "source": [
    "fr_unique_classes = get_unqiue_classes(lang='fr')\n",
    "generate_table(fr_unique_classes, 4, 'Classes available in French')"
   ]
  },
  {
   "cell_type": "code",
   "execution_count": null,
   "id": "2d918336",
   "metadata": {},
   "outputs": [],
   "source": [
    "en_leafs = get_leafs(lang='en')\n",
    "generate_table(fr_unique_classes, 5, 'Leaf classes available in English')"
   ]
  },
  {
   "cell_type": "code",
   "execution_count": null,
   "id": "9884a840",
   "metadata": {},
   "outputs": [],
   "source": [
    "visual = generate_visualization_(en_leafs, 'Leaf Classes Available in English', False)\n",
    "visual.show('en_leafs.html')"
   ]
  },
  {
   "cell_type": "code",
   "execution_count": null,
   "id": "973d4901",
   "metadata": {},
   "outputs": [],
   "source": [
    "fr_leafs = get_leafs(lang='fr')\n",
    "generate_table(fr_leafs, 6, 'Leaf classes available in French')"
   ]
  },
  {
   "cell_type": "code",
   "execution_count": null,
   "id": "7088e584",
   "metadata": {},
   "outputs": [],
   "source": [
    "visual = generate_visualization_(fr_leafs, 'Leaf Classes Available in French', False)\n",
    "visual.show('fr_leafs.html')"
   ]
  },
  {
   "cell_type": "code",
   "execution_count": null,
   "id": "5a4bf1f6",
   "metadata": {},
   "outputs": [],
   "source": [
    "de_leafs = get_leafs(lang='de')\n",
    "generate_table(de_leafs, 7, 'Leaf classes available in German')"
   ]
  },
  {
   "cell_type": "code",
   "execution_count": null,
   "id": "8d525f6b",
   "metadata": {},
   "outputs": [],
   "source": [
    "en_non_leafs = get_non_leafs(lang='en')\n",
    "generate_table(en_non_leafs, 8, 'Non-leaf classes available in English')"
   ]
  },
  {
   "cell_type": "code",
   "execution_count": null,
   "id": "b2db775a",
   "metadata": {},
   "outputs": [],
   "source": [
    "de_non_leafs = get_non_leafs(lang='de')\n",
    "generate_table(de_non_leafs, 9, 'Non-leaf classes available in German')"
   ]
  },
  {
   "cell_type": "code",
   "execution_count": null,
   "id": "f9594705",
   "metadata": {},
   "outputs": [],
   "source": [
    "visual = generate_visualization_(de_non_leafs, 'Non-leaf classes available in German', False)\n",
    "visual.show('fr_leafs.html')"
   ]
  },
  {
   "cell_type": "code",
   "execution_count": null,
   "id": "e4248961",
   "metadata": {},
   "outputs": [],
   "source": [
    "fr_non_leafs = get_non_leafs(lang='fr')\n",
    "generate_table(fr_non_leafs, 10, 'Non-leaf classes available in French')"
   ]
  },
  {
   "cell_type": "code",
   "execution_count": null,
   "id": "798255fb",
   "metadata": {},
   "outputs": [],
   "source": [
    "en_children = get_children(lang='en')\n",
    "generate_table(en_children, 11, 'Children classes available in English')"
   ]
  },
  {
   "cell_type": "code",
   "execution_count": null,
   "id": "fa626356",
   "metadata": {},
   "outputs": [],
   "source": [
    "visual = generate_visualization_(en_children, 'Children classes available in English', False)\n",
    "visual.show('en_children.html')"
   ]
  },
  {
   "cell_type": "code",
   "execution_count": null,
   "id": "3e9d5a58",
   "metadata": {},
   "outputs": [],
   "source": [
    "fr_children = get_children(lang='fr')\n",
    "generate_table(fr_children, 12, 'Children classes available in French')"
   ]
  },
  {
   "cell_type": "code",
   "execution_count": null,
   "id": "3c796fd4",
   "metadata": {},
   "outputs": [],
   "source": [
    "de_children = get_children(lang='de')\n",
    "generate_table(fr_children, 13, 'Children classes available in German')"
   ]
  },
  {
   "cell_type": "code",
   "execution_count": null,
   "id": "83f8e60d",
   "metadata": {},
   "outputs": [],
   "source": [
    "en_non_children = get_non_children(lang='en')\n",
    "generate_table(en_non_children, 14, 'Non-children classes available in English')"
   ]
  },
  {
   "cell_type": "code",
   "execution_count": null,
   "id": "d406a724",
   "metadata": {},
   "outputs": [],
   "source": [
    "fr_non_children = get_non_children(lang='fr')\n",
    "generate_table(en_non_children, 15, 'Non-children classes available in French')"
   ]
  },
  {
   "cell_type": "code",
   "execution_count": null,
   "id": "163b530a",
   "metadata": {},
   "outputs": [],
   "source": [
    "visual = generate_visualization_(fr_non_children, 'Non-children classes available in French', False)\n",
    "visual.show('fr_non_children.html')"
   ]
  },
  {
   "cell_type": "code",
   "execution_count": null,
   "id": "a3508563",
   "metadata": {},
   "outputs": [],
   "source": [
    "de_non_children = get_non_children(lang='de')\n",
    "generate_table(de_non_children, 16, 'Non-children classes available in German')"
   ]
  },
  {
   "cell_type": "code",
   "execution_count": null,
   "id": "2fd14404",
   "metadata": {},
   "outputs": [],
   "source": [
    "labels = ['Person']\n",
    "resultant_df = get_classes_(labels=labels, children=True, lang='en')\n",
    "generate_table(resultant_df, 17, 'Person Class')"
   ]
  },
  {
   "cell_type": "code",
   "execution_count": null,
   "id": "cce68316",
   "metadata": {},
   "outputs": [],
   "source": [
    "net = generate_visualization_(resultant_df, 'Person Class', False)\n",
    "net.show('example.html')"
   ]
  },
  {
   "cell_type": "code",
   "execution_count": null,
   "id": "4f7b34a5",
   "metadata": {},
   "outputs": [],
   "source": [
    "labels = ['Business Object', 'Bibliographical object', 'Editorial Object', 'Editorial object']\n",
    "resultant_df = get_classes_(labels=labels, children=True, lang='en')\n",
    "generate_table(resultant_df, 18, 'Business Object and other classes')"
   ]
  },
  {
   "cell_type": "code",
   "execution_count": null,
   "id": "55b293d2",
   "metadata": {},
   "outputs": [],
   "source": [
    "def generate_visualization_(resultant_df, heading, legend):\n",
    "    nodes = {}\n",
    "    parents = {}\n",
    "    for index, row in resultant_df.iterrows():\n",
    "        class_label = row.pop('Class Label')\n",
    "        if not class_label in nodes:\n",
    "            nodes.update({class_label: {\n",
    "                                        'n_id': random.randint(0,100),\n",
    "                                        **row\n",
    "                                        }\n",
    "                        })\n",
    "    #     parent = row.pop('Parent')\n",
    "    #     if not parent in nodes:\n",
    "    #         parents.update({parent: {\n",
    "    #                                 'n_id': random.randint(0,100)\n",
    "    #                                 }\n",
    "    #                      })\n",
    "    # for key, value in nodes.items():\n",
    "    #     print(key, value)\n",
    "\n",
    "    net = Network(\"700px\", \"900px\", notebook=True, directed=True, heading=heading)\n",
    "    for key, value in nodes.items():\n",
    "        iri = df.copy()[df['Class Label']==key][['Class IRI']]\n",
    "        iri.drop_duplicates(subset='Class IRI', inplace=True)\n",
    "        iri = iri['Class IRI'].values[0]\n",
    "        description = descriptions.get(iri, None)\n",
    "        if description:\n",
    "            description = description.get('en')\n",
    "        else:\n",
    "            description = 'Description not available'\n",
    "        if value.get('Leaf'):\n",
    "            color = '#AED6F1'\n",
    "        else:\n",
    "            color = '#ABEBC6'\n",
    "        net.add_node(n_id=value.get('n_id'), label=key, title=description, color=color, shape='dot', size=20)\n",
    "    if legend:\n",
    "        leg1= net.add_node(n_id=-1, group=99, label='Leafs', title='Representation of leaf nodes', color='#AED6F1', shape='box', x=360, y=-500, physics=False, fixed=True, size=10, widthConstraint= 5)\n",
    "        leg2 = net.add_node(n_id=-2, group=99, label='Non-Leafs', title='Representation of non-leaf nodes', color='#ABEBC6', shape='box', x=360, y=-430, physics=False, fixed=True, size=10, widthConstraint= 5)\n",
    "\n",
    "    \n",
    "    \n",
    "    for key, value in nodes.items():\n",
    "        parent = value.get('Parent', None)\n",
    "    #     print(parent)\n",
    "        if parent:\n",
    "            _to = value.get('n_id', None)\n",
    "            _from = nodes.get(parent, {}).get('n_id', None)\n",
    "            if _to and _from:\n",
    "                net.add_edge(_to, _from, arrowStrikethrough=True)\n",
    "    return net\n",
    "net = generate_visualization_(resultant_df, 'Business Object and its Children Classes', True)\n",
    "net.show('example.html')"
   ]
  },
  {
   "cell_type": "code",
   "execution_count": null,
   "id": "cd8654e3",
   "metadata": {},
   "outputs": [],
   "source": [
    "labels = ['Picture']\n",
    "resultant_df = get_classes_(labels=labels, children=True, lang='en')\n",
    "generate_table(resultant_df, 19, 'Picture class')"
   ]
  },
  {
   "cell_type": "code",
   "execution_count": null,
   "id": "721d44f5",
   "metadata": {},
   "outputs": [],
   "source": [
    "net = generate_visualization_(resultant_df, 'Picture and its Children Classes', True)\n",
    "net.show('example.html')"
   ]
  },
  {
   "cell_type": "code",
   "execution_count": 15,
   "id": "736724fe",
   "metadata": {},
   "outputs": [],
   "source": [
    "def query_attrs(label):\n",
    "    attrs = attributes.get(label, None)\n",
    "    if attrs:\n",
    "        attrs = pd.DataFrame(attrs)\n",
    "    return attrs\n",
    "\n",
    "def generate_table(df, num, title):\n",
    "    show(df,\n",
    "    columnDefs=[\n",
    "        {   \"width\": \"120px\",\n",
    "             \"className\": \"dt-center\",\n",
    "            \"targets\": \"_all\",\n",
    "            \"createdCell\": \"\"\"\n",
    "            function (td, cellData, rowData, row, col) {\n",
    "                console.log(rowData)\n",
    "                $(td).css('word-wrap', 'break-word')\n",
    "                if (cellData == false) {\n",
    "                    $(td).css('color', '#FE0707')\n",
    "                    $(td).css('font-weight', 'bold')\n",
    "                }\n",
    "                else if (cellData == true) {\n",
    "                    $(td).css('color', '#1892E7')\n",
    "                    $(td).css('font-weight', 'bold')\n",
    "                }\n",
    "            }\n",
    "            \"\"\",\n",
    "        }\n",
    "    ],\n",
    "    eval_functions=True,\n",
    "    tags=f'<caption style=\"caption-side:bottom;padding:10px;\"><i>Table {num}: </i>{title}</caption>')"
   ]
  },
  {
   "cell_type": "code",
   "execution_count": null,
   "id": "a9a7d19f-32c2-46c7-81f9-51cf134a93be",
   "metadata": {},
   "outputs": [],
   "source": []
  },
  {
   "cell_type": "code",
   "execution_count": 25,
   "id": "3a06ca2e-ab5c-4d67-8949-0f5cc05a6619",
   "metadata": {},
   "outputs": [],
   "source": [
    "classes = ['http://www.ebu.ch/metadata/ontologies/ebucore/ebucore#Season', 'http://www.ebu.ch/metadata/ontologies/ebucore/ebucore#Document', 'http://www.ebu.ch/metadata/ontologies/ebucore/ebucore#Track']"
   ]
  },
  {
   "cell_type": "code",
   "execution_count": 32,
   "id": "5966d6be-c085-4ba9-b5ee-133a763bda00",
   "metadata": {},
   "outputs": [
    {
     "data": {
      "text/html": [
       "<table id=\"6181067a-b54b-4d1a-a3e5-69c60a5e6d07\" class=\"display\"style=\"max-width:100%\"><caption style=\"caption-side:bottom;padding:10px;\"><i>Table 19: </i>Available attributes</caption><thead>\n",
       "    <tr style=\"text-align: right;\">\n",
       "      \n",
       "      <th>prop</th>\n",
       "      <th>type</th>\n",
       "      <th>range</th>\n",
       "      <th>domain</th>\n",
       "      <th>only</th>\n",
       "    </tr>\n",
       "  </thead><tbody><tr><td>Loading... (need <a href=https://mwouts.github.io/itables/troubleshooting.html>help</a>?)</td></tr></tbody></table>\n",
       "<link rel=\"stylesheet\" type=\"text/css\" href=\"https://cdn.datatables.net/1.11.3/css/jquery.dataTables.min.css\">\n",
       "<style> table td {\n",
       "    text-overflow: ellipsis;\n",
       "    overflow: hidden;\n",
       "} </style>\n",
       "<style> table th {\n",
       "    text-overflow: ellipsis;\n",
       "    overflow: hidden;\n",
       "} </style>\n",
       "<script type=\"module\">\n",
       "    // Define the table data\n",
       "    const data = [[\"http://www.ebu.ch/metadata/ontologies/ebucore/ebucore#trackPurpose\", \"http://www.w3.org/2002/07/owl#DatatypeProperty\", \"http://www.w3.org/2000/01/rdf-schema#Literal\", \"http://www.ebu.ch/metadata/ontologies/ebucore/ebucore#Track\", \"http://www.w3.org/2000/01/rdf-schema#Literal\"], [\"http://www.ebu.ch/metadata/ontologies/ebucore/ebucore#hasTrackPart\", \"http://www.w3.org/2002/07/owl#ObjectProperty\", \"http://www.ebu.ch/metadata/ontologies/ebucore/ebucore#MediaResource\", \"http://www.ebu.ch/metadata/ontologies/ebucore/ebucore#Track\", \"nan\"], [\"http://www.ebu.ch/metadata/ontologies/ebucore/ebucore#hasTrackPurpose\", \"http://www.w3.org/2002/07/owl#ObjectProperty\", \"http://www.ebu.ch/metadata/ontologies/ebucore/ebucore#TrackPurpose\", \"http://www.ebu.ch/metadata/ontologies/ebucore/ebucore#Track\", \"nan\"], [\"http://www.ebu.ch/metadata/ontologies/ebucore/ebucore#trackType\", \"http://www.w3.org/2002/07/owl#ObjectProperty\", \"http://www.ebu.ch/metadata/ontologies/ebucore/ebucore#Track_Type\", \"http://www.ebu.ch/metadata/ontologies/ebucore/ebucore#Track\", \"nan\"]];\n",
       "\n",
       "    if (typeof require === 'undefined') {\n",
       "        // TODO: This should become the default (use a simple import)\n",
       "        // when the ESM version works independently of whether\n",
       "        // require.js is there or not, see\n",
       "        // https://datatables.net/forums/discussion/69066/esm-es6-module-support?\n",
       "        const {default: $} = await import(\"https://esm.sh/jquery@3.5.0\");\n",
       "        const {default: initDataTables} = await import(\"https://esm.sh/datatables.net@1.11.3?deps=jquery@3.5.0\");\n",
       "\n",
       "        initDataTables();\n",
       "\n",
       "        // Define the dt_args\n",
       "        let dt_args = {\"columnDefs\": [{\"width\": \"120px\", \"className\": \"dt-center\", \"targets\": \"_all\", \"createdCell\": \n",
       "            function (td, cellData, rowData, row, col) {\n",
       "                console.log(rowData)\n",
       "                $(td).css('word-wrap', 'break-word')\n",
       "                if (cellData == false) {\n",
       "                    $(td).css('color', '#FE0707')\n",
       "                    $(td).css('font-weight', 'bold')\n",
       "                }\n",
       "                else if (cellData == true) {\n",
       "                    $(td).css('color', '#1892E7')\n",
       "                    $(td).css('font-weight', 'bold')\n",
       "                }\n",
       "            }\n",
       "            }], \"paging\": false};\n",
       "        dt_args[\"data\"] = data;\n",
       "\n",
       "        // Display the table\n",
       "        $(document).ready(function () {\n",
       "            $('#6181067a-b54b-4d1a-a3e5-69c60a5e6d07').DataTable(dt_args);\n",
       "        });\n",
       "    } else {\n",
       "        require([\"jquery\", \"datatables\"], ($, datatables) => {\n",
       "                // Define the dt_args\n",
       "                let dt_args = {\"columnDefs\": [{\"width\": \"120px\", \"className\": \"dt-center\", \"targets\": \"_all\", \"createdCell\": \n",
       "            function (td, cellData, rowData, row, col) {\n",
       "                console.log(rowData)\n",
       "                $(td).css('word-wrap', 'break-word')\n",
       "                if (cellData == false) {\n",
       "                    $(td).css('color', '#FE0707')\n",
       "                    $(td).css('font-weight', 'bold')\n",
       "                }\n",
       "                else if (cellData == true) {\n",
       "                    $(td).css('color', '#1892E7')\n",
       "                    $(td).css('font-weight', 'bold')\n",
       "                }\n",
       "            }\n",
       "            }], \"paging\": false};\n",
       "                dt_args[\"data\"] = data;\n",
       "\n",
       "                // Display the table\n",
       "                $(document).ready(function () {\n",
       "                    $('#6181067a-b54b-4d1a-a3e5-69c60a5e6d07').DataTable(dt_args);\n",
       "                });\n",
       "            }\n",
       "        )\n",
       "    }\n",
       "</script>\n"
      ],
      "text/plain": [
       "<IPython.core.display.HTML object>"
      ]
     },
     "metadata": {},
     "output_type": "display_data"
    }
   ],
   "source": [
    "attrs = query_attrs(classes[2])\n",
    "if not isinstance(attrs, list):\n",
    "    generate_table(attrs, 19, 'Available attributes')\n",
    "else:\n",
    "    print('Attributes not found')"
   ]
  },
  {
   "cell_type": "code",
   "execution_count": null,
   "id": "67f1f3fb-4cef-49e1-8479-6a4c30679504",
   "metadata": {},
   "outputs": [],
   "source": []
  },
  {
   "cell_type": "code",
   "execution_count": null,
   "id": "e8f922d0-1183-40f9-a535-c331b36b0dfa",
   "metadata": {},
   "outputs": [],
   "source": []
  },
  {
   "cell_type": "code",
   "execution_count": null,
   "id": "c4f02850-ce56-4102-b5cf-9453fa4322a3",
   "metadata": {},
   "outputs": [],
   "source": []
  },
  {
   "cell_type": "code",
   "execution_count": null,
   "id": "dabbc3c7-cb2b-4d3a-b89f-31f56796d4f8",
   "metadata": {},
   "outputs": [],
   "source": []
  },
  {
   "cell_type": "code",
   "execution_count": null,
   "id": "c60d4110-2eb6-434e-95cc-f09fb91d6229",
   "metadata": {},
   "outputs": [],
   "source": []
  }
 ],
 "metadata": {
  "kernelspec": {
   "display_name": "Python 3 (ipykernel)",
   "language": "python",
   "name": "python3"
  },
  "language_info": {
   "codemirror_mode": {
    "name": "ipython",
    "version": 3
   },
   "file_extension": ".py",
   "mimetype": "text/x-python",
   "name": "python",
   "nbconvert_exporter": "python",
   "pygments_lexer": "ipython3",
   "version": "3.8.13"
  }
 },
 "nbformat": 4,
 "nbformat_minor": 5
}
