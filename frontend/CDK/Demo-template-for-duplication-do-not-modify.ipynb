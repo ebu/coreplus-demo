{
 "cells": [
  {
   "cell_type": "markdown",
   "id": "e1f662fd-7acd-48f9-8da0-9b0e8a6aff36",
   "metadata": {
    "tags": []
   },
   "source": [
    "# EBUCore+ Demonstrator Kit powered by ENAPSO\n",
    "## Preamble\n",
    ">EBU provides the CDK as a free tool to assist developers in exploring the EBUCore+ model. The CDK is neither licensed nor designed for productive use.\n",
    ">\n",
    ">The CDK documentation is available at https://github.com/ebu/coreplus-demo.\n",
    ">\n",
    ">EBU members can use the CDK online service at https://ebucore-plus-dk.org. To get access, please contact the EBU project coordinator. The CDK online service provides a shared JupyterLab workspace. Notebooks are visible and accessible to all logged in users.\n",
    ">\n",
    ">If you want to modify a notebook, please create a copy with a meaningful name. Leave the copy in the root folder. Executing a notebook in a subfolder is not supported. The original Demo.ipynb notebook is available at https://github.com/ebu/coreplus-demo.\n",
    ">\n",
    ">Users of the EBU online service have read access to a common demo database. The database currently contains a preliminary data model and sample data. The credentials for database access are given in the notebook. You can keep the default setting (demo-tenant, demo-user, demo).\n",
    ">\n",
    ">As a power user you may want to create/update/delete data, import data, or customize the data model. In this case your organization can apply for a private database. Please contact the EBU project coordinator for more information.\n",
    "\n",
    "## History\n",
    "2022-08-29  Release of CDK 1.0\n",
    "\n",
    "## Initialization"
   ]
  },
  {
   "cell_type": "code",
   "execution_count": 5,
   "id": "99bddc85",
   "metadata": {
    "tags": []
   },
   "outputs": [
    {
     "data": {
      "application/javascript": [
       "if (typeof require !== 'undefined')\n",
       "    require.config({\n",
       "        paths: {\n",
       "            jquery: 'https://code.jquery.com/jquery-3.5.1.min',\n",
       "            datatables: 'https://cdn.datatables.net/1.11.3/js/jquery.dataTables.min',\n",
       "        }\n",
       "    });\n"
      ],
      "text/plain": [
       "<IPython.core.display.Javascript object>"
      ]
     },
     "metadata": {},
     "output_type": "display_data"
    }
   ],
   "source": [
    "import os\n",
    "import sys\n",
    "import pandas as pd\n",
    "import itables.options as opt\n",
    "from itables import init_notebook_mode, show\n",
    "from scripts.ontologies import (load_model, get_all_classes, get_description, get_hierarchy, get_hierarchy_graph, \n",
    "                                get_individuals, get_properties, get_properties_graph, itable_config,get_individual_properties_graph)\n",
    "\n",
    "\n",
    "# Define user credentials\n",
    "TENANT = os.getenv('TENANT', 'demo-tenant')\n",
    "USERNAME = 'power-user'\n",
    "PASSWORD = 'power'\n",
    "\n",
    "#Languages supported:  'de'| 'en' | fr\n",
    "LANGUAGE = 'fr'\n",
    "\n",
    "# Read data from the graph database\n",
    "classes_df = load_model(tenant=TENANT, username=USERNAME, password=PASSWORD)\n",
    "itable_config(opt, init_notebook_mode)"
   ]
  },
  {
   "cell_type": "markdown",
   "id": "cc4fb9e9-40f2-4571-aa8e-e81c7b5cdff7",
   "metadata": {
    "tags": []
   },
   "source": [
    "## Classes & properties\n",
    "### List of classes\n",
    "Here you get an overview of all classes contained in the model. You can sort the table by column.\n",
    "\n",
    ">Use the Search function to find all records (rows) that contain the search string in one field (column).\n",
    "\n",
    "__IsLeafClass__ is a computed Boolean value. It indicates if the class is located at the lowest level of the hierarchy – in other words, that the class has no subclasses. We only consider explicitly modeled relations and don't use reasoning."
   ]
  },
  {
   "cell_type": "code",
   "execution_count": 6,
   "id": "153bea62-6330-469b-ae20-0e0786248ed1",
   "metadata": {
    "tags": []
   },
   "outputs": [
    {
     "data": {
      "text/html": [
       "<table id=\"77b04606-1ec4-46cb-ab54-2f4e2cd67b0a\" class=\"cell-border stripe hover\"style=\"max-width:100%\"><h4><label style=\"font-weight:bold\">Table: </label><label>List of classes</label></h4><thead>\n",
       "    <tr style=\"text-align: right;\">\n",
       "      \n",
       "      <th>Label</th>\n",
       "      <th>IRI</th>\n",
       "      <th>IsLeafClass</th>\n",
       "    </tr>\n",
       "  </thead><tbody><tr><td>Loading... (need <a href=https://mwouts.github.io/itables/troubleshooting.html>help</a>?)</td></tr></tbody></table>\n",
       "<link rel=\"stylesheet\" type=\"text/css\" href=\"https://cdn.datatables.net/1.11.3/css/jquery.dataTables.min.css\">\n",
       "<style> table td {\n",
       "    text-overflow: ellipsis;\n",
       "    overflow: hidden;\n",
       "} </style>\n",
       "<style> table th {\n",
       "    text-overflow: ellipsis;\n",
       "    overflow: hidden;\n",
       "} </style>\n",
       "<script type=\"module\">\n",
       "    // Define the table data\n",
       "    const data = [[\"Agent\", \"http://purl.org/dc/elements/1.1/Agent\", true], [\"Compte\", \"http://www.ebu.ch/metadata/ontologies/ebucoreplus#Account\", true], [\"Action\", \"http://www.ebu.ch/metadata/ontologies/ebucoreplus#Action\", true], [\"Affiliation\", \"http://www.ebu.ch/metadata/ontologies/ebucoreplus#Affiliation\", true], [\"D\\u00e9partement\", \"http://www.ebu.ch/metadata/ontologies/ebucoreplus#Department\", true], [\"Organisation fictive\", \"http://www.ebu.ch/metadata/ontologies/ebucoreplus#FictionalOrganisation\", true], [\"\\u00c9quipe\", \"http://www.ebu.ch/metadata/ontologies/ebucoreplus#Team\", true], [\"Organisation\", \"http://www.ebu.ch/metadata/ontologies/ebucoreplus#Organisation\", false], [\"Membre de la distribution\", \"http://www.ebu.ch/metadata/ontologies/ebucoreplus#CastMember\", true], [\"Caract\\u00e8re\", \"http://www.ebu.ch/metadata/ontologies/ebucoreplus#Character\", true], [\"Consommateur\", \"http://www.ebu.ch/metadata/ontologies/ebucoreplus#Consumer\", true], [\"Contact\", \"http://www.ebu.ch/metadata/ontologies/ebucoreplus#Contact\", true], [\"\\u00c9quipe\", \"http://www.ebu.ch/metadata/ontologies/ebucoreplus#CrewMember\", true], [\"Pseudonyme\", \"http://www.ebu.ch/metadata/ontologies/ebucoreplus#Pseudonym\", true], [\"Membre du personnel.\", \"http://www.ebu.ch/metadata/ontologies/ebucoreplus#StaffMember\", true], [\"Personne\", \"http://www.ebu.ch/metadata/ontologies/ebucoreplus#Person\", false], [\"Un acteur\", \"http://www.ebu.ch/metadata/ontologies/ebucoreplus#Agent\", false], [\"Titre alternatif\", \"http://www.ebu.ch/metadata/ontologies/ebucoreplus#AlternativeTitle\", true], [\"Animal\", \"http://www.ebu.ch/metadata/ontologies/ebucoreplus#Animal\", true], [\"Annotation de texte\", \"http://www.ebu.ch/metadata/ontologies/ebucoreplus#TextAnnotation\", true], [\"Annotation\", \"http://www.ebu.ch/metadata/ontologies/ebucoreplus#Annotation\", false], [\"Costume\", \"http://www.ebu.ch/metadata/ontologies/ebucoreplus#Costume\", true], [\"Alimentation\", \"http://www.ebu.ch/metadata/ontologies/ebucoreplus#Food\", true], [\"Accessoires\", \"http://www.ebu.ch/metadata/ontologies/ebucoreplus#Props\", true], [\"Artefact\", \"http://www.ebu.ch/metadata/ontologies/ebucoreplus#Artefact\", false], [\"Biographie\", \"http://www.ebu.ch/metadata/ontologies/ebucoreplus#Biography\", true], [\"Enregistrement\", \"http://www.ebu.ch/metadata/ontologies/ebucoreplus#Record\", true], [\"Objet bibliographique\", \"http://www.ebu.ch/metadata/ontologies/ebucoreplus#BibliographicalObject\", false], [\"Marque\", \"http://www.ebu.ch/metadata/ontologies/ebucoreplus#Brand\", true], [\"Paquet de campagne\", \"http://www.ebu.ch/metadata/ontologies/ebucoreplus#CampaignPackage\", true], [\"Collection\", \"http://www.ebu.ch/metadata/ontologies/ebucoreplus#Collection\", true], [\"Saison\", \"http://www.ebu.ch/metadata/ontologies/ebucoreplus#Season\", true], [\"S\\u00e9rie\", \"http://www.ebu.ch/metadata/ontologies/ebucoreplus#Serial\", true], [\"S\\u00e9rie\", \"http://www.ebu.ch/metadata/ontologies/ebucoreplus#Series\", true], [\"Groupe de r\\u00e9daction\", \"http://www.ebu.ch/metadata/ontologies/ebucoreplus#EditorialGroup\", false], [\"Sc\\u00e8ne\", \"http://www.ebu.ch/metadata/ontologies/ebucoreplus#Scene\", true], [\"Coup de feu\", \"http://www.ebu.ch/metadata/ontologies/ebucoreplus#Shot\", true], [\"Prenez\", \"http://www.ebu.ch/metadata/ontologies/ebucoreplus#Take\", true], [\"Bonus\", \"http://www.ebu.ch/metadata/ontologies/ebucoreplus#Bonus\", true], [\"Derni\\u00e8res nouvelles\", \"http://www.ebu.ch/metadata/ontologies/ebucoreplus#BreakingNewsItem\", true], [\"Nouvelles\", \"http://www.ebu.ch/metadata/ontologies/ebucoreplus#NewsItem\", true], [\"Consulter\", \"http://www.ebu.ch/metadata/ontologies/ebucoreplus#Review\", true], [\"Article de sport\", \"http://www.ebu.ch/metadata/ontologies/ebucoreplus#SportItem\", true], [\"Article\", \"http://www.ebu.ch/metadata/ontologies/ebucoreplus#Item\", false], [\"Making-of\", \"http://www.ebu.ch/metadata/ontologies/ebucoreplus#MakingOf\", true], [\"Outtakes\", \"http://www.ebu.ch/metadata/ontologies/ebucoreplus#Outtakes\", true], [\"Contenu audio\", \"http://www.ebu.ch/metadata/ontologies/ebucoreplus#AudioContent\", true], [\"Programme audio\", \"http://www.ebu.ch/metadata/ontologies/ebucoreplus#AudioProgramme\", true], [\"Programme radio\", \"http://www.ebu.ch/metadata/ontologies/ebucoreplus#RadioProgramme\", true], [\"Programme TV\", \"http://www.ebu.ch/metadata/ontologies/ebucoreplus#TVProgramme\", true], [\"Programme\", \"http://www.ebu.ch/metadata/ontologies/ebucoreplus#Programme\", false], [\"Promotion\", \"http://www.ebu.ch/metadata/ontologies/ebucoreplus#Promotion\", true], [\"Rappel\", \"http://www.ebu.ch/metadata/ontologies/ebucoreplus#Reminder\", true], [\"Bande annonce\", \"http://www.ebu.ch/metadata/ontologies/ebucoreplus#Trailer\", true], [\"Objet \\u00e9ditorial\", \"http://www.ebu.ch/metadata/ontologies/ebucoreplus#EditorialObject\", false], [\"Actif\", \"http://www.ebu.ch/metadata/ontologies/ebucoreplus#Asset\", false], [\"Valeur d'un actif\", \"http://www.ebu.ch/metadata/ontologies/ebucoreplus#AssetValue\", true], [\"Audience\", \"http://www.ebu.ch/metadata/ontologies/ebucoreplus#Audience\", true], [\"Rapport d'audit\", \"http://www.ebu.ch/metadata/ontologies/ebucoreplus#AuditReport\", true], [\"Prix\", \"http://www.ebu.ch/metadata/ontologies/ebucoreplus#Award\", true], [\"Campagne\", \"http://www.ebu.ch/metadata/ontologies/ebucoreplus#Campaign\", true], [\"Codec audio\", \"http://www.ebu.ch/metadata/ontologies/ebucoreplus#AudioCodec\", true], [\"Codec de conteneur\", \"http://www.ebu.ch/metadata/ontologies/ebucoreplus#ContainerCodec\", true], [\"Codec d'image\", \"http://www.ebu.ch/metadata/ontologies/ebucoreplus#ImageCodec\", true], [\"Codec vid\\u00e9o\", \"http://www.ebu.ch/metadata/ontologies/ebucoreplus#VideoCodec\", true], [\"Codec\", \"http://www.ebu.ch/metadata/ontologies/ebucoreplus#Codec\", false], [\"Comptage des consommations\", \"http://www.ebu.ch/metadata/ontologies/ebucoreplus#ConsumptionCount\", true], [\"Appareil\", \"http://www.ebu.ch/metadata/ontologies/ebucoreplus#ConsumptionDevice\", true], [\"Profile d'un appareil\", \"http://www.ebu.ch/metadata/ontologies/ebucoreplus#ConsumptionDeviceProfile\", true], [\"\\u00c9v\\u00e9nement de consommation\", \"http://www.ebu.ch/metadata/ontologies/ebucoreplus#ConsumptionEvent\", true], [\"Licence de consommation\", \"http://www.ebu.ch/metadata/ontologies/ebucoreplus#ConsumptionLicence\", true], [\"Contrat\", \"http://www.ebu.ch/metadata/ontologies/ebucoreplus#Contract\", true], [\"Co\\u00fbt d'un contrat\", \"http://www.ebu.ch/metadata/ontologies/ebucoreplus#ContractCost\", true], [\"\\u00c9motion\", \"http://www.ebu.ch/metadata/ontologies/ebucoreplus#Emotion\", true], [\"\\u00c9v\\u00e9nement d\\u00e9crit\", \"http://www.ebu.ch/metadata/ontologies/ebucoreplus#DepictedEvent\", true], [\"\\u00c9v\\u00e9nement fictif\", \"http://www.ebu.ch/metadata/ontologies/ebucoreplus#FictionalEvent\", true], [\"\\u00c9v\\u00e9nement de carri\\u00e8re cl\\u00e9\", \"http://www.ebu.ch/metadata/ontologies/ebucoreplus#KeyCareerEvent\", true], [\"\\u00c9v\\u00e9nement personnel cl\\u00e9\", \"http://www.ebu.ch/metadata/ontologies/ebucoreplus#KeyPersonalEvent\", true], [\"\\u00c9v\\u00e9nement cl\\u00e9\", \"http://www.ebu.ch/metadata/ontologies/ebucoreplus#KeyEvent\", false], [\"\\u00c9v\\u00e9nement\", \"http://www.ebu.ch/metadata/ontologies/ebucoreplus#Event\", false], [\"IEDR\", \"http://www.ebu.ch/metadata/ontologies/ebucoreplus#EidrIdentifier\", true], [\"Identificateur de m\\u00e9dia\", \"http://www.ebu.ch/metadata/ontologies/ebucoreplus#IMediaIdentifier\", true], [\"ISAN\", \"http://www.ebu.ch/metadata/ontologies/ebucoreplus#IsanIdentifier\", true], [\"Identifiant\", \"http://www.ebu.ch/metadata/ontologies/ebucoreplus#Identifier\", false], [\"Lieu fictif\", \"http://www.ebu.ch/metadata/ontologies/ebucoreplus#FictionalLocation\", true], [\"Localisation\", \"http://www.ebu.ch/metadata/ontologies/ebucoreplus#Location\", false], [\"Localisateur\", \"http://www.ebu.ch/metadata/ontologies/ebucoreplus#Locator\", true], [\"Mesure\", \"http://www.ebu.ch/metadata/ontologies/ebucoreplus#Measure\", true], [\"Position sur sc\\u00e8ne\", \"http://www.ebu.ch/metadata/ontologies/ebucoreplus#OnStagePosition\", true], [\"Appareil de production\", \"http://www.ebu.ch/metadata/ontologies/ebucoreplus#ProductionDevice\", true], [\"Une t\\u00e2che d'audit\", \"http://www.ebu.ch/metadata/ontologies/ebucoreplus#AuditJob\", true], [\"T\\u00e2che de production\", \"http://www.ebu.ch/metadata/ontologies/ebucoreplus#ProductionJob\", false], [\"Commande de production\", \"http://www.ebu.ch/metadata/ontologies/ebucoreplus#ProductionOrder\", true], [\"Canal de publication\", \"http://www.ebu.ch/metadata/ontologies/ebucoreplus#PublicationChannel\", true], [\"\\u00c9v\\u00e9nement de publication\", \"http://www.ebu.ch/metadata/ontologies/ebucoreplus#PublicationEvent\", true], [\"Histoire de la publication\", \"http://www.ebu.ch/metadata/ontologies/ebucoreplus#PublicationHistory\", true], [\"Journal de bord de la publication\", \"http://www.ebu.ch/metadata/ontologies/ebucoreplus#PublicationLogg\", true], [\"Plan de publication\", \"http://www.ebu.ch/metadata/ontologies/ebucoreplus#PublicationPlan\", true], [\"Plate-forme de publication\", \"http://www.ebu.ch/metadata/ontologies/ebucoreplus#PublicationPlatform\", true], [\"Service\", \"http://www.ebu.ch/metadata/ontologies/ebucoreplus#PublicationService\", true], [\"Public cible\", \"http://www.ebu.ch/metadata/ontologies/ebucoreplus#AudienceLevel\", true], [\"Classification du public\", \"http://www.ebu.ch/metadata/ontologies/ebucoreplus#AudienceRating\", true], [\"Classement\", \"http://www.ebu.ch/metadata/ontologies/ebucoreplus#Rating\", false], [\"Relation\", \"http://www.ebu.ch/metadata/ontologies/ebucoreplus#Relation\", true], [\"R\\u00e9sonance\", \"http://www.ebu.ch/metadata/ontologies/ebucoreplus#Resonance\", true], [\"\\u00c9v\\u00e9nement de r\\u00e9sonance\", \"http://www.ebu.ch/metadata/ontologies/ebucoreplus#ResonanceEvent\", true], [\"Dopesheet\", \"http://www.ebu.ch/metadata/ontologies/ebucoreplus#Dopesheet\", true], [\"Document\", \"http://www.ebu.ch/metadata/ontologies/ebucoreplus#Document\", false], [\"Objet audio\", \"http://www.ebu.ch/metadata/ontologies/ebucoreplus#AudioObject\", true], [\"Flux audio\", \"http://www.ebu.ch/metadata/ontologies/ebucoreplus#AudioStream\", true], [\"Flux vid\\u00e9o\", \"http://www.ebu.ch/metadata/ontologies/ebucoreplus#VideoStream\", true], [\"Stream\", \"http://www.ebu.ch/metadata/ontologies/ebucoreplus#Stream\", false], [\"Composant\", \"http://www.ebu.ch/metadata/ontologies/ebucoreplus#Component\", false], [\"BMEssence\", \"http://www.ebu.ch/metadata/ontologies/ebucoreplus#BMEssence\", true], [\"Essence\", \"http://www.ebu.ch/metadata/ontologies/ebucoreplus#Essence\", false], [\"Fragment de m\\u00e9dia\", \"http://www.ebu.ch/metadata/ontologies/ebucoreplus#MediaFragment\", true], [\"BMTemplate\", \"http://www.ebu.ch/metadata/ontologies/ebucoreplus#BMTemplate\", true], [\"Mod\\u00e8le\", \"http://www.ebu.ch/metadata/ontologies/ebucoreplus#Template\", false], [\"Description audio\", \"http://www.ebu.ch/metadata/ontologies/ebucoreplus#AudioDescription\", true], [\"Piste audio\", \"http://www.ebu.ch/metadata/ontologies/ebucoreplus#AudioTrack\", false], [\"L\\u00e9gende ferm\\u00e9e\", \"http://www.ebu.ch/metadata/ontologies/ebucoreplus#ClosedCaptions\", true], [\"L\\u00e9gendes ouvertes\", \"http://www.ebu.ch/metadata/ontologies/ebucoreplus#OpenCaptions\", true], [\"Sous-titrage\", \"http://www.ebu.ch/metadata/ontologies/ebucoreplus#Captioning\", false], [\"Donn\\u00e9es auxiliaires\", \"http://www.ebu.ch/metadata/ontologies/ebucoreplus#AncillaryData\", true], [\"Suivi des donn\\u00e9es\", \"http://www.ebu.ch/metadata/ontologies/ebucoreplus#DataTrack\", false], [\"Piste de m\\u00e9tadonn\\u00e9es\", \"http://www.ebu.ch/metadata/ontologies/ebucoreplus#MetadataTrack\", true], [\"Sous-titrage ferm\\u00e9\", \"http://www.ebu.ch/metadata/ontologies/ebucoreplus#ClosedSubtitling\", true], [\"Ouvrir le sous-titrage\", \"http://www.ebu.ch/metadata/ontologies/ebucoreplus#OpenSubtitling\", true], [\"Sous-titrage\", \"http://www.ebu.ch/metadata/ontologies/ebucoreplus#Subtitling\", false], [\"Piste de timecode\", \"http://www.ebu.ch/metadata/ontologies/ebucoreplus#TimecodeTrack\", true], [\"Signer\", \"http://www.ebu.ch/metadata/ontologies/ebucoreplus#Signing\", true], [\"Piste vid\\u00e9o\", \"http://www.ebu.ch/metadata/ontologies/ebucoreplus#VideoTrack\", false], [\"Piste\", \"http://www.ebu.ch/metadata/ontologies/ebucoreplus#Track\", false], [\"Ressource m\\u00e9diatique\", \"http://www.ebu.ch/metadata/ontologies/ebucoreplus#MediaResource\", false], [\"Ressource physique\", \"http://www.ebu.ch/metadata/ontologies/ebucoreplus#PhysicalResource\", true], [\"cadre de la cl\\u00e9\", \"http://www.ebu.ch/metadata/ontologies/ebucoreplus#Keyframe\", true], [\"Logo\", \"http://www.ebu.ch/metadata/ontologies/ebucoreplus#Logo\", true], [\"Pictogramme\", \"http://www.ebu.ch/metadata/ontologies/ebucoreplus#Pictogram\", true], [\"Autocollant\", \"http://www.ebu.ch/metadata/ontologies/ebucoreplus#Sticker\", true], [\"Vignette\", \"http://www.ebu.ch/metadata/ontologies/ebucoreplus#Thumbnail\", true], [\"Photo\", \"http://www.ebu.ch/metadata/ontologies/ebucoreplus#Picture\", false], [\"Ressource\", \"http://www.ebu.ch/metadata/ontologies/ebucoreplus#Resource\", false], [\"Conditions d'acc\\u00e8s\", \"http://www.ebu.ch/metadata/ontologies/ebucoreplus#AccessConditions\", true], [\"Copyright\", \"http://www.ebu.ch/metadata/ontologies/ebucoreplus#Copyright\", true], [\"Restrictions de couverture\", \"http://www.ebu.ch/metadata/ontologies/ebucoreplus#CoverageRestrictions\", true], [\"Creative commons\", \"http://www.ebu.ch/metadata/ontologies/ebucoreplus#CreativeCommons\", true], [\"Avis de non-responsabilit\\u00e9\", \"http://www.ebu.ch/metadata/ontologies/ebucoreplus#Disclaimer\", true], [\"Probl\\u00e8mes d'exploitation\", \"http://www.ebu.ch/metadata/ontologies/ebucoreplus#ExploitationIssues\", true], [\"Restrictions DPI\", \"http://www.ebu.ch/metadata/ontologies/ebucoreplus#IPRRestrictions\", true], [\"Licences\", \"http://www.ebu.ch/metadata/ontologies/ebucoreplus#Licensing\", true], [\"Apurement des droits\", \"http://www.ebu.ch/metadata/ontologies/ebucoreplus#RightsClearance\", true], [\"Restrictions d'utilisation\", \"http://www.ebu.ch/metadata/ontologies/ebucoreplus#UsageRestrictions\", true], [\"Droits d'utilisation\", \"http://www.ebu.ch/metadata/ontologies/ebucoreplus#UsageRights\", true], [\"Droits\", \"http://www.ebu.ch/metadata/ontologies/ebucoreplus#Rights\", false], [\"R\\u00f4le\", \"http://www.ebu.ch/metadata/ontologies/ebucoreplus#Role\", true], [\"R\\u00e8gle\", \"http://www.ebu.ch/metadata/ontologies/ebucoreplus#Rule\", true], [\"Sc\\u00e8ne\", \"http://www.ebu.ch/metadata/ontologies/ebucoreplus#Stage\", true], [\"Ligne de texte\", \"http://www.ebu.ch/metadata/ontologies/ebucoreplus#TextLine\", true], [\"Modifier le nombre d'unit\\u00e9s\", \"http://www.ebu.ch/metadata/ontologies/ebucoreplus#EditUnitCount\", true], [\"Temps de jeu normal\", \"http://www.ebu.ch/metadata/ontologies/ebucoreplus#NormalPlayTime\", true], [\"Code temporel\", \"http://www.ebu.ch/metadata/ontologies/ebucoreplus#TimeCode\", true], [\"Code temporel avec dropframe\", \"http://www.ebu.ch/metadata/ontologies/ebucoreplus#TimeCodeDropFrame\", true], [\"Point de rep\\u00e8re chronologique\", \"http://www.ebu.ch/metadata/ontologies/ebucoreplus#TimelinePoint\", false], [\"Piste chronologique\", \"http://www.ebu.ch/metadata/ontologies/ebucoreplus#TimelineTrack\", true], [\"Type d'action\", \"http://www.ebu.ch/metadata/ontologies/ebucoreplus#Action_Type\", true], [\"Code de la race animale\", \"http://www.ebu.ch/metadata/ontologies/ebucoreplus#AnimalBreedCode\", true], [\"Code couleur des animaux\", \"http://www.ebu.ch/metadata/ontologies/ebucoreplus#AnimalColourCode\", true], [\"Type d'annotation\", \"http://www.ebu.ch/metadata/ontologies/ebucoreplus#Annotation_Type\", true], [\"Type d'artefact\", \"http://www.ebu.ch/metadata/ontologies/ebucoreplus#Artefact_Type\", true], [\"Type d'actif\", \"http://www.ebu.ch/metadata/ontologies/ebucoreplus#Asset_Type\", true], [\"Technique d'enregistrement des partitions d'audience\", \"http://www.ebu.ch/metadata/ontologies/ebucoreplus#AudienceScoreRecordingTechnique\", true], [\"Fonction de canal audio\", \"http://www.ebu.ch/metadata/ontologies/ebucoreplus#AudioChannelFunction\", true], [\"Objectif du canal audio\", \"http://www.ebu.ch/metadata/ontologies/ebucoreplus#AudioChannelPurpose\", true], [\"Type de contenu audio\", \"http://www.ebu.ch/metadata/ontologies/ebucoreplus#AudioContent_Type\", true], [\"Type de programme audio\", \"http://www.ebu.ch/metadata/ontologies/ebucoreplus#AudioProgramme_Type\", true], [\"Objectif de la piste audio\", \"http://www.ebu.ch/metadata/ontologies/ebucoreplus#AudioTrackPurpose\", true], [\"Type de prix\", \"http://www.ebu.ch/metadata/ontologies/ebucoreplus#Award_Type\", true], [\"Code de la ville\", \"http://www.ebu.ch/metadata/ontologies/ebucoreplus#CityCode\", true], [\"Type de contrat\", \"http://www.ebu.ch/metadata/ontologies/ebucoreplus#ContractType\", true], [\"Type de costume\", \"http://www.ebu.ch/metadata/ontologies/ebucoreplus#CostumeType\", true], [\"Code pays\", \"http://www.ebu.ch/metadata/ontologies/ebucoreplus#CountryCode\", true], [\"Style de cuisine\", \"http://www.ebu.ch/metadata/ontologies/ebucoreplus#CuisineStyle\", true], [\"Code devise\", \"http://www.ebu.ch/metadata/ontologies/ebucoreplus#CurrencyCode\", true], [\"Type d'objet r\\u00e9dactionnel\", \"http://www.ebu.ch/metadata/ontologies/ebucoreplus#EditorialObject_Type\", true], [\"Type d'\\u00e9motion\", \"http://www.ebu.ch/metadata/ontologies/ebucoreplus#Emotion_Type\", true], [\"Type d'\\u00e9v\\u00e9nement\", \"http://www.ebu.ch/metadata/ontologies/ebucoreplus#EventType\", true], [\"Type d'exclusivit\\u00e9\", \"http://www.ebu.ch/metadata/ontologies/ebucoreplus#ExclusivityType\", true], [\"Style alimentaire\", \"http://www.ebu.ch/metadata/ontologies/ebucoreplus#FoodStyle\", true], [\"Code du descripteur de format actif\", \"http://www.ebu.ch/metadata/ontologies/ebucoreplus#ActiveFormatDescriptorCode\", true], [\"Format audio\", \"http://www.ebu.ch/metadata/ontologies/ebucoreplus#AudioFormat\", true], [\"Espace couleur\", \"http://www.ebu.ch/metadata/ontologies/ebucoreplus#ColourSpace\", true], [\"Format du conteneur\", \"http://www.ebu.ch/metadata/ontologies/ebucoreplus#ContainerFormat\", true], [\"Type Mime du conteneur\", \"http://www.ebu.ch/metadata/ontologies/ebucoreplus#ContainerMimeType\", true], [\"Format des donn\\u00e9es auxiliaires\", \"http://www.ebu.ch/metadata/ontologies/ebucoreplus#AncillaryDataFormat\", true], [\"Format de sous-titrage\", \"http://www.ebu.ch/metadata/ontologies/ebucoreplus#CaptioningFormat\", true], [\"Format de sous-titrage\", \"http://www.ebu.ch/metadata/ontologies/ebucoreplus#SubtitlingFormat\", true], [\"Format des data\", \"http://www.ebu.ch/metadata/ontologies/ebucoreplus#DataFormat\", false], [\"Format du document\", \"http://www.ebu.ch/metadata/ontologies/ebucoreplus#DocumentFormat\", true], [\"Format d'encodage audio\", \"http://www.ebu.ch/metadata/ontologies/ebucoreplus#AudioEncodingFormat\", true], [\"Format d'encodage du conteneur\", \"http://www.ebu.ch/metadata/ontologies/ebucoreplus#ContainerEncodingFormat\", true], [\"Format d'encodage vid\\u00e9o\", \"http://www.ebu.ch/metadata/ontologies/ebucoreplus#VideoEncodingFormat\", true], [\"Encodage\", \"http://www.ebu.ch/metadata/ontologies/ebucoreplus#EncodingFormat\", false], [\"Format de fichier\", \"http://www.ebu.ch/metadata/ontologies/ebucoreplus#FileFormat\", true], [\"G\\u00e9n\\u00e9ration\", \"http://www.ebu.ch/metadata/ontologies/ebucoreplus#Generation\", true], [\"Format de l'image\", \"http://www.ebu.ch/metadata/ontologies/ebucoreplus#ImageFormat\", true], [\"Type de m\\u00e9dia\", \"http://www.ebu.ch/metadata/ontologies/ebucoreplus#MediaType\", true], [\"Moyen\", \"http://www.ebu.ch/metadata/ontologies/ebucoreplus#Medium\", true], [\"Type Mime\", \"http://www.ebu.ch/metadata/ontologies/ebucoreplus#MimeType\", true], [\"Code du format d'affichage des images\", \"http://www.ebu.ch/metadata/ontologies/ebucoreplus#PictureDisplayFormat\", true], [\"Standard\", \"http://www.ebu.ch/metadata/ontologies/ebucoreplus#Standard\", true], [\"Technique de cr\\u00e9ation de textes temporis\\u00e9s\", \"http://www.ebu.ch/metadata/ontologies/ebucoreplus#TimedTextAuthoringTechnique\", true], [\"Type de contenu texte temporis\\u00e9\", \"http://www.ebu.ch/metadata/ontologies/ebucoreplus#TimedTextContentType\", true], [\"Format cible des sous-titres en texte minut\\u00e9\", \"http://www.ebu.ch/metadata/ontologies/ebucoreplus#TimedTextSubtitleTargetFormat\", true], [\"Format vid\\u00e9o\", \"http://www.ebu.ch/metadata/ontologies/ebucoreplus#VideoFormat\", true], [\"Format\", \"http://www.ebu.ch/metadata/ontologies/ebucoreplus#Format\", false], [\"Type d'identifiant\", \"http://www.ebu.ch/metadata/ontologies/ebucoreplus#IdentifierType\", true], [\"Mot-cl\\u00e9\", \"http://www.ebu.ch/metadata/ontologies/ebucoreplus#Keyword\", true], [\"Langue\", \"http://www.ebu.ch/metadata/ontologies/ebucoreplus#OriginalLanguage\", true], [\"Langue\", \"http://www.ebu.ch/metadata/ontologies/ebucoreplus#Language\", false], [\"Code de localisation.\", \"http://www.ebu.ch/metadata/ontologies/ebucoreplus#LocationCode\", true], [\"Type d'emplacement\", \"http://www.ebu.ch/metadata/ontologies/ebucoreplus#LocationType\", true], [\"Type de ressource m\\u00e9dia\", \"http://www.ebu.ch/metadata/ontologies/ebucoreplus#MediaResource_Type\", true], [\"Type de pi\\u00e8ce\", \"http://www.ebu.ch/metadata/ontologies/ebucoreplus#Part_Type\", true], [\"Type de canal de publication\", \"http://www.ebu.ch/metadata/ontologies/ebucoreplus#PublicationChannel_Type\", true], [\"Type d'\\u00e9v\\u00e9nement de publication\", \"http://www.ebu.ch/metadata/ontologies/ebucoreplus#PublicationEvent_Type\", true], [\"Support de publication\", \"http://www.ebu.ch/metadata/ontologies/ebucoreplus#PublicationMedium\", true], [\"Type de plan de publication\", \"http://www.ebu.ch/metadata/ontologies/ebucoreplus#PublicationPlan_Type\", true], [\"Code de r\\u00e9gion\", \"http://www.ebu.ch/metadata/ontologies/ebucoreplus#RegionCode\", true], [\"Type de relation\", \"http://www.ebu.ch/metadata/ontologies/ebucoreplus#Relation_Type\", true], [\"Type de ressource\", \"http://www.ebu.ch/metadata/ontologies/ebucoreplus#Resource_Type\", true], [\"Type de droits\", \"http://www.ebu.ch/metadata/ontologies/ebucoreplus#RightsType\", true], [\"Type de service\", \"http://www.ebu.ch/metadata/ontologies/ebucoreplus#Service_Type\", true], [\"Code de la langue des signes\", \"http://www.ebu.ch/metadata/ontologies/ebucoreplus#SignLanguageCode\", true], [\"Format de signature\", \"http://www.ebu.ch/metadata/ontologies/ebucoreplus#SigningFormat\", true], [\"Type de stockage\", \"http://www.ebu.ch/metadata/ontologies/ebucoreplus#Storage_Type\", true], [\"Sujet\", \"http://www.ebu.ch/metadata/ontologies/ebucoreplus#Subject\", true], [\"Plate-forme cible\", \"http://www.ebu.ch/metadata/ontologies/ebucoreplus#TargetPlatform\", true], [\"Code du territoire\", \"http://www.ebu.ch/metadata/ontologies/ebucoreplus#TerritoryCode\", true], [\"Type de ligne de texte\", \"http://www.ebu.ch/metadata/ontologies/ebucoreplus#TextLine_Type\", true], [\"Type d'utilisation du texte\", \"http://www.ebu.ch/metadata/ontologies/ebucoreplus#TextUsageType\", true], [\"Th\\u00e8me\", \"http://www.ebu.ch/metadata/ontologies/ebucoreplus#Theme\", true], [\"Type de piste de la ligne de temps\", \"http://www.ebu.ch/metadata/ontologies/ebucoreplus#TimelineTrack_Type\", true], [\"Sujet\", \"http://www.ebu.ch/metadata/ontologies/ebucoreplus#Topic\", true], [\"Objectif de la voie\", \"http://www.ebu.ch/metadata/ontologies/ebucoreplus#TrackPurpose\", true], [\"Type de voie\", \"http://www.ebu.ch/metadata/ontologies/ebucoreplus#Track_Type\", true], [\"Atmosph\\u00e8re\", \"http://www.ebu.ch/metadata/ontologies/ebucoreplus#Atmosphere\", true], [\"Code commercial\", \"http://www.ebu.ch/metadata/ontologies/ebucoreplus#CommercialCode\", true], [\"Alerte de contenu\", \"http://www.ebu.ch/metadata/ontologies/ebucoreplus#ContentAlert\", true], [\"Code \\u00e9ditorial\", \"http://www.ebu.ch/metadata/ontologies/ebucoreplus#ContentEditorialCode\", true], [\"Format r\\u00e9dactionnel\", \"http://www.ebu.ch/metadata/ontologies/ebucoreplus#ContentEditorialFormat\", true], [\"Genre\", \"http://www.ebu.ch/metadata/ontologies/ebucoreplus#Genre\", true], [\"Code d'intention\", \"http://www.ebu.ch/metadata/ontologies/ebucoreplus#IntentionCode\", true], [\"Type\", \"http://www.ebu.ch/metadata/ontologies/ebucoreplus#Type\", false], [\"Type d'emballage\", \"http://www.ebu.ch/metadata/ontologies/ebucoreplus#WrappingType\", true], [\"Date incertaine\", \"http://www.ebu.ch/metadata/ontologies/ebucoreplus#UncertainDate\", true], [\"Description de la date et de l'heure\", \"http://www.w3.org/2006/time#DateTimeDescription\", true], [\"Un instant\", \"http://www.w3.org/2006/time#Instant\", false], [\"Syst\\u00e8me de r\\u00e9f\\u00e9rence temporel\", \"http://www.w3.org/2006/time#TRS\", true]];\n",
       "\n",
       "    if (typeof require === 'undefined') {\n",
       "        // TODO: This should become the default (use a simple import)\n",
       "        // when the ESM version works independently of whether\n",
       "        // require.js is there or not, see\n",
       "        // https://datatables.net/forums/discussion/69066/esm-es6-module-support?\n",
       "        const {default: $} = await import(\"https://esm.sh/jquery@3.5.0\");\n",
       "        const {default: initDataTables} = await import(\"https://esm.sh/datatables.net@1.11.3?deps=jquery@3.5.0\");\n",
       "\n",
       "        initDataTables();\n",
       "\n",
       "        // Define the dt_args\n",
       "        let dt_args = {\"columnDefs\": [{\"width\": \"120px\", \"className\": \"dt-left\", \"targets\": \"_all\", \"createdCell\": \n",
       "        function (td, cellData, rowData, row, col) {\n",
       "            $(td).css('word-wrap', 'break-word')\n",
       "            if (typeof cellData === 'string') {\n",
       "                if (cellData.slice(-2) === '.0') {\n",
       "                    $(td).html(cellData.replace('.0', '' ))\n",
       "                }\n",
       "            }\n",
       "            if (cellData == false) {\n",
       "                $(td).css('color', '#7DA5C0')\n",
       "                $(td).css('font-weight', 'bold')\n",
       "            }\n",
       "            else if (cellData == true) {\n",
       "                $(td).css('color', '#7CBC97')\n",
       "                $(td).css('font-weight', 'bold')\n",
       "            }\n",
       "        }\n",
       "        }], \"lengthMenu\": [5, 10, 25, 50, -1]};\n",
       "        dt_args[\"data\"] = data;\n",
       "\n",
       "        // Display the table\n",
       "        $(document).ready(function () {\n",
       "            $('#77b04606-1ec4-46cb-ab54-2f4e2cd67b0a').DataTable(dt_args);\n",
       "        });\n",
       "    } else {\n",
       "        require([\"jquery\", \"datatables\"], ($, datatables) => {\n",
       "                // Define the dt_args\n",
       "                let dt_args = {\"columnDefs\": [{\"width\": \"120px\", \"className\": \"dt-left\", \"targets\": \"_all\", \"createdCell\": \n",
       "        function (td, cellData, rowData, row, col) {\n",
       "            $(td).css('word-wrap', 'break-word')\n",
       "            if (typeof cellData === 'string') {\n",
       "                if (cellData.slice(-2) === '.0') {\n",
       "                    $(td).html(cellData.replace('.0', '' ))\n",
       "                }\n",
       "            }\n",
       "            if (cellData == false) {\n",
       "                $(td).css('color', '#7DA5C0')\n",
       "                $(td).css('font-weight', 'bold')\n",
       "            }\n",
       "            else if (cellData == true) {\n",
       "                $(td).css('color', '#7CBC97')\n",
       "                $(td).css('font-weight', 'bold')\n",
       "            }\n",
       "        }\n",
       "        }], \"lengthMenu\": [5, 10, 25, 50, -1]};\n",
       "                dt_args[\"data\"] = data;\n",
       "\n",
       "                // Display the table\n",
       "                $(document).ready(function () {\n",
       "                    $('#77b04606-1ec4-46cb-ab54-2f4e2cd67b0a').DataTable(dt_args);\n",
       "                });\n",
       "            }\n",
       "        )\n",
       "    }\n",
       "</script>\n"
      ],
      "text/plain": [
       "<IPython.core.display.HTML object>"
      ]
     },
     "metadata": {},
     "output_type": "display_data"
    }
   ],
   "source": [
    "all_classes_df = get_all_classes(source_df=classes_df,\n",
    "                                 language=LANGUAGE,\n",
    "                                 show_table=True)"
   ]
  },
  {
   "cell_type": "markdown",
   "id": "a8edbfea-7a56-4f36-9b00-ad62fe135067",
   "metadata": {
    "tags": []
   },
   "source": [
    "### Class description, definition and example\n",
    "Here you see the description of one or more classes. Use the table above to look up and copy one or more class IRIs to the iris parameter as a comma-separated list.\n",
    "\n",
    ">The basic language is English ('en'). Released versions of EBUCore+ will also support German ('de') and French ('fr'). More languages may be added in the future."
   ]
  },
  {
   "cell_type": "code",
   "execution_count": 7,
   "id": "16df2eb9-63cf-4251-a5d3-d4362f524cbf",
   "metadata": {
    "tags": []
   },
   "outputs": [
    {
     "data": {
      "text/html": [
       "<table id=\"29093c63-e56b-4a1b-af9e-70b185b4e225\" class=\"cell-border stripe hover\"style=\"max-width:100%\"><h4><label style=\"font-weight:bold\">Table: </label><label>Description of class EditorialObject</label></h4><thead>\n",
       "    <tr style=\"text-align: right;\">\n",
       "      \n",
       "      <th>Label</th>\n",
       "      <th>Description (French)</th>\n",
       "      <th>Definition (French)</th>\n",
       "      <th>Example (French)</th>\n",
       "    </tr>\n",
       "  </thead><tbody><tr><td>Loading... (need <a href=https://mwouts.github.io/itables/troubleshooting.html>help</a>?)</td></tr></tbody></table>\n",
       "<link rel=\"stylesheet\" type=\"text/css\" href=\"https://cdn.datatables.net/1.11.3/css/jquery.dataTables.min.css\">\n",
       "<style> table td {\n",
       "    text-overflow: ellipsis;\n",
       "    overflow: hidden;\n",
       "} </style>\n",
       "<style> table th {\n",
       "    text-overflow: ellipsis;\n",
       "    overflow: hidden;\n",
       "} </style>\n",
       "<script type=\"module\">\n",
       "    // Define the table data\n",
       "    const data = [[\"Objet \\u00e9ditorial\", \"Un EditorialObject rassemble toutes les informations descriptives d'un objet \\u00e0 r\\u00e9aliser comme une MediaResource ou une collection de MediaResource. Un EditorialObject d\\u00e9crit une id\\u00e9e, une histoire. Il est utilis\\u00e9 pour transformer un concept en une d\\u00e9finition \\u00e9ditoriale, une MediaResource avant sa fabrication (domaine de la production) et sa distribution (domaine de la distribution).\\r\\nUn EditorialObject est un ensemble de m\\u00e9tadonn\\u00e9es descriptives r\\u00e9sumant, par exemple, les d\\u00e9cisions d'\\u00e9dition. Un EditorialObject peut \\u00eatre un groupe d'EditorialObjects. Un EditorialObject peut \\u00e9galement faire partie d'un autre EditorialObject, qui est d\\u00e9fini par son heure de d\\u00e9but et sa dur\\u00e9e.\\r\\nLes objets \\u00e9ditoriaux peuvent \\u00eatre ordonn\\u00e9s soit en tant que groupes, soit en tant qu'\\u00e9l\\u00e9ments sur une ligne de temps.\\r\\n Exemples d'EditorialObjects simples : Programme, Article, Une prise de vue, Une Partie, etc.\\r\\nExemples de groupes d'EditorialObjects : Marque, S\\u00e9rie, Collection, etc.\\r\\n\\r\\nUn cas d'utilisation simplifi\\u00e9 :\\r\\n------------------------\\r\\nUn journal t\\u00e9l\\u00e9vis\\u00e9 se compose de deux \\u00e9l\\u00e9ments d'information. L'un d'entre eux contient les dix derni\\u00e8res secondes d'une interview d'une minute provenant d'une autre source (c'est-\\u00e0-dire entre la seconde 50 et la seconde 60).\\r\\nCette situation pourrait \\u00eatre mod\\u00e9lis\\u00e9e comme suit :\\r\\no NewsBroadcast est li\\u00e9 \\u00e0 un MediaResource \\u00e0 l'aide de la propri\\u00e9t\\u00e9 instantiates.\\r\\no NewsItems sont li\\u00e9s au NewsBroadcast \\u00e0 l'aide d'un TimelineTrack. Tech 3351 EBU CCDM 13\\r\\no L'InterviewPart est li\\u00e9e au NewsItem \\u00e0 l'aide de la propri\\u00e9t\\u00e9 hasMember. Start et Duration sont des propri\\u00e9t\\u00e9s de l'InterviewPart qui indiquent son apparence dans le NewsItem.\\r\\no L'InterviewPart est li\\u00e9e \\u00e0 sa source originale \\u00e0 l'aide de la propri\\u00e9t\\u00e9 existsAs.\\r\\no L'interview instancie une MediaResource, qui \\u00e0 son tour est li\\u00e9e \\u00e0 la MediaResource du NewsBroadcast \\u00e0 l'aide de la propri\\u00e9t\\u00e9 hasSource.\\r\\no Repr\\u00e9sentation de la segmentation : Les TimelineTracks sont pr\\u00e9f\\u00e9r\\u00e9s aux hasPart-properties, lorsqu'un r\\u00e9capitulatif est n\\u00e9cessaire, par exemple pour la diffusion.\", \"un actif sous forme d'informations li\\u00e9es au contenu d'une MediaResource qui peut ou non exister.\", \"- un groupe d'EditorialObjects\\r\\n- une \\\"\\u0153uvre de l'esprit\\\" unique, un morceau\\r\\n- un segment d'une \\\"\\u0153uvre de l'esprit\\\".\"]];\n",
       "\n",
       "    if (typeof require === 'undefined') {\n",
       "        // TODO: This should become the default (use a simple import)\n",
       "        // when the ESM version works independently of whether\n",
       "        // require.js is there or not, see\n",
       "        // https://datatables.net/forums/discussion/69066/esm-es6-module-support?\n",
       "        const {default: $} = await import(\"https://esm.sh/jquery@3.5.0\");\n",
       "        const {default: initDataTables} = await import(\"https://esm.sh/datatables.net@1.11.3?deps=jquery@3.5.0\");\n",
       "\n",
       "        initDataTables();\n",
       "\n",
       "        // Define the dt_args\n",
       "        let dt_args = {\"columnDefs\": [{\"width\": \"120px\", \"className\": \"dt-left\", \"targets\": \"_all\", \"createdCell\": \n",
       "        function (td, cellData, rowData, row, col) {\n",
       "            $(td).css('word-wrap', 'break-word')\n",
       "            if (typeof cellData === 'string') {\n",
       "                if (cellData.slice(-2) === '.0') {\n",
       "                    $(td).html(cellData.replace('.0', '' ))\n",
       "                }\n",
       "            }\n",
       "            if (cellData == false) {\n",
       "                $(td).css('color', '#7DA5C0')\n",
       "                $(td).css('font-weight', 'bold')\n",
       "            }\n",
       "            else if (cellData == true) {\n",
       "                $(td).css('color', '#7CBC97')\n",
       "                $(td).css('font-weight', 'bold')\n",
       "            }\n",
       "        }\n",
       "        }], \"lengthMenu\": [5, 10, 25, 50, -1], \"paging\": false};\n",
       "        dt_args[\"data\"] = data;\n",
       "\n",
       "        // Display the table\n",
       "        $(document).ready(function () {\n",
       "            $('#29093c63-e56b-4a1b-af9e-70b185b4e225').DataTable(dt_args);\n",
       "        });\n",
       "    } else {\n",
       "        require([\"jquery\", \"datatables\"], ($, datatables) => {\n",
       "                // Define the dt_args\n",
       "                let dt_args = {\"columnDefs\": [{\"width\": \"120px\", \"className\": \"dt-left\", \"targets\": \"_all\", \"createdCell\": \n",
       "        function (td, cellData, rowData, row, col) {\n",
       "            $(td).css('word-wrap', 'break-word')\n",
       "            if (typeof cellData === 'string') {\n",
       "                if (cellData.slice(-2) === '.0') {\n",
       "                    $(td).html(cellData.replace('.0', '' ))\n",
       "                }\n",
       "            }\n",
       "            if (cellData == false) {\n",
       "                $(td).css('color', '#7DA5C0')\n",
       "                $(td).css('font-weight', 'bold')\n",
       "            }\n",
       "            else if (cellData == true) {\n",
       "                $(td).css('color', '#7CBC97')\n",
       "                $(td).css('font-weight', 'bold')\n",
       "            }\n",
       "        }\n",
       "        }], \"lengthMenu\": [5, 10, 25, 50, -1], \"paging\": false};\n",
       "                dt_args[\"data\"] = data;\n",
       "\n",
       "                // Display the table\n",
       "                $(document).ready(function () {\n",
       "                    $('#29093c63-e56b-4a1b-af9e-70b185b4e225').DataTable(dt_args);\n",
       "                });\n",
       "            }\n",
       "        )\n",
       "    }\n",
       "</script>\n"
      ],
      "text/plain": [
       "<IPython.core.display.HTML object>"
      ]
     },
     "metadata": {},
     "output_type": "display_data"
    }
   ],
   "source": [
    "iris = ['http://www.ebu.ch/metadata/ontologies/ebucoreplus#EditorialObject']\n",
    "description = get_description(source_df=classes_df,\n",
    "                              iris=iris,\n",
    "                              language=LANGUAGE,\n",
    "                              show_table=True)"
   ]
  },
  {
   "cell_type": "markdown",
   "id": "11fdf1d8-2eb0-4701-bf67-bc011c7ef024",
   "metadata": {
    "tags": []
   },
   "source": [
    "### Class hierarchy\n",
    "Here you can examine super- and subclasses of one or more given classes. You can choose between a tabular view and a graphical view. Both are shown below. First copy one or more class IRIs to the iris parameter.\n",
    "\n",
    ">If you want to see superclasses, set \"show_superclasses=True\". Analogously for subclasses. The result set is limited to direct super- and subclasses.\n",
    "\n",
    "You can extend the result set in an incremental manner. Let's assume you start with class A and find superclasses B and C. If you want to learn more about class B, you can either set \"iris = \\[iri_B\\]\" or \"iris = \\[iri_A,iri_B\\]\". In the second case you get class A with its superclasses B, C and in addition all superclasses of class B. The latter are 2nd-level superclasses of class A.\n",
    "\n",
    ">This way you can examine chains of super- and subclasses across as many hierarchical levels as required.\n",
    "\n",
    "This is particularly useful in the graphical view. Elements of the graph are highlighted when selected."
   ]
  },
  {
   "cell_type": "code",
   "execution_count": 19,
   "id": "2bea315e-fefd-4913-84dd-eec9566eb8e3",
   "metadata": {
    "tags": []
   },
   "outputs": [
    {
     "data": {
      "text/html": [
       "<table id=\"75141b9e-48f9-4b8f-8d02-51c32b2656b8\" class=\"cell-border stripe hover\"style=\"max-width:100%\"><h4><label style=\"font-weight:bold\">Table: </label><label>Class hierarchy of EditorialObject</label></h4><thead>\n",
       "    <tr style=\"text-align: right;\">\n",
       "      \n",
       "      <th>Label</th>\n",
       "      <th>IRI</th>\n",
       "      <th>Language</th>\n",
       "      <th>IsLeafClass</th>\n",
       "      <th>Superclass label</th>\n",
       "      <th>Superclass IRI</th>\n",
       "      <th>Superclass language</th>\n",
       "      <th>Description (English)</th>\n",
       "      <th>Description (German)</th>\n",
       "      <th>Description (French)</th>\n",
       "      <th>Definition (English)</th>\n",
       "      <th>Definition (German)</th>\n",
       "      <th>Definition (French)</th>\n",
       "      <th>Example (English)</th>\n",
       "      <th>Example (German)</th>\n",
       "      <th>Example (French)</th>\n",
       "    </tr>\n",
       "  </thead><tbody><tr><td>Loading... (need <a href=https://mwouts.github.io/itables/troubleshooting.html>help</a>?)</td></tr></tbody></table>\n",
       "<link rel=\"stylesheet\" type=\"text/css\" href=\"https://cdn.datatables.net/1.11.3/css/jquery.dataTables.min.css\">\n",
       "<style> table td {\n",
       "    text-overflow: ellipsis;\n",
       "    overflow: hidden;\n",
       "} </style>\n",
       "<style> table th {\n",
       "    text-overflow: ellipsis;\n",
       "    overflow: hidden;\n",
       "} </style>\n",
       "<script type=\"module\">\n",
       "    // Define the table data\n",
       "    const data = [[\"Asset\", \"http://www.ebu.ch/metadata/ontologies/ebucoreplus#Asset\", \"en\", false, \"\", \"\", \"\", \"Assets are EditorialObjects or Resources with associated Rights. An \\u00abAsset\\u00bb is an object to which an identifier will be associated at commissioning time. It serves as a central reference point to manage rights associated to EditorialObjects, MediaResources or Essences, and - by inference - PublicationEvents (distribution and exploitation conditions). Remember that the MediaResources or Essences will in this model always be represented by an EditorialObject. Example: The CCDM model allows the association of Rights to a related EditorialObject that is represented by one or more Essences.\", \"Assets sind Inhaltsobjekte oder Medienobjekte und ihre zugeordneten (Verwertungs-)Rechte. Ein Asset erh\\u00e4lt durch die Beauftragung einen Identifikator. Es dient als zentrale Referenz, um die Rechte zu verwalten, die mit Inhaltsobjekten, Medienobjekten, Essenzen sowie Ver\\u00f6ffentlichungsereignissen (per Deduktion) verkn\\u00fcpft sind. Achtung: Medienobjekte oder Essenzen werden in diesem Modell immer durch Inhaltsobjekte repr\\u00e4sentiert. Beispiel: CCDM gestattet die Verkn\\u00fcpfung von Verwertungsrechten mit einem Inhaltsobjekt, das von einem oder auch mehreren Essenzen repr\\u00e4sentiert wird.\", \"Les actifs sont des EditorialObjects ou des ressources avec des droits associ\\u00e9s. Un \\\"Asset\\\" est un objet auquel un identifiant sera associ\\u00e9 lors de la mise en service. Il sert de point de r\\u00e9f\\u00e9rence central pour g\\u00e9rer les droits associ\\u00e9s aux EditorialObjects, MediaResources ou Essences, et par d\\u00e9duction - les PublicationEvents (conditions de distribution et d'exploitation). Il est a not\\u00e9 que les MediaResources ou Essences seront dans ce mod\\u00e8le toujours repr\\u00e9sent\\u00e9es par un EditorialObject. Exemple : Le mod\\u00e8le CCDM permet l'association de droits \\u00e0 un EditorialObject connexe repr\\u00e9sent\\u00e9 par une ou plusieurs essences, Essences.\", \"a media object that is intended for publication and consumption, attributed with author's rights and copyrights, and representing value.\", \"ein Medienobjekt, das f\\u00fcr die Ver\\u00f6ffentlichung und den Konsum bestimmt ist, mit Urheberrechten und Copyrights versehen ist und einen Wert darstellt.\", \"un objet m\\u00e9diatique destin\\u00e9 \\u00e0 \\u00eatre publi\\u00e9 et consomm\\u00e9, auquel sont attribu\\u00e9s des droits d'auteur et des droits de reproduction, et qui repr\\u00e9sente une valeur.\", \"- a film on tape in the archive\\r\\n- a digital audio recording with associated author's right and copyright\\r\\n- a book\\r\\n- a collection of books\", \"- ein Film auf Band im Archiv\\r\\n- eine digitale Tonaufnahme mit Urheberrecht und Copyright\\r\\n- ein Buch\\r\\n- eine Sammlung von B\\u00fcchern\", \"- un film sur bande dans les archives\\r\\n- un enregistrement audio num\\u00e9rique avec droits d'auteur et copyright associ\\u00e9s\\r\\n- un livre\\r\\n- une collection de livres\"], [\"Editorial group\", \"http://www.ebu.ch/metadata/ontologies/ebucoreplus#EditorialGroup\", \"en\", false, \"Editorial object\", \"http://www.ebu.ch/metadata/ontologies/ebucoreplus#EditorialObject\", \"en\", \"To define a collection / group of media resources, for example a series made of episodes.\", \"Zur Definition einer Sammlung/Gruppe von Medien Ressourcen zu definieren, zum Beispiel eine Serie, die aus Episoden besteht.\", \"Pour d\\u00e9finir une collection / un groupe de m\\u00e9dias ressources, par exemple une s\\u00e9rie compos\\u00e9e d'\\u00e9pisodes.\", \"\", \"\", \"\", \"\", \"\", \"\"], [\"Editorial object\", \"http://www.ebu.ch/metadata/ontologies/ebucoreplus#EditorialObject\", \"en\", false, \"Asset\", \"http://www.ebu.ch/metadata/ontologies/ebucoreplus#Asset\", \"en\", \"An EditorialObject collects all the descriptive information about an object to be realised as a single MediaResource or a collection thereof. An \\u00abEditorialObject\\u00bb describes any idea, any story and will be used to transform a concept into an editorial definition of a MediaResource before fabrication (Production Domain) and Distribution (Distribution Domain). An \\u00abEditorialObject\\u00bb is a set of descriptive metadata summarising e.g. editing decisions. An \\u00abEditorialObject\\u00bb can be a group of EditorialObjects. An \\u00abEditorialObject\\u00bb can also be a part of another \\u00abEditorialObject\\u00bb, which is defined by its start time and duration. EditorialObjects can be ordered either as groups or as items on a timeline. Examples of simple EditorialObjects: Programme, Item, Shot,Part, etc. Examples of Groups: Brand, Series, Serial, Collection, etc.\\r\\n\\r\\nA simplifieduse-case:\\r\\nA news broadcast consists of two news items. One news item contains the last ten seconds of a one minute long interview taken from another source (i.e. 50\\\" >60\\\" ). This could be modelled as follows:\\r\\n\\u2022 The NewsBroadcast is linked to a MediaResource using the instantiates-property\\r\\n\\u2022 The NewsItems are linked to the NewsBroadcast using a TimelineTrack. Tech 3351 EBU CCDM 13\\r\\n\\u2022 The InterviewPart is linked to the NewsItem using the hasMember-property. Start and Duration are properties within the InterviewPart indicating its appearance within the NewsItem2.\\r\\n\\u2022 The InterviewPart is linked to its original source using the existsAs-property\\r\\n\\u2022 The Interview instantiates a MediaResource, which in turn is linked from the MediaResource of the NewsBroadcast using the hasSource-property\\r\\n\\u2022 Representation of segmentation: TimelineTracks are preferred over hasPart-properties, when a rundown is needed, e.g. for playout.\", \"Ein Medieninhalt versammelt s\\u00e4mtliche deskriptiven informationen \\u00fcber ein Objekt, das als Ressource (oder eine Menge davon) realisiert werden soll. Der Medieninhalt beschreibt eine Idee, eine Geschichte und wird benutzt, um ein Konzept in eine inhaltliche Festlegung einer Ressource zu erreichen, und zwar vor der Herstellung und der Verbreitung.\\r\\n\\r\\nEin Medieninhalt besteht aus einer Menge beschreibender Metadaten, z.B. Schnittlisten. Ein Medieninhalt kann eine Gruppe von anderen Medieninhalten sein. Ein Medieninhalt kann auch Teil eines anderen Medieninhalts sein, was durch den Zeitpunkt des Beginns und die Dauer dafiniert wird. Medieninhalte k\\u00f6nnen gruppiert werden or entlang einer Zeitachse angeordnet werden.\\r\\n\\r\\nBeispiele f\\u00fcr einfache Medieninhalte: Sendung, Beitrag, Szene\\r\\nBeispiele f\\u00fcr Gruppierungen: Marke, Serie, Reihe, Sammlung\", \"Un EditorialObject rassemble toutes les informations descriptives d'un objet \\u00e0 r\\u00e9aliser comme une MediaResource ou une collection de MediaResource. Un EditorialObject d\\u00e9crit une id\\u00e9e, une histoire. Il est utilis\\u00e9 pour transformer un concept en une d\\u00e9finition \\u00e9ditoriale, une MediaResource avant sa fabrication (domaine de la production) et sa distribution (domaine de la distribution).\\r\\nUn EditorialObject est un ensemble de m\\u00e9tadonn\\u00e9es descriptives r\\u00e9sumant, par exemple, les d\\u00e9cisions d'\\u00e9dition. Un EditorialObject peut \\u00eatre un groupe d'EditorialObjects. Un EditorialObject peut \\u00e9galement faire partie d'un autre EditorialObject, qui est d\\u00e9fini par son heure de d\\u00e9but et sa dur\\u00e9e.\\r\\nLes objets \\u00e9ditoriaux peuvent \\u00eatre ordonn\\u00e9s soit en tant que groupes, soit en tant qu'\\u00e9l\\u00e9ments sur une ligne de temps.\\r\\n Exemples d'EditorialObjects simples : Programme, Article, Une prise de vue, Une Partie, etc.\\r\\nExemples de groupes d'EditorialObjects : Marque, S\\u00e9rie, Collection, etc.\\r\\n\\r\\nUn cas d'utilisation simplifi\\u00e9 :\\r\\n------------------------\\r\\nUn journal t\\u00e9l\\u00e9vis\\u00e9 se compose de deux \\u00e9l\\u00e9ments d'information. L'un d'entre eux contient les dix derni\\u00e8res secondes d'une interview d'une minute provenant d'une autre source (c'est-\\u00e0-dire entre la seconde 50 et la seconde 60).\\r\\nCette situation pourrait \\u00eatre mod\\u00e9lis\\u00e9e comme suit :\\r\\no NewsBroadcast est li\\u00e9 \\u00e0 un MediaResource \\u00e0 l'aide de la propri\\u00e9t\\u00e9 instantiates.\\r\\no NewsItems sont li\\u00e9s au NewsBroadcast \\u00e0 l'aide d'un TimelineTrack. Tech 3351 EBU CCDM 13\\r\\no L'InterviewPart est li\\u00e9e au NewsItem \\u00e0 l'aide de la propri\\u00e9t\\u00e9 hasMember. Start et Duration sont des propri\\u00e9t\\u00e9s de l'InterviewPart qui indiquent son apparence dans le NewsItem.\\r\\no L'InterviewPart est li\\u00e9e \\u00e0 sa source originale \\u00e0 l'aide de la propri\\u00e9t\\u00e9 existsAs.\\r\\no L'interview instancie une MediaResource, qui \\u00e0 son tour est li\\u00e9e \\u00e0 la MediaResource du NewsBroadcast \\u00e0 l'aide de la propri\\u00e9t\\u00e9 hasSource.\\r\\no Repr\\u00e9sentation de la segmentation : Les TimelineTracks sont pr\\u00e9f\\u00e9r\\u00e9s aux hasPart-properties, lorsqu'un r\\u00e9capitulatif est n\\u00e9cessaire, par exemple pour la diffusion.\", \"an Asset in the form of content related information about a MediaResource that may or may not exist.\", \"ein Asset in Form von inhaltsbezogenen Informationen \\u00fcber eine MediaResource, die existieren kann oder auch nicht.\", \"un actif sous forme d'informations li\\u00e9es au contenu d'une MediaResource qui peut ou non exister.\", \"- a group of EditorialObjects\\r\\n- a single \\\"work of the mind\\\", a piece\\r\\n- a segment of a \\\"work of the mind\\\"\", \"- eine Gruppe von EditorialObjects\\r\\n- ein einzelnes \\\"Werk des Geistes\\\", ein St\\u00fcck\\r\\n- ein Segment eines \\\"geistigen Werks\\\"\", \"- un groupe d'EditorialObjects\\r\\n- une \\\"\\u0153uvre de l'esprit\\\" unique, un morceau\\r\\n- un segment d'une \\\"\\u0153uvre de l'esprit\\\".\"]];\n",
       "\n",
       "    if (typeof require === 'undefined') {\n",
       "        // TODO: This should become the default (use a simple import)\n",
       "        // when the ESM version works independently of whether\n",
       "        // require.js is there or not, see\n",
       "        // https://datatables.net/forums/discussion/69066/esm-es6-module-support?\n",
       "        const {default: $} = await import(\"https://esm.sh/jquery@3.5.0\");\n",
       "        const {default: initDataTables} = await import(\"https://esm.sh/datatables.net@1.11.3?deps=jquery@3.5.0\");\n",
       "\n",
       "        initDataTables();\n",
       "\n",
       "        // Define the dt_args\n",
       "        let dt_args = {\"columnDefs\": [{\"width\": \"120px\", \"className\": \"dt-left\", \"targets\": \"_all\", \"createdCell\": \n",
       "        function (td, cellData, rowData, row, col) {\n",
       "            $(td).css('word-wrap', 'break-word')\n",
       "            if (typeof cellData === 'string') {\n",
       "                if (cellData.slice(-2) === '.0') {\n",
       "                    $(td).html(cellData.replace('.0', '' ))\n",
       "                }\n",
       "            }\n",
       "            if (cellData == false) {\n",
       "                $(td).css('color', '#7DA5C0')\n",
       "                $(td).css('font-weight', 'bold')\n",
       "            }\n",
       "            else if (cellData == true) {\n",
       "                $(td).css('color', '#7CBC97')\n",
       "                $(td).css('font-weight', 'bold')\n",
       "            }\n",
       "        }\n",
       "        }], \"lengthMenu\": [5, 10, 25, 50, -1], \"paging\": false};\n",
       "        dt_args[\"data\"] = data;\n",
       "\n",
       "        // Display the table\n",
       "        $(document).ready(function () {\n",
       "            $('#75141b9e-48f9-4b8f-8d02-51c32b2656b8').DataTable(dt_args);\n",
       "        });\n",
       "    } else {\n",
       "        require([\"jquery\", \"datatables\"], ($, datatables) => {\n",
       "                // Define the dt_args\n",
       "                let dt_args = {\"columnDefs\": [{\"width\": \"120px\", \"className\": \"dt-left\", \"targets\": \"_all\", \"createdCell\": \n",
       "        function (td, cellData, rowData, row, col) {\n",
       "            $(td).css('word-wrap', 'break-word')\n",
       "            if (typeof cellData === 'string') {\n",
       "                if (cellData.slice(-2) === '.0') {\n",
       "                    $(td).html(cellData.replace('.0', '' ))\n",
       "                }\n",
       "            }\n",
       "            if (cellData == false) {\n",
       "                $(td).css('color', '#7DA5C0')\n",
       "                $(td).css('font-weight', 'bold')\n",
       "            }\n",
       "            else if (cellData == true) {\n",
       "                $(td).css('color', '#7CBC97')\n",
       "                $(td).css('font-weight', 'bold')\n",
       "            }\n",
       "        }\n",
       "        }], \"lengthMenu\": [5, 10, 25, 50, -1], \"paging\": false};\n",
       "                dt_args[\"data\"] = data;\n",
       "\n",
       "                // Display the table\n",
       "                $(document).ready(function () {\n",
       "                    $('#75141b9e-48f9-4b8f-8d02-51c32b2656b8').DataTable(dt_args);\n",
       "                });\n",
       "            }\n",
       "        )\n",
       "    }\n",
       "</script>\n"
      ],
      "text/plain": [
       "<IPython.core.display.HTML object>"
      ]
     },
     "metadata": {},
     "output_type": "display_data"
    }
   ],
   "source": [
    "iris = ['http://www.ebu.ch/metadata/ontologies/ebucoreplus#EditorialObject']\n",
    "hierarchy = get_hierarchy(source_df=classes_df,\n",
    "                          iris=iris,\n",
    "                          show_superclasses=True,\n",
    "                          show_subclasses=True,\n",
    "                          show_table=True)"
   ]
  },
  {
   "cell_type": "code",
   "execution_count": 8,
   "id": "da5019a1-12ec-4cba-948f-1400124944cf",
   "metadata": {
    "tags": []
   },
   "outputs": [
    {
     "data": {
      "text/html": [
       "\n",
       "        <iframe\n",
       "            width=\"100%\"\n",
       "            height=\"800px\"\n",
       "            src=\"graphs/editorial_object_basic.html\"\n",
       "            frameborder=\"0\"\n",
       "            allowfullscreen\n",
       "            \n",
       "        ></iframe>\n",
       "        "
      ],
      "text/plain": [
       "<IPython.lib.display.IFrame at 0x7fce1080bf10>"
      ]
     },
     "execution_count": 8,
     "metadata": {},
     "output_type": "execute_result"
    }
   ],
   "source": [
    "iris = ['http://www.ebu.ch/metadata/ontologies/ebucoreplus#EditorialObject']\n",
    "graph = get_hierarchy_graph(tenant=TENANT,\n",
    "                            username=USERNAME,\n",
    "                            password=PASSWORD,\n",
    "                            source_df=classes_df,\n",
    "                            iris=iris,\n",
    "                            show_superclasses=True,\n",
    "                            show_subclasses=True,\n",
    "                            language=LANGUAGE)\n",
    "graph.show('graphs/editorial_object_basic.html')"
   ]
  },
  {
   "cell_type": "markdown",
   "id": "2318c216-e712-4b0e-9317-434024273161",
   "metadata": {
    "tags": []
   },
   "source": [
    "<img src=\"https://image-assets-for-cdk.s3.eu-central-1.amazonaws.com/legend_for_cell.png\" alt=\"Drawing\" style=\"width: 350px;\"/>"
   ]
  },
  {
   "cell_type": "markdown",
   "id": "d1c74e4c-3ac4-484b-ba8a-228faee20bdf",
   "metadata": {
    "tags": []
   },
   "source": [
    "### Class properties\n",
    "Here you can examine the properties of a class. Technically speaking, we refer to OWL class restrictions. You can use the tabular view or the graphical view to gain insight.\n",
    "\n",
    ">If you set \"show_superclasses=True\" for the graph, the result will include the properties of all direct superclasses of the specified class. Analogously for subclasses."
   ]
  },
  {
   "cell_type": "code",
   "execution_count": 9,
   "id": "e0880103-fb53-4035-b824-de803ecbaa45",
   "metadata": {
    "tags": []
   },
   "outputs": [
    {
     "data": {
      "text/html": [
       "<table id=\"863b885d-abf1-409d-a720-16ab34a672a6\" class=\"cell-border stripe hover\"style=\"max-width:100%\"><h4><label style=\"font-weight:bold\">Table: </label><label>Properties of class EditorialObject</label></h4><thead>\n",
       "    <tr style=\"text-align: right;\">\n",
       "      \n",
       "      <th>Property</th>\n",
       "      <th>Type</th>\n",
       "      <th>Range</th>\n",
       "      <th>owl:maxCardinality</th>\n",
       "      <th>owl:someValuesFrom</th>\n",
       "    </tr>\n",
       "  </thead><tbody><tr><td>Loading... (need <a href=https://mwouts.github.io/itables/troubleshooting.html>help</a>?)</td></tr></tbody></table>\n",
       "<link rel=\"stylesheet\" type=\"text/css\" href=\"https://cdn.datatables.net/1.11.3/css/jquery.dataTables.min.css\">\n",
       "<style> table td {\n",
       "    text-overflow: ellipsis;\n",
       "    overflow: hidden;\n",
       "} </style>\n",
       "<style> table th {\n",
       "    text-overflow: ellipsis;\n",
       "    overflow: hidden;\n",
       "} </style>\n",
       "<script type=\"module\">\n",
       "    // Define the table data\n",
       "    const data = [[\"http://www.ebu.ch/metadata/ontologies/ebucoreplus#dateBroadcast\", \"owl:ObjectProperty\", \"time:Instant\", \"1.0\", \"\"], [\"http://www.ebu.ch/metadata/ontologies/ebucoreplus#dateIssued\", \"owl:ObjectProperty\", \"time:Instant\", \"1.0\", \"\"], [\"http://www.ebu.ch/metadata/ontologies/ebucoreplus#duration\", \"owl:ObjectProperty\", \"http://www.ebu.ch/metadata/ontologies/ebucoreplus#TimelinePoint\", \"1.0\", \"\"], [\"http://www.ebu.ch/metadata/ontologies/ebucoreplus#end\", \"owl:ObjectProperty\", \"http://www.ebu.ch/metadata/ontologies/ebucoreplus#TimelinePoint\", \"1.0\", \"\"], [\"http://www.ebu.ch/metadata/ontologies/ebucoreplus#hasLocation\", \"owl:ObjectProperty\", \"http://www.ebu.ch/metadata/ontologies/ebucoreplus#Location\", \"1.0\", \"\"], [\"http://www.ebu.ch/metadata/ontologies/ebucoreplus#isNextInSequence\", \"owl:ObjectProperty\", \"http://www.ebu.ch/metadata/ontologies/ebucoreplus#EditorialObject\", \"1.0\", \"\"], [\"http://www.ebu.ch/metadata/ontologies/ebucoreplus#isPreviousInSequence\", \"owl:ObjectProperty\", \"http://www.ebu.ch/metadata/ontologies/ebucoreplus#EditorialObject\", \"1.0\", \"\"], [\"http://www.ebu.ch/metadata/ontologies/ebucoreplus#resourceOffset\", \"owl:ObjectProperty\", \"http://www.ebu.ch/metadata/ontologies/ebucoreplus#TimelinePoint\", \"1.0\", \"\"], [\"http://www.ebu.ch/metadata/ontologies/ebucoreplus#start\", \"owl:ObjectProperty\", \"http://www.ebu.ch/metadata/ontologies/ebucoreplus#TimelinePoint\", \"1.0\", \"\"], [\"http://www.ebu.ch/metadata/ontologies/ebucoreplus#midRollAdAllowed\", \"owl:DatatypeProperty\", \"xsd:boolean\", \"1.0\", \"\"], [\"http://www.ebu.ch/metadata/ontologies/ebucoreplus#orderedFlag\", \"owl:DatatypeProperty\", \"xsd:boolean\", \"1.0\", \"\"], [\"http://www.ebu.ch/metadata/ontologies/ebucoreplus#partTotalNumber\", \"owl:DatatypeProperty\", \"xsd:integer\", \"1.0\", \"\"], [\"http://www.ebu.ch/metadata/ontologies/ebucoreplus#resolution\", \"owl:DatatypeProperty\", \"xsd:string\", \"1.0\", \"\"], [\"http://www.ebu.ch/metadata/ontologies/ebucoreplus#rightsClearanceFlag\", \"owl:DatatypeProperty\", \"xsd:boolean\", \"1.0\", \"\"], [\"http://www.ebu.ch/metadata/ontologies/ebucoreplus#title\", \"owl:DatatypeProperty\", \"rdfs:Literal\", \"\", \"rdfs:Literal\"], [\"http://www.ebu.ch/metadata/ontologies/ebucoreplus#abstract\", \"owl:DatatypeProperty\", \"rdfs:Literal\", \"\", \"\"], [\"http://www.ebu.ch/metadata/ontologies/ebucoreplus#contentDescription\", \"owl:DatatypeProperty\", \"rdfs:Literal\", \"\", \"\"], [\"http://www.ebu.ch/metadata/ontologies/ebucoreplus#bookmark\", \"owl:DatatypeProperty\", \"rdfs:Literal\", \"\", \"\"], [\"http://www.ebu.ch/metadata/ontologies/ebucoreplus#comments\", \"owl:DatatypeProperty\", \"rdfs:Literal\", \"\", \"\"], [\"http://www.ebu.ch/metadata/ontologies/ebucoreplus#folksonomy\", \"owl:DatatypeProperty\", \"rdfs:Literal\", \"\", \"\"], [\"http://www.ebu.ch/metadata/ontologies/ebucoreplus#highlights\", \"owl:DatatypeProperty\", \"rdfs:Literal\", \"\", \"\"], [\"http://www.ebu.ch/metadata/ontologies/ebucoreplus#log\", \"owl:DatatypeProperty\", \"rdfs:Literal\", \"\", \"\"], [\"http://www.ebu.ch/metadata/ontologies/ebucoreplus#orderedFlag\", \"owl:DatatypeProperty\", \"xsd:boolean\", \"\", \"\"], [\"http://www.ebu.ch/metadata/ontologies/ebucoreplus#playlist\", \"owl:DatatypeProperty\", \"rdfs:Literal\", \"\", \"\"], [\"http://www.ebu.ch/metadata/ontologies/ebucoreplus#productionSynopsis\", \"owl:DatatypeProperty\", \"rdfs:Literal\", \"\", \"\"], [\"http://www.ebu.ch/metadata/ontologies/ebucoreplus#promotionalInformation\", \"owl:DatatypeProperty\", \"rdfs:Literal\", \"\", \"\"], [\"http://www.ebu.ch/metadata/ontologies/ebucoreplus#pubStatus\", \"owl:DatatypeProperty\", \"rdfs:Literal\", \"\", \"\"], [\"http://www.ebu.ch/metadata/ontologies/ebucoreplus#script\", \"owl:DatatypeProperty\", \"rdfs:Literal\", \"\", \"\"], [\"http://www.ebu.ch/metadata/ontologies/ebucoreplus#shotLog\", \"owl:DatatypeProperty\", \"rdfs:Literal\", \"\", \"\"], [\"http://www.ebu.ch/metadata/ontologies/ebucoreplus#summary\", \"owl:DatatypeProperty\", \"rdfs:Literal\", \"\", \"\"], [\"http://www.ebu.ch/metadata/ontologies/ebucoreplus#synopsis\", \"owl:DatatypeProperty\", \"rdfs:Literal\", \"\", \"\"], [\"http://www.ebu.ch/metadata/ontologies/ebucoreplus#tableOfContent\", \"owl:DatatypeProperty\", \"rdfs:Literal\", \"\", \"\"], [\"http://www.ebu.ch/metadata/ontologies/ebucoreplus#tag\", \"owl:DatatypeProperty\", \"rdfs:Literal\", \"\", \"\"], [\"http://www.ebu.ch/metadata/ontologies/ebucoreplus#approvedBy\", \"owl:ObjectProperty\", \"http://www.ebu.ch/metadata/ontologies/ebucoreplus#Agent\", \"\", \"\"], [\"http://www.ebu.ch/metadata/ontologies/ebucoreplus#coversEvent\", \"owl:ObjectProperty\", \"http://www.ebu.ch/metadata/ontologies/ebucoreplus#Event\", \"\", \"\"], [\"http://www.ebu.ch/metadata/ontologies/ebucoreplus#hasCoverage\", \"owl:ObjectProperty\", \"owl:Thing\", \"\", \"\"], [\"http://www.ebu.ch/metadata/ontologies/ebucoreplus#coversLocation\", \"owl:ObjectProperty\", \"http://www.ebu.ch/metadata/ontologies/ebucoreplus#Location\", \"\", \"\"], [\"http://www.ebu.ch/metadata/ontologies/ebucoreplus#existsAs\", \"owl:ObjectProperty\", \"http://www.ebu.ch/metadata/ontologies/ebucoreplus#EditorialObject\", \"\", \"\"], [\"http://www.ebu.ch/metadata/ontologies/ebucoreplus#hasAlternativeTitle\", \"owl:ObjectProperty\", \"http://www.ebu.ch/metadata/ontologies/ebucoreplus#AlternativeTitle\", \"\", \"\"], [\"http://www.ebu.ch/metadata/ontologies/ebucoreplus#hasAssociatedProductionJob\", \"owl:ObjectProperty\", \"http://www.ebu.ch/metadata/ontologies/ebucoreplus#ProductionJob\", \"\", \"\"], [\"http://www.ebu.ch/metadata/ontologies/ebucoreplus#hasAudioDescription\", \"owl:ObjectProperty\", \"http://www.ebu.ch/metadata/ontologies/ebucoreplus#AudioDescription\", \"\", \"\"], [\"http://www.ebu.ch/metadata/ontologies/ebucoreplus#hasCaptioning\", \"owl:ObjectProperty\", \"http://www.ebu.ch/metadata/ontologies/ebucoreplus#Captioning\", \"\", \"\"], [\"http://www.ebu.ch/metadata/ontologies/ebucoreplus#hasCastMember\", \"owl:ObjectProperty\", \"http://www.ebu.ch/metadata/ontologies/ebucoreplus#CastMember\", \"\", \"\"], [\"http://www.ebu.ch/metadata/ontologies/ebucoreplus#hasCharacter\", \"owl:ObjectProperty\", \"http://www.ebu.ch/metadata/ontologies/ebucoreplus#Character\", \"\", \"\"], [\"http://www.ebu.ch/metadata/ontologies/ebucoreplus#hasContentEditorialFormat\", \"owl:ObjectProperty\", \"http://www.ebu.ch/metadata/ontologies/ebucoreplus#ContentEditorialFormat\", \"\", \"\"], [\"http://www.ebu.ch/metadata/ontologies/ebucoreplus#hasContributor\", \"owl:ObjectProperty\", \"http://www.ebu.ch/metadata/ontologies/ebucoreplus#Role\", \"\", \"\"], [\"http://www.ebu.ch/metadata/ontologies/ebucoreplus#hasCreator\", \"owl:ObjectProperty\", \"http://www.ebu.ch/metadata/ontologies/ebucoreplus#Role\", \"\", \"\"], [\"http://www.ebu.ch/metadata/ontologies/ebucoreplus#hasCrewMember\", \"owl:ObjectProperty\", \"http://www.ebu.ch/metadata/ontologies/ebucoreplus#CrewMember\", \"\", \"\"], [\"http://www.ebu.ch/metadata/ontologies/ebucoreplus#hasDubbedLanguage\", \"owl:ObjectProperty\", \"http://www.ebu.ch/metadata/ontologies/ebucoreplus#Language\", \"\", \"\"], [\"http://www.ebu.ch/metadata/ontologies/ebucoreplus#hasLanguage\", \"owl:ObjectProperty\", \"http://www.ebu.ch/metadata/ontologies/ebucoreplus#Language\", \"\", \"\"], [\"http://www.ebu.ch/metadata/ontologies/ebucoreplus#isMemberOf\", \"owl:ObjectProperty\", \"http://www.ebu.ch/metadata/ontologies/ebucoreplus#EditorialGroup\", \"\", \"\"], [\"http://www.ebu.ch/metadata/ontologies/ebucoreplus#hasGenre\", \"owl:ObjectProperty\", \"skos:Concept\", \"\", \"\"], [\"http://www.ebu.ch/metadata/ontologies/ebucoreplus#hasKeyword\", \"owl:ObjectProperty\", \"http://www.ebu.ch/metadata/ontologies/ebucoreplus#Keyword\", \"\", \"\"], [\"http://www.ebu.ch/metadata/ontologies/ebucoreplus#hasSubject\", \"owl:ObjectProperty\", \"http://www.ebu.ch/metadata/ontologies/ebucoreplus#Subject\", \"\", \"\"], [\"http://www.ebu.ch/metadata/ontologies/ebucoreplus#hasManifestation\", \"owl:ObjectProperty\", \"http://www.ebu.ch/metadata/ontologies/ebucoreplus#Resource\", \"\", \"\"], [\"http://www.ebu.ch/metadata/ontologies/ebucoreplus#hasMediaFragment\", \"owl:ObjectProperty\", \"http://www.ebu.ch/metadata/ontologies/ebucoreplus#MediaFragment\", \"\", \"\"], [\"http://www.ebu.ch/metadata/ontologies/ebucoreplus#hasOriginalLanguage\", \"owl:ObjectProperty\", \"http://www.ebu.ch/metadata/ontologies/ebucoreplus#Language\", \"\", \"\"], [\"http://www.ebu.ch/metadata/ontologies/ebucoreplus#hasParentEditorialObject\", \"owl:ObjectProperty\", \"http://www.ebu.ch/metadata/ontologies/ebucoreplus#EditorialObject\", \"\", \"\"], [\"http://www.ebu.ch/metadata/ontologies/ebucoreplus#hasPart\", \"owl:ObjectProperty\", \"http://www.ebu.ch/metadata/ontologies/ebucoreplus#EditorialSegment\", \"\", \"\"], [\"http://www.ebu.ch/metadata/ontologies/ebucoreplus#hasProducer\", \"owl:ObjectProperty\", \"http://www.ebu.ch/metadata/ontologies/ebucoreplus#Agent\", \"\", \"\"], [\"http://www.ebu.ch/metadata/ontologies/ebucoreplus#hasPublicationHistory\", \"owl:ObjectProperty\", \"http://www.ebu.ch/metadata/ontologies/ebucoreplus#PublicationHistory\", \"\", \"\"], [\"http://www.ebu.ch/metadata/ontologies/ebucoreplus#hasPublisher\", \"owl:ObjectProperty\", \"http://www.ebu.ch/metadata/ontologies/ebucoreplus#Role\", \"\", \"\"], [\"http://www.ebu.ch/metadata/ontologies/ebucoreplus#hasRating\", \"owl:ObjectProperty\", \"http://www.ebu.ch/metadata/ontologies/ebucoreplus#Rating\", \"\", \"\"], [\"http://www.ebu.ch/metadata/ontologies/ebucoreplus#hasRelatedAnimal\", \"owl:ObjectProperty\", \"http://www.ebu.ch/metadata/ontologies/ebucoreplus#Animal\", \"\", \"\"], [\"http://www.ebu.ch/metadata/ontologies/ebucoreplus#hasRelatedArtefact\", \"owl:ObjectProperty\", \"http://www.ebu.ch/metadata/ontologies/ebucoreplus#Artefact\", \"\", \"\"], [\"http://www.ebu.ch/metadata/ontologies/ebucoreplus#hasRelatedAudioContent\", \"owl:ObjectProperty\", \"http://www.ebu.ch/metadata/ontologies/ebucoreplus#AudioContent\", \"\", \"\"], [\"http://www.ebu.ch/metadata/ontologies/ebucoreplus#hasRelatedAudioProgramme\", \"owl:ObjectProperty\", \"http://www.ebu.ch/metadata/ontologies/ebucoreplus#AudioProgramme\", \"\", \"\"], [\"http://www.ebu.ch/metadata/ontologies/ebucoreplus#hasRelatedAward\", \"owl:ObjectProperty\", \"http://www.ebu.ch/metadata/ontologies/ebucoreplus#Award\", \"\", \"\"], [\"http://www.ebu.ch/metadata/ontologies/ebucoreplus#hasRelatedEditorialObject\", \"owl:ObjectProperty\", \"http://www.ebu.ch/metadata/ontologies/ebucoreplus#EditorialObject\", \"\", \"\"], [\"http://www.ebu.ch/metadata/ontologies/ebucoreplus#hasRelatedEvent\", \"owl:ObjectProperty\", \"http://www.ebu.ch/metadata/ontologies/ebucoreplus#Event\", \"\", \"\"], [\"http://www.ebu.ch/metadata/ontologies/ebucoreplus#hasRelatedMediaResource\", \"owl:ObjectProperty\", \"http://www.ebu.ch/metadata/ontologies/ebucoreplus#MediaResource\", \"\", \"\"], [\"http://www.ebu.ch/metadata/ontologies/ebucoreplus#hasRelatedResonanceEvent\", \"owl:ObjectProperty\", \"http://www.ebu.ch/metadata/ontologies/ebucoreplus#ResonanceEvent\", \"\", \"\"], [\"http://www.ebu.ch/metadata/ontologies/ebucoreplus#hasRelatedResource\", \"owl:ObjectProperty\", \"http://www.ebu.ch/metadata/ontologies/ebucoreplus#Resource\", \"\", \"\"], [\"http://www.ebu.ch/metadata/ontologies/ebucoreplus#hasRelatedTextLine\", \"owl:ObjectProperty\", \"http://www.ebu.ch/metadata/ontologies/ebucoreplus#TextLine\", \"\", \"\"], [\"http://www.ebu.ch/metadata/ontologies/ebucoreplus#hasReview\", \"owl:ObjectProperty\", \"http://www.ebu.ch/metadata/ontologies/ebucoreplus#Review\", \"\", \"\"], [\"http://www.ebu.ch/metadata/ontologies/ebucoreplus#hasSigning\", \"owl:ObjectProperty\", \"http://www.ebu.ch/metadata/ontologies/ebucoreplus#Signing\", \"\", \"\"], [\"http://www.ebu.ch/metadata/ontologies/ebucoreplus#hasSubtitling\", \"owl:ObjectProperty\", \"http://www.ebu.ch/metadata/ontologies/ebucoreplus#Subtitling\", \"\", \"\"], [\"http://www.ebu.ch/metadata/ontologies/ebucoreplus#hasTargetAudience\", \"owl:ObjectProperty\", \"http://www.ebu.ch/metadata/ontologies/ebucoreplus#Audience\", \"\", \"\"], [\"http://www.ebu.ch/metadata/ontologies/ebucoreplus#hasTargetPlatform\", \"owl:ObjectProperty\", \"http://www.ebu.ch/metadata/ontologies/ebucoreplus#PublicationPlatform\", \"\", \"\"], [\"http://www.ebu.ch/metadata/ontologies/ebucoreplus#hasTheme\", \"owl:ObjectProperty\", \"http://www.ebu.ch/metadata/ontologies/ebucoreplus#Theme\", \"\", \"\"], [\"http://www.ebu.ch/metadata/ontologies/ebucoreplus#hasTimelineTrack\", \"owl:ObjectProperty\", \"http://www.ebu.ch/metadata/ontologies/ebucoreplus#TimelineTrack\", \"\", \"\"], [\"http://www.ebu.ch/metadata/ontologies/ebucoreplus#hasTopic\", \"owl:ObjectProperty\", \"http://www.ebu.ch/metadata/ontologies/ebucoreplus#EditorialObject\", \"\", \"\"], [\"http://www.ebu.ch/metadata/ontologies/ebucoreplus#hasTopic\", \"owl:ObjectProperty\", \"http://www.ebu.ch/metadata/ontologies/ebucoreplus#Topic\", \"\", \"\"], [\"http://www.ebu.ch/metadata/ontologies/ebucoreplus#hasVersion\", \"owl:ObjectProperty\", \"http://www.ebu.ch/metadata/ontologies/ebucoreplus#EditorialObject\", \"\", \"\"], [\"http://www.ebu.ch/metadata/ontologies/ebucoreplus#isVersionOf\", \"owl:ObjectProperty\", \"http://www.ebu.ch/metadata/ontologies/ebucoreplus#EditorialObject\", \"\", \"\"], [\"http://www.ebu.ch/metadata/ontologies/ebucoreplus#isInstantiatedBy\", \"owl:ObjectProperty\", \"http://www.ebu.ch/metadata/ontologies/ebucoreplus#MediaResource\", \"\", \"\"], [\"http://www.ebu.ch/metadata/ontologies/ebucoreplus#isBrand\", \"owl:ObjectProperty\", \"http://www.ebu.ch/metadata/ontologies/ebucoreplus#Brand\", \"\", \"\"], [\"http://www.ebu.ch/metadata/ontologies/ebucoreplus#isCommissionedBy\", \"owl:ObjectProperty\", \"http://www.ebu.ch/metadata/ontologies/ebucoreplus#Contract\", \"\", \"\"], [\"http://www.ebu.ch/metadata/ontologies/ebucoreplus#isDistributedOn\", \"owl:ObjectProperty\", \"http://www.ebu.ch/metadata/ontologies/ebucoreplus#PublicationService\", \"\", \"\"], [\"http://www.ebu.ch/metadata/ontologies/ebucoreplus#isEditorialFormatOf\", \"owl:ObjectProperty\", \"http://www.ebu.ch/metadata/ontologies/ebucoreplus#EditorialObject\", \"\", \"\"], [\"http://www.ebu.ch/metadata/ontologies/ebucoreplus#isExtractOf\", \"owl:ObjectProperty\", \"http://www.ebu.ch/metadata/ontologies/ebucoreplus#EditorialObject\", \"\", \"\"], [\"http://www.ebu.ch/metadata/ontologies/ebucoreplus#isReferencedBy\", \"owl:ObjectProperty\", \"http://www.ebu.ch/metadata/ontologies/ebucoreplus#BibliographicalObject\", \"\", \"\"], [\"http://www.ebu.ch/metadata/ontologies/ebucoreplus#isReferencedBy\", \"owl:ObjectProperty\", \"http://www.ebu.ch/metadata/ontologies/ebucoreplus#EditorialObject\", \"\", \"\"], [\"http://www.ebu.ch/metadata/ontologies/ebucoreplus#references\", \"owl:ObjectProperty\", \"http://www.ebu.ch/metadata/ontologies/ebucoreplus#BibliographicalObject\", \"\", \"\"], [\"http://www.ebu.ch/metadata/ontologies/ebucoreplus#references\", \"owl:ObjectProperty\", \"http://www.ebu.ch/metadata/ontologies/ebucoreplus#EditorialObject\", \"\", \"\"], [\"http://www.ebu.ch/metadata/ontologies/ebucoreplus#isRequiredBy\", \"owl:ObjectProperty\", \"http://www.ebu.ch/metadata/ontologies/ebucoreplus#EditorialObject\", \"\", \"\"], [\"http://www.ebu.ch/metadata/ontologies/ebucoreplus#requires\", \"owl:ObjectProperty\", \"http://www.ebu.ch/metadata/ontologies/ebucoreplus#EditorialObject\", \"\", \"\"], [\"http://www.ebu.ch/metadata/ontologies/ebucoreplus#isScheduledOn\", \"owl:ObjectProperty\", \"http://www.ebu.ch/metadata/ontologies/ebucoreplus#PublicationEvent\", \"\", \"\"], [\"http://www.ebu.ch/metadata/ontologies/ebucoreplus#isTimelineTrackPartOf\", \"owl:ObjectProperty\", \"http://www.ebu.ch/metadata/ontologies/ebucoreplus#TimelineTrack\", \"\", \"\"], [\"http://www.ebu.ch/metadata/ontologies/ebucoreplus#represents\", \"owl:ObjectProperty\", \"http://www.ebu.ch/metadata/ontologies/ebucoreplus#Asset\", \"\", \"\"], [\"http://www.ebu.ch/metadata/ontologies/ebucoreplus#versionType\", \"owl:ObjectProperty\", \"skos:Concept\", \"\", \"\"]];\n",
       "\n",
       "    if (typeof require === 'undefined') {\n",
       "        // TODO: This should become the default (use a simple import)\n",
       "        // when the ESM version works independently of whether\n",
       "        // require.js is there or not, see\n",
       "        // https://datatables.net/forums/discussion/69066/esm-es6-module-support?\n",
       "        const {default: $} = await import(\"https://esm.sh/jquery@3.5.0\");\n",
       "        const {default: initDataTables} = await import(\"https://esm.sh/datatables.net@1.11.3?deps=jquery@3.5.0\");\n",
       "\n",
       "        initDataTables();\n",
       "\n",
       "        // Define the dt_args\n",
       "        let dt_args = {\"columnDefs\": [{\"width\": \"120px\", \"className\": \"dt-left\", \"targets\": \"_all\", \"createdCell\": \n",
       "        function (td, cellData, rowData, row, col) {\n",
       "            $(td).css('word-wrap', 'break-word')\n",
       "            if (typeof cellData === 'string') {\n",
       "                if (cellData.slice(-2) === '.0') {\n",
       "                    $(td).html(cellData.replace('.0', '' ))\n",
       "                }\n",
       "            }\n",
       "            if (cellData == false) {\n",
       "                $(td).css('color', '#7DA5C0')\n",
       "                $(td).css('font-weight', 'bold')\n",
       "            }\n",
       "            else if (cellData == true) {\n",
       "                $(td).css('color', '#7CBC97')\n",
       "                $(td).css('font-weight', 'bold')\n",
       "            }\n",
       "        }\n",
       "        }], \"lengthMenu\": [5, 10, 25, 50, -1]};\n",
       "        dt_args[\"data\"] = data;\n",
       "\n",
       "        // Display the table\n",
       "        $(document).ready(function () {\n",
       "            $('#863b885d-abf1-409d-a720-16ab34a672a6').DataTable(dt_args);\n",
       "        });\n",
       "    } else {\n",
       "        require([\"jquery\", \"datatables\"], ($, datatables) => {\n",
       "                // Define the dt_args\n",
       "                let dt_args = {\"columnDefs\": [{\"width\": \"120px\", \"className\": \"dt-left\", \"targets\": \"_all\", \"createdCell\": \n",
       "        function (td, cellData, rowData, row, col) {\n",
       "            $(td).css('word-wrap', 'break-word')\n",
       "            if (typeof cellData === 'string') {\n",
       "                if (cellData.slice(-2) === '.0') {\n",
       "                    $(td).html(cellData.replace('.0', '' ))\n",
       "                }\n",
       "            }\n",
       "            if (cellData == false) {\n",
       "                $(td).css('color', '#7DA5C0')\n",
       "                $(td).css('font-weight', 'bold')\n",
       "            }\n",
       "            else if (cellData == true) {\n",
       "                $(td).css('color', '#7CBC97')\n",
       "                $(td).css('font-weight', 'bold')\n",
       "            }\n",
       "        }\n",
       "        }], \"lengthMenu\": [5, 10, 25, 50, -1]};\n",
       "                dt_args[\"data\"] = data;\n",
       "\n",
       "                // Display the table\n",
       "                $(document).ready(function () {\n",
       "                    $('#863b885d-abf1-409d-a720-16ab34a672a6').DataTable(dt_args);\n",
       "                });\n",
       "            }\n",
       "        )\n",
       "    }\n",
       "</script>\n"
      ],
      "text/plain": [
       "<IPython.core.display.HTML object>"
      ]
     },
     "metadata": {},
     "output_type": "display_data"
    }
   ],
   "source": [
    "iri = 'http://www.ebu.ch/metadata/ontologies/ebucoreplus#EditorialObject'\n",
    "properties = get_properties(tenant=TENANT,\n",
    "                            username=USERNAME,\n",
    "                            password=PASSWORD,\n",
    "                            iri=iri,\n",
    "                            show_table=True)"
   ]
  },
  {
   "cell_type": "code",
   "execution_count": 10,
   "id": "be45e4d0-c427-4e92-a52b-bb1722b7655e",
   "metadata": {
    "tags": []
   },
   "outputs": [
    {
     "data": {
      "text/html": [
       "\n",
       "        <iframe\n",
       "            width=\"100%\"\n",
       "            height=\"800px\"\n",
       "            src=\"graphs/editorial_object.html\"\n",
       "            frameborder=\"0\"\n",
       "            allowfullscreen\n",
       "            \n",
       "        ></iframe>\n",
       "        "
      ],
      "text/plain": [
       "<IPython.lib.display.IFrame at 0x7fce1080b3a0>"
      ]
     },
     "execution_count": 10,
     "metadata": {},
     "output_type": "execute_result"
    }
   ],
   "source": [
    "iris = ['http://www.ebu.ch/metadata/ontologies/ebucoreplus#EditorialObject']\n",
    "graph = get_properties_graph(tenant=TENANT,\n",
    "                             username=USERNAME,\n",
    "                             password=PASSWORD,\n",
    "                             source_df=classes_df,\n",
    "                             iris=iris,\n",
    "                             show_superclasses=False,\n",
    "                             show_subclasses=False,\n",
    "                             language=LANGUAGE)\n",
    "graph.show('graphs/editorial_object.html')"
   ]
  },
  {
   "cell_type": "markdown",
   "id": "6f2b58f3-6b3b-45b4-b76c-d933d2ca1984",
   "metadata": {
    "tags": []
   },
   "source": [
    "<img src=\"https://image-assets-for-cdk.s3.eu-central-1.amazonaws.com/legend_for_cell.png\" alt=\"Drawing\" style=\"width: 350px;\"/>\n"
   ]
  },
  {
   "cell_type": "markdown",
   "id": "9a30ffc1-9c51-4909-9ec5-d48e50cd00a8",
   "metadata": {
    "tags": []
   },
   "source": [
    "## Sample data\n",
    "### List of individuals\n",
    "Here you get an overview of all individuals of a given class in the sample data.\n",
    "\n",
    ">The data can be imported, created via API, or produced by the test data generator."
   ]
  },
  {
   "cell_type": "code",
   "execution_count": 4,
   "id": "8db7e8d8-be61-492b-b5f1-6fd86045d2ce",
   "metadata": {
    "tags": []
   },
   "outputs": [
    {
     "data": {
      "text/html": [
       "<table id=\"a8c05e41-7efc-4a21-ad67-27e4cda40ff0\" class=\"cell-border stripe hover\"style=\"max-width:100%\"><h4><label style=\"font-weight:bold\">Table: </label><label>Individuals of class Person</label></h4><thead>\n",
       "    <tr style=\"text-align: right;\">\n",
       "      \n",
       "      <th>iri</th>\n",
       "      <th>familyName</th>\n",
       "      <th>givenName</th>\n",
       "      <th>occupation</th>\n",
       "    </tr>\n",
       "  </thead><tbody><tr><td>Loading... (need <a href=https://mwouts.github.io/itables/troubleshooting.html>help</a>?)</td></tr></tbody></table>\n",
       "<link rel=\"stylesheet\" type=\"text/css\" href=\"https://cdn.datatables.net/1.11.3/css/jquery.dataTables.min.css\">\n",
       "<style> table td {\n",
       "    text-overflow: ellipsis;\n",
       "    overflow: hidden;\n",
       "} </style>\n",
       "<style> table th {\n",
       "    text-overflow: ellipsis;\n",
       "    overflow: hidden;\n",
       "} </style>\n",
       "<script type=\"module\">\n",
       "    // Define the table data\n",
       "    const data = [[\"http://www.ebu.ch/metadata/ontologies/ebucoreplus#Person_ebu.swr.master._prs_001\", \"Bertele\", \"Brigitte Maria\", \"@de\"], [\"http://www.ebu.ch/metadata/ontologies/ebucoreplus#Person_ebu.swr.master._prs_002\", \"Bitter\", \"Lisa\", \"@de\"], [\"http://www.ebu.ch/metadata/ontologies/ebucoreplus#Person_ebu.swr.master._prs_003\", \"Bohn\", \"Thomas\", \"@de\"], [\"http://www.ebu.ch/metadata/ontologies/ebucoreplus#Person_ebu.swr.master._prs_004\", \"Bonny\", \"Jan\", \"@de\"], [\"http://www.ebu.ch/metadata/ontologies/ebucoreplus#Person_ebu.swr.master._prs_005\", \"B\\u00fcscher\", \"Holger\", \"@de\"], [\"http://www.ebu.ch/metadata/ontologies/ebucoreplus#Person_ebu.swr.master._prs_006\", \"Carle\", \"J\\u00fcrgen\", \"@de\"], [\"http://www.ebu.ch/metadata/ontologies/ebucoreplus#Person_ebu.swr.master._prs_007\", \"Eichberg\", \"Jan\", \"@de\"], [\"http://www.ebu.ch/metadata/ontologies/ebucoreplus#Person_ebu.swr.master._prs_008\", \"Folkerts\", \"Ulrike\", \"@de\"], [\"http://www.ebu.ch/metadata/ontologies/ebucoreplus#Person_ebu.swr.master._prs_009\", \"Glasauer\", \"Michael\", \"@de\"], [\"http://www.ebu.ch/metadata/ontologies/ebucoreplus#Person_ebu.swr.master._prs_010\", \"Grosser\", \"Teresa\", \"@de\"], [\"http://www.ebu.ch/metadata/ontologies/ebucoreplus#Person_ebu.swr.master._prs_011\", \"Janssen\", \"Cornelia\", \"@de\"], [\"http://www.ebu.ch/metadata/ontologies/ebucoreplus#Person_ebu.swr.master._prs_012\", \"Jau\\u00df\", \"Stefanie\", \"@de\"], [\"http://www.ebu.ch/metadata/ontologies/ebucoreplus#Person_ebu.swr.master._prs_013\", \"Jehn\", \"Friederike\", \"@de\"], [\"http://www.ebu.ch/metadata/ontologies/ebucoreplus#Person_ebu.swr.master._prs_014\", \"Klare\", \"Felix\", \"@de\"], [\"http://www.ebu.ch/metadata/ontologies/ebucoreplus#Person_ebu.swr.master._prs_015\", \"K\\u00fchne\", \"Stephanie\", \"@de\"], [\"http://www.ebu.ch/metadata/ontologies/ebucoreplus#Person_ebu.swr.master._prs_016\", \"Lewandowski\", \"Piotr J.\", \"@de\"], [\"http://www.ebu.ch/metadata/ontologies/ebucoreplus#Person_ebu.swr.master._prs_017\", \"L\\u00f6bau\", \"Eva\", \"@de\"], [\"http://www.ebu.ch/metadata/ontologies/ebucoreplus#Person_ebu.swr.master._prs_018\", \"M\\u00fcller\", \"Richy\", \"@de\"], [\"http://www.ebu.ch/metadata/ontologies/ebucoreplus#Person_ebu.swr.master._prs_019\", \"Munzert\", \"Maxi\", \"@de\"], [\"http://www.ebu.ch/metadata/ontologies/ebucoreplus#Person_ebu.swr.master._prs_020\", \"Sch\\u00e4fauer\", \"Andreas\", \"@de\"], [\"http://www.ebu.ch/metadata/ontologies/ebucoreplus#Person_ebu.swr.master._prs_021\", \"Scharfschwerdt\", \"Ulrike\", \"@de\"], [\"http://www.ebu.ch/metadata/ontologies/ebucoreplus#Person_ebu.swr.master._prs_022\", \"Sommer\", \"Stefan\", \"@de\"], [\"http://www.ebu.ch/metadata/ontologies/ebucoreplus#Person_ebu.swr.master._prs_023\", \"Stauch\", \"Wolfgang\", \"@de\"], [\"http://www.ebu.ch/metadata/ontologies/ebucoreplus#Person_ebu.swr.master._prs_024\", \"Vattrodt\", \"Magnus\", \"@de\"], [\"http://www.ebu.ch/metadata/ontologies/ebucoreplus#Person_ebu.swr.master._prs_025\", \"von Heinz\", \"Julia\", \"@de\"], [\"http://www.ebu.ch/metadata/ontologies/ebucoreplus#Person_ebu.swr.master._prs_026\", \"Wagner\", \"Hans-Jochen\", \"@de\"], [\"http://www.ebu.ch/metadata/ontologies/ebucoreplus#Person_ebu.swr.master._prs_027\", \"Walther\", \"Connie\", \"@de\"], [\"http://www.ebu.ch/metadata/ontologies/ebucoreplus#Person_ebu.swr.master._prs_028\", \"Wild, geb. D\\u00e4hnert\", \"Stefan\", \"@de\"], [\"http://www.ebu.ch/metadata/ontologies/ebucoreplus#Person_ebu.swr.master._prs_029\", \"Wischnewski\", \"Jens\", \"@de\"]];\n",
       "\n",
       "    if (typeof require === 'undefined') {\n",
       "        // TODO: This should become the default (use a simple import)\n",
       "        // when the ESM version works independently of whether\n",
       "        // require.js is there or not, see\n",
       "        // https://datatables.net/forums/discussion/69066/esm-es6-module-support?\n",
       "        const {default: $} = await import(\"https://esm.sh/jquery@3.5.0\");\n",
       "        const {default: initDataTables} = await import(\"https://esm.sh/datatables.net@1.11.3?deps=jquery@3.5.0\");\n",
       "\n",
       "        initDataTables();\n",
       "\n",
       "        // Define the dt_args\n",
       "        let dt_args = {\"columnDefs\": [{\"width\": \"120px\", \"className\": \"dt-left\", \"targets\": \"_all\", \"createdCell\": \n",
       "        function (td, cellData, rowData, row, col) {\n",
       "            $(td).css('word-wrap', 'break-word')\n",
       "            if (typeof cellData === 'string') {\n",
       "                if (cellData.slice(-2) === '.0') {\n",
       "                    $(td).html(cellData.replace('.0', '' ))\n",
       "                }\n",
       "            }\n",
       "            if (cellData == false) {\n",
       "                $(td).css('color', '#7DA5C0')\n",
       "                $(td).css('font-weight', 'bold')\n",
       "            }\n",
       "            else if (cellData == true) {\n",
       "                $(td).css('color', '#7CBC97')\n",
       "                $(td).css('font-weight', 'bold')\n",
       "            }\n",
       "        }\n",
       "        }], \"lengthMenu\": [5, 10, 25, 50, -1]};\n",
       "        dt_args[\"data\"] = data;\n",
       "\n",
       "        // Display the table\n",
       "        $(document).ready(function () {\n",
       "            $('#a8c05e41-7efc-4a21-ad67-27e4cda40ff0').DataTable(dt_args);\n",
       "        });\n",
       "    } else {\n",
       "        require([\"jquery\", \"datatables\"], ($, datatables) => {\n",
       "                // Define the dt_args\n",
       "                let dt_args = {\"columnDefs\": [{\"width\": \"120px\", \"className\": \"dt-left\", \"targets\": \"_all\", \"createdCell\": \n",
       "        function (td, cellData, rowData, row, col) {\n",
       "            $(td).css('word-wrap', 'break-word')\n",
       "            if (typeof cellData === 'string') {\n",
       "                if (cellData.slice(-2) === '.0') {\n",
       "                    $(td).html(cellData.replace('.0', '' ))\n",
       "                }\n",
       "            }\n",
       "            if (cellData == false) {\n",
       "                $(td).css('color', '#7DA5C0')\n",
       "                $(td).css('font-weight', 'bold')\n",
       "            }\n",
       "            else if (cellData == true) {\n",
       "                $(td).css('color', '#7CBC97')\n",
       "                $(td).css('font-weight', 'bold')\n",
       "            }\n",
       "        }\n",
       "        }], \"lengthMenu\": [5, 10, 25, 50, -1]};\n",
       "                dt_args[\"data\"] = data;\n",
       "\n",
       "                // Display the table\n",
       "                $(document).ready(function () {\n",
       "                    $('#a8c05e41-7efc-4a21-ad67-27e4cda40ff0').DataTable(dt_args);\n",
       "                });\n",
       "            }\n",
       "        )\n",
       "    }\n",
       "</script>\n"
      ],
      "text/plain": [
       "<IPython.core.display.HTML object>"
      ]
     },
     "metadata": {},
     "output_type": "display_data"
    }
   ],
   "source": [
    "iri = 'http://www.ebu.ch/metadata/ontologies/ebucoreplus#Person'\n",
    "individuals = get_individuals(tenant=TENANT,\n",
    "                              username=USERNAME,\n",
    "                              password=PASSWORD,\n",
    "                              iri=iri,\n",
    "                              show_table=True)"
   ]
  },
  {
   "cell_type": "code",
   "execution_count": 15,
   "id": "b8c66de5-6ac4-4014-8743-8ac51e8184fc",
   "metadata": {
    "tags": []
   },
   "outputs": [
    {
     "data": {
      "text/html": [
       "\n",
       "        <iframe\n",
       "            width=\"100%\"\n",
       "            height=\"800px\"\n",
       "            src=\"graphs/individual_properties.html\"\n",
       "            frameborder=\"0\"\n",
       "            allowfullscreen\n",
       "            \n",
       "        ></iframe>\n",
       "        "
      ],
      "text/plain": [
       "<IPython.lib.display.IFrame at 0x7fe5753ac2e0>"
      ]
     },
     "execution_count": 15,
     "metadata": {},
     "output_type": "execute_result"
    }
   ],
   "source": [
    "iri = 'http://ebu.swr.ex01.tatort._pub_010'\n",
    "iri = 'http://www.ebu.ch/metadata/ontologies/ebucoreplus#Person_ebu.swr.master._prs_001'\n",
    "graph = get_individual_properties_graph(tenant=TENANT,\n",
    "                                        username=USERNAME,\n",
    "                                        password=PASSWORD,\n",
    "                                        iri=iri)\n",
    "graph.show('graphs/individual_properties.html')"
   ]
  },
  {
   "cell_type": "code",
   "execution_count": null,
   "id": "a5892193-fd23-4fbf-87c6-32a7dfba799c",
   "metadata": {
    "tags": []
   },
   "outputs": [],
   "source": []
  },
  {
   "cell_type": "code",
   "execution_count": null,
   "id": "5e81ac4e-f39b-4fb3-b6c9-6d328fb21d5b",
   "metadata": {
    "tags": []
   },
   "outputs": [],
   "source": []
  }
 ],
 "metadata": {
  "kernelspec": {
   "display_name": "Python 3 (ipykernel)",
   "language": "python",
   "name": "python3"
  },
  "language_info": {
   "codemirror_mode": {
    "name": "ipython",
    "version": 3
   },
   "file_extension": ".py",
   "mimetype": "text/x-python",
   "name": "python",
   "nbconvert_exporter": "python",
   "pygments_lexer": "ipython3",
   "version": "3.8.13"
  },
  "toc-autonumbering": false,
  "toc-showmarkdowntxt": false,
  "vscode": {
   "interpreter": {
    "hash": "98807f6c289134d296216f26040d15a7d574bbb60c2c2a89c24c5bf374ecb86a"
   }
  }
 },
 "nbformat": 4,
 "nbformat_minor": 5
}
