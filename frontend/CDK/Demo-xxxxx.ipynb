{
 "cells": [
  {
   "cell_type": "markdown",
   "id": "e1f662fd-7acd-48f9-8da0-9b0e8a6aff36",
   "metadata": {
    "tags": []
   },
   "source": [
    "# EBUCore+ Demonstrator Kit powered by ENAPSO\n",
    "## Preamble\n",
    ">EBU provides the CDK as a free tool to assist developers in exploring the EBUCore+ model. The CDK is neither licensed nor designed for productive use.\n",
    ">\n",
    ">The CDK documentation is available at https://github.com/ebu/coreplus-demo.\n",
    ">\n",
    ">EBU members can use the CDK online service at https://ebucore-plus-dk.org. To get access, please contact the EBU project coordinator. The CDK online service provides a shared JupyterLab workspace. Notebooks are visible and accessible to all logged in users.\n",
    ">\n",
    ">If you want to modify a notebook, please create a copy with a meaningful name. Leave the copy in the root folder. Executing a notebook in a subfolder is not supported. The original Demo.ipynb notebook is available at https://github.com/ebu/coreplus-demo.\n",
    ">\n",
    ">Users of the EBU online service have read access to a common demo database. The database currently contains a preliminary data model and sample data. The credentials for database access are given in the notebook. You can keep the default setting (demo-tenant, demo-user, demo).\n",
    ">\n",
    ">As a power user you may want to create/update/delete data, import data, or customize the data model. In this case your organization can apply for a private database. Please contact the EBU project coordinator for more information.\n",
    "\n",
    "## History\n",
    "2022-08-26  Release of CDK 1.0\n",
    "\n",
    "## Initialization"
   ]
  },
  {
   "cell_type": "code",
   "execution_count": 1,
   "id": "99bddc85",
   "metadata": {
    "tags": []
   },
   "outputs": [
    {
     "data": {
      "application/javascript": [
       "if (typeof require !== 'undefined')\n",
       "    require.config({\n",
       "        paths: {\n",
       "            jquery: 'https://code.jquery.com/jquery-3.5.1.min',\n",
       "            datatables: 'https://cdn.datatables.net/1.11.3/js/jquery.dataTables.min',\n",
       "        }\n",
       "    });\n"
      ],
      "text/plain": [
       "<IPython.core.display.Javascript object>"
      ]
     },
     "metadata": {},
     "output_type": "display_data"
    }
   ],
   "source": [
    "import os\n",
    "import sys\n",
    "import pandas as pd\n",
    "import itables.options as opt\n",
    "from itables import init_notebook_mode, show\n",
    "from scripts.ontologies import (load_model, get_all_classes, get_hierarchy, get_individuals, get_description, \n",
    "                                get_properties, visualize_hierarchy, visualize_properties, itable_config)\n",
    "\n",
    "\n",
    "# Define user credentials\n",
    "TENANT = os.getenv('TENANT', 'demo-tenant')\n",
    "USERNAME = 'demo-user'\n",
    "PASSWORD = 'demo'\n",
    "\n",
    "# Read data from the graph database\n",
    "classes_df = load_model(tenant=TENANT, username=USERNAME, password=PASSWORD)\n",
    "itable_config(opt, init_notebook_mode)"
   ]
  },
  {
   "cell_type": "markdown",
   "id": "cc4fb9e9-40f2-4571-aa8e-e81c7b5cdff7",
   "metadata": {
    "tags": []
   },
   "source": [
    "## Exploration of EBUCore+ classes and properties\n",
    "### List of classes\n",
    "Here you get an overview of all classes contained in the model.\n",
    "\n",
    ">You can sort the table by column. Use the Search function to find all records (rows) that contain the search string in one field (column).\n",
    "\n",
    "__IsLeafClass__ is a computed Boolean value. It indicates if the class is located at the lowest level of the hierarchy – in other words, that the class has no subclasses.\n",
    "\n",
    ">We only consider explicitly modeled relations and don't use inference."
   ]
  },
  {
   "cell_type": "code",
   "execution_count": 2,
   "id": "153bea62-6330-469b-ae20-0e0786248ed1",
   "metadata": {
    "tags": []
   },
   "outputs": [
    {
     "data": {
      "text/html": [
       "<table id=\"1debf3a6-b096-454d-b3c9-77712b31951c\" class=\"cell-border stripe hover\"style=\"max-width:100%\"><h4><label style=\"font-weight:bold\">Table: </label><label>List of classes</label></h4><thead>\n",
       "    <tr style=\"text-align: right;\">\n",
       "      \n",
       "      <th>Label</th>\n",
       "      <th>IRI</th>\n",
       "      <th>IsLeafClass</th>\n",
       "    </tr>\n",
       "  </thead><tbody><tr><td>Loading... (need <a href=https://mwouts.github.io/itables/troubleshooting.html>help</a>?)</td></tr></tbody></table>\n",
       "<link rel=\"stylesheet\" type=\"text/css\" href=\"https://cdn.datatables.net/1.11.3/css/jquery.dataTables.min.css\">\n",
       "<style> table td {\n",
       "    text-overflow: ellipsis;\n",
       "    overflow: hidden;\n",
       "} </style>\n",
       "<style> table th {\n",
       "    text-overflow: ellipsis;\n",
       "    overflow: hidden;\n",
       "} </style>\n",
       "<script type=\"module\">\n",
       "    // Define the table data\n",
       "    const data = [[\"Data Property Generator\", \"http://ont.enapso.com/model/mockaspect#DataPropertyGenerator\", false], [\"Mock Data Specification\", \"http://ont.enapso.com/model/mockaspect#MockDataSpecification\", true], [\"Object Relation Generator\", \"http://ont.enapso.com/model/mockaspect#ObjectRelationGenerator\", true], [\"Agent\", \"http://purl.org/dc/elements/1.1/Agent\", true], [\"Account\", \"http://www.ebu.ch/metadata/ontologies/ebuccdm#Account\", true], [\"Asset value\", \"http://www.ebu.ch/metadata/ontologies/ebuccdm#AssetValue\", true], [\"Audience\", \"http://www.ebu.ch/metadata/ontologies/ebuccdm#Audience\", true], [\"Audit Report\", \"http://www.ebu.ch/metadata/ontologies/ebuccdm#AuditReport\", true], [\"Campaign\", \"http://www.ebu.ch/metadata/ontologies/ebuccdm#Campaign\", true], [\"Device\", \"http://www.ebu.ch/metadata/ontologies/ebuccdm#ConsumptionDevice\", true], [\"Consumption device profile\", \"http://www.ebu.ch/metadata/ontologies/ebuccdm#ConsumptionDeviceProfile\", true], [\"Consumption event\", \"http://www.ebu.ch/metadata/ontologies/ebuccdm#ConsumptionEvent\", true], [\"Consumption licence\", \"http://www.ebu.ch/metadata/ontologies/ebuccdm#ConsumptionLicence\", true], [\"Contract\", \"http://www.ebu.ch/metadata/ontologies/ebuccdm#Contract\", true], [\"Contract cost\", \"http://www.ebu.ch/metadata/ontologies/ebuccdm#ContractCost\", true], [\"Measure\", \"http://www.ebu.ch/metadata/ontologies/ebuccdm#Measure\", true], [\"On Stage Position\", \"http://www.ebu.ch/metadata/ontologies/ebuccdm#OnStagePosition\", true], [\"Production device\", \"http://www.ebu.ch/metadata/ontologies/ebuccdm#ProductionDevice\", true], [\"Audit Job\", \"http://www.ebu.ch/metadata/ontologies/ebuccdm#AuditJob\", true], [\"Production job\", \"http://www.ebu.ch/metadata/ontologies/ebuccdm#ProductionJob\", false], [\"Production order\", \"http://www.ebu.ch/metadata/ontologies/ebuccdm#ProductionOrder\", true], [\"Resonance\", \"http://www.ebu.ch/metadata/ontologies/ebuccdm#Resonance\", true], [\"Resonance event\", \"http://www.ebu.ch/metadata/ontologies/ebuccdm#ResonanceEvent\", true], [\"Rule\", \"http://www.ebu.ch/metadata/ontologies/ebuccdm#Rule\", true], [\"Stage\", \"http://www.ebu.ch/metadata/ontologies/ebuccdm#Stage\", true], [\"Action\", \"http://www.ebu.ch/metadata/ontologies/ebucore/ebucore#Action\", true], [\"Cast member\", \"http://www.ebu.ch/metadata/ontologies/ebucore/ebucore#Cast\", true], [\"Crew\", \"http://www.ebu.ch/metadata/ontologies/ebucore/ebucore#Crew\", true], [\"Organisation\", \"http://www.ebu.ch/metadata/ontologies/ebucore/ebucore#Organisation\", false], [\"Affiliation\", \"http://www.ebu.ch/metadata/ontologies/ebucore/ebucore#Affiliation\", true], [\"Department\", \"http://www.ebu.ch/metadata/ontologies/ebucore/ebucore#Department\", true], [\"Fictional organisation\", \"http://www.ebu.ch/metadata/ontologies/ebucore/ebucore#FictionalOrganisation\", true], [\"Party\", \"http://www.ebu.ch/metadata/ontologies/ebucore/ebucore#Party\", true], [\"Consumer\", \"http://www.ebu.ch/metadata/ontologies/ebuccdm#Consumer\", true], [\"Character\", \"http://www.ebu.ch/metadata/ontologies/ebucore/ebucore#Character\", true], [\"Contact\", \"http://www.ebu.ch/metadata/ontologies/ebucore/ebucore#Contact\", true], [\"Fictional person\", \"http://www.ebu.ch/metadata/ontologies/ebucore/ebucore#FictionalPerson\", true], [\"Staff member.\", \"http://www.ebu.ch/metadata/ontologies/ebucore/ebucore#Staff\", true], [\"Person\", \"http://www.ebu.ch/metadata/ontologies/ebucore/ebucore#Person\", false], [\"Team\", \"http://www.ebu.ch/metadata/ontologies/ebucore/ebucore#Team\", true], [\"Agent\", \"http://www.ebu.ch/metadata/ontologies/ebucore/ebucore#Agent\", false], [\"Animal\", \"http://www.ebu.ch/metadata/ontologies/ebucore/ebucore#Animal\", true], [\"Annotation\", \"http://www.ebu.ch/metadata/ontologies/ebucore/ebucore#Annotation\", false], [\"Text Annotation\", \"http://www.ebu.ch/metadata/ontologies/ebucore/ebucore#TextAnnotation\", true], [\"Costume\", \"http://www.ebu.ch/metadata/ontologies/ebucore/ebucore#Costume\", true], [\"Food\", \"http://www.ebu.ch/metadata/ontologies/ebucore/ebucore#Food\", true], [\"Props\", \"http://www.ebu.ch/metadata/ontologies/ebucore/ebucore#Props\", true], [\"Artefact\", \"http://www.ebu.ch/metadata/ontologies/ebucore/ebucore#Artefact\", false], [\"Business Object\", \"http://www.ebu.ch/metadata/ontologies/ebucore/ebucore#BusinessObject\", false], [\"Bibliographical object\", \"http://www.ebu.ch/metadata/ontologies/ebucore/ebucore#BibliographicalObject\", false], [\"Biography\", \"http://www.ebu.ch/metadata/ontologies/ebucore/ebucore#Biography\", true], [\"Record\", \"http://www.ebu.ch/metadata/ontologies/ebucore/ebucore#Record\", true], [\"BMContent\", \"http://www.ebu.ch/metadata/ontologies/ebucore/ebucore#BMContent\", true], [\"Clip\", \"http://www.ebu.ch/metadata/ontologies/ebucore/ebucore#Clip\", true], [\"Episode\", \"http://www.ebu.ch/metadata/ontologies/ebucore/ebucore#Episode\", true], [\"Feature\", \"http://www.ebu.ch/metadata/ontologies/ebucore/ebucore#Feature\", true], [\"Item\", \"http://www.ebu.ch/metadata/ontologies/ebucore/ebucore#Item\", false], [\"Breaking news item\", \"http://www.ebu.ch/metadata/ontologies/ebucore/ebucore#BreakingNewsItem\", true], [\"News Item\", \"http://www.ebu.ch/metadata/ontologies/ebucore/ebucore#NewsItem\", true], [\"Review\", \"http://www.ebu.ch/metadata/ontologies/ebucore/ebucore#Review\", true], [\"Sport item\", \"http://www.ebu.ch/metadata/ontologies/ebucore/ebucore#SportItem\", true], [\"Part, Fragment, Segment\", \"http://www.ebu.ch/metadata/ontologies/ebucore/ebucore#Part\", true], [\"Programme\", \"http://www.ebu.ch/metadata/ontologies/ebucore/ebucore#Programme\", false], [\"Audio content\", \"http://www.ebu.ch/metadata/ontologies/ebucore/ebucore#AudioContent\", true], [\"Audio programme\", \"http://www.ebu.ch/metadata/ontologies/ebucore/ebucore#AudioProgramme\", true], [\"Radio Programme\", \"http://www.ebu.ch/metadata/ontologies/ebucore/ebucore#RadioProgramme\", true], [\"TV Programme\", \"http://www.ebu.ch/metadata/ontologies/ebucore/ebucore#TVProgramme\", true], [\"Scene\", \"http://www.ebu.ch/metadata/ontologies/ebucore/ebucore#Scene\", true], [\"Shot\", \"http://www.ebu.ch/metadata/ontologies/ebucore/ebucore#Shot\", true], [\"Take\", \"http://www.ebu.ch/metadata/ontologies/ebucore/ebucore#Take\", true], [\"Version\", \"http://www.ebu.ch/metadata/ontologies/ebucore/ebucore#Version\", true], [\"Editorial object\", \"http://www.ebu.ch/metadata/ontologies/ebucore/ebucore#EditorialObject\", false], [\"Group\", \"http://www.ebu.ch/metadata/ontologies/ebucore/ebucore#Group\", false], [\"Brand\", \"http://www.ebu.ch/metadata/ontologies/ebucore/ebucore#Brand\", true], [\"Collection\", \"http://www.ebu.ch/metadata/ontologies/ebucore/ebucore#Collection\", true], [\"Season\", \"http://www.ebu.ch/metadata/ontologies/ebucore/ebucore#Season\", true], [\"Series\", \"http://www.ebu.ch/metadata/ontologies/ebucore/ebucore#Series\", true], [\"Asset\", \"http://www.ebu.ch/metadata/ontologies/ebucore/ebucore#Asset\", false], [\"Award\", \"http://www.ebu.ch/metadata/ontologies/ebucore/ebucore#Award\", true], [\"Codec\", \"http://www.ebu.ch/metadata/ontologies/ebucore/ebucore#Codec\", false], [\"Audio codec\", \"http://www.ebu.ch/metadata/ontologies/ebucore/ebucore#AudioCodec\", true], [\"Container codec\", \"http://www.ebu.ch/metadata/ontologies/ebucore/ebucore#ContainerCodec\", true], [\"Image codec\", \"http://www.ebu.ch/metadata/ontologies/ebucore/ebucore#ImageCodec\", true], [\"Video codec\", \"http://www.ebu.ch/metadata/ontologies/ebucore/ebucore#VideoCodec\", true], [\"Emotion\", \"http://www.ebu.ch/metadata/ontologies/ebucore/ebucore#Emotion\", true], [\"Depicted Event\", \"http://www.ebu.ch/metadata/ontologies/ebucore/ebucore#DepictedEvent\", true], [\"Fictional event\", \"http://www.ebu.ch/metadata/ontologies/ebucore/ebucore#FictionalEvent\", true], [\"Key event\", \"http://www.ebu.ch/metadata/ontologies/ebucore/ebucore#KeyEvent\", false], [\"Key career event\", \"http://www.ebu.ch/metadata/ontologies/ebucore/ebucore#KeyCareerEvent\", true], [\"Key personal event\", \"http://www.ebu.ch/metadata/ontologies/ebucore/ebucore#KeyPersonalEvent\", true], [\"Event\", \"http://www.ebu.ch/metadata/ontologies/ebucore/ebucore#Event\", false], [\"Identifier\", \"http://www.ebu.ch/metadata/ontologies/ebucore/ebucore#Identifier\", false], [\"EIDR\", \"http://www.ebu.ch/metadata/ontologies/ebucore/ebucore#EidrIdentifier\", true], [\"IMedia Identifier\", \"http://www.ebu.ch/metadata/ontologies/ebucore/ebucore#IMediaIdentifier\", true], [\"ISAN\", \"http://www.ebu.ch/metadata/ontologies/ebucore/ebucore#IsanIdentifier\", true], [\"Link\", \"http://www.ebu.ch/metadata/ontologies/ebucore/ebucore#Link\", true], [\"Fictional location\", \"http://www.ebu.ch/metadata/ontologies/ebucore/ebucore#FictionalLocation\", true], [\"Location\", \"http://www.ebu.ch/metadata/ontologies/ebucore/ebucore#Location\", false], [\"Locator\", \"http://www.ebu.ch/metadata/ontologies/ebucore/ebucore#Locator\", true], [\"Publication Event\", \"http://www.ebu.ch/metadata/ontologies/ebucore/ebucore#PublicationEvent\", true], [\"Publication History\", \"http://www.ebu.ch/metadata/ontologies/ebucore/ebucore#PublicationHistory\", true], [\"Publication logg\", \"http://www.ebu.ch/metadata/ontologies/ebucore/ebucore#PublicationLogg\", true], [\"Publication plan\", \"http://www.ebu.ch/metadata/ontologies/ebucore/ebucore#PublicationPlan\", true], [\"Rating\", \"http://www.ebu.ch/metadata/ontologies/ebucore/ebucore#Rating\", false], [\"Target audience\", \"http://www.ebu.ch/metadata/ontologies/ebucore/ebucore#AudienceLevel\", true], [\"Audience rating\", \"http://www.ebu.ch/metadata/ontologies/ebucore/ebucore#AudienceRating\", true], [\"Relation\", \"http://www.ebu.ch/metadata/ontologies/ebucore/ebucore#Relation\", true], [\"Document\", \"http://www.ebu.ch/metadata/ontologies/ebucore/ebucore#Document\", false], [\"Dopesheet\", \"http://www.ebu.ch/metadata/ontologies/ebucore/ebucore#Dopesheet\", true], [\"Audio object\", \"http://www.ebu.ch/metadata/ontologies/ebucore/ebucore#AudioObject\", true], [\"Component\", \"http://www.ebu.ch/metadata/ontologies/ebucore/ebucore#Component\", false], [\"Stream\", \"http://www.ebu.ch/metadata/ontologies/ebucore/ebucore#Stream\", false], [\"Audio stream\", \"http://www.ebu.ch/metadata/ontologies/ebucore/ebucore#AudioStream\", true], [\"Video stream\", \"http://www.ebu.ch/metadata/ontologies/ebucore/ebucore#VideoStream\", true], [\"BMEssence\", \"http://www.ebu.ch/metadata/ontologies/ebucore/ebucore#BMEssence\", true], [\"Essence\", \"http://www.ebu.ch/metadata/ontologies/ebucore/ebucore#Essence\", false], [\"Media Fragment\", \"http://www.ebu.ch/metadata/ontologies/ebucore/ebucore#MediaFragment\", true], [\"Template\", \"http://www.ebu.ch/metadata/ontologies/ebucore/ebucore#Template\", false], [\"BMTemplate\", \"http://www.ebu.ch/metadata/ontologies/ebucore/ebucore#BMTemplate\", true], [\"Audio track\", \"http://www.ebu.ch/metadata/ontologies/ebucore/ebucore#AudioTrack\", false], [\"Audio description\", \"http://www.ebu.ch/metadata/ontologies/ebucore/ebucore#AudioDescription\", true], [\"Captioning\", \"http://www.ebu.ch/metadata/ontologies/ebucore/ebucore#Captioning\", false], [\"Closed caption\", \"http://www.ebu.ch/metadata/ontologies/ebucore/ebucore#ClosedCaptions\", true], [\"Open captions\", \"http://www.ebu.ch/metadata/ontologies/ebucore/ebucore#OpenCaptions\", true], [\"Data track\", \"http://www.ebu.ch/metadata/ontologies/ebucore/ebucore#DataTrack\", false], [\"Ancillary data\", \"http://www.ebu.ch/metadata/ontologies/ebucore/ebucore#AncillaryData\", true], [\"Metadata track\", \"http://www.ebu.ch/metadata/ontologies/ebucore/ebucore#MetadataTrack\", true], [\"Subtitling\", \"http://www.ebu.ch/metadata/ontologies/ebucore/ebucore#Subtitling\", false], [\"Closed subtitling\", \"http://www.ebu.ch/metadata/ontologies/ebucore/ebucore#ClosedSubtitling\", true], [\"Open subtitling\", \"http://www.ebu.ch/metadata/ontologies/ebucore/ebucore#OpenSubtitling\", true], [\"Timecode track\", \"http://www.ebu.ch/metadata/ontologies/ebucore/ebucore#TimecodeTrack\", true], [\"Video track\", \"http://www.ebu.ch/metadata/ontologies/ebucore/ebucore#VideoTrack\", false], [\"Signing\", \"http://www.ebu.ch/metadata/ontologies/ebucore/ebucore#Signing\", true], [\"Track\", \"http://www.ebu.ch/metadata/ontologies/ebucore/ebucore#Track\", false], [\"Media resource\", \"http://www.ebu.ch/metadata/ontologies/ebucore/ebucore#MediaResource\", false], [\"Physical resource\", \"http://www.ebu.ch/metadata/ontologies/ebucore/ebucore#PhysicalResource\", true], [\"Picture\", \"http://www.ebu.ch/metadata/ontologies/ebucore/ebucore#Picture\", false], [\"key frame\", \"http://www.ebu.ch/metadata/ontologies/ebucore/ebucore#Keyframe\", true], [\"Logo\", \"http://www.ebu.ch/metadata/ontologies/ebucore/ebucore#Logo\", true], [\"Pictogram\", \"http://www.ebu.ch/metadata/ontologies/ebucore/ebucore#Pictogram\", true], [\"Sticker\", \"http://www.ebu.ch/metadata/ontologies/ebucore/ebucore#Sticker\", true], [\"Thumbnail\", \"http://www.ebu.ch/metadata/ontologies/ebucore/ebucore#Thumbnail\", true], [\"Resource\", \"http://www.ebu.ch/metadata/ontologies/ebucore/ebucore#Resource\", false], [\"Access conditions\", \"http://www.ebu.ch/metadata/ontologies/ebucore/ebucore#AccessConditions\", true], [\"Copyright\", \"http://www.ebu.ch/metadata/ontologies/ebucore/ebucore#Copyright\", true], [\"Coverage restrictions\", \"http://www.ebu.ch/metadata/ontologies/ebucore/ebucore#CoverageRestrictions\", true], [\"Creative commons\", \"http://www.ebu.ch/metadata/ontologies/ebucore/ebucore#CreativeCommons\", true], [\"Disclaimer\", \"http://www.ebu.ch/metadata/ontologies/ebucore/ebucore#Disclaimer\", true], [\"Exploitation issues\", \"http://www.ebu.ch/metadata/ontologies/ebucore/ebucore#ExploitationIssues\", true], [\"IPR restrictions\", \"http://www.ebu.ch/metadata/ontologies/ebucore/ebucore#IPRRestrictions\", true], [\"Licensing\", \"http://www.ebu.ch/metadata/ontologies/ebucore/ebucore#Licensing\", true], [\"Rights Clearance\", \"http://www.ebu.ch/metadata/ontologies/ebucore/ebucore#RightsClearance\", true], [\"Usage restrictions\", \"http://www.ebu.ch/metadata/ontologies/ebucore/ebucore#UsageRestrictions\", true], [\"Usage rights\", \"http://www.ebu.ch/metadata/ontologies/ebucore/ebucore#UsageRights\", true], [\"Rights\", \"http://www.ebu.ch/metadata/ontologies/ebucore/ebucore#Rights\", false], [\"Platform\", \"http://www.ebu.ch/metadata/ontologies/ebucore/ebucore#Platform\", true], [\"Publication channel\", \"http://www.ebu.ch/metadata/ontologies/ebucore/ebucore#PublicationChannel\", true], [\"Service\", \"http://www.ebu.ch/metadata/ontologies/ebucore/ebucore#Service\", false], [\"Text line\", \"http://www.ebu.ch/metadata/ontologies/ebucore/ebucore#TextLine\", true], [\"Timeline point\", \"http://www.ebu.ch/metadata/ontologies/ebucore/ebucore#TimelinePoint\", false], [\"Edit unit count\", \"http://www.ebu.ch/metadata/ontologies/ebucore/ebucore#EditUnitCount\", true], [\"Normal play time\", \"http://www.ebu.ch/metadata/ontologies/ebucore/ebucore#NormalPlayTime\", true], [\"Time code\", \"http://www.ebu.ch/metadata/ontologies/ebucore/ebucore#TimeCode\", true], [\"Time code with dropframe\", \"http://www.ebu.ch/metadata/ontologies/ebucore/ebucore#TimeCodeDropFrame\", true], [\"Timeline track\", \"http://www.ebu.ch/metadata/ontologies/ebucore/ebucore#TimelineTrack\", true], [\"Time instant\", \"http://www.w3.org/2006/time#Instant\", false], [\"Uncertain date\", \"http://www.ebu.ch/metadata/ontologies/ebucore/ebucore#UncertainDate\", true], [\"Date-time description\", \"http://www.w3.org/2006/time#DateTimeDescription\", true], [\"Temporal reference system\", \"http://www.w3.org/2006/time#TRS\", true]];\n",
       "\n",
       "    if (typeof require === 'undefined') {\n",
       "        // TODO: This should become the default (use a simple import)\n",
       "        // when the ESM version works independently of whether\n",
       "        // require.js is there or not, see\n",
       "        // https://datatables.net/forums/discussion/69066/esm-es6-module-support?\n",
       "        const {default: $} = await import(\"https://esm.sh/jquery@3.5.0\");\n",
       "        const {default: initDataTables} = await import(\"https://esm.sh/datatables.net@1.11.3?deps=jquery@3.5.0\");\n",
       "\n",
       "        initDataTables();\n",
       "\n",
       "        // Define the dt_args\n",
       "        let dt_args = {\"columnDefs\": [{\"width\": \"120px\", \"className\": \"dt-left\", \"targets\": \"_all\", \"createdCell\": \n",
       "        function (td, cellData, rowData, row, col) {\n",
       "            $(td).css('word-wrap', 'break-word')\n",
       "            if (typeof cellData === 'string') {\n",
       "                if (cellData.includes('1.0')) {\n",
       "                    $(td).html(cellData.replace('.0', '' ))\n",
       "                }\n",
       "            }\n",
       "            if (cellData == false) {\n",
       "                $(td).css('color', '#7DA5C0')\n",
       "                $(td).css('font-weight', 'bold')\n",
       "            }\n",
       "            else if (cellData == true) {\n",
       "                $(td).css('color', '#7CBC97')\n",
       "                $(td).css('font-weight', 'bold')\n",
       "            }\n",
       "        }\n",
       "        }], \"lengthMenu\": [5, 10, 25, 50, -1]};\n",
       "        dt_args[\"data\"] = data;\n",
       "\n",
       "        // Display the table\n",
       "        $(document).ready(function () {\n",
       "            $('#1debf3a6-b096-454d-b3c9-77712b31951c').DataTable(dt_args);\n",
       "        });\n",
       "    } else {\n",
       "        require([\"jquery\", \"datatables\"], ($, datatables) => {\n",
       "                // Define the dt_args\n",
       "                let dt_args = {\"columnDefs\": [{\"width\": \"120px\", \"className\": \"dt-left\", \"targets\": \"_all\", \"createdCell\": \n",
       "        function (td, cellData, rowData, row, col) {\n",
       "            $(td).css('word-wrap', 'break-word')\n",
       "            if (typeof cellData === 'string') {\n",
       "                if (cellData.includes('1.0')) {\n",
       "                    $(td).html(cellData.replace('.0', '' ))\n",
       "                }\n",
       "            }\n",
       "            if (cellData == false) {\n",
       "                $(td).css('color', '#7DA5C0')\n",
       "                $(td).css('font-weight', 'bold')\n",
       "            }\n",
       "            else if (cellData == true) {\n",
       "                $(td).css('color', '#7CBC97')\n",
       "                $(td).css('font-weight', 'bold')\n",
       "            }\n",
       "        }\n",
       "        }], \"lengthMenu\": [5, 10, 25, 50, -1]};\n",
       "                dt_args[\"data\"] = data;\n",
       "\n",
       "                // Display the table\n",
       "                $(document).ready(function () {\n",
       "                    $('#1debf3a6-b096-454d-b3c9-77712b31951c').DataTable(dt_args);\n",
       "                });\n",
       "            }\n",
       "        )\n",
       "    }\n",
       "</script>\n"
      ],
      "text/plain": [
       "<IPython.core.display.HTML object>"
      ]
     },
     "metadata": {},
     "output_type": "display_data"
    }
   ],
   "source": [
    "all_classes_df = get_all_classes(source_df=classes_df,\n",
    "                                 language='en',\n",
    "                                 show_table=True)"
   ]
  },
  {
   "cell_type": "markdown",
   "id": "a8edbfea-7a56-4f36-9b00-ad62fe135067",
   "metadata": {
    "tags": []
   },
   "source": [
    "### Class descriptions\n",
    "Here you see the description of one or more classes.\n",
    "\n",
    ">Use the table above to look up and copy one or more class IRIs to the iris parameter as a comma-separated list.\n",
    ">\n",
    ">The basic language is English ('en'). Released versions of EBUCore+ will also support German ('de'), French ('fr'), and possibly further languages."
   ]
  },
  {
   "cell_type": "code",
   "execution_count": 3,
   "id": "16df2eb9-63cf-4251-a5d3-d4362f524cbf",
   "metadata": {
    "tags": []
   },
   "outputs": [
    {
     "data": {
      "text/html": [
       "<table id=\"ab8c05cb-d1a6-430c-ad1f-4ae136273411\" class=\"cell-border stripe hover\"style=\"max-width:100%\"><h4><label style=\"font-weight:bold\">Table: </label><label>Description of class EditorialObject</label></h4><thead>\n",
       "    <tr style=\"text-align: right;\">\n",
       "      \n",
       "      <th>Label</th>\n",
       "      <th>dcterms:description</th>\n",
       "    </tr>\n",
       "  </thead><tbody><tr><td>Loading... (need <a href=https://mwouts.github.io/itables/troubleshooting.html>help</a>?)</td></tr></tbody></table>\n",
       "<link rel=\"stylesheet\" type=\"text/css\" href=\"https://cdn.datatables.net/1.11.3/css/jquery.dataTables.min.css\">\n",
       "<style> table td {\n",
       "    text-overflow: ellipsis;\n",
       "    overflow: hidden;\n",
       "} </style>\n",
       "<style> table th {\n",
       "    text-overflow: ellipsis;\n",
       "    overflow: hidden;\n",
       "} </style>\n",
       "<script type=\"module\">\n",
       "    // Define the table data\n",
       "    const data = [[\"Editorial object\", \"An EditorialObject collects all the descriptive information about an object to be realised as a single MediaResource or a collection thereof. An \\u00abEditorialObject\\u00bb describes any idea, any story and will be used to transform a concept into an editorial definition of a MediaResource before fabrication (Production Domain) and Distribution (Distribution Domain).\\r\\nAn \\u00abEditorialObject\\u00bb is a set of descriptive metadata summarising e.g. editing decisions. An \\u00abEditorialObject\\u00bb can be a group of EditorialObjects. An \\u00abEditorialObject\\u00bb can also be a part of another \\u00abEditorialObject\\u00bb, which is defined by its start time and duration. EditorialObjects can be ordered either as groups or as items on a timeline.\\r\\nExamples of simple EditorialObjects: Programme, Item, Shot,Part, etc. Examples of Groups: Brand, Series, Serial, Collection, etc.\\r\\nA simplifieduse-case:\\r\\nA news broadcast consists of two news items. One news item contains the last ten seconds of a one minute long interview taken from another source (i.e. 50\\\" >60\\\" ).\\r\\n This could be modelled as follows:\\r\\n\\u2022 The NewsBroadcast is linked\\r\\n      to a MediaResource using the instantiates-property\\r\\n\\u2022 The NewsItems are linked to the\\r\\n      NewsBroadcast using a TimelineTrack. Tech 3351 EBU CCDM 13\\r\\n\\u2022 The InterviewPart is\\r\\n      linked to the NewsItem using the hasMember-property. Start and Duration are properties within\\r\\n      the InterviewPart indicating its appearance within the NewsItem2.\\r\\n\\u2022 The InterviewPart\\r\\n      is linked to its original source using the existsAs-property\\r\\n\\u2022 The Interview\\r\\n      instantiates a MediaResource, which in turn is linked from the MediaResource of the\\r\\n      NewsBroadcast using the hasSource-property\\r\\n\\u2022 Representation of segmentation:\\r\\n      TimelineTracks are preferred over hasPart-properties, when a rundown is needed, e.g. for\\r\\n      playout.\"]];\n",
       "\n",
       "    if (typeof require === 'undefined') {\n",
       "        // TODO: This should become the default (use a simple import)\n",
       "        // when the ESM version works independently of whether\n",
       "        // require.js is there or not, see\n",
       "        // https://datatables.net/forums/discussion/69066/esm-es6-module-support?\n",
       "        const {default: $} = await import(\"https://esm.sh/jquery@3.5.0\");\n",
       "        const {default: initDataTables} = await import(\"https://esm.sh/datatables.net@1.11.3?deps=jquery@3.5.0\");\n",
       "\n",
       "        initDataTables();\n",
       "\n",
       "        // Define the dt_args\n",
       "        let dt_args = {\"columnDefs\": [{\"width\": \"120px\", \"className\": \"dt-left\", \"targets\": \"_all\", \"createdCell\": \n",
       "        function (td, cellData, rowData, row, col) {\n",
       "            $(td).css('word-wrap', 'break-word')\n",
       "            if (typeof cellData === 'string') {\n",
       "                if (cellData.includes('1.0')) {\n",
       "                    $(td).html(cellData.replace('.0', '' ))\n",
       "                }\n",
       "            }\n",
       "            if (cellData == false) {\n",
       "                $(td).css('color', '#7DA5C0')\n",
       "                $(td).css('font-weight', 'bold')\n",
       "            }\n",
       "            else if (cellData == true) {\n",
       "                $(td).css('color', '#7CBC97')\n",
       "                $(td).css('font-weight', 'bold')\n",
       "            }\n",
       "        }\n",
       "        }], \"lengthMenu\": [5, 10, 25, 50, -1], \"paging\": false};\n",
       "        dt_args[\"data\"] = data;\n",
       "\n",
       "        // Display the table\n",
       "        $(document).ready(function () {\n",
       "            $('#ab8c05cb-d1a6-430c-ad1f-4ae136273411').DataTable(dt_args);\n",
       "        });\n",
       "    } else {\n",
       "        require([\"jquery\", \"datatables\"], ($, datatables) => {\n",
       "                // Define the dt_args\n",
       "                let dt_args = {\"columnDefs\": [{\"width\": \"120px\", \"className\": \"dt-left\", \"targets\": \"_all\", \"createdCell\": \n",
       "        function (td, cellData, rowData, row, col) {\n",
       "            $(td).css('word-wrap', 'break-word')\n",
       "            if (typeof cellData === 'string') {\n",
       "                if (cellData.includes('1.0')) {\n",
       "                    $(td).html(cellData.replace('.0', '' ))\n",
       "                }\n",
       "            }\n",
       "            if (cellData == false) {\n",
       "                $(td).css('color', '#7DA5C0')\n",
       "                $(td).css('font-weight', 'bold')\n",
       "            }\n",
       "            else if (cellData == true) {\n",
       "                $(td).css('color', '#7CBC97')\n",
       "                $(td).css('font-weight', 'bold')\n",
       "            }\n",
       "        }\n",
       "        }], \"lengthMenu\": [5, 10, 25, 50, -1], \"paging\": false};\n",
       "                dt_args[\"data\"] = data;\n",
       "\n",
       "                // Display the table\n",
       "                $(document).ready(function () {\n",
       "                    $('#ab8c05cb-d1a6-430c-ad1f-4ae136273411').DataTable(dt_args);\n",
       "                });\n",
       "            }\n",
       "        )\n",
       "    }\n",
       "</script>\n"
      ],
      "text/plain": [
       "<IPython.core.display.HTML object>"
      ]
     },
     "metadata": {},
     "output_type": "display_data"
    }
   ],
   "source": [
    "iris = ['http://www.ebu.ch/metadata/ontologies/ebucore/ebucore#EditorialObject']\n",
    "description = get_description(source_df=classes_df,\n",
    "                              iris=iris,\n",
    "                              language='en',\n",
    "                              show_table=True)"
   ]
  },
  {
   "cell_type": "markdown",
   "id": "11fdf1d8-2eb0-4701-bf67-bc011c7ef024",
   "metadata": {
    "tags": []
   },
   "source": [
    "### Class hierarchy\n",
    "Here you can examine the hierarchy of one or more classes.\n",
    "\n",
    ">You can choose between a tabular view (next code cell) and a graphical view (next but one).\n",
    "\n",
    "First copy one or more class IRIs to the iris parameter.\n",
    "\n",
    ">If you want to see superclasses, set \"show_superclasses=True\". Analogously for subclasses. The result set is limited to direct super- and subclasses.\n",
    "\n",
    "You can extend the result set in an incremental manner. Let's assume you start with class A and find superclasses B and C. If you want to learn more about class B, you can either set \"iris = \\[iri_B\\]\" or \"iris = \\[iri_A,iri_B\\]\". In the second case you get class A with its superclasses B, C and in addition all superclasses of class B. The latter are 2nd-level superclasses of class A.\n",
    "\n",
    ">This way you can examine chains of super- and subclasses across as many hierarchical levels as required.\n",
    "\n",
    "This is particularly useful in the graphical view.\n",
    "\n",
    ">Elements of the graph are highlighted when selected."
   ]
  },
  {
   "cell_type": "code",
   "execution_count": 4,
   "id": "2bea315e-fefd-4913-84dd-eec9566eb8e3",
   "metadata": {
    "tags": []
   },
   "outputs": [
    {
     "data": {
      "text/html": [
       "<table id=\"3345e578-c377-4b8f-97af-75a0a1b35bcc\" class=\"cell-border stripe hover\"style=\"max-width:100%\"><h4><label style=\"font-weight:bold\">Table: </label><label>Class hierarchy of EditorialObject</label></h4><thead>\n",
       "    <tr style=\"text-align: right;\">\n",
       "      \n",
       "      <th>Label</th>\n",
       "      <th>IRI</th>\n",
       "      <th>IsLeafClass</th>\n",
       "      <th>Superclass labels</th>\n",
       "      <th>Superclass IRIs</th>\n",
       "    </tr>\n",
       "  </thead><tbody><tr><td>Loading... (need <a href=https://mwouts.github.io/itables/troubleshooting.html>help</a>?)</td></tr></tbody></table>\n",
       "<link rel=\"stylesheet\" type=\"text/css\" href=\"https://cdn.datatables.net/1.11.3/css/jquery.dataTables.min.css\">\n",
       "<style> table td {\n",
       "    text-overflow: ellipsis;\n",
       "    overflow: hidden;\n",
       "} </style>\n",
       "<style> table th {\n",
       "    text-overflow: ellipsis;\n",
       "    overflow: hidden;\n",
       "} </style>\n",
       "<script type=\"module\">\n",
       "    // Define the table data\n",
       "    const data = [[\"BMContent\", \"http://www.ebu.ch/metadata/ontologies/ebucore/ebucore#BMContent\", true, \"Editorial object\", \"http://www.ebu.ch/metadata/ontologies/ebucore/ebucore#EditorialObject\"], [\"Business Object\", \"http://www.ebu.ch/metadata/ontologies/ebucore/ebucore#BusinessObject\", false, \"Asset\", \"http://www.ebu.ch/metadata/ontologies/ebucore/ebucore#Asset\"], [\"Clip\", \"http://www.ebu.ch/metadata/ontologies/ebucore/ebucore#Clip\", true, \"Editorial object\", \"http://www.ebu.ch/metadata/ontologies/ebucore/ebucore#EditorialObject\"], [\"Editorial object\", \"http://www.ebu.ch/metadata/ontologies/ebucore/ebucore#EditorialObject\", false, \"Business Object\", \"http://www.ebu.ch/metadata/ontologies/ebucore/ebucore#BusinessObject\"], [\"Episode\", \"http://www.ebu.ch/metadata/ontologies/ebucore/ebucore#Episode\", true, \"Editorial object\", \"http://www.ebu.ch/metadata/ontologies/ebucore/ebucore#EditorialObject\"], [\"Feature\", \"http://www.ebu.ch/metadata/ontologies/ebucore/ebucore#Feature\", true, \"Editorial object\", \"http://www.ebu.ch/metadata/ontologies/ebucore/ebucore#EditorialObject\"], [\"Item\", \"http://www.ebu.ch/metadata/ontologies/ebucore/ebucore#Item\", false, \"Editorial object\", \"http://www.ebu.ch/metadata/ontologies/ebucore/ebucore#EditorialObject\"], [\"Part, Fragment, Segment\", \"http://www.ebu.ch/metadata/ontologies/ebucore/ebucore#Part\", true, \"Editorial object\", \"http://www.ebu.ch/metadata/ontologies/ebucore/ebucore#EditorialObject\"], [\"Programme\", \"http://www.ebu.ch/metadata/ontologies/ebucore/ebucore#Programme\", false, \"Editorial object\", \"http://www.ebu.ch/metadata/ontologies/ebucore/ebucore#EditorialObject\"], [\"Scene\", \"http://www.ebu.ch/metadata/ontologies/ebucore/ebucore#Scene\", true, \"Editorial object\", \"http://www.ebu.ch/metadata/ontologies/ebucore/ebucore#EditorialObject\"], [\"Shot\", \"http://www.ebu.ch/metadata/ontologies/ebucore/ebucore#Shot\", true, \"Editorial object\", \"http://www.ebu.ch/metadata/ontologies/ebucore/ebucore#EditorialObject\"], [\"Take\", \"http://www.ebu.ch/metadata/ontologies/ebucore/ebucore#Take\", true, \"Editorial object\", \"http://www.ebu.ch/metadata/ontologies/ebucore/ebucore#EditorialObject\"], [\"Version\", \"http://www.ebu.ch/metadata/ontologies/ebucore/ebucore#Version\", true, \"Editorial object\", \"http://www.ebu.ch/metadata/ontologies/ebucore/ebucore#EditorialObject\"]];\n",
       "\n",
       "    if (typeof require === 'undefined') {\n",
       "        // TODO: This should become the default (use a simple import)\n",
       "        // when the ESM version works independently of whether\n",
       "        // require.js is there or not, see\n",
       "        // https://datatables.net/forums/discussion/69066/esm-es6-module-support?\n",
       "        const {default: $} = await import(\"https://esm.sh/jquery@3.5.0\");\n",
       "        const {default: initDataTables} = await import(\"https://esm.sh/datatables.net@1.11.3?deps=jquery@3.5.0\");\n",
       "\n",
       "        initDataTables();\n",
       "\n",
       "        // Define the dt_args\n",
       "        let dt_args = {\"columnDefs\": [{\"width\": \"120px\", \"className\": \"dt-left\", \"targets\": \"_all\", \"createdCell\": \n",
       "        function (td, cellData, rowData, row, col) {\n",
       "            $(td).css('word-wrap', 'break-word')\n",
       "            if (typeof cellData === 'string') {\n",
       "                if (cellData.includes('1.0')) {\n",
       "                    $(td).html(cellData.replace('.0', '' ))\n",
       "                }\n",
       "            }\n",
       "            if (cellData == false) {\n",
       "                $(td).css('color', '#7DA5C0')\n",
       "                $(td).css('font-weight', 'bold')\n",
       "            }\n",
       "            else if (cellData == true) {\n",
       "                $(td).css('color', '#7CBC97')\n",
       "                $(td).css('font-weight', 'bold')\n",
       "            }\n",
       "        }\n",
       "        }], \"lengthMenu\": [5, 10, 25, 50, -1]};\n",
       "        dt_args[\"data\"] = data;\n",
       "\n",
       "        // Display the table\n",
       "        $(document).ready(function () {\n",
       "            $('#3345e578-c377-4b8f-97af-75a0a1b35bcc').DataTable(dt_args);\n",
       "        });\n",
       "    } else {\n",
       "        require([\"jquery\", \"datatables\"], ($, datatables) => {\n",
       "                // Define the dt_args\n",
       "                let dt_args = {\"columnDefs\": [{\"width\": \"120px\", \"className\": \"dt-left\", \"targets\": \"_all\", \"createdCell\": \n",
       "        function (td, cellData, rowData, row, col) {\n",
       "            $(td).css('word-wrap', 'break-word')\n",
       "            if (typeof cellData === 'string') {\n",
       "                if (cellData.includes('1.0')) {\n",
       "                    $(td).html(cellData.replace('.0', '' ))\n",
       "                }\n",
       "            }\n",
       "            if (cellData == false) {\n",
       "                $(td).css('color', '#7DA5C0')\n",
       "                $(td).css('font-weight', 'bold')\n",
       "            }\n",
       "            else if (cellData == true) {\n",
       "                $(td).css('color', '#7CBC97')\n",
       "                $(td).css('font-weight', 'bold')\n",
       "            }\n",
       "        }\n",
       "        }], \"lengthMenu\": [5, 10, 25, 50, -1]};\n",
       "                dt_args[\"data\"] = data;\n",
       "\n",
       "                // Display the table\n",
       "                $(document).ready(function () {\n",
       "                    $('#3345e578-c377-4b8f-97af-75a0a1b35bcc').DataTable(dt_args);\n",
       "                });\n",
       "            }\n",
       "        )\n",
       "    }\n",
       "</script>\n"
      ],
      "text/plain": [
       "<IPython.core.display.HTML object>"
      ]
     },
     "metadata": {},
     "output_type": "display_data"
    }
   ],
   "source": [
    "iris = ['http://www.ebu.ch/metadata/ontologies/ebucore/ebucore#EditorialObject']\n",
    "hierarchy = get_hierarchy(source_df=classes_df,\n",
    "                          iris=iris,\n",
    "                          show_superclasses=True,\n",
    "                          show_subclasses=True,\n",
    "                          language='en',\n",
    "                          show_table=True)"
   ]
  },
  {
   "cell_type": "code",
   "execution_count": 5,
   "id": "da5019a1-12ec-4cba-948f-1400124944cf",
   "metadata": {
    "tags": []
   },
   "outputs": [
    {
     "data": {
      "text/html": [
       "\n",
       "        <iframe\n",
       "            width=\"100%\"\n",
       "            height=\"800px\"\n",
       "            src=\"graphs/editorial_object_basic.html\"\n",
       "            frameborder=\"0\"\n",
       "            allowfullscreen\n",
       "            \n",
       "        ></iframe>\n",
       "        "
      ],
      "text/plain": [
       "<IPython.lib.display.IFrame at 0x7feda1883b50>"
      ]
     },
     "execution_count": 5,
     "metadata": {},
     "output_type": "execute_result"
    }
   ],
   "source": [
    "iris = ['http://www.ebu.ch/metadata/ontologies/ebucore/ebucore#EditorialObject']\n",
    "graph = visualize_hierarchy(tenant=TENANT,\n",
    "                            username=USERNAME,\n",
    "                            password=PASSWORD,\n",
    "                            source_df=classes_df,\n",
    "                            iris=iris,\n",
    "                            show_superclasses=True,\n",
    "                            show_subclasses=True,\n",
    "                            language='en')\n",
    "graph.show('graphs/editorial_object_basic.html')"
   ]
  },
  {
   "cell_type": "markdown",
   "id": "2318c216-e712-4b0e-9317-434024273161",
   "metadata": {
    "tags": []
   },
   "source": [
    "<img src=\"https://image-assets-for-cdk.s3.eu-central-1.amazonaws.com/legend_for_cell.png\" alt=\"Drawing\" style=\"width: 350px;\"/>"
   ]
  },
  {
   "cell_type": "markdown",
   "id": "d1c74e4c-3ac4-484b-ba8a-228faee20bdf",
   "metadata": {
    "tags": []
   },
   "source": [
    "### Class properties\n",
    "Here you can examine the properties of a class. Technically speaking, we refer to OWL class restrictions. You can use the tabular or the graphical view to gain insight.\n",
    "\n",
    ">If you set \"show_superclasses=True\" for the graph, the result will include the properties of all direct superclasses of the specified class. Analogously for subclasses."
   ]
  },
  {
   "cell_type": "code",
   "execution_count": 6,
   "id": "e0880103-fb53-4035-b824-de803ecbaa45",
   "metadata": {
    "tags": []
   },
   "outputs": [
    {
     "data": {
      "text/html": [
       "<table id=\"db865292-1216-4881-b468-48d2285b673f\" class=\"cell-border stripe hover\"style=\"max-width:100%\"><h4><label style=\"font-weight:bold\">Table: </label><label>Properties of class EditorialObject</label></h4><thead>\n",
       "    <tr style=\"text-align: right;\">\n",
       "      \n",
       "      <th>Property</th>\n",
       "      <th>rdf:type</th>\n",
       "      <th>rdfs:range</th>\n",
       "      <th>owl:maxCardinality</th>\n",
       "      <th>owl:someValuesFrom</th>\n",
       "    </tr>\n",
       "  </thead><tbody><tr><td>Loading... (need <a href=https://mwouts.github.io/itables/troubleshooting.html>help</a>?)</td></tr></tbody></table>\n",
       "<link rel=\"stylesheet\" type=\"text/css\" href=\"https://cdn.datatables.net/1.11.3/css/jquery.dataTables.min.css\">\n",
       "<style> table td {\n",
       "    text-overflow: ellipsis;\n",
       "    overflow: hidden;\n",
       "} </style>\n",
       "<style> table th {\n",
       "    text-overflow: ellipsis;\n",
       "    overflow: hidden;\n",
       "} </style>\n",
       "<script type=\"module\">\n",
       "    // Define the table data\n",
       "    const data = [[\"ec:dateBroadcast\", \"owl:ObjectProperty\", \"time:Instant\", \"1.0\", \"\"], [\"ec:duration\", \"owl:ObjectProperty\", \"ec:TimelinePoint\", \"1.0\", \"\"], [\"ec:end\", \"owl:ObjectProperty\", \"ec:TimelinePoint\", \"1.0\", \"\"], [\"ec:isNextInSequence\", \"owl:ObjectProperty\", \"ec:EditorialObject\", \"1.0\", \"\"], [\"ec:isPreviousInSequence\", \"owl:ObjectProperty\", \"ec:EditorialObject\", \"1.0\", \"\"], [\"ec:start\", \"owl:ObjectProperty\", \"ec:TimelinePoint\", \"1.0\", \"\"], [\"ec:midRollAdAllowed\", \"owl:DatatypeProperty\", \"xsd:boolean\", \"1.0\", \"\"], [\"ec:orderedFlag\", \"owl:DatatypeProperty\", \"xsd:boolean\", \"1.0\", \"\"], [\"ec:partTotalNumber\", \"owl:DatatypeProperty\", \"xsd:integer\", \"1.0\", \"\"], [\"ec:resolution\", \"owl:DatatypeProperty\", \"xsd:string\", \"1.0\", \"\"], [\"ec:translationTitle\", \"owl:DatatypeProperty\", \"rdfs:Literal\", \"\", \"rdfs:Literal\"], [\"ec:approvedBy\", \"owl:ObjectProperty\", \"ec:Agent\", \"\", \"ec:Agent\"], [\"ec:hasPart\", \"owl:ObjectProperty\", \"ec:Part\", \"\", \"ec:Part\"], [\"ec:isBrand\", \"owl:ObjectProperty\", \"ec:Brand\", \"\", \"ec:Brand\"], [\"ec:resourceOffset\", \"owl:ObjectProperty\", \"ec:TimelinePoint\", \"\", \"ec:TimelinePoint\"], [\"ebuccdm:orderedFlag\", \"owl:DatatypeProperty\", \"xsd:boolean\", \"\", \"\"], [\"ec:folksonomy\", \"owl:DatatypeProperty\", \"rdfs:Literal\", \"\", \"\"], [\"ebuccdm:hasAssociatedProductionJob\", \"owl:ObjectProperty\", \"ebuccdm:ProductionJob\", \"\", \"\"], [\"ebuccdm:hasRelatedResonanceEvent\", \"owl:ObjectProperty\", \"ebuccdm:ResonanceEvent\", \"\", \"\"], [\"ebuccdm:isCommissionedBy\", \"owl:ObjectProperty\", \"ebuccdm:Contract\", \"\", \"\"], [\"ebuccdm:isExtractOf\", \"owl:ObjectProperty\", \"ec:EditorialObject\", \"\", \"\"], [\"ec:editorialObjectType\", \"owl:ObjectProperty\", \"skos:Concept\", \"\", \"\"], [\"ec:existsAs\", \"owl:ObjectProperty\", \"ec:EditorialObject\", \"\", \"\"], [\"ec:hasAudioDescription\", \"owl:ObjectProperty\", \"ec:AudioDescription\", \"\", \"\"], [\"ec:hasCaptioning\", \"owl:ObjectProperty\", \"ec:Captioning\", \"\", \"\"], [\"ec:hasContentEditorialFormat\", \"owl:ObjectProperty\", \"ec:ContentEditorialFormat\", \"\", \"\"], [\"ec:hasMediaFragment\", \"owl:ObjectProperty\", \"ec:MediaFragment\", \"\", \"\"], [\"ec:isMemberOf\", \"owl:ObjectProperty\", \"ec:Group\", \"\", \"\"], [\"ec:hasParentEditorialObject\", \"owl:ObjectProperty\", \"ec:EditorialObject\", \"\", \"\"], [\"ec:hasRelatedArtefact\", \"owl:ObjectProperty\", \"ec:Artefact\", \"\", \"\"], [\"ec:hasRelatedAudioContent\", \"owl:ObjectProperty\", \"ec:AudioContent\", \"\", \"\"], [\"ec:hasRelatedAudioProgramme\", \"owl:ObjectProperty\", \"ec:AudioProgramme\", \"\", \"\"], [\"ec:hasRelatedEditorialObject\", \"owl:ObjectProperty\", \"ec:EditorialObject\", \"\", \"\"], [\"ec:hasRelatedMediaResource\", \"owl:ObjectProperty\", \"ec:MediaResource\", \"\", \"\"], [\"ec:hasRelatedTextLine\", \"owl:ObjectProperty\", \"ec:TextLine\", \"\", \"\"], [\"ec:hasScene\", \"owl:ObjectProperty\", \"ec:Scene\", \"\", \"\"], [\"ec:hasSigning\", \"owl:ObjectProperty\", \"ec:Signing\", \"\", \"\"], [\"ec:hasSubtitling\", \"owl:ObjectProperty\", \"ec:Subtitling\", \"\", \"\"], [\"ec:hasTake\", \"owl:ObjectProperty\", \"ec:Take\", \"\", \"\"], [\"ec:hasTimelineTrack\", \"owl:ObjectProperty\", \"ec:TimelineTrack\", \"\", \"\"], [\"ec:isInstantiatedBy\", \"owl:ObjectProperty\", \"ec:MediaResource\", \"\", \"\"], [\"ec:isDistributedOn\", \"owl:ObjectProperty\", \"ec:Service\", \"\", \"\"], [\"ec:isEditorialFormatOf\", \"owl:ObjectProperty\", \"ec:EditorialObject\", \"\", \"\"], [\"ec:isScheduledOn\", \"owl:ObjectProperty\", \"ec:PublicationEvent\", \"\", \"\"], [\"ec:isTimelineTrackPartOf\", \"owl:ObjectProperty\", \"ec:TimelineTrack\", \"\", \"\"], [\"ec:references\", \"owl:ObjectProperty\", \"ec:MediaResource\", \"\", \"\"]];\n",
       "\n",
       "    if (typeof require === 'undefined') {\n",
       "        // TODO: This should become the default (use a simple import)\n",
       "        // when the ESM version works independently of whether\n",
       "        // require.js is there or not, see\n",
       "        // https://datatables.net/forums/discussion/69066/esm-es6-module-support?\n",
       "        const {default: $} = await import(\"https://esm.sh/jquery@3.5.0\");\n",
       "        const {default: initDataTables} = await import(\"https://esm.sh/datatables.net@1.11.3?deps=jquery@3.5.0\");\n",
       "\n",
       "        initDataTables();\n",
       "\n",
       "        // Define the dt_args\n",
       "        let dt_args = {\"columnDefs\": [{\"width\": \"120px\", \"className\": \"dt-left\", \"targets\": \"_all\", \"createdCell\": \n",
       "        function (td, cellData, rowData, row, col) {\n",
       "            $(td).css('word-wrap', 'break-word')\n",
       "            if (typeof cellData === 'string') {\n",
       "                if (cellData.includes('1.0')) {\n",
       "                    $(td).html(cellData.replace('.0', '' ))\n",
       "                }\n",
       "            }\n",
       "            if (cellData == false) {\n",
       "                $(td).css('color', '#7DA5C0')\n",
       "                $(td).css('font-weight', 'bold')\n",
       "            }\n",
       "            else if (cellData == true) {\n",
       "                $(td).css('color', '#7CBC97')\n",
       "                $(td).css('font-weight', 'bold')\n",
       "            }\n",
       "        }\n",
       "        }], \"lengthMenu\": [5, 10, 25, 50, -1]};\n",
       "        dt_args[\"data\"] = data;\n",
       "\n",
       "        // Display the table\n",
       "        $(document).ready(function () {\n",
       "            $('#db865292-1216-4881-b468-48d2285b673f').DataTable(dt_args);\n",
       "        });\n",
       "    } else {\n",
       "        require([\"jquery\", \"datatables\"], ($, datatables) => {\n",
       "                // Define the dt_args\n",
       "                let dt_args = {\"columnDefs\": [{\"width\": \"120px\", \"className\": \"dt-left\", \"targets\": \"_all\", \"createdCell\": \n",
       "        function (td, cellData, rowData, row, col) {\n",
       "            $(td).css('word-wrap', 'break-word')\n",
       "            if (typeof cellData === 'string') {\n",
       "                if (cellData.includes('1.0')) {\n",
       "                    $(td).html(cellData.replace('.0', '' ))\n",
       "                }\n",
       "            }\n",
       "            if (cellData == false) {\n",
       "                $(td).css('color', '#7DA5C0')\n",
       "                $(td).css('font-weight', 'bold')\n",
       "            }\n",
       "            else if (cellData == true) {\n",
       "                $(td).css('color', '#7CBC97')\n",
       "                $(td).css('font-weight', 'bold')\n",
       "            }\n",
       "        }\n",
       "        }], \"lengthMenu\": [5, 10, 25, 50, -1]};\n",
       "                dt_args[\"data\"] = data;\n",
       "\n",
       "                // Display the table\n",
       "                $(document).ready(function () {\n",
       "                    $('#db865292-1216-4881-b468-48d2285b673f').DataTable(dt_args);\n",
       "                });\n",
       "            }\n",
       "        )\n",
       "    }\n",
       "</script>\n"
      ],
      "text/plain": [
       "<IPython.core.display.HTML object>"
      ]
     },
     "metadata": {},
     "output_type": "display_data"
    }
   ],
   "source": [
    "iri = 'http://www.ebu.ch/metadata/ontologies/ebucore/ebucore#EditorialObject'\n",
    "properties = get_properties(tenant=TENANT,\n",
    "                            username=USERNAME,\n",
    "                            password=PASSWORD,\n",
    "                            iri=iri,\n",
    "                            show_table=True)"
   ]
  },
  {
   "cell_type": "code",
   "execution_count": 7,
   "id": "be45e4d0-c427-4e92-a52b-bb1722b7655e",
   "metadata": {
    "tags": []
   },
   "outputs": [
    {
     "data": {
      "text/html": [
       "\n",
       "        <iframe\n",
       "            width=\"100%\"\n",
       "            height=\"800px\"\n",
       "            src=\"graphs/editorial_object.html\"\n",
       "            frameborder=\"0\"\n",
       "            allowfullscreen\n",
       "            \n",
       "        ></iframe>\n",
       "        "
      ],
      "text/plain": [
       "<IPython.lib.display.IFrame at 0x7fed701689a0>"
      ]
     },
     "execution_count": 7,
     "metadata": {},
     "output_type": "execute_result"
    }
   ],
   "source": [
    "iris = ['http://www.ebu.ch/metadata/ontologies/ebucore/ebucore#EditorialObject']\n",
    "graph = visualize_properties(tenant=TENANT,\n",
    "                             username=USERNAME,\n",
    "                             password=PASSWORD,\n",
    "                             source_df=classes_df,\n",
    "                             iris=iris,\n",
    "                             show_superclasses=False,\n",
    "                             show_subclasses=False,\n",
    "                             language='en')\n",
    "graph.show('graphs/editorial_object.html')"
   ]
  },
  {
   "cell_type": "markdown",
   "id": "6f2b58f3-6b3b-45b4-b76c-d933d2ca1984",
   "metadata": {
    "tags": []
   },
   "source": [
    "<img src=\"https://image-assets-for-cdk.s3.eu-central-1.amazonaws.com/legend_for_cell.png\" alt=\"Drawing\" style=\"width: 350px;\"/>\n"
   ]
  },
  {
   "cell_type": "markdown",
   "id": "9a30ffc1-9c51-4909-9ec5-d48e50cd00a8",
   "metadata": {
    "tags": []
   },
   "source": [
    "## Exploration of sample data\n",
    "### List of individuals\n",
    "Here you get an overview of all individuals of a given class in the sample data."
   ]
  },
  {
   "cell_type": "code",
   "execution_count": 8,
   "id": "8db7e8d8-be61-492b-b5f1-6fd86045d2ce",
   "metadata": {
    "tags": []
   },
   "outputs": [
    {
     "data": {
      "text/html": [
       "<table id=\"47614e1f-295d-4cfe-a248-44e5914c2aca\" class=\"cell-border stripe hover\"style=\"max-width:100%\"><h4><label style=\"font-weight:bold\">Table: </label><label>Individuals of class EditorialObject</label></h4><thead>\n",
       "    <tr style=\"text-align: right;\">\n",
       "      \n",
       "      <th>IRI</th>\n",
       "      <th>ec:alternativeTitle</th>\n",
       "      <th>ec:contentDescription</th>\n",
       "    </tr>\n",
       "  </thead><tbody><tr><td>Loading... (need <a href=https://mwouts.github.io/itables/troubleshooting.html>help</a>?)</td></tr></tbody></table>\n",
       "<link rel=\"stylesheet\" type=\"text/css\" href=\"https://cdn.datatables.net/1.11.3/css/jquery.dataTables.min.css\">\n",
       "<style> table td {\n",
       "    text-overflow: ellipsis;\n",
       "    overflow: hidden;\n",
       "} </style>\n",
       "<style> table th {\n",
       "    text-overflow: ellipsis;\n",
       "    overflow: hidden;\n",
       "} </style>\n",
       "<script type=\"module\">\n",
       "    // Define the table data\n",
       "    const data = [[\"http://www.ebu.ch/metadata/ontologies/ebucore/ebucore#SOMEPROGRAMME\", \"Et prg\", \"Et merke\"], [\"http://www.ebu.ch/metadata/ontologies/ebucore/ebucore#SOMEPROGRAMME\", \"Et prg\", \"et annet merke (some tag)\"]];\n",
       "\n",
       "    if (typeof require === 'undefined') {\n",
       "        // TODO: This should become the default (use a simple import)\n",
       "        // when the ESM version works independently of whether\n",
       "        // require.js is there or not, see\n",
       "        // https://datatables.net/forums/discussion/69066/esm-es6-module-support?\n",
       "        const {default: $} = await import(\"https://esm.sh/jquery@3.5.0\");\n",
       "        const {default: initDataTables} = await import(\"https://esm.sh/datatables.net@1.11.3?deps=jquery@3.5.0\");\n",
       "\n",
       "        initDataTables();\n",
       "\n",
       "        // Define the dt_args\n",
       "        let dt_args = {\"columnDefs\": [{\"width\": \"120px\", \"className\": \"dt-left\", \"targets\": \"_all\", \"createdCell\": \n",
       "        function (td, cellData, rowData, row, col) {\n",
       "            $(td).css('word-wrap', 'break-word')\n",
       "            if (typeof cellData === 'string') {\n",
       "                if (cellData.includes('1.0')) {\n",
       "                    $(td).html(cellData.replace('.0', '' ))\n",
       "                }\n",
       "            }\n",
       "            if (cellData == false) {\n",
       "                $(td).css('color', '#7DA5C0')\n",
       "                $(td).css('font-weight', 'bold')\n",
       "            }\n",
       "            else if (cellData == true) {\n",
       "                $(td).css('color', '#7CBC97')\n",
       "                $(td).css('font-weight', 'bold')\n",
       "            }\n",
       "        }\n",
       "        }], \"lengthMenu\": [5, 10, 25, 50, -1], \"paging\": false};\n",
       "        dt_args[\"data\"] = data;\n",
       "\n",
       "        // Display the table\n",
       "        $(document).ready(function () {\n",
       "            $('#47614e1f-295d-4cfe-a248-44e5914c2aca').DataTable(dt_args);\n",
       "        });\n",
       "    } else {\n",
       "        require([\"jquery\", \"datatables\"], ($, datatables) => {\n",
       "                // Define the dt_args\n",
       "                let dt_args = {\"columnDefs\": [{\"width\": \"120px\", \"className\": \"dt-left\", \"targets\": \"_all\", \"createdCell\": \n",
       "        function (td, cellData, rowData, row, col) {\n",
       "            $(td).css('word-wrap', 'break-word')\n",
       "            if (typeof cellData === 'string') {\n",
       "                if (cellData.includes('1.0')) {\n",
       "                    $(td).html(cellData.replace('.0', '' ))\n",
       "                }\n",
       "            }\n",
       "            if (cellData == false) {\n",
       "                $(td).css('color', '#7DA5C0')\n",
       "                $(td).css('font-weight', 'bold')\n",
       "            }\n",
       "            else if (cellData == true) {\n",
       "                $(td).css('color', '#7CBC97')\n",
       "                $(td).css('font-weight', 'bold')\n",
       "            }\n",
       "        }\n",
       "        }], \"lengthMenu\": [5, 10, 25, 50, -1], \"paging\": false};\n",
       "                dt_args[\"data\"] = data;\n",
       "\n",
       "                // Display the table\n",
       "                $(document).ready(function () {\n",
       "                    $('#47614e1f-295d-4cfe-a248-44e5914c2aca').DataTable(dt_args);\n",
       "                });\n",
       "            }\n",
       "        )\n",
       "    }\n",
       "</script>\n"
      ],
      "text/plain": [
       "<IPython.core.display.HTML object>"
      ]
     },
     "metadata": {},
     "output_type": "display_data"
    }
   ],
   "source": [
    "iri = 'http://www.ebu.ch/metadata/ontologies/ebucore/ebucore#EditorialObject'\n",
    "individuals = get_individuals(tenant=TENANT,\n",
    "                              username=USERNAME,\n",
    "                              password=PASSWORD,\n",
    "                              iri=iri,\n",
    "                              show_table=True)"
   ]
  },
  {
   "cell_type": "code",
   "execution_count": null,
   "id": "b8c66de5-6ac4-4014-8743-8ac51e8184fc",
   "metadata": {
    "tags": []
   },
   "outputs": [],
   "source": []
  },
  {
   "cell_type": "code",
   "execution_count": null,
   "id": "a5892193-fd23-4fbf-87c6-32a7dfba799c",
   "metadata": {
    "tags": []
   },
   "outputs": [],
   "source": []
  },
  {
   "cell_type": "code",
   "execution_count": null,
   "id": "5e81ac4e-f39b-4fb3-b6c9-6d328fb21d5b",
   "metadata": {
    "tags": []
   },
   "outputs": [],
   "source": []
  }
 ],
 "metadata": {
  "kernelspec": {
   "display_name": "Python 3 (ipykernel)",
   "language": "python",
   "name": "python3"
  },
  "language_info": {
   "codemirror_mode": {
    "name": "ipython",
    "version": 3
   },
   "file_extension": ".py",
   "mimetype": "text/x-python",
   "name": "python",
   "nbconvert_exporter": "python",
   "pygments_lexer": "ipython3",
   "version": "3.8.13"
  },
  "toc-autonumbering": false,
  "toc-showmarkdowntxt": false,
  "vscode": {
   "interpreter": {
    "hash": "98807f6c289134d296216f26040d15a7d574bbb60c2c2a89c24c5bf374ecb86a"
   }
  }
 },
 "nbformat": 4,
 "nbformat_minor": 5
}
