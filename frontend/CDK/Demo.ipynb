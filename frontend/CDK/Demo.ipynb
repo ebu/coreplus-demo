{
 "cells": [
  {
   "cell_type": "markdown",
   "id": "e1f662fd-7acd-48f9-8da0-9b0e8a6aff36",
   "metadata": {
    "tags": []
   },
   "source": [
    "# Preamble\n",
    "## Importing necessary libraries and scripts\n",
    "The code below consist of imports for libraries and scripts necessary for generating visualizations."
   ]
  },
  {
   "cell_type": "code",
   "execution_count": 1,
   "id": "99bddc85",
   "metadata": {
    "scrolled": true,
    "tags": []
   },
   "outputs": [],
   "source": [
    "import os\n",
    "import sys\n",
    "import pandas as pd\n",
    "import itables.options as opt\n",
    "from itables import init_notebook_mode, show\n",
    "from scripts.ontologies import (load_model, get_all_classes, get_classes_by_iris, get_individuals, \n",
    "                                get_description, get_properties, visualize, itable_config)"
   ]
  },
  {
   "cell_type": "markdown",
   "id": "7e109785-5d77-4d8f-a49c-4073dcc40874",
   "metadata": {},
   "source": [
    "## Acquiring the model\n",
    "The code below is reponsible for accessing the endpoints to acquire the model, using the credentials provided as parameters named **username** and **password**. It involves acquiring **classes** along with their respective **descriptions** and **attributes**. "
   ]
  },
  {
   "cell_type": "code",
   "execution_count": 2,
   "id": "d00298cf-e452-4d22-83dc-bcf1adcc291d",
   "metadata": {},
   "outputs": [],
   "source": [
    "TENANT = os.getenv('TENANT', 'demo-tenant')\n",
    "USERNAME = 'demo-user'\n",
    "PASSWORD = 'demo'"
   ]
  },
  {
   "cell_type": "code",
   "execution_count": 3,
   "id": "01aeaa48-1e06-48af-9733-81660294f6be",
   "metadata": {},
   "outputs": [
    {
     "data": {
      "application/javascript": [
       "if (typeof require !== 'undefined')\n",
       "    require.config({\n",
       "        paths: {\n",
       "            jquery: 'https://code.jquery.com/jquery-3.5.1.min',\n",
       "            datatables: 'https://cdn.datatables.net/1.11.3/js/jquery.dataTables.min',\n",
       "        }\n",
       "    });\n"
      ],
      "text/plain": [
       "<IPython.core.display.Javascript object>"
      ]
     },
     "metadata": {},
     "output_type": "display_data"
    }
   ],
   "source": [
    "classes_df = load_model(tenant=TENANT, username=USERNAME, password=PASSWORD)\n",
    "itable_config(opt, init_notebook_mode)"
   ]
  },
  {
   "cell_type": "markdown",
   "id": "cc4fb9e9-40f2-4571-aa8e-e81c7b5cdff7",
   "metadata": {},
   "source": [
    "## Visualizing DataFrames \n",
    "The code below is reponsible for configuring itables for optimized tabluar visualizations. It also includes transformation of DataFrame for later use. "
   ]
  },
  {
   "cell_type": "code",
   "execution_count": 4,
   "id": "153bea62-6330-469b-ae20-0e0786248ed1",
   "metadata": {
    "tags": []
   },
   "outputs": [
    {
     "data": {
      "text/html": [
       "<table id=\"ac330ccb-b946-4599-83c3-bc6b7ffbcb79\" class=\"cell-border stripe hover\"style=\"max-width:100%\"><h4 style=\"text-alignt:center\"><label style=\"font-weight:bold\">Table: </label><label>List of classes</label></h4><thead>\n",
       "    <tr style=\"text-align: right;\">\n",
       "      \n",
       "      <th>Label</th>\n",
       "      <th>IRI</th>\n",
       "      <th>IsLeafClass</th>\n",
       "    </tr>\n",
       "  </thead><tbody><tr><td>Loading... (need <a href=https://mwouts.github.io/itables/troubleshooting.html>help</a>?)</td></tr></tbody></table>\n",
       "<link rel=\"stylesheet\" type=\"text/css\" href=\"https://cdn.datatables.net/1.11.3/css/jquery.dataTables.min.css\">\n",
       "<style> table td {\n",
       "    text-overflow: ellipsis;\n",
       "    overflow: hidden;\n",
       "} </style>\n",
       "<style> table th {\n",
       "    text-overflow: ellipsis;\n",
       "    overflow: hidden;\n",
       "} </style>\n",
       "<script type=\"module\">\n",
       "    // Define the table data\n",
       "    const data = [[\"Data Property Generator\", \"http://ont.enapso.com/model/mockaspect#DataPropertyGenerator\", true], [\"Mock Data Specification\", \"http://ont.enapso.com/model/mockaspect#MockDataSpecification\", false], [\"Object Relation Generator\", \"http://ont.enapso.com/model/mockaspect#ObjectRelationGenerator\", false], [\"Agent\", \"http://purl.org/dc/elements/1.1/Agent\", false], [\"Account\", \"http://www.ebu.ch/metadata/ontologies/ebuccdm#Account\", false], [\"Asset value\", \"http://www.ebu.ch/metadata/ontologies/ebuccdm#AssetValue\", false], [\"Audience\", \"http://www.ebu.ch/metadata/ontologies/ebuccdm#Audience\", false], [\"Audit Report\", \"http://www.ebu.ch/metadata/ontologies/ebuccdm#AuditReport\", false], [\"Campaign\", \"http://www.ebu.ch/metadata/ontologies/ebuccdm#Campaign\", false], [\"Device\", \"http://www.ebu.ch/metadata/ontologies/ebuccdm#ConsumptionDevice\", false], [\"Consumption device profile\", \"http://www.ebu.ch/metadata/ontologies/ebuccdm#ConsumptionDeviceProfile\", false], [\"Consumption event\", \"http://www.ebu.ch/metadata/ontologies/ebuccdm#ConsumptionEvent\", false], [\"Consumption licence\", \"http://www.ebu.ch/metadata/ontologies/ebuccdm#ConsumptionLicence\", false], [\"Contract\", \"http://www.ebu.ch/metadata/ontologies/ebuccdm#Contract\", false], [\"Contract cost\", \"http://www.ebu.ch/metadata/ontologies/ebuccdm#ContractCost\", false], [\"Measure\", \"http://www.ebu.ch/metadata/ontologies/ebuccdm#Measure\", false], [\"On Stage Position\", \"http://www.ebu.ch/metadata/ontologies/ebuccdm#OnStagePosition\", false], [\"Production device\", \"http://www.ebu.ch/metadata/ontologies/ebuccdm#ProductionDevice\", false], [\"Audit Job\", \"http://www.ebu.ch/metadata/ontologies/ebuccdm#AuditJob\", false], [\"Production job\", \"http://www.ebu.ch/metadata/ontologies/ebuccdm#ProductionJob\", true], [\"Production order\", \"http://www.ebu.ch/metadata/ontologies/ebuccdm#ProductionOrder\", false], [\"Resonance\", \"http://www.ebu.ch/metadata/ontologies/ebuccdm#Resonance\", false], [\"Resonance event\", \"http://www.ebu.ch/metadata/ontologies/ebuccdm#ResonanceEvent\", false], [\"Rule\", \"http://www.ebu.ch/metadata/ontologies/ebuccdm#Rule\", false], [\"Stage\", \"http://www.ebu.ch/metadata/ontologies/ebuccdm#Stage\", false], [\"Action\", \"http://www.ebu.ch/metadata/ontologies/ebucore/ebucore#Action\", false], [\"Cast member\", \"http://www.ebu.ch/metadata/ontologies/ebucore/ebucore#Cast\", false], [\"Crew\", \"http://www.ebu.ch/metadata/ontologies/ebucore/ebucore#Crew\", false], [\"Organisation\", \"http://www.ebu.ch/metadata/ontologies/ebucore/ebucore#Organisation\", true], [\"Affiliation\", \"http://www.ebu.ch/metadata/ontologies/ebucore/ebucore#Affiliation\", false], [\"Department\", \"http://www.ebu.ch/metadata/ontologies/ebucore/ebucore#Department\", false], [\"Fictional organisation\", \"http://www.ebu.ch/metadata/ontologies/ebucore/ebucore#FictionalOrganisation\", false], [\"Party\", \"http://www.ebu.ch/metadata/ontologies/ebucore/ebucore#Party\", false], [\"Consumer\", \"http://www.ebu.ch/metadata/ontologies/ebuccdm#Consumer\", false], [\"Character\", \"http://www.ebu.ch/metadata/ontologies/ebucore/ebucore#Character\", false], [\"Contact\", \"http://www.ebu.ch/metadata/ontologies/ebucore/ebucore#Contact\", false], [\"Fictional person\", \"http://www.ebu.ch/metadata/ontologies/ebucore/ebucore#FictionalPerson\", false], [\"Staff member.\", \"http://www.ebu.ch/metadata/ontologies/ebucore/ebucore#Staff\", false], [\"Person\", \"http://www.ebu.ch/metadata/ontologies/ebucore/ebucore#Person\", true], [\"Team\", \"http://www.ebu.ch/metadata/ontologies/ebucore/ebucore#Team\", false], [\"Agent\", \"http://www.ebu.ch/metadata/ontologies/ebucore/ebucore#Agent\", true], [\"Animal\", \"http://www.ebu.ch/metadata/ontologies/ebucore/ebucore#Animal\", false], [\"Annotation\", \"http://www.ebu.ch/metadata/ontologies/ebucore/ebucore#Annotation\", true], [\"Text Annotation\", \"http://www.ebu.ch/metadata/ontologies/ebucore/ebucore#TextAnnotation\", false], [\"Costume\", \"http://www.ebu.ch/metadata/ontologies/ebucore/ebucore#Costume\", false], [\"Food\", \"http://www.ebu.ch/metadata/ontologies/ebucore/ebucore#Food\", false], [\"Props\", \"http://www.ebu.ch/metadata/ontologies/ebucore/ebucore#Props\", false], [\"Artefact\", \"http://www.ebu.ch/metadata/ontologies/ebucore/ebucore#Artefact\", true], [\"Business Object\", \"http://www.ebu.ch/metadata/ontologies/ebucore/ebucore#BusinessObject\", true], [\"Bibliographical object\", \"http://www.ebu.ch/metadata/ontologies/ebucore/ebucore#BibliographicalObject\", true], [\"Biography\", \"http://www.ebu.ch/metadata/ontologies/ebucore/ebucore#Biography\", false], [\"Record\", \"http://www.ebu.ch/metadata/ontologies/ebucore/ebucore#Record\", false], [\"BMContent\", \"http://www.ebu.ch/metadata/ontologies/ebucore/ebucore#BMContent\", false], [\"Clip\", \"http://www.ebu.ch/metadata/ontologies/ebucore/ebucore#Clip\", false], [\"Episode\", \"http://www.ebu.ch/metadata/ontologies/ebucore/ebucore#Episode\", false], [\"Feature\", \"http://www.ebu.ch/metadata/ontologies/ebucore/ebucore#Feature\", false], [\"Item\", \"http://www.ebu.ch/metadata/ontologies/ebucore/ebucore#Item\", true], [\"Breaking news item\", \"http://www.ebu.ch/metadata/ontologies/ebucore/ebucore#BreakingNewsItem\", false], [\"News Item\", \"http://www.ebu.ch/metadata/ontologies/ebucore/ebucore#NewsItem\", false], [\"Review\", \"http://www.ebu.ch/metadata/ontologies/ebucore/ebucore#Review\", false], [\"Sport item\", \"http://www.ebu.ch/metadata/ontologies/ebucore/ebucore#SportItem\", false], [\"Part, Fragment, Segment\", \"http://www.ebu.ch/metadata/ontologies/ebucore/ebucore#Part\", false], [\"Programme\", \"http://www.ebu.ch/metadata/ontologies/ebucore/ebucore#Programme\", true], [\"Audio content\", \"http://www.ebu.ch/metadata/ontologies/ebucore/ebucore#AudioContent\", false], [\"Audio programme\", \"http://www.ebu.ch/metadata/ontologies/ebucore/ebucore#AudioProgramme\", false], [\"Radio Programme\", \"http://www.ebu.ch/metadata/ontologies/ebucore/ebucore#RadioProgramme\", false], [\"TV Programme\", \"http://www.ebu.ch/metadata/ontologies/ebucore/ebucore#TVProgramme\", false], [\"Scene\", \"http://www.ebu.ch/metadata/ontologies/ebucore/ebucore#Scene\", false], [\"Shot\", \"http://www.ebu.ch/metadata/ontologies/ebucore/ebucore#Shot\", false], [\"Take\", \"http://www.ebu.ch/metadata/ontologies/ebucore/ebucore#Take\", false], [\"Version\", \"http://www.ebu.ch/metadata/ontologies/ebucore/ebucore#Version\", false], [\"Editorial object\", \"http://www.ebu.ch/metadata/ontologies/ebucore/ebucore#EditorialObject\", true], [\"Group\", \"http://www.ebu.ch/metadata/ontologies/ebucore/ebucore#Group\", true], [\"Brand\", \"http://www.ebu.ch/metadata/ontologies/ebucore/ebucore#Brand\", false], [\"Collection\", \"http://www.ebu.ch/metadata/ontologies/ebucore/ebucore#Collection\", false], [\"Season\", \"http://www.ebu.ch/metadata/ontologies/ebucore/ebucore#Season\", false], [\"Series\", \"http://www.ebu.ch/metadata/ontologies/ebucore/ebucore#Series\", false], [\"Asset\", \"http://www.ebu.ch/metadata/ontologies/ebucore/ebucore#Asset\", true], [\"Award\", \"http://www.ebu.ch/metadata/ontologies/ebucore/ebucore#Award\", false], [\"Codec\", \"http://www.ebu.ch/metadata/ontologies/ebucore/ebucore#Codec\", true], [\"Audio codec\", \"http://www.ebu.ch/metadata/ontologies/ebucore/ebucore#AudioCodec\", false], [\"Container codec\", \"http://www.ebu.ch/metadata/ontologies/ebucore/ebucore#ContainerCodec\", false], [\"Image codec\", \"http://www.ebu.ch/metadata/ontologies/ebucore/ebucore#ImageCodec\", false], [\"Video codec\", \"http://www.ebu.ch/metadata/ontologies/ebucore/ebucore#VideoCodec\", false], [\"Emotion\", \"http://www.ebu.ch/metadata/ontologies/ebucore/ebucore#Emotion\", false], [\"Depicted Event\", \"http://www.ebu.ch/metadata/ontologies/ebucore/ebucore#DepictedEvent\", false], [\"Fictional event\", \"http://www.ebu.ch/metadata/ontologies/ebucore/ebucore#FictionalEvent\", false], [\"Key event\", \"http://www.ebu.ch/metadata/ontologies/ebucore/ebucore#KeyEvent\", true], [\"Key career event\", \"http://www.ebu.ch/metadata/ontologies/ebucore/ebucore#KeyCareerEvent\", false], [\"Key personal event\", \"http://www.ebu.ch/metadata/ontologies/ebucore/ebucore#KeyPersonalEvent\", false], [\"Event\", \"http://www.ebu.ch/metadata/ontologies/ebucore/ebucore#Event\", true], [\"Identifier\", \"http://www.ebu.ch/metadata/ontologies/ebucore/ebucore#Identifier\", true], [\"EIDR\", \"http://www.ebu.ch/metadata/ontologies/ebucore/ebucore#EidrIdentifier\", false], [\"IMedia Identifier\", \"http://www.ebu.ch/metadata/ontologies/ebucore/ebucore#IMediaIdentifier\", false], [\"ISAN\", \"http://www.ebu.ch/metadata/ontologies/ebucore/ebucore#IsanIdentifier\", false], [\"Link\", \"http://www.ebu.ch/metadata/ontologies/ebucore/ebucore#Link\", false], [\"Fictional location\", \"http://www.ebu.ch/metadata/ontologies/ebucore/ebucore#FictionalLocation\", false], [\"Location\", \"http://www.ebu.ch/metadata/ontologies/ebucore/ebucore#Location\", true], [\"Locator\", \"http://www.ebu.ch/metadata/ontologies/ebucore/ebucore#Locator\", false], [\"Publication Event\", \"http://www.ebu.ch/metadata/ontologies/ebucore/ebucore#PublicationEvent\", false], [\"Publication History\", \"http://www.ebu.ch/metadata/ontologies/ebucore/ebucore#PublicationHistory\", false], [\"Publication logg\", \"http://www.ebu.ch/metadata/ontologies/ebucore/ebucore#PublicationLogg\", false], [\"Publication plan\", \"http://www.ebu.ch/metadata/ontologies/ebucore/ebucore#PublicationPlan\", false], [\"Rating\", \"http://www.ebu.ch/metadata/ontologies/ebucore/ebucore#Rating\", true], [\"Target audience\", \"http://www.ebu.ch/metadata/ontologies/ebucore/ebucore#AudienceLevel\", false], [\"Audience rating\", \"http://www.ebu.ch/metadata/ontologies/ebucore/ebucore#AudienceRating\", false], [\"Relation\", \"http://www.ebu.ch/metadata/ontologies/ebucore/ebucore#Relation\", false], [\"Document\", \"http://www.ebu.ch/metadata/ontologies/ebucore/ebucore#Document\", true], [\"Dopesheet\", \"http://www.ebu.ch/metadata/ontologies/ebucore/ebucore#Dopesheet\", false], [\"Audio object\", \"http://www.ebu.ch/metadata/ontologies/ebucore/ebucore#AudioObject\", false], [\"Component\", \"http://www.ebu.ch/metadata/ontologies/ebucore/ebucore#Component\", true], [\"Stream\", \"http://www.ebu.ch/metadata/ontologies/ebucore/ebucore#Stream\", true], [\"Audio stream\", \"http://www.ebu.ch/metadata/ontologies/ebucore/ebucore#AudioStream\", false], [\"Video stream\", \"http://www.ebu.ch/metadata/ontologies/ebucore/ebucore#VideoStream\", false], [\"BMEssence\", \"http://www.ebu.ch/metadata/ontologies/ebucore/ebucore#BMEssence\", false], [\"Essence\", \"http://www.ebu.ch/metadata/ontologies/ebucore/ebucore#Essence\", true], [\"Media Fragment\", \"http://www.ebu.ch/metadata/ontologies/ebucore/ebucore#MediaFragment\", false], [\"Template\", \"http://www.ebu.ch/metadata/ontologies/ebucore/ebucore#Template\", true], [\"BMTemplate\", \"http://www.ebu.ch/metadata/ontologies/ebucore/ebucore#BMTemplate\", false], [\"Audio track\", \"http://www.ebu.ch/metadata/ontologies/ebucore/ebucore#AudioTrack\", true], [\"Audio description\", \"http://www.ebu.ch/metadata/ontologies/ebucore/ebucore#AudioDescription\", false], [\"Captioning\", \"http://www.ebu.ch/metadata/ontologies/ebucore/ebucore#Captioning\", true], [\"Closed caption\", \"http://www.ebu.ch/metadata/ontologies/ebucore/ebucore#ClosedCaptions\", false], [\"Open captions\", \"http://www.ebu.ch/metadata/ontologies/ebucore/ebucore#OpenCaptions\", false], [\"Data track\", \"http://www.ebu.ch/metadata/ontologies/ebucore/ebucore#DataTrack\", true], [\"Ancillary data\", \"http://www.ebu.ch/metadata/ontologies/ebucore/ebucore#AncillaryData\", false], [\"Metadata track\", \"http://www.ebu.ch/metadata/ontologies/ebucore/ebucore#MetadataTrack\", false], [\"Subtitling\", \"http://www.ebu.ch/metadata/ontologies/ebucore/ebucore#Subtitling\", true], [\"Closed subtitling\", \"http://www.ebu.ch/metadata/ontologies/ebucore/ebucore#ClosedSubtitling\", false], [\"Open subtitling\", \"http://www.ebu.ch/metadata/ontologies/ebucore/ebucore#OpenSubtitling\", false], [\"Timecode track\", \"http://www.ebu.ch/metadata/ontologies/ebucore/ebucore#TimecodeTrack\", false], [\"Video track\", \"http://www.ebu.ch/metadata/ontologies/ebucore/ebucore#VideoTrack\", true], [\"Signing\", \"http://www.ebu.ch/metadata/ontologies/ebucore/ebucore#Signing\", false], [\"Track\", \"http://www.ebu.ch/metadata/ontologies/ebucore/ebucore#Track\", true], [\"Media resource\", \"http://www.ebu.ch/metadata/ontologies/ebucore/ebucore#MediaResource\", true], [\"Physical resource\", \"http://www.ebu.ch/metadata/ontologies/ebucore/ebucore#PhysicalResource\", false], [\"Picture\", \"http://www.ebu.ch/metadata/ontologies/ebucore/ebucore#Picture\", true], [\"key frame\", \"http://www.ebu.ch/metadata/ontologies/ebucore/ebucore#Keyframe\", false], [\"Logo\", \"http://www.ebu.ch/metadata/ontologies/ebucore/ebucore#Logo\", false], [\"Pictogram\", \"http://www.ebu.ch/metadata/ontologies/ebucore/ebucore#Pictogram\", false], [\"Sticker\", \"http://www.ebu.ch/metadata/ontologies/ebucore/ebucore#Sticker\", false], [\"Thumbnail\", \"http://www.ebu.ch/metadata/ontologies/ebucore/ebucore#Thumbnail\", false], [\"Resource\", \"http://www.ebu.ch/metadata/ontologies/ebucore/ebucore#Resource\", true], [\"Access conditions\", \"http://www.ebu.ch/metadata/ontologies/ebucore/ebucore#AccessConditions\", false], [\"Copyright\", \"http://www.ebu.ch/metadata/ontologies/ebucore/ebucore#Copyright\", false], [\"Coverage restrictions\", \"http://www.ebu.ch/metadata/ontologies/ebucore/ebucore#CoverageRestrictions\", false], [\"Creative commons\", \"http://www.ebu.ch/metadata/ontologies/ebucore/ebucore#CreativeCommons\", false], [\"Disclaimer\", \"http://www.ebu.ch/metadata/ontologies/ebucore/ebucore#Disclaimer\", false], [\"Exploitation issues\", \"http://www.ebu.ch/metadata/ontologies/ebucore/ebucore#ExploitationIssues\", false], [\"IPR restrictions\", \"http://www.ebu.ch/metadata/ontologies/ebucore/ebucore#IPRRestrictions\", false], [\"Licensing\", \"http://www.ebu.ch/metadata/ontologies/ebucore/ebucore#Licensing\", false], [\"Rights Clearance\", \"http://www.ebu.ch/metadata/ontologies/ebucore/ebucore#RightsClearance\", false], [\"Usage restrictions\", \"http://www.ebu.ch/metadata/ontologies/ebucore/ebucore#UsageRestrictions\", false], [\"Usage rights\", \"http://www.ebu.ch/metadata/ontologies/ebucore/ebucore#UsageRights\", false], [\"Rights\", \"http://www.ebu.ch/metadata/ontologies/ebucore/ebucore#Rights\", true], [\"Platform\", \"http://www.ebu.ch/metadata/ontologies/ebucore/ebucore#Platform\", false], [\"Publication channel\", \"http://www.ebu.ch/metadata/ontologies/ebucore/ebucore#PublicationChannel\", false], [\"Service\", \"http://www.ebu.ch/metadata/ontologies/ebucore/ebucore#Service\", true], [\"Text line\", \"http://www.ebu.ch/metadata/ontologies/ebucore/ebucore#TextLine\", false], [\"Timeline point\", \"http://www.ebu.ch/metadata/ontologies/ebucore/ebucore#TimelinePoint\", true], [\"Edit unit count\", \"http://www.ebu.ch/metadata/ontologies/ebucore/ebucore#EditUnitCount\", false], [\"Normal play time\", \"http://www.ebu.ch/metadata/ontologies/ebucore/ebucore#NormalPlayTime\", false], [\"Time code\", \"http://www.ebu.ch/metadata/ontologies/ebucore/ebucore#TimeCode\", false], [\"Time code with dropframe\", \"http://www.ebu.ch/metadata/ontologies/ebucore/ebucore#TimeCodeDropFrame\", false], [\"Timeline track\", \"http://www.ebu.ch/metadata/ontologies/ebucore/ebucore#TimelineTrack\", false], [\"Time instant\", \"http://www.w3.org/2006/time#Instant\", true], [\"Uncertain date\", \"http://www.ebu.ch/metadata/ontologies/ebucore/ebucore#UncertainDate\", false], [\"Date-time description\", \"http://www.w3.org/2006/time#DateTimeDescription\", false], [\"Temporal reference system\", \"http://www.w3.org/2006/time#TRS\", false]];\n",
       "\n",
       "    if (typeof require === 'undefined') {\n",
       "        // TODO: This should become the default (use a simple import)\n",
       "        // when the ESM version works independently of whether\n",
       "        // require.js is there or not, see\n",
       "        // https://datatables.net/forums/discussion/69066/esm-es6-module-support?\n",
       "        const {default: $} = await import(\"https://esm.sh/jquery@3.5.0\");\n",
       "        const {default: initDataTables} = await import(\"https://esm.sh/datatables.net@1.11.3?deps=jquery@3.5.0\");\n",
       "\n",
       "        initDataTables();\n",
       "\n",
       "        // Define the dt_args\n",
       "        let dt_args = {\"columnDefs\": [{\"width\": \"120px\", \"className\": \"dt-center\", \"targets\": \"_all\", \"createdCell\": \n",
       "        function (td, cellData, rowData, row, col) {\n",
       "            $(td).css('word-wrap', 'break-word')\n",
       "            if (cellData === '1.0' ) {\n",
       "                $(td).html('1')\n",
       "            }\n",
       "            if (cellData == false) {\n",
       "                $(td).css('color', '#7CBC97')\n",
       "                $(td).css('font-weight', 'bold')\n",
       "            }\n",
       "            else if (cellData == true) {\n",
       "                $(td).css('color', '#7DA5C0')\n",
       "                $(td).css('font-weight', 'bold')\n",
       "                $(td).html = \"True\"\n",
       "            }\n",
       "        }\n",
       "        }], \"lengthMenu\": [5, 10, 25, 50, -1]};\n",
       "        dt_args[\"data\"] = data;\n",
       "\n",
       "        // Display the table\n",
       "        $(document).ready(function () {\n",
       "            $('#ac330ccb-b946-4599-83c3-bc6b7ffbcb79').DataTable(dt_args);\n",
       "        });\n",
       "    } else {\n",
       "        require([\"jquery\", \"datatables\"], ($, datatables) => {\n",
       "                // Define the dt_args\n",
       "                let dt_args = {\"columnDefs\": [{\"width\": \"120px\", \"className\": \"dt-center\", \"targets\": \"_all\", \"createdCell\": \n",
       "        function (td, cellData, rowData, row, col) {\n",
       "            $(td).css('word-wrap', 'break-word')\n",
       "            if (cellData === '1.0' ) {\n",
       "                $(td).html('1')\n",
       "            }\n",
       "            if (cellData == false) {\n",
       "                $(td).css('color', '#7CBC97')\n",
       "                $(td).css('font-weight', 'bold')\n",
       "            }\n",
       "            else if (cellData == true) {\n",
       "                $(td).css('color', '#7DA5C0')\n",
       "                $(td).css('font-weight', 'bold')\n",
       "                $(td).html = \"True\"\n",
       "            }\n",
       "        }\n",
       "        }], \"lengthMenu\": [5, 10, 25, 50, -1]};\n",
       "                dt_args[\"data\"] = data;\n",
       "\n",
       "                // Display the table\n",
       "                $(document).ready(function () {\n",
       "                    $('#ac330ccb-b946-4599-83c3-bc6b7ffbcb79').DataTable(dt_args);\n",
       "                });\n",
       "            }\n",
       "        )\n",
       "    }\n",
       "</script>\n"
      ],
      "text/plain": [
       "<IPython.core.display.HTML object>"
      ]
     },
     "metadata": {},
     "output_type": "display_data"
    }
   ],
   "source": [
    "all_classes_df = get_all_classes(source_df=classes_df, \n",
    "                                 language='en', \n",
    "                                 show_table=True)"
   ]
  },
  {
   "cell_type": "code",
   "execution_count": 5,
   "id": "2bea315e-fefd-4913-84dd-eec9566eb8e3",
   "metadata": {
    "tags": []
   },
   "outputs": [
    {
     "data": {
      "text/html": [
       "<table id=\"d5af23d8-5661-431d-b772-f3af3ec69e14\" class=\"cell-border stripe hover\"style=\"max-width:100%\"><h4 style=\"text-alignt:center\"><label style=\"font-weight:bold\">Table: </label><label>Class hierarchy of EditorialObject</label></h4><thead>\n",
       "    <tr style=\"text-align: right;\">\n",
       "      \n",
       "      <th>Label</th>\n",
       "      <th>IRI</th>\n",
       "      <th>IsLeafClass</th>\n",
       "      <th>Superclass labels</th>\n",
       "      <th>Superclass IRIs</th>\n",
       "    </tr>\n",
       "  </thead><tbody><tr><td>Loading... (need <a href=https://mwouts.github.io/itables/troubleshooting.html>help</a>?)</td></tr></tbody></table>\n",
       "<link rel=\"stylesheet\" type=\"text/css\" href=\"https://cdn.datatables.net/1.11.3/css/jquery.dataTables.min.css\">\n",
       "<style> table td {\n",
       "    text-overflow: ellipsis;\n",
       "    overflow: hidden;\n",
       "} </style>\n",
       "<style> table th {\n",
       "    text-overflow: ellipsis;\n",
       "    overflow: hidden;\n",
       "} </style>\n",
       "<script type=\"module\">\n",
       "    // Define the table data\n",
       "    const data = [[\"BMContent\", \"http://www.ebu.ch/metadata/ontologies/ebucore/ebucore#BMContent\", false, \"Editorial object\", \"http://www.ebu.ch/metadata/ontologies/ebucore/ebucore#EditorialObject\"], [\"Business Object\", \"http://www.ebu.ch/metadata/ontologies/ebucore/ebucore#BusinessObject\", true, \"Asset\", \"http://www.ebu.ch/metadata/ontologies/ebucore/ebucore#Asset\"], [\"Clip\", \"http://www.ebu.ch/metadata/ontologies/ebucore/ebucore#Clip\", false, \"Editorial object\", \"http://www.ebu.ch/metadata/ontologies/ebucore/ebucore#EditorialObject\"], [\"Editorial object\", \"http://www.ebu.ch/metadata/ontologies/ebucore/ebucore#EditorialObject\", true, \"Business Object\", \"http://www.ebu.ch/metadata/ontologies/ebucore/ebucore#BusinessObject\"], [\"Episode\", \"http://www.ebu.ch/metadata/ontologies/ebucore/ebucore#Episode\", false, \"Editorial object\", \"http://www.ebu.ch/metadata/ontologies/ebucore/ebucore#EditorialObject\"], [\"Feature\", \"http://www.ebu.ch/metadata/ontologies/ebucore/ebucore#Feature\", false, \"Editorial object\", \"http://www.ebu.ch/metadata/ontologies/ebucore/ebucore#EditorialObject\"], [\"Item\", \"http://www.ebu.ch/metadata/ontologies/ebucore/ebucore#Item\", true, \"Editorial object\", \"http://www.ebu.ch/metadata/ontologies/ebucore/ebucore#EditorialObject\"], [\"Part, Fragment, Segment\", \"http://www.ebu.ch/metadata/ontologies/ebucore/ebucore#Part\", false, \"Editorial object\", \"http://www.ebu.ch/metadata/ontologies/ebucore/ebucore#EditorialObject\"], [\"Programme\", \"http://www.ebu.ch/metadata/ontologies/ebucore/ebucore#Programme\", true, \"Editorial object\", \"http://www.ebu.ch/metadata/ontologies/ebucore/ebucore#EditorialObject\"], [\"Scene\", \"http://www.ebu.ch/metadata/ontologies/ebucore/ebucore#Scene\", false, \"Editorial object\", \"http://www.ebu.ch/metadata/ontologies/ebucore/ebucore#EditorialObject\"], [\"Shot\", \"http://www.ebu.ch/metadata/ontologies/ebucore/ebucore#Shot\", false, \"Editorial object\", \"http://www.ebu.ch/metadata/ontologies/ebucore/ebucore#EditorialObject\"], [\"Take\", \"http://www.ebu.ch/metadata/ontologies/ebucore/ebucore#Take\", false, \"Editorial object\", \"http://www.ebu.ch/metadata/ontologies/ebucore/ebucore#EditorialObject\"], [\"Version\", \"http://www.ebu.ch/metadata/ontologies/ebucore/ebucore#Version\", false, \"Editorial object\", \"http://www.ebu.ch/metadata/ontologies/ebucore/ebucore#EditorialObject\"]];\n",
       "\n",
       "    if (typeof require === 'undefined') {\n",
       "        // TODO: This should become the default (use a simple import)\n",
       "        // when the ESM version works independently of whether\n",
       "        // require.js is there or not, see\n",
       "        // https://datatables.net/forums/discussion/69066/esm-es6-module-support?\n",
       "        const {default: $} = await import(\"https://esm.sh/jquery@3.5.0\");\n",
       "        const {default: initDataTables} = await import(\"https://esm.sh/datatables.net@1.11.3?deps=jquery@3.5.0\");\n",
       "\n",
       "        initDataTables();\n",
       "\n",
       "        // Define the dt_args\n",
       "        let dt_args = {\"columnDefs\": [{\"width\": \"120px\", \"className\": \"dt-center\", \"targets\": \"_all\", \"createdCell\": \n",
       "        function (td, cellData, rowData, row, col) {\n",
       "            $(td).css('word-wrap', 'break-word')\n",
       "            if (cellData === '1.0' ) {\n",
       "                $(td).html('1')\n",
       "            }\n",
       "            if (cellData == false) {\n",
       "                $(td).css('color', '#7CBC97')\n",
       "                $(td).css('font-weight', 'bold')\n",
       "            }\n",
       "            else if (cellData == true) {\n",
       "                $(td).css('color', '#7DA5C0')\n",
       "                $(td).css('font-weight', 'bold')\n",
       "                $(td).html = \"True\"\n",
       "            }\n",
       "        }\n",
       "        }], \"lengthMenu\": [5, 10, 25, 50, -1]};\n",
       "        dt_args[\"data\"] = data;\n",
       "\n",
       "        // Display the table\n",
       "        $(document).ready(function () {\n",
       "            $('#d5af23d8-5661-431d-b772-f3af3ec69e14').DataTable(dt_args);\n",
       "        });\n",
       "    } else {\n",
       "        require([\"jquery\", \"datatables\"], ($, datatables) => {\n",
       "                // Define the dt_args\n",
       "                let dt_args = {\"columnDefs\": [{\"width\": \"120px\", \"className\": \"dt-center\", \"targets\": \"_all\", \"createdCell\": \n",
       "        function (td, cellData, rowData, row, col) {\n",
       "            $(td).css('word-wrap', 'break-word')\n",
       "            if (cellData === '1.0' ) {\n",
       "                $(td).html('1')\n",
       "            }\n",
       "            if (cellData == false) {\n",
       "                $(td).css('color', '#7CBC97')\n",
       "                $(td).css('font-weight', 'bold')\n",
       "            }\n",
       "            else if (cellData == true) {\n",
       "                $(td).css('color', '#7DA5C0')\n",
       "                $(td).css('font-weight', 'bold')\n",
       "                $(td).html = \"True\"\n",
       "            }\n",
       "        }\n",
       "        }], \"lengthMenu\": [5, 10, 25, 50, -1]};\n",
       "                dt_args[\"data\"] = data;\n",
       "\n",
       "                // Display the table\n",
       "                $(document).ready(function () {\n",
       "                    $('#d5af23d8-5661-431d-b772-f3af3ec69e14').DataTable(dt_args);\n",
       "                });\n",
       "            }\n",
       "        )\n",
       "    }\n",
       "</script>\n"
      ],
      "text/plain": [
       "<IPython.core.display.HTML object>"
      ]
     },
     "metadata": {},
     "output_type": "display_data"
    }
   ],
   "source": [
    "iris = ['http://www.ebu.ch/metadata/ontologies/ebucore/ebucore#EditorialObject']\n",
    "classes_by_labels = get_classes_by_iris(source_df=classes_df, \n",
    "                                        iris=iris, \n",
    "                                        show_subclasses=True, \n",
    "                                        show_superclasses=True, \n",
    "                                        language='en',\n",
    "                                        show_table=True)"
   ]
  },
  {
   "cell_type": "markdown",
   "id": "e98038bc-9e97-482a-a351-347463018a26",
   "metadata": {
    "jupyter": {
     "source_hidden": true
    },
    "tags": []
   },
   "source": [
    "**Figure:** Legend for network graphs\n",
    "![title](https://image-assets-for-cdk.s3.eu-central-1.amazonaws.com/legend_for_cell.png)"
   ]
  },
  {
   "cell_type": "code",
   "execution_count": 6,
   "id": "da5019a1-12ec-4cba-948f-1400124944cf",
   "metadata": {
    "tags": []
   },
   "outputs": [
    {
     "data": {
      "text/html": [
       "\n",
       "        <iframe\n",
       "            width=\"100%\"\n",
       "            height=\"800px\"\n",
       "            src=\"graphs/editorial_object_basic.html\"\n",
       "            frameborder=\"0\"\n",
       "            allowfullscreen\n",
       "            \n",
       "        ></iframe>\n",
       "        "
      ],
      "text/plain": [
       "<IPython.lib.display.IFrame at 0x7fda88094ac0>"
      ]
     },
     "execution_count": 6,
     "metadata": {},
     "output_type": "execute_result"
    }
   ],
   "source": [
    "iris = ['http://www.ebu.ch/metadata/ontologies/ebucore/ebucore#EditorialObject']\n",
    "network = visualize(tenant=TENANT,\n",
    "                    username=USERNAME,\n",
    "                    password=PASSWORD,\n",
    "                    source_df=classes_df,\n",
    "                    iris=iris, \n",
    "                    show_properties=False, \n",
    "                    show_subclasses=True, \n",
    "                    show_superclasses=True, \n",
    "                    language='en',\n",
    "                    verbose=False)\n",
    "network.show('graphs/editorial_object_basic.html')"
   ]
  },
  {
   "cell_type": "code",
   "execution_count": 6,
   "id": "e0880103-fb53-4035-b824-de803ecbaa45",
   "metadata": {},
   "outputs": [
    {
     "data": {
      "text/html": [
       "<table id=\"af589be6-928b-471a-b5f8-7fdaa05e4911\" class=\"cell-border stripe hover\"style=\"max-width:100%\"><h4 style=\"text-alignt:center\"><label style=\"font-weight:bold\">Table: </label><label>Properties with domain EditorialObject</label></h4><thead>\n",
       "    <tr style=\"text-align: right;\">\n",
       "      \n",
       "      <th>Property</th>\n",
       "      <th>rdf:type</th>\n",
       "      <th>rdfs:range</th>\n",
       "      <th>owl:maxCardinality</th>\n",
       "      <th>owl:someValuesFrom</th>\n",
       "    </tr>\n",
       "  </thead><tbody><tr><td>Loading... (need <a href=https://mwouts.github.io/itables/troubleshooting.html>help</a>?)</td></tr></tbody></table>\n",
       "<link rel=\"stylesheet\" type=\"text/css\" href=\"https://cdn.datatables.net/1.11.3/css/jquery.dataTables.min.css\">\n",
       "<style> table td {\n",
       "    text-overflow: ellipsis;\n",
       "    overflow: hidden;\n",
       "} </style>\n",
       "<style> table th {\n",
       "    text-overflow: ellipsis;\n",
       "    overflow: hidden;\n",
       "} </style>\n",
       "<script type=\"module\">\n",
       "    // Define the table data\n",
       "    const data = [[\"ec:dateBroadcast\", \"owl:ObjectProperty\", \"time:Instant\", \"1.0\", \"\"], [\"ec:duration\", \"owl:ObjectProperty\", \"ec:TimelinePoint\", \"1.0\", \"\"], [\"ec:end\", \"owl:ObjectProperty\", \"ec:TimelinePoint\", \"1.0\", \"\"], [\"ec:isNextInSequence\", \"owl:ObjectProperty\", \"ec:EditorialObject\", \"1.0\", \"\"], [\"ec:isPreviousInSequence\", \"owl:ObjectProperty\", \"ec:EditorialObject\", \"1.0\", \"\"], [\"ec:start\", \"owl:ObjectProperty\", \"ec:TimelinePoint\", \"1.0\", \"\"], [\"ec:midRollAdAllowed\", \"owl:DatatypeProperty\", \"xsd:boolean\", \"1.0\", \"\"], [\"ec:orderedFlag\", \"owl:DatatypeProperty\", \"xsd:boolean\", \"1.0\", \"\"], [\"ec:partTotalNumber\", \"owl:DatatypeProperty\", \"xsd:integer\", \"1.0\", \"\"], [\"ec:resolution\", \"owl:DatatypeProperty\", \"xsd:string\", \"1.0\", \"\"], [\"ec:translationTitle\", \"owl:DatatypeProperty\", \"rdfs:Literal\", \"\", \"rdfs:Literal\"], [\"ec:approvedBy\", \"owl:ObjectProperty\", \"ec:Agent\", \"\", \"ec:Agent\"], [\"ec:hasPart\", \"owl:ObjectProperty\", \"ec:Part\", \"\", \"ec:Part\"], [\"ec:isBrand\", \"owl:ObjectProperty\", \"ec:Brand\", \"\", \"ec:Brand\"], [\"ec:resourceOffset\", \"owl:ObjectProperty\", \"ec:TimelinePoint\", \"\", \"ec:TimelinePoint\"], [\"ebuccdm:orderedFlag\", \"owl:DatatypeProperty\", \"xsd:boolean\", \"\", \"\"], [\"ec:folksonomy\", \"owl:DatatypeProperty\", \"rdfs:Literal\", \"\", \"\"], [\"ebuccdm:hasAssociatedProductionJob\", \"owl:ObjectProperty\", \"ebuccdm:ProductionJob\", \"\", \"\"], [\"ebuccdm:hasRelatedResonanceEvent\", \"owl:ObjectProperty\", \"ebuccdm:ResonanceEvent\", \"\", \"\"], [\"ebuccdm:isCommissionedBy\", \"owl:ObjectProperty\", \"ebuccdm:Contract\", \"\", \"\"], [\"ebuccdm:isExtractOf\", \"owl:ObjectProperty\", \"ec:EditorialObject\", \"\", \"\"], [\"ec:editorialObjectType\", \"owl:ObjectProperty\", \"skos:Concept\", \"\", \"\"], [\"ec:existsAs\", \"owl:ObjectProperty\", \"ec:EditorialObject\", \"\", \"\"], [\"ec:hasAudioDescription\", \"owl:ObjectProperty\", \"ec:AudioDescription\", \"\", \"\"], [\"ec:hasCaptioning\", \"owl:ObjectProperty\", \"ec:Captioning\", \"\", \"\"], [\"ec:hasContentEditorialFormat\", \"owl:ObjectProperty\", \"ec:ContentEditorialFormat\", \"\", \"\"], [\"ec:hasMediaFragment\", \"owl:ObjectProperty\", \"ec:MediaFragment\", \"\", \"\"], [\"ec:isMemberOf\", \"owl:ObjectProperty\", \"ec:Group\", \"\", \"\"], [\"ec:hasParentEditorialObject\", \"owl:ObjectProperty\", \"ec:EditorialObject\", \"\", \"\"], [\"ec:hasRelatedArtefact\", \"owl:ObjectProperty\", \"ec:Artefact\", \"\", \"\"], [\"ec:hasRelatedAudioContent\", \"owl:ObjectProperty\", \"ec:AudioContent\", \"\", \"\"], [\"ec:hasRelatedAudioProgramme\", \"owl:ObjectProperty\", \"ec:AudioProgramme\", \"\", \"\"], [\"ec:hasRelatedEditorialObject\", \"owl:ObjectProperty\", \"ec:EditorialObject\", \"\", \"\"], [\"ec:hasRelatedMediaResource\", \"owl:ObjectProperty\", \"ec:MediaResource\", \"\", \"\"], [\"ec:hasRelatedTextLine\", \"owl:ObjectProperty\", \"ec:TextLine\", \"\", \"\"], [\"ec:hasScene\", \"owl:ObjectProperty\", \"ec:Scene\", \"\", \"\"], [\"ec:hasSigning\", \"owl:ObjectProperty\", \"ec:Signing\", \"\", \"\"], [\"ec:hasSubtitling\", \"owl:ObjectProperty\", \"ec:Subtitling\", \"\", \"\"], [\"ec:hasTake\", \"owl:ObjectProperty\", \"ec:Take\", \"\", \"\"], [\"ec:hasTimelineTrack\", \"owl:ObjectProperty\", \"ec:TimelineTrack\", \"\", \"\"], [\"ec:isInstantiatedBy\", \"owl:ObjectProperty\", \"ec:MediaResource\", \"\", \"\"], [\"ec:isDistributedOn\", \"owl:ObjectProperty\", \"ec:Service\", \"\", \"\"], [\"ec:isEditorialFormatOf\", \"owl:ObjectProperty\", \"ec:EditorialObject\", \"\", \"\"], [\"ec:isScheduledOn\", \"owl:ObjectProperty\", \"ec:PublicationEvent\", \"\", \"\"], [\"ec:isTimelineTrackPartOf\", \"owl:ObjectProperty\", \"ec:TimelineTrack\", \"\", \"\"], [\"ec:references\", \"owl:ObjectProperty\", \"ec:MediaResource\", \"\", \"\"]];\n",
       "\n",
       "    if (typeof require === 'undefined') {\n",
       "        // TODO: This should become the default (use a simple import)\n",
       "        // when the ESM version works independently of whether\n",
       "        // require.js is there or not, see\n",
       "        // https://datatables.net/forums/discussion/69066/esm-es6-module-support?\n",
       "        const {default: $} = await import(\"https://esm.sh/jquery@3.5.0\");\n",
       "        const {default: initDataTables} = await import(\"https://esm.sh/datatables.net@1.11.3?deps=jquery@3.5.0\");\n",
       "\n",
       "        initDataTables();\n",
       "\n",
       "        // Define the dt_args\n",
       "        let dt_args = {\"columnDefs\": [{\"width\": \"120px\", \"className\": \"dt-center\", \"targets\": \"_all\", \"createdCell\": \n",
       "        function (td, cellData, rowData, row, col) {\n",
       "            $(td).css('word-wrap', 'break-word')\n",
       "            if (cellData === '1.0' ) {\n",
       "                $(td).html('1')\n",
       "            }\n",
       "            if (cellData == false) {\n",
       "                $(td).css('color', '#7CBC97')\n",
       "                $(td).css('font-weight', 'bold')\n",
       "            }\n",
       "            else if (cellData == true) {\n",
       "                $(td).css('color', '#7DA5C0')\n",
       "                $(td).css('font-weight', 'bold')\n",
       "                $(td).html = \"True\"\n",
       "            }\n",
       "        }\n",
       "        }], \"lengthMenu\": [5, 10, 25, 50, -1]};\n",
       "        dt_args[\"data\"] = data;\n",
       "\n",
       "        // Display the table\n",
       "        $(document).ready(function () {\n",
       "            $('#af589be6-928b-471a-b5f8-7fdaa05e4911').DataTable(dt_args);\n",
       "        });\n",
       "    } else {\n",
       "        require([\"jquery\", \"datatables\"], ($, datatables) => {\n",
       "                // Define the dt_args\n",
       "                let dt_args = {\"columnDefs\": [{\"width\": \"120px\", \"className\": \"dt-center\", \"targets\": \"_all\", \"createdCell\": \n",
       "        function (td, cellData, rowData, row, col) {\n",
       "            $(td).css('word-wrap', 'break-word')\n",
       "            if (cellData === '1.0' ) {\n",
       "                $(td).html('1')\n",
       "            }\n",
       "            if (cellData == false) {\n",
       "                $(td).css('color', '#7CBC97')\n",
       "                $(td).css('font-weight', 'bold')\n",
       "            }\n",
       "            else if (cellData == true) {\n",
       "                $(td).css('color', '#7DA5C0')\n",
       "                $(td).css('font-weight', 'bold')\n",
       "                $(td).html = \"True\"\n",
       "            }\n",
       "        }\n",
       "        }], \"lengthMenu\": [5, 10, 25, 50, -1]};\n",
       "                dt_args[\"data\"] = data;\n",
       "\n",
       "                // Display the table\n",
       "                $(document).ready(function () {\n",
       "                    $('#af589be6-928b-471a-b5f8-7fdaa05e4911').DataTable(dt_args);\n",
       "                });\n",
       "            }\n",
       "        )\n",
       "    }\n",
       "</script>\n"
      ],
      "text/plain": [
       "<IPython.core.display.HTML object>"
      ]
     },
     "metadata": {},
     "output_type": "display_data"
    }
   ],
   "source": [
    "properties = get_properties(iri='http://www.ebu.ch/metadata/ontologies/ebucore/ebucore#EditorialObject', \n",
    "                           tenant=TENANT,\n",
    "                           username=USERNAME, \n",
    "                           password=PASSWORD,\n",
    "                           show_table=True)"
   ]
  },
  {
   "cell_type": "code",
   "execution_count": 7,
   "id": "49d6d971-c293-4cfc-b5af-f38429646a0f",
   "metadata": {},
   "outputs": [
    {
     "data": {
      "text/html": [
       "<table id=\"6985e87a-da7e-43a0-8181-096e81b40fd1\" class=\"cell-border stripe hover\"style=\"max-width:100%\"><h4 style=\"text-alignt:center\"><label style=\"font-weight:bold\">Table: </label><label>Description of class EditorialObject</label></h4><thead>\n",
       "    <tr style=\"text-align: right;\">\n",
       "      \n",
       "      <th>rdfs:label</th>\n",
       "      <th>IRI</th>\n",
       "      <th>dcterms:description</th>\n",
       "    </tr>\n",
       "  </thead><tbody><tr><td>Loading... (need <a href=https://mwouts.github.io/itables/troubleshooting.html>help</a>?)</td></tr></tbody></table>\n",
       "<link rel=\"stylesheet\" type=\"text/css\" href=\"https://cdn.datatables.net/1.11.3/css/jquery.dataTables.min.css\">\n",
       "<style> table td {\n",
       "    text-overflow: ellipsis;\n",
       "    overflow: hidden;\n",
       "} </style>\n",
       "<style> table th {\n",
       "    text-overflow: ellipsis;\n",
       "    overflow: hidden;\n",
       "} </style>\n",
       "<script type=\"module\">\n",
       "    // Define the table data\n",
       "    const data = [[\"Editorial object\", \"http://www.ebu.ch/metadata/ontologies/ebucore/ebucore#EditorialObject\", \"An EditorialObject collects all the descriptive information about an object to be realised as a single MediaResource or a collection thereof. An \\u00abEditorialObject\\u00bb describes any idea, any story and will be used to transform a concept into an editorial definition of a MediaResource before fabrication (Production Domain) and Distribution (Distribution Domain).\\r\\nAn \\u00abEditorialObject\\u00bb is a set of descriptive metadata summarising e.g. editing decisions. An \\u00abEditorialObject\\u00bb can be a group of EditorialObjects. An \\u00abEditorialObject\\u00bb can also be a part of another \\u00abEditorialObject\\u00bb, which is defined by its start time and duration. EditorialObjects can be ordered either as groups or as items on a timeline.\\r\\nExamples of simple EditorialObjects: Programme, Item, Shot,Part, etc. Examples of Groups: Brand, Series, Serial, Collection, etc.\\r\\nA simplifieduse-case:\\r\\nA news broadcast consists of two news items. One news item contains the last ten seconds of a one minute long interview taken from another source (i.e. 50\\\" >60\\\" ).\\r\\n This could be modelled as follows:\\r\\n\\u2022 The NewsBroadcast is linked\\r\\n      to a MediaResource using the instantiates-property\\r\\n\\u2022 The NewsItems are linked to the\\r\\n      NewsBroadcast using a TimelineTrack. Tech 3351 EBU CCDM 13\\r\\n\\u2022 The InterviewPart is\\r\\n      linked to the NewsItem using the hasMember-property. Start and Duration are properties within\\r\\n      the InterviewPart indicating its appearance within the NewsItem2.\\r\\n\\u2022 The InterviewPart\\r\\n      is linked to its original source using the existsAs-property\\r\\n\\u2022 The Interview\\r\\n      instantiates a MediaResource, which in turn is linked from the MediaResource of the\\r\\n      NewsBroadcast using the hasSource-property\\r\\n\\u2022 Representation of segmentation:\\r\\n      TimelineTracks are preferred over hasPart-properties, when a rundown is needed, e.g. for\\r\\n      playout.\"]];\n",
       "\n",
       "    if (typeof require === 'undefined') {\n",
       "        // TODO: This should become the default (use a simple import)\n",
       "        // when the ESM version works independently of whether\n",
       "        // require.js is there or not, see\n",
       "        // https://datatables.net/forums/discussion/69066/esm-es6-module-support?\n",
       "        const {default: $} = await import(\"https://esm.sh/jquery@3.5.0\");\n",
       "        const {default: initDataTables} = await import(\"https://esm.sh/datatables.net@1.11.3?deps=jquery@3.5.0\");\n",
       "\n",
       "        initDataTables();\n",
       "\n",
       "        // Define the dt_args\n",
       "        let dt_args = {\"columnDefs\": [{\"width\": \"120px\", \"className\": \"dt-center\", \"targets\": \"_all\", \"createdCell\": \n",
       "        function (td, cellData, rowData, row, col) {\n",
       "            $(td).css('word-wrap', 'break-word')\n",
       "            if (cellData === '1.0' ) {\n",
       "                $(td).html('1')\n",
       "            }\n",
       "            if (cellData == false) {\n",
       "                $(td).css('color', '#7CBC97')\n",
       "                $(td).css('font-weight', 'bold')\n",
       "            }\n",
       "            else if (cellData == true) {\n",
       "                $(td).css('color', '#7DA5C0')\n",
       "                $(td).css('font-weight', 'bold')\n",
       "                $(td).html = \"True\"\n",
       "            }\n",
       "        }\n",
       "        }], \"lengthMenu\": [5, 10, 25, 50, -1], \"paging\": false};\n",
       "        dt_args[\"data\"] = data;\n",
       "\n",
       "        // Display the table\n",
       "        $(document).ready(function () {\n",
       "            $('#6985e87a-da7e-43a0-8181-096e81b40fd1').DataTable(dt_args);\n",
       "        });\n",
       "    } else {\n",
       "        require([\"jquery\", \"datatables\"], ($, datatables) => {\n",
       "                // Define the dt_args\n",
       "                let dt_args = {\"columnDefs\": [{\"width\": \"120px\", \"className\": \"dt-center\", \"targets\": \"_all\", \"createdCell\": \n",
       "        function (td, cellData, rowData, row, col) {\n",
       "            $(td).css('word-wrap', 'break-word')\n",
       "            if (cellData === '1.0' ) {\n",
       "                $(td).html('1')\n",
       "            }\n",
       "            if (cellData == false) {\n",
       "                $(td).css('color', '#7CBC97')\n",
       "                $(td).css('font-weight', 'bold')\n",
       "            }\n",
       "            else if (cellData == true) {\n",
       "                $(td).css('color', '#7DA5C0')\n",
       "                $(td).css('font-weight', 'bold')\n",
       "                $(td).html = \"True\"\n",
       "            }\n",
       "        }\n",
       "        }], \"lengthMenu\": [5, 10, 25, 50, -1], \"paging\": false};\n",
       "                dt_args[\"data\"] = data;\n",
       "\n",
       "                // Display the table\n",
       "                $(document).ready(function () {\n",
       "                    $('#6985e87a-da7e-43a0-8181-096e81b40fd1').DataTable(dt_args);\n",
       "                });\n",
       "            }\n",
       "        )\n",
       "    }\n",
       "</script>\n"
      ],
      "text/plain": [
       "<IPython.core.display.HTML object>"
      ]
     },
     "metadata": {},
     "output_type": "display_data"
    }
   ],
   "source": [
    "description = get_description(source_df=classes_df, \n",
    "                            iri='http://www.ebu.ch/metadata/ontologies/ebucore/ebucore#EditorialObject', \n",
    "                            language='en', \n",
    "                            show_table=True)"
   ]
  },
  {
   "cell_type": "code",
   "execution_count": 10,
   "id": "dcb294a9-68eb-461c-a3fd-34321538d6a4",
   "metadata": {
    "collapsed": true,
    "jupyter": {
     "outputs_hidden": true,
     "source_hidden": true
    },
    "tags": []
   },
   "outputs": [
    {
     "ename": "SyntaxError",
     "evalue": "invalid syntax (3085499390.py, line 1)",
     "output_type": "error",
     "traceback": [
      "\u001b[0;36m  Input \u001b[0;32mIn [10]\u001b[0;36m\u001b[0m\n\u001b[0;31m    **Figure:** Legend for network graphs\u001b[0m\n\u001b[0m    ^\u001b[0m\n\u001b[0;31mSyntaxError\u001b[0m\u001b[0;31m:\u001b[0m invalid syntax\n"
     ]
    }
   ],
   "source": [
    "**Figure:** Legend for network graphs\n",
    "![title](https://image-assets-for-cdk.s3.eu-central-1.amazonaws.com/legend_for_cell.png)"
   ]
  },
  {
   "cell_type": "code",
   "execution_count": 11,
   "id": "be45e4d0-c427-4e92-a52b-bb1722b7655e",
   "metadata": {
    "tags": []
   },
   "outputs": [
    {
     "data": {
      "text/html": [
       "\n",
       "        <iframe\n",
       "            width=\"100%\"\n",
       "            height=\"800px\"\n",
       "            src=\"graphs/editorial_object.html\"\n",
       "            frameborder=\"0\"\n",
       "            allowfullscreen\n",
       "            \n",
       "        ></iframe>\n",
       "        "
      ],
      "text/plain": [
       "<IPython.lib.display.IFrame at 0x7fda88076f40>"
      ]
     },
     "execution_count": 11,
     "metadata": {},
     "output_type": "execute_result"
    }
   ],
   "source": [
    "iris = ['http://www.ebu.ch/metadata/ontologies/ebucore/ebucore#EditorialObject']\n",
    "network = visualize(tenant=TENANT,\n",
    "                    username=USERNAME,\n",
    "                    password=PASSWORD,\n",
    "                    source_df=classes_df,\n",
    "                    iris=iris, \n",
    "                    show_properties=True, \n",
    "                    show_subclasses=True, \n",
    "                    show_superclasses=True, \n",
    "                    language='en',\n",
    "                    verbose=False)\n",
    "    \n",
    "network.show('graphs/editorial_object.html')"
   ]
  },
  {
   "cell_type": "code",
   "execution_count": 8,
   "id": "8db7e8d8-be61-492b-b5f1-6fd86045d2ce",
   "metadata": {},
   "outputs": [
    {
     "data": {
      "text/html": [
       "<table id=\"dc1ab1f5-06f9-44f9-a6fb-9b66214e492c\" class=\"cell-border stripe hover\"style=\"max-width:100%\"><h4 style=\"text-alignt:center\"><label style=\"font-weight:bold\">Table: </label><label>Individuals of class EditorialObject</label></h4><thead>\n",
       "    <tr style=\"text-align: right;\">\n",
       "      \n",
       "      <th>IRI</th>\n",
       "      <th>ec:alternativeTitle</th>\n",
       "      <th>ec:contentDescription</th>\n",
       "    </tr>\n",
       "  </thead><tbody><tr><td>Loading... (need <a href=https://mwouts.github.io/itables/troubleshooting.html>help</a>?)</td></tr></tbody></table>\n",
       "<link rel=\"stylesheet\" type=\"text/css\" href=\"https://cdn.datatables.net/1.11.3/css/jquery.dataTables.min.css\">\n",
       "<style> table td {\n",
       "    text-overflow: ellipsis;\n",
       "    overflow: hidden;\n",
       "} </style>\n",
       "<style> table th {\n",
       "    text-overflow: ellipsis;\n",
       "    overflow: hidden;\n",
       "} </style>\n",
       "<script type=\"module\">\n",
       "    // Define the table data\n",
       "    const data = [[\"http://www.ebu.ch/metadata/ontologies/ebucore/ebucore#SOMEPROGRAMME\", \"Et prg\", \"Et merke\"], [\"http://www.ebu.ch/metadata/ontologies/ebucore/ebucore#SOMEPROGRAMME\", \"Et prg\", \"et annet merke (some tag)\"]];\n",
       "\n",
       "    if (typeof require === 'undefined') {\n",
       "        // TODO: This should become the default (use a simple import)\n",
       "        // when the ESM version works independently of whether\n",
       "        // require.js is there or not, see\n",
       "        // https://datatables.net/forums/discussion/69066/esm-es6-module-support?\n",
       "        const {default: $} = await import(\"https://esm.sh/jquery@3.5.0\");\n",
       "        const {default: initDataTables} = await import(\"https://esm.sh/datatables.net@1.11.3?deps=jquery@3.5.0\");\n",
       "\n",
       "        initDataTables();\n",
       "\n",
       "        // Define the dt_args\n",
       "        let dt_args = {\"columnDefs\": [{\"width\": \"120px\", \"className\": \"dt-center\", \"targets\": \"_all\", \"createdCell\": \n",
       "        function (td, cellData, rowData, row, col) {\n",
       "            $(td).css('word-wrap', 'break-word')\n",
       "            if (cellData === '1.0' ) {\n",
       "                $(td).html('1')\n",
       "            }\n",
       "            if (cellData == false) {\n",
       "                $(td).css('color', '#7CBC97')\n",
       "                $(td).css('font-weight', 'bold')\n",
       "            }\n",
       "            else if (cellData == true) {\n",
       "                $(td).css('color', '#7DA5C0')\n",
       "                $(td).css('font-weight', 'bold')\n",
       "                $(td).html = \"True\"\n",
       "            }\n",
       "        }\n",
       "        }], \"lengthMenu\": [5, 10, 25, 50, -1], \"paging\": false};\n",
       "        dt_args[\"data\"] = data;\n",
       "\n",
       "        // Display the table\n",
       "        $(document).ready(function () {\n",
       "            $('#dc1ab1f5-06f9-44f9-a6fb-9b66214e492c').DataTable(dt_args);\n",
       "        });\n",
       "    } else {\n",
       "        require([\"jquery\", \"datatables\"], ($, datatables) => {\n",
       "                // Define the dt_args\n",
       "                let dt_args = {\"columnDefs\": [{\"width\": \"120px\", \"className\": \"dt-center\", \"targets\": \"_all\", \"createdCell\": \n",
       "        function (td, cellData, rowData, row, col) {\n",
       "            $(td).css('word-wrap', 'break-word')\n",
       "            if (cellData === '1.0' ) {\n",
       "                $(td).html('1')\n",
       "            }\n",
       "            if (cellData == false) {\n",
       "                $(td).css('color', '#7CBC97')\n",
       "                $(td).css('font-weight', 'bold')\n",
       "            }\n",
       "            else if (cellData == true) {\n",
       "                $(td).css('color', '#7DA5C0')\n",
       "                $(td).css('font-weight', 'bold')\n",
       "                $(td).html = \"True\"\n",
       "            }\n",
       "        }\n",
       "        }], \"lengthMenu\": [5, 10, 25, 50, -1], \"paging\": false};\n",
       "                dt_args[\"data\"] = data;\n",
       "\n",
       "                // Display the table\n",
       "                $(document).ready(function () {\n",
       "                    $('#dc1ab1f5-06f9-44f9-a6fb-9b66214e492c').DataTable(dt_args);\n",
       "                });\n",
       "            }\n",
       "        )\n",
       "    }\n",
       "</script>\n"
      ],
      "text/plain": [
       "<IPython.core.display.HTML object>"
      ]
     },
     "metadata": {},
     "output_type": "display_data"
    }
   ],
   "source": [
    "individuals = get_individuals(iri='http://www.ebu.ch/metadata/ontologies/ebucore/ebucore#EditorialObject', \n",
    "                              tenant=TENANT,\n",
    "                              username='demo-user', \n",
    "                              password='demo', \n",
    "                              show_table=True)"
   ]
  },
  {
   "cell_type": "code",
   "execution_count": null,
   "id": "b8c66de5-6ac4-4014-8743-8ac51e8184fc",
   "metadata": {},
   "outputs": [],
   "source": []
  },
  {
   "cell_type": "code",
   "execution_count": null,
   "id": "a5892193-fd23-4fbf-87c6-32a7dfba799c",
   "metadata": {},
   "outputs": [],
   "source": []
  },
  {
   "cell_type": "code",
   "execution_count": null,
   "id": "5e81ac4e-f39b-4fb3-b6c9-6d328fb21d5b",
   "metadata": {},
   "outputs": [],
   "source": []
  },
  {
   "cell_type": "code",
   "execution_count": null,
   "id": "d8865ce8-3cc9-411f-8f21-4c7c642a4d0d",
   "metadata": {},
   "outputs": [],
   "source": []
  }
 ],
 "metadata": {
  "kernelspec": {
   "display_name": "Python 3 (ipykernel)",
   "language": "python",
   "name": "python3"
  },
  "language_info": {
   "codemirror_mode": {
    "name": "ipython",
    "version": 3
   },
   "file_extension": ".py",
   "mimetype": "text/x-python",
   "name": "python",
   "nbconvert_exporter": "python",
   "pygments_lexer": "ipython3",
   "version": "3.8.13"
  },
  "vscode": {
   "interpreter": {
    "hash": "98807f6c289134d296216f26040d15a7d574bbb60c2c2a89c24c5bf374ecb86a"
   }
  }
 },
 "nbformat": 4,
 "nbformat_minor": 5
}
