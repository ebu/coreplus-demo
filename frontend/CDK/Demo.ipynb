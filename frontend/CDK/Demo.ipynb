{
 "cells": [
  {
   "cell_type": "markdown",
   "id": "e1f662fd-7acd-48f9-8da0-9b0e8a6aff36",
   "metadata": {
    "tags": []
   },
   "source": [
    "# Preamble\n",
    "## Importing necessary libraries and scripts\n",
    "The code below consist of imports for libraries and scripts necessary for generating visualizations."
   ]
  },
  {
   "cell_type": "code",
   "execution_count": 1,
   "id": "99bddc85",
   "metadata": {
    "scrolled": true,
    "tags": []
   },
   "outputs": [],
   "source": [
    "import os\n",
    "import sys\n",
    "import pandas as pd\n",
    "import itables.options as opt\n",
    "from itables import init_notebook_mode, show\n",
    "from scripts.ontologies import (load_model, get_all_classes, get_classes_by_iris, get_individuals, \n",
    "                                get_description, get_properties, visualize, itable_config)"
   ]
  },
  {
   "cell_type": "markdown",
   "id": "7e109785-5d77-4d8f-a49c-4073dcc40874",
   "metadata": {},
   "source": [
    "## Acquiring the model\n",
    "The code below is reponsible for accessing the endpoints to acquire the model, using the credentials provided as parameters named **username** and **password**. It involves acquiring **classes** along with their respective **descriptions** and **attributes**. "
   ]
  },
  {
   "cell_type": "code",
   "execution_count": 10,
   "id": "d00298cf-e452-4d22-83dc-bcf1adcc291d",
   "metadata": {},
   "outputs": [],
   "source": [
    "TENANT = os.getenv('TENANT', 'demo-tenant')\n",
    "USERNAME = 'demo-user'\n",
    "PASSWORD = 'demo'"
   ]
  },
  {
   "cell_type": "code",
   "execution_count": 11,
   "id": "01aeaa48-1e06-48af-9733-81660294f6be",
   "metadata": {},
   "outputs": [
    {
     "name": "stdout",
     "output_type": "stream",
     "text": [
      "503 Server Error: Service Temporarily Unavailable for url: https://ebucore-plus-dk.org/auth/realms/demo-tenant/protocol/openid-connect/token"
     ]
    },
    {
     "data": {
      "application/javascript": [
       "if (typeof require !== 'undefined')\n",
       "    require.config({\n",
       "        paths: {\n",
       "            jquery: 'https://code.jquery.com/jquery-3.5.1.min',\n",
       "            datatables: 'https://cdn.datatables.net/1.11.3/js/jquery.dataTables.min',\n",
       "        }\n",
       "    });\n"
      ],
      "text/plain": [
       "<IPython.core.display.Javascript object>"
      ]
     },
     "metadata": {},
     "output_type": "display_data"
    }
   ],
   "source": [
    "classes_df = load_model(tenant=TENANT, username=USERNAME, password=PASSWORD)\n",
    "itable_config(opt, init_notebook_mode)"
   ]
  },
  {
   "cell_type": "markdown",
   "id": "cc4fb9e9-40f2-4571-aa8e-e81c7b5cdff7",
   "metadata": {},
   "source": [
    "## Visualizing DataFrames \n",
    "The code below is reponsible for configuring itables for optimized tabluar visualizations. It also includes transformation of DataFrame for later use. "
   ]
  },
  {
   "cell_type": "code",
   "execution_count": 12,
   "id": "153bea62-6330-469b-ae20-0e0786248ed1",
   "metadata": {
    "tags": []
   },
   "outputs": [
    {
     "ename": "AttributeError",
     "evalue": "'NoneType' object has no attribute 'copy'",
     "output_type": "error",
     "traceback": [
      "\u001b[0;31m---------------------------------------------------------------------------\u001b[0m",
      "\u001b[0;31mAttributeError\u001b[0m                            Traceback (most recent call last)",
      "Input \u001b[0;32mIn [12]\u001b[0m, in \u001b[0;36m<cell line: 1>\u001b[0;34m()\u001b[0m\n\u001b[0;32m----> 1\u001b[0m all_classes_df \u001b[38;5;241m=\u001b[39m \u001b[43mget_all_classes\u001b[49m\u001b[43m(\u001b[49m\u001b[43msource_df\u001b[49m\u001b[38;5;241;43m=\u001b[39;49m\u001b[43mclasses_df\u001b[49m\u001b[43m,\u001b[49m\u001b[43m \u001b[49m\n\u001b[1;32m      2\u001b[0m \u001b[43m                                 \u001b[49m\u001b[43mlanguage\u001b[49m\u001b[38;5;241;43m=\u001b[39;49m\u001b[38;5;124;43m'\u001b[39;49m\u001b[38;5;124;43men\u001b[39;49m\u001b[38;5;124;43m'\u001b[39;49m\u001b[43m,\u001b[49m\u001b[43m \u001b[49m\n\u001b[1;32m      3\u001b[0m \u001b[43m                                 \u001b[49m\u001b[43mshow_table\u001b[49m\u001b[38;5;241;43m=\u001b[39;49m\u001b[38;5;28;43;01mTrue\u001b[39;49;00m\u001b[43m)\u001b[49m\n",
      "File \u001b[0;32m~/Projects/Innotrade/coreplus-demo/coreplus-demo/frontend/CDK/scripts/ontologies.py:298\u001b[0m, in \u001b[0;36mget_all_classes\u001b[0;34m(source_df, language, show_table)\u001b[0m\n\u001b[1;32m    285\u001b[0m \u001b[38;5;28;01mdef\u001b[39;00m \u001b[38;5;21mget_all_classes\u001b[39m(source_df, language\u001b[38;5;241m=\u001b[39m\u001b[38;5;124m'\u001b[39m\u001b[38;5;124men\u001b[39m\u001b[38;5;124m'\u001b[39m, show_table\u001b[38;5;241m=\u001b[39m\u001b[38;5;28;01mTrue\u001b[39;00m):\n\u001b[1;32m    286\u001b[0m     \u001b[38;5;124;03m\"\"\"It extracts a unique DataFrame of classes from the given DataFrame.\u001b[39;00m\n\u001b[1;32m    287\u001b[0m \n\u001b[1;32m    288\u001b[0m \u001b[38;5;124;03m    Args:\u001b[39;00m\n\u001b[0;32m   (...)\u001b[0m\n\u001b[1;32m    295\u001b[0m \u001b[38;5;124;03m        DataFrame: The DataFrame holding the all the classes.\u001b[39;00m\n\u001b[1;32m    296\u001b[0m \u001b[38;5;124;03m    \"\"\"\u001b[39;00m\n\u001b[0;32m--> 298\u001b[0m     resultant_df \u001b[38;5;241m=\u001b[39m \u001b[43msource_df\u001b[49m\u001b[38;5;241;43m.\u001b[39;49m\u001b[43mcopy\u001b[49m()\n\u001b[1;32m    299\u001b[0m     resultant_df \u001b[38;5;241m=\u001b[39m resultant_df[resultant_df[\u001b[38;5;124m'\u001b[39m\u001b[38;5;124mLanguage\u001b[39m\u001b[38;5;124m'\u001b[39m] \u001b[38;5;241m==\u001b[39m language]\n\u001b[1;32m    300\u001b[0m     resultant_df\u001b[38;5;241m.\u001b[39mdrop_duplicates(subset\u001b[38;5;241m=\u001b[39m\u001b[38;5;124m'\u001b[39m\u001b[38;5;124mIRI\u001b[39m\u001b[38;5;124m'\u001b[39m, inplace\u001b[38;5;241m=\u001b[39m\u001b[38;5;28;01mTrue\u001b[39;00m)\n",
      "\u001b[0;31mAttributeError\u001b[0m: 'NoneType' object has no attribute 'copy'"
     ]
    }
   ],
   "source": [
    "all_classes_df = get_all_classes(source_df=classes_df, \n",
    "                                 language='en', \n",
    "                                 show_table=True)"
   ]
  },
  {
   "cell_type": "code",
   "execution_count": null,
   "id": "2bea315e-fefd-4913-84dd-eec9566eb8e3",
   "metadata": {
    "tags": []
   },
   "outputs": [],
   "source": [
    "iris = ['http://www.ebu.ch/metadata/ontologies/ebucore/ebucore#EditorialObject']\n",
    "classes_by_labels = get_classes_by_iris(source_df=classes_df, \n",
    "                                        iris=iris, \n",
    "                                        show_subclasses=True, \n",
    "                                        show_superclasses=True, \n",
    "                                        language='en',\n",
    "                                        show_table=True)"
   ]
  },
  {
   "cell_type": "markdown",
   "id": "e98038bc-9e97-482a-a351-347463018a26",
   "metadata": {
    "tags": []
   },
   "source": [
    "**Figure:** Legend for network graphs\n",
    "![title](https://image-assets-for-cdk.s3.eu-central-1.amazonaws.com/legend_for_cell.png)"
   ]
  },
  {
   "cell_type": "code",
   "execution_count": null,
   "id": "da5019a1-12ec-4cba-948f-1400124944cf",
   "metadata": {
    "tags": []
   },
   "outputs": [],
   "source": [
    "iris = ['http://www.ebu.ch/metadata/ontologies/ebucore/ebucore#EditorialObject']\n",
    "network = visualize(tenant=TENANT,\n",
    "                    username=USERNAME,\n",
    "                    password=PASSWORD,\n",
    "                    source_df=classes_df,\n",
    "                    iris=iris, \n",
    "                    show_properties=False, \n",
    "                    show_subclasses=True, \n",
    "                    show_superclasses=True, \n",
    "                    language='en',\n",
    "                    verbose=False)\n",
    "network.show('graphs/editorial_object_basic.html')"
   ]
  },
  {
   "cell_type": "code",
   "execution_count": null,
   "id": "e0880103-fb53-4035-b824-de803ecbaa45",
   "metadata": {},
   "outputs": [],
   "source": [
    "properties = get_properties(iri='http://www.ebu.ch/metadata/ontologies/ebucore/ebucore#EditorialObject', \n",
    "                           tenant=TENANT,\n",
    "                           username=USERNAME, \n",
    "                           password=PASSWORD,\n",
    "                           show_table=True)"
   ]
  },
  {
   "cell_type": "code",
   "execution_count": null,
   "id": "49d6d971-c293-4cfc-b5af-f38429646a0f",
   "metadata": {},
   "outputs": [],
   "source": [
    "description = get_description(source_df=classes_df, \n",
    "                            iri='http://www.ebu.ch/metadata/ontologies/ebucore/ebucore#EditorialObject', \n",
    "                            language='en', \n",
    "                            show_table=True)"
   ]
  },
  {
   "cell_type": "markdown",
   "id": "3b9c38cd-20ea-4f17-a0f0-63c3647f4a74",
   "metadata": {
    "tags": []
   },
   "source": [
    "**Figure:** Legend for network graphs\n",
    "![title](https://image-assets-for-cdk.s3.eu-central-1.amazonaws.com/legend_for_cell.png)"
   ]
  },
  {
   "cell_type": "code",
   "execution_count": 13,
   "id": "be45e4d0-c427-4e92-a52b-bb1722b7655e",
   "metadata": {
    "tags": []
   },
   "outputs": [
    {
     "ename": "AttributeError",
     "evalue": "'NoneType' object has no attribute 'copy'",
     "output_type": "error",
     "traceback": [
      "\u001b[0;31m---------------------------------------------------------------------------\u001b[0m",
      "\u001b[0;31mAttributeError\u001b[0m                            Traceback (most recent call last)",
      "Input \u001b[0;32mIn [13]\u001b[0m, in \u001b[0;36m<cell line: 2>\u001b[0;34m()\u001b[0m\n\u001b[1;32m      1\u001b[0m iris \u001b[38;5;241m=\u001b[39m [\u001b[38;5;124m'\u001b[39m\u001b[38;5;124mhttp://www.ebu.ch/metadata/ontologies/ebucore/ebucore#EditorialObject\u001b[39m\u001b[38;5;124m'\u001b[39m]\n\u001b[0;32m----> 2\u001b[0m network \u001b[38;5;241m=\u001b[39m \u001b[43mvisualize\u001b[49m\u001b[43m(\u001b[49m\u001b[43mtenant\u001b[49m\u001b[38;5;241;43m=\u001b[39;49m\u001b[43mTENANT\u001b[49m\u001b[43m,\u001b[49m\n\u001b[1;32m      3\u001b[0m \u001b[43m                    \u001b[49m\u001b[43musername\u001b[49m\u001b[38;5;241;43m=\u001b[39;49m\u001b[43mUSERNAME\u001b[49m\u001b[43m,\u001b[49m\n\u001b[1;32m      4\u001b[0m \u001b[43m                    \u001b[49m\u001b[43mpassword\u001b[49m\u001b[38;5;241;43m=\u001b[39;49m\u001b[43mPASSWORD\u001b[49m\u001b[43m,\u001b[49m\n\u001b[1;32m      5\u001b[0m \u001b[43m                    \u001b[49m\u001b[43msource_df\u001b[49m\u001b[38;5;241;43m=\u001b[39;49m\u001b[43mclasses_df\u001b[49m\u001b[43m,\u001b[49m\n\u001b[1;32m      6\u001b[0m \u001b[43m                    \u001b[49m\u001b[43miris\u001b[49m\u001b[38;5;241;43m=\u001b[39;49m\u001b[43miris\u001b[49m\u001b[43m,\u001b[49m\u001b[43m \u001b[49m\n\u001b[1;32m      7\u001b[0m \u001b[43m                    \u001b[49m\u001b[43mshow_properties\u001b[49m\u001b[38;5;241;43m=\u001b[39;49m\u001b[38;5;28;43;01mTrue\u001b[39;49;00m\u001b[43m,\u001b[49m\u001b[43m \u001b[49m\n\u001b[1;32m      8\u001b[0m \u001b[43m                    \u001b[49m\u001b[43mshow_subclasses\u001b[49m\u001b[38;5;241;43m=\u001b[39;49m\u001b[38;5;28;43;01mTrue\u001b[39;49;00m\u001b[43m,\u001b[49m\u001b[43m \u001b[49m\n\u001b[1;32m      9\u001b[0m \u001b[43m                    \u001b[49m\u001b[43mshow_superclasses\u001b[49m\u001b[38;5;241;43m=\u001b[39;49m\u001b[38;5;28;43;01mTrue\u001b[39;49;00m\u001b[43m,\u001b[49m\u001b[43m \u001b[49m\n\u001b[1;32m     10\u001b[0m \u001b[43m                    \u001b[49m\u001b[43mlanguage\u001b[49m\u001b[38;5;241;43m=\u001b[39;49m\u001b[38;5;124;43m'\u001b[39;49m\u001b[38;5;124;43men\u001b[39;49m\u001b[38;5;124;43m'\u001b[39;49m\u001b[43m,\u001b[49m\n\u001b[1;32m     11\u001b[0m \u001b[43m                    \u001b[49m\u001b[43mverbose\u001b[49m\u001b[38;5;241;43m=\u001b[39;49m\u001b[38;5;28;43;01mFalse\u001b[39;49;00m\u001b[43m)\u001b[49m\n\u001b[1;32m     13\u001b[0m network\u001b[38;5;241m.\u001b[39mshow(\u001b[38;5;124m'\u001b[39m\u001b[38;5;124mgraphs/editorial_object.html\u001b[39m\u001b[38;5;124m'\u001b[39m)\n",
      "File \u001b[0;32m~/Projects/Innotrade/coreplus-demo/coreplus-demo/frontend/CDK/scripts/ontologies.py:616\u001b[0m, in \u001b[0;36mvisualize\u001b[0;34m(tenant, username, password, source_df, iris, show_properties, show_subclasses, show_superclasses, language, verbose)\u001b[0m\n\u001b[1;32m    613\u001b[0m network\u001b[38;5;241m.\u001b[39mrepulsion(node_distance\u001b[38;5;241m=\u001b[39m\u001b[38;5;241m300\u001b[39m, spring_length\u001b[38;5;241m=\u001b[39m\u001b[38;5;241m300\u001b[39m)\n\u001b[1;32m    615\u001b[0m \u001b[38;5;66;03m# Acquiring required DataFrame\u001b[39;00m\n\u001b[0;32m--> 616\u001b[0m resultant_df \u001b[38;5;241m=\u001b[39m \u001b[43mget_classes_by_iris\u001b[49m\u001b[43m(\u001b[49m\u001b[43msource_df\u001b[49m\u001b[38;5;241;43m=\u001b[39;49m\u001b[43msource_df\u001b[49m\u001b[43m,\u001b[49m\n\u001b[1;32m    617\u001b[0m \u001b[43m                                   \u001b[49m\u001b[43miris\u001b[49m\u001b[38;5;241;43m=\u001b[39;49m\u001b[43miris\u001b[49m\u001b[43m,\u001b[49m\n\u001b[1;32m    618\u001b[0m \u001b[43m                                   \u001b[49m\u001b[43mshow_subclasses\u001b[49m\u001b[38;5;241;43m=\u001b[39;49m\u001b[43mshow_subclasses\u001b[49m\u001b[43m,\u001b[49m\n\u001b[1;32m    619\u001b[0m \u001b[43m                                   \u001b[49m\u001b[43mshow_superclasses\u001b[49m\u001b[38;5;241;43m=\u001b[39;49m\u001b[43mshow_superclasses\u001b[49m\u001b[43m,\u001b[49m\n\u001b[1;32m    620\u001b[0m \u001b[43m                                   \u001b[49m\u001b[43mlanguage\u001b[49m\u001b[38;5;241;43m=\u001b[39;49m\u001b[43mlanguage\u001b[49m\u001b[43m,\u001b[49m\n\u001b[1;32m    621\u001b[0m \u001b[43m                                   \u001b[49m\u001b[43mshow_table\u001b[49m\u001b[38;5;241;43m=\u001b[39;49m\u001b[38;5;28;43;01mFalse\u001b[39;49;00m\u001b[43m)\u001b[49m\n\u001b[1;32m    623\u001b[0m \u001b[38;5;66;03m# Acquiring descriptions for all classes\u001b[39;00m\n\u001b[1;32m    624\u001b[0m descriptions \u001b[38;5;241m=\u001b[39m __accquire_description__(\n\u001b[1;32m    625\u001b[0m     tenant\u001b[38;5;241m=\u001b[39mtenant, username\u001b[38;5;241m=\u001b[39musername, password\u001b[38;5;241m=\u001b[39mpassword)\n",
      "File \u001b[0;32m~/Projects/Innotrade/coreplus-demo/coreplus-demo/frontend/CDK/scripts/ontologies.py:333\u001b[0m, in \u001b[0;36mget_classes_by_iris\u001b[0;34m(source_df, iris, show_subclasses, show_superclasses, language, show_table)\u001b[0m\n\u001b[1;32m    313\u001b[0m \u001b[38;5;28;01mdef\u001b[39;00m \u001b[38;5;21mget_classes_by_iris\u001b[39m(source_df,\n\u001b[1;32m    314\u001b[0m                         iris,\n\u001b[1;32m    315\u001b[0m                         show_subclasses\u001b[38;5;241m=\u001b[39m\u001b[38;5;28;01mTrue\u001b[39;00m,\n\u001b[1;32m    316\u001b[0m                         show_superclasses\u001b[38;5;241m=\u001b[39m\u001b[38;5;28;01mTrue\u001b[39;00m,\n\u001b[1;32m    317\u001b[0m                         language\u001b[38;5;241m=\u001b[39m\u001b[38;5;124m'\u001b[39m\u001b[38;5;124men\u001b[39m\u001b[38;5;124m'\u001b[39m,\n\u001b[1;32m    318\u001b[0m                         show_table\u001b[38;5;241m=\u001b[39m\u001b[38;5;28;01mTrue\u001b[39;00m):\n\u001b[1;32m    319\u001b[0m     \u001b[38;5;124;03m\"\"\"It extracts classes based on give IRIs along with the relations.\u001b[39;00m\n\u001b[1;32m    320\u001b[0m \n\u001b[1;32m    321\u001b[0m \u001b[38;5;124;03m    Args:\u001b[39;00m\n\u001b[0;32m   (...)\u001b[0m\n\u001b[1;32m    331\u001b[0m \u001b[38;5;124;03m        DataFrame: The DataFrame holding the the queried IRIs.\u001b[39;00m\n\u001b[1;32m    332\u001b[0m \u001b[38;5;124;03m    \"\"\"\u001b[39;00m\n\u001b[0;32m--> 333\u001b[0m     extracted_df \u001b[38;5;241m=\u001b[39m \u001b[43msource_df\u001b[49m\u001b[38;5;241;43m.\u001b[39;49m\u001b[43mcopy\u001b[49m()\n\u001b[1;32m    334\u001b[0m     extracted_df \u001b[38;5;241m=\u001b[39m extracted_df[(extracted_df[\u001b[38;5;124m'\u001b[39m\u001b[38;5;124mLanguage\u001b[39m\u001b[38;5;124m'\u001b[39m] \u001b[38;5;241m==\u001b[39m language) \u001b[38;5;241m&\u001b[39m\n\u001b[1;32m    335\u001b[0m                                 (extracted_df[\u001b[38;5;124m'\u001b[39m\u001b[38;5;124mSuperclass Language\u001b[39m\u001b[38;5;124m'\u001b[39m]\u001b[38;5;241m.\u001b[39misin(\n\u001b[1;32m    336\u001b[0m                                     [language, \u001b[38;5;124m'\u001b[39m\u001b[38;5;124m'\u001b[39m]))]\n\u001b[1;32m    337\u001b[0m     resultant_df \u001b[38;5;241m=\u001b[39m pd\u001b[38;5;241m.\u001b[39mDataFrame()\n",
      "\u001b[0;31mAttributeError\u001b[0m: 'NoneType' object has no attribute 'copy'"
     ]
    }
   ],
   "source": [
    "iris = ['http://www.ebu.ch/metadata/ontologies/ebucore/ebucore#EditorialObject']\n",
    "network = visualize(tenant=TENANT,\n",
    "                    username=USERNAME,\n",
    "                    password=PASSWORD,\n",
    "                    source_df=classes_df,\n",
    "                    iris=iris, \n",
    "                    show_properties=True, \n",
    "                    show_subclasses=True, \n",
    "                    show_superclasses=True, \n",
    "                    language='en',\n",
    "                    verbose=False)\n",
    "    \n",
    "network.show('graphs/editorial_object.html')"
   ]
  },
  {
   "cell_type": "code",
   "execution_count": 14,
   "id": "8db7e8d8-be61-492b-b5f1-6fd86045d2ce",
   "metadata": {},
   "outputs": [
    {
     "name": "stdout",
     "output_type": "stream",
     "text": [
      "503 Server Error: Service Temporarily Unavailable for url: https://ebucore-plus-dk.org/auth/realms/demo-tenant/protocol/openid-connect/token"
     ]
    }
   ],
   "source": [
    "individuals = get_individuals(iri='http://www.ebu.ch/metadata/ontologies/ebucore/ebucore#EditorialObject', \n",
    "                              tenant=TENANT,\n",
    "                              username='demo-user', \n",
    "                              password='demo', \n",
    "                              show_table=True)"
   ]
  },
  {
   "cell_type": "code",
   "execution_count": null,
   "id": "b8c66de5-6ac4-4014-8743-8ac51e8184fc",
   "metadata": {},
   "outputs": [],
   "source": []
  },
  {
   "cell_type": "code",
   "execution_count": null,
   "id": "a5892193-fd23-4fbf-87c6-32a7dfba799c",
   "metadata": {},
   "outputs": [],
   "source": []
  },
  {
   "cell_type": "code",
   "execution_count": null,
   "id": "5e81ac4e-f39b-4fb3-b6c9-6d328fb21d5b",
   "metadata": {},
   "outputs": [],
   "source": []
  },
  {
   "cell_type": "code",
   "execution_count": null,
   "id": "d8865ce8-3cc9-411f-8f21-4c7c642a4d0d",
   "metadata": {},
   "outputs": [],
   "source": []
  }
 ],
 "metadata": {
  "kernelspec": {
   "display_name": "Python 3 (ipykernel)",
   "language": "python",
   "name": "python3"
  },
  "language_info": {
   "codemirror_mode": {
    "name": "ipython",
    "version": 3
   },
   "file_extension": ".py",
   "mimetype": "text/x-python",
   "name": "python",
   "nbconvert_exporter": "python",
   "pygments_lexer": "ipython3",
   "version": "3.8.13"
  },
  "vscode": {
   "interpreter": {
    "hash": "98807f6c289134d296216f26040d15a7d574bbb60c2c2a89c24c5bf374ecb86a"
   }
  }
 },
 "nbformat": 4,
 "nbformat_minor": 5
}
