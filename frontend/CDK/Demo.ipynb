{
 "cells": [
  {
   "cell_type": "markdown",
   "id": "e1f662fd-7acd-48f9-8da0-9b0e8a6aff36",
   "metadata": {
    "tags": []
   },
   "source": [
    "# Preamble\n",
    "## Importing necessary libraries and scripts\n",
    "The code below consist of imports for libraries and scripts necessary for generating visualizations."
   ]
  },
  {
   "cell_type": "code",
   "execution_count": 1,
   "id": "99bddc85",
   "metadata": {
    "scrolled": true,
    "tags": []
   },
   "outputs": [],
   "source": [
    "import sys\n",
    "import pandas as pd\n",
    "import itables.options as opt\n",
    "import os\n",
    "\n",
    "from IPython.display import HTML\n",
    "from itables import init_notebook_mode, show\n",
    "from scripts.config import ITABLE_COLDEF, ITABLE_TITLE\n",
    "from scripts.ontologies import (load_model, get_all_classes, get_classes_by_iris, get_individuals, \n",
    "                                get_description, get_properties, visualize, itable_config)"
   ]
  },
  {
   "cell_type": "markdown",
   "id": "7e109785-5d77-4d8f-a49c-4073dcc40874",
   "metadata": {},
   "source": [
    "## Acquiring the model\n",
    "The code below is reponsible for accessing the endpoints to acquire the model, using the credentials provided as parameters named **username** and **password**. It involves acquiring **classes** along with their respective **descriptions** and **attributes**. "
   ]
  },
  {
   "cell_type": "code",
   "execution_count": 2,
   "id": "d00298cf-e452-4d22-83dc-bcf1adcc291d",
   "metadata": {},
   "outputs": [],
   "source": [
    "USERNAME = 'demo-user'\n",
    "PASSWORD = 'demo'\n",
    "TENANT = os.getenv('TENANT')"
   ]
  },
  {
   "cell_type": "code",
   "execution_count": 3,
   "id": "01aeaa48-1e06-48af-9733-81660294f6be",
   "metadata": {},
   "outputs": [
    {
     "data": {
      "application/javascript": "if (typeof require !== 'undefined')\n    require.config({\n        paths: {\n            jquery: 'https://code.jquery.com/jquery-3.5.1.min',\n            datatables: 'https://cdn.datatables.net/1.11.3/js/jquery.dataTables.min',\n        }\n    });\n",
      "text/plain": [
       "<IPython.core.display.Javascript object>"
      ]
     },
     "metadata": {},
     "output_type": "display_data"
    }
   ],
   "source": [
    "classes_df = load_model(username=USERNAME, password=PASSWORD, tenant=TENANT)\n",
    "itable_config(opt, init_notebook_mode)"
   ]
  },
  {
   "cell_type": "markdown",
   "id": "cc4fb9e9-40f2-4571-aa8e-e81c7b5cdff7",
   "metadata": {},
   "source": [
    "## Visualizing DataFrames \n",
    "The code below is reponsible for configuring itables for optimized tabluar visualizations. It also includes transformation of DataFrame for later use. "
   ]
  },
  {
   "cell_type": "code",
   "execution_count": 4,
   "id": "153bea62-6330-469b-ae20-0e0786248ed1",
   "metadata": {},
   "outputs": [
    {
     "data": {
      "text/html": [
       "<table id=\"b126c1d1-d450-4c96-8161-1fe9a3a7b07e\" class=\"cell-border stripe hover\"style=\"max-width:100%\"><h4 style=\"text-alignt:center\"><label style=\"font-weight:bold\">Table: </label><label>List of classes</label></h4><thead>\n",
       "    <tr style=\"text-align: right;\">\n",
       "      \n",
       "      <th>Class Label</th>\n",
       "      <th>Class IRI</th>\n",
       "      <th>hasSubclasses</th>\n",
       "    </tr>\n",
       "  </thead><tbody><tr><td>Loading... (need <a href=https://mwouts.github.io/itables/troubleshooting.html>help</a>?)</td></tr></tbody></table>\n",
       "<link rel=\"stylesheet\" type=\"text/css\" href=\"https://cdn.datatables.net/1.11.3/css/jquery.dataTables.min.css\">\n",
       "<style> table td {\n",
       "    text-overflow: ellipsis;\n",
       "    overflow: hidden;\n",
       "} </style>\n",
       "<style> table th {\n",
       "    text-overflow: ellipsis;\n",
       "    overflow: hidden;\n",
       "} </style>\n",
       "<script type=\"module\">\n",
       "    // Define the table data\n",
       "    const data = [[\"Actuator\", \"http://ont.enapso.com/foundation#Actuator\", false], [\"Argument\", \"http://ont.enapso.com/foundation#Argument\", false], [\"Aspect \\\"Architecture\\\"\", \"http://ont.enapso.com/foundation#AspectArchitecture\", false], [\"Aspect \\\"Behavior\\\"\", \"http://ont.enapso.com/foundation#AspectBehavior\", false], [\"Aspect \\\"Business Logic\\\"\", \"http://ont.enapso.com/foundation#AspectBusinessLogic\", false], [\"Aspect \\\"Design\\\"\", \"http://ont.enapso.com/foundation#AspectDesign\", false], [\"Aspect \\\"Layout\\\"\", \"http://ont.enapso.com/foundation#AspectLayout\", false], [\"Aspect \\\"Life Cycle\\\"\", \"http://ont.enapso.com/foundation#AspectLifeCycle\", false], [\"Aspect \\\"Navigation\\\"\", \"http://ont.enapso.com/foundation#AspectNavigation\", false], [\"Aspect \\\"User Interaction\\\"\", \"http://ont.enapso.com/foundation#AspectUserInteraction\", false], [\"Aspect \\\"Workflow\\\"\", \"http://ont.enapso.com/foundation#AspectWorkflow\", false], [\"Attribute\", \"http://ont.enapso.com/foundation#Attribute\", true], [\"Compound Attribute\", \"http://ont.enapso.com/foundation#CompoundAttribute\", true], [\"Background\", \"http://ont.enapso.com/model/software#Background\", false], [\"Border\", \"http://ont.enapso.com/model/software#Border\", false], [\"Data\", \"http://ont.enapso.com/model/software#Data\", false], [\"Font\", \"http://ont.enapso.com/model/software#Font\", false], [\"Header\", \"http://ont.enapso.com/model/software#Header\", false], [\"Image\", \"http://ont.enapso.com/model/software#Image\", false], [\"Plugins\", \"http://ont.enapso.com/model/software#Plugins\", false], [\"Position\", \"http://ont.enapso.com/model/software#Position\", false], [\"Size\", \"http://ont.enapso.com/model/software#Size\", true], [\"Store\", \"http://ont.enapso.com/model/software#Store\", false], [\"Style\", \"http://ont.enapso.com/model/software#Style\", false], [\"Align\", \"http://ont.enapso.com/model/software#Align\", true], [\"App Name\", \"http://ont.enapso.com/model/software#AppName\", false], [\"Auto Destroy\", \"http://ont.enapso.com/model/software#AutoDestroy\", false], [\"Auto Load\", \"http://ont.enapso.com/model/software#AutoLoad\", false], [\"Auto Sync\", \"http://ont.enapso.com/model/software#AutoSync\", false], [\"Base iri\", \"http://ont.enapso.com/model/software#Baseiri\", false], [\"Bottom (Coordinate in Context \\\"Screen\\\")\", \"http://ont.enapso.com/model/software#Bottom\", false], [\"Checked\", \"http://ont.enapso.com/model/software#Checked\", false], [\"Client Id Property\", \"http://ont.enapso.com/model/software#ClientIdProperty\", false], [\"Cls\", \"http://ont.enapso.com/model/software#Cls\", false], [\"Collapse Object\", \"http://ont.enapso.com/model/software#CollapseObject\", false], [\"Header Color\", \"http://ont.enapso.com/model/software#HeaderColor\", false], [\"Content Type\", \"http://ont.enapso.com/model/software#ContentType\", false], [\"Data Index\", \"http://ont.enapso.com/model/software#DataIndex\", false], [\"DataType\", \"http://ont.enapso.com/model/software#DataType\", false], [\"Display Field\", \"http://ont.enapso.com/model/software#DisplayField\", false], [\"Docked\", \"http://ont.enapso.com/model/software#Docked\", false], [\"Editable\", \"http://ont.enapso.com/model/software#Editable\", false], [\"Flex\", \"http://ont.enapso.com/model/software#Flex\", false], [\"Height\", \"http://ont.enapso.com/model/software#Height\", false], [\"Hidden\", \"http://ont.enapso.com/model/software#Hidden\", false], [\"Html\", \"http://ont.enapso.com/model/software#Html\", false], [\"IconCls\", \"http://ont.enapso.com/model/software#IconCls\", false], [\"Id\", \"http://ont.enapso.com/model/software#Id\", true], [\"Id Param\", \"http://ont.enapso.com/model/software#IdParam\", false], [\"Id Property\", \"http://ont.enapso.com/model/software#IdProperty\", false], [\"Initial View\", \"http://ont.enapso.com/model/software#InitialView\", false], [\"Label\", \"http://ont.enapso.com/model/software#Label\", true], [\"Label Width\", \"http://ont.enapso.com/model/software#LabelWidth\", false], [\"Layout\", \"http://ont.enapso.com/model/software#Layout\", false], [\"Left\", \"http://ont.enapso.com/model/software#Left\", false], [\"Margin\", \"http://ont.enapso.com/model/software#Margin\", false], [\"Model\", \"http://ont.enapso.com/model/software#Model\", false], [\"Name\", \"http://ont.enapso.com/model/software#Name\", false], [\"Padding\", \"http://ont.enapso.com/model/software#Padding\", false], [\"Param As Json\", \"http://ont.enapso.com/model/software#ParamsAsJson\", false], [\"Reference\", \"http://ont.enapso.com/model/software#Reference\", false], [\"Relation\", \"http://ont.enapso.com/model/software#Relation\", false], [\"Right\", \"http://ont.enapso.com/model/software#Right\", false], [\"Root Property\", \"http://ont.enapso.com/model/software#RootProperty\", false], [\"Schema\", \"http://ont.enapso.com/model/software#Schema\", false], [\"Scrollable\", \"http://ont.enapso.com/model/software#Scrollable\", false], [\"StoreId\", \"http://ont.enapso.com/model/software#StoreId\", false], [\"Text\", \"http://ont.enapso.com/model/software#Text\", false], [\"Title\", \"http://ont.enapso.com/model/software#Title\", false], [\"Top (Coordinate in Context \\\"Screen\\\")\", \"http://ont.enapso.com/model/software#Top\", false], [\"Type\", \"http://ont.enapso.com/model/software#Type\", false], [\"URL\", \"http://ont.enapso.com/model/software#Url\", false], [\"Use Default Xhr Header\", \"http://ont.enapso.com/model/software#UseDefaultXhrHeader\", false], [\"Value Field\", \"http://ont.enapso.com/model/software#ValueField\", false], [\"Version\", \"http://ont.enapso.com/model/software#Version\", false], [\"Width\", \"http://ont.enapso.com/model/software#Width\", false], [\"Capability\", \"http://ont.enapso.com/foundation#Capability\", true], [\"Compound Capability\", \"http://ont.enapso.com/foundation#CompoundCapability\", false], [\"Append\", \"http://ont.enapso.com/model/software#Append\", false], [\"Insert\", \"http://ont.enapso.com/model/software#Insert\", false], [\"Prepend\", \"http://ont.enapso.com/model/software#Prepend\", false], [\"Change Attribute\", \"http://ont.enapso.com/model/software#ChangeAttribute\", false], [\"Create\", \"http://ont.enapso.com/model/software#Create\", false], [\"Destroy\", \"http://ont.enapso.com/model/software#Destroy\", false], [\"Read\", \"http://ont.enapso.com/model/software#Read\", false], [\"Set Attribute\", \"http://ont.enapso.com/model/software#SetAttribute\", false], [\"Set Value\", \"http://ont.enapso.com/model/software#SetValue\", false], [\"Update\", \"http://ont.enapso.com/model/software#Update\", false], [\"Class\", \"http://ont.enapso.com/foundation#Class\", false], [\"Constraint\", \"http://ont.enapso.com/foundation#Constraint\", true], [\"Default Constraint\", \"http://ont.enapso.com/foundation#DefaultConstraint\", false], [\"Enumeration Constraint\", \"http://ont.enapso.com/foundation#EnumerationConstraint\", false], [\"Existence Constraint\", \"http://ont.enapso.com/foundation#ExistenceConstraint\", false], [\"Range Constraint\", \"http://ont.enapso.com/foundation#RangeConstraint\", false], [\"Relational Constraint\", \"http://ont.enapso.com/foundation#RelationalConstraint\", true], [\"Foreign Key Constraint\", \"http://ont.enapso.com/foundation#ForeignKeyConstraint\", false], [\"Primary Key Constraint\", \"http://ont.enapso.com/foundation#PrimaryKeyConstraint\", false], [\"Referential Integerity Constraint\", \"http://ont.enapso.com/foundation#ReferentialIntegerityConstraint\", true], [\"Delete Cascade Constraint\", \"http://ont.enapso.com/foundation#DeleteCascadeConstraint\", false], [\"Delete Restrict Constraint\", \"http://ont.enapso.com/foundation#DeleteRestrictConstraint\", false], [\"Delete Set Null Constraint\", \"http://ont.enapso.com/foundation#DeleteSetNullConstraint\", false], [\"Type Constraint\", \"http://ont.enapso.com/foundation#TypeConstraint\", false], [\"Unique Constraint\", \"http://ont.enapso.com/foundation#UniqueConstraint\", false], [\"Context\", \"http://ont.enapso.com/foundation#Context\", false], [\"Context Mapper\", \"http://ont.enapso.com/foundation#ContextMapper\", false], [\"Css\", \"http://ont.enapso.com/foundation#Css\", false], [\"Entity\", \"http://ont.enapso.com/foundation#Entity\", false], [\"Exception\", \"http://ont.enapso.com/foundation#Exception\", false], [\"Experience\", \"http://ont.enapso.com/foundation#Experience\", false], [\"Interface\", \"http://ont.enapso.com/foundation#Interface\", false], [\"Message\", \"http://ont.enapso.com/foundation#Message\", false], [\"Message Processor\", \"http://ont.enapso.com/foundation#MessageProcessor\", true], [\"Event Message\", \"http://ont.enapso.com/model/software#EventMessage\", true], [\"Calculate Message\", \"http://ont.enapso.com/model/software#CalculateMessage\", false], [\"Click Message\", \"http://ont.enapso.com/model/software#ClickMessage\", false], [\"Convert Message\", \"http://ont.enapso.com/model/software#ConvertMessage\", false], [\"Key Press Message\", \"http://ont.enapso.com/model/software#KeyPressMessage\", false], [\"Listener Message\", \"http://ont.enapso.com/model/software#ListenerMessage\", false], [\"Mouse Move Message\", \"http://ont.enapso.com/model/software#MouseMoveMessage\", false], [\"Renderer Message\", \"http://ont.enapso.com/model/software#RendererMessage\", false], [\"Tap Message\", \"http://ont.enapso.com/model/software#TapMessage\", false], [\"Info Message\", \"http://ont.enapso.com/model/software#InfoMessage\", true], [\"Data Update Message\", \"http://ont.enapso.com/model/software#DataUpdateMessage\", false], [\"Process\", \"http://ont.enapso.com/foundation#Process\", false], [\"Relation\", \"http://ont.enapso.com/foundation#Relation\", true], [\"Child 2 Parent Relation\", \"http://ont.enapso.com/foundation#Child2ParentRelation\", false], [\"Many To Many Relation\", \"http://ont.enapso.com/foundation#ManyToManyRelation\", false], [\"N 2 M Relation\", \"http://ont.enapso.com/foundation#N2MRelation\", false], [\"One 2 One Association\", \"http://ont.enapso.com/foundation#One2OneAssociation\", false], [\"One To Many Relation\", \"http://ont.enapso.com/foundation#OneToManyRelation\", false], [\"One To One Relation\", \"http://ont.enapso.com/foundation#OneToOneRelation\", false], [\"Parent 2 Child Relation\", \"http://ont.enapso.com/foundation#Parent2ChildRelation\", true], [\"Resource 2 Attribute Relation\", \"http://ont.enapso.com/foundation#Resource2AttributeRelation\", false], [\"Resource 2 Capability Relation\", \"http://ont.enapso.com/foundation#Resource2CapabilityRelation\", false], [\"Requirement\", \"http://ont.enapso.com/foundation#Requirement\", false], [\"Resource\", \"http://ont.enapso.com/foundation#Resource\", true], [\"Compound Resource\", \"http://ont.enapso.com/foundation#CompoundResource\", true], [\"Component\", \"http://ont.enapso.com/model/software#Component\", true], [\"Api Header\", \"http://ont.enapso.com/model/software#ApiHeader\", false], [\"Control\", \"http://ont.enapso.com/model/software#Control\", true], [\"App\", \"http://ont.enapso.com/model/software#App\", false], [\"Button\", \"http://ont.enapso.com/model/software#Button\", false], [\"Check box\", \"http://ont.enapso.com/model/software#CheckBox\", false], [\"Combo Box Field\", \"http://ont.enapso.com/model/software#ComboBoxField\", false], [\"Container\", \"http://ont.enapso.com/model/software#Container\", true], [\"Panel\", \"http://ont.enapso.com/model/software#Panel\", false], [\"Date field\", \"http://ont.enapso.com/model/software#DateField\", false], [\"Grid\", \"http://ont.enapso.com/model/software#Grid\", false], [\"Grid Column\", \"http://ont.enapso.com/model/software#GridColumn\", false], [\"Grid Row\", \"http://ont.enapso.com/model/software#GridRow\", false], [\"Number field\", \"http://ont.enapso.com/model/software#NumberField\", false], [\"Page\", \"http://ont.enapso.com/model/software#Page\", false], [\"Page control\", \"http://ont.enapso.com/model/software#PageControl\", false], [\"Radio Field\", \"http://ont.enapso.com/model/software#RadioField\", false], [\"Text area\", \"http://ont.enapso.com/model/software#TextArea\", false], [\"Text field\", \"http://ont.enapso.com/model/software#TextField\", false], [\"Toolbar\", \"http://ont.enapso.com/model/software#Toolbar\", false], [\"View\", \"http://ont.enapso.com/model/software#View\", false], [\"Window\", \"http://ont.enapso.com/model/software#Window\", false], [\"Data API\", \"http://ont.enapso.com/model/software#DataApi\", false], [\"Data Field\", \"http://ont.enapso.com/model/software#DataField\", false], [\"Data Model\", \"http://ont.enapso.com/model/software#DataModel\", false], [\"Data Proxy\", \"http://ont.enapso.com/model/software#DataProxy\", false], [\"Data Reader\", \"http://ont.enapso.com/model/software#DataReader\", false], [\"Data Store\", \"http://ont.enapso.com/model/software#DataStore\", false], [\"Data Writer\", \"http://ont.enapso.com/model/software#DataWriter\", false], [\"Model Params\", \"http://ont.enapso.com/model/software#ModelParams\", false], [\"Data Object\", \"http://ont.enapso.com/model/software#DataObject\", true], [\"List\", \"http://ont.enapso.com/model/software#List\", false], [\"Map\", \"http://ont.enapso.com/model/software#Map\", false], [\"Sensor\", \"http://ont.enapso.com/foundation#Sensor\", true], [\"Tap\", \"http://ont.enapso.com/model/software#Tap\", false], [\"Service\", \"http://ont.enapso.com/foundation#Service\", true], [\"JavaScript Service\", \"http://ont.enapso.com/foundation#JavascriptService\", false], [\"Statement\", \"http://ont.enapso.com/foundation#Statement\", true], [\"For Statement\", \"http://ont.enapso.com/model/software#ForStatement\", false], [\"If Statement\", \"http://ont.enapso.com/model/software#IfStatement\", false], [\"Invoke Statement\", \"http://ont.enapso.com/model/software#InvokeStatement\", false], [\"Data Property Generator\", \"http://ont.enapso.com/model/mockaspect#DataPropertyGenerator\", true], [\"Mock Data Specification\", \"http://ont.enapso.com/model/mockaspect#MockDataSpecification\", false], [\"Object Relation Generator\", \"http://ont.enapso.com/model/mockaspect#ObjectRelationGenerator\", false], [\"LayoutEvent\", \"http://ont.enapso.com/model/software#Event_01046ef0_1639_426b_ab54_52bf42dd0a5d\", true], [\"Resized\", \"http://ont.enapso.com/model/software#Event_53985ca4_8b79_4d85_a43d_f144d038e9dd\", false], [\"Moved\", \"http://ont.enapso.com/model/software#Event_f24ab497_d7f6_409d_9fe9_5d4ab7246ee5\", false], [\"LifeCycleEvent\", \"http://ont.enapso.com/model/software#Event_16c90052_bb2a_4eda_bc9e_9a12d6a4616d\", true], [\"AfterDestroyed\", \"http://ont.enapso.com/model/software#Event_00476164_1524_4d04_8551_1d25dd5323c2\", false], [\"Available\", \"http://ont.enapso.com/model/software#Event_2ad79db1_dfb4_4134_be8d_3d6d7968ef2d\", false], [\"BeforeDestroyed\", \"http://ont.enapso.com/model/software#Event_827c7e6c_5dae_4541_ab38_985a558e7bd8\", false], [\"BeforeCreated\", \"http://ont.enapso.com/model/software#Event_8a2e89a4_6919_4355_a11f_59539e697911\", false], [\"AfterCreated\", \"http://ont.enapso.com/model/software#Event_d3f9c196_4323_4cf8_86cc_b24718f25d23\", false], [\"UserEvent\", \"http://ont.enapso.com/model/software#Event_a8440452_a4a0_42cf_ac2a_39aaa19d932f\", true], [\"MouseEntered\", \"http://ont.enapso.com/model/software#Event_0832829a_af22_4cde_ba77_2f52f98c83a0\", false], [\"FocusExited\", \"http://ont.enapso.com/model/software#Event_32586cfc_d8d0_46d9_bf3d_d26992965bfd\", false], [\"MouseKeyPressed\", \"http://ont.enapso.com/model/software#Event_5edc2795_f1b0_4249_8ed7_b100e808435e\", false], [\"KeyPressed\", \"http://ont.enapso.com/model/software#Event_6dcb35a5_edee_4614_9d71_23104f16de33\", false], [\"KeyReleased\", \"http://ont.enapso.com/model/software#Event_773c35c1_3494_4a4c_b9ea_d16934b8b605\", false], [\"FocusEntered\", \"http://ont.enapso.com/model/software#Event_e205cbe3_1947_45f0_a331_a59f2e04d524\", false], [\"MouseMoved\", \"http://ont.enapso.com/model/software#Event_e2ea0e34_e361_4329_87d0_71491291926a\", false], [\"MouseExited\", \"http://ont.enapso.com/model/software#Event_e84cdf0d_f989_4b70_9852_e4f102ef6f51\", false], [\"MouseKeyReleased\", \"http://ont.enapso.com/model/software#Event_fbdf9b49_225d_426d_b34d_97e19a91ae5f\", false], [\"StatusEvent\", \"http://ont.enapso.com/model/software#Event_befbc457_2cf6_4b37_8030_444fd16f357b\", true], [\"Disabled\", \"http://ont.enapso.com/model/software#Event_1ad1418e_8e70_439b_af6b_e64b5652cafa\", false], [\"Shown\", \"http://ont.enapso.com/model/software#Event_862ac4de_76e0_4ac2_beac_5e890188c539\", false], [\"Enabled\", \"http://ont.enapso.com/model/software#Event_b5f15014_e501_4731_b0dd_a24e449b2abf\", false], [\"Hidden\", \"http://ont.enapso.com/model/software#Event_d3d68499_e071_479e_bbed_1f505bad0abf\", false], [\"DataEvent\", \"http://ont.enapso.com/model/software#Event_ec7fc2e7_5f4a_4b13_bc6d_bfccb7d35ee2\", true], [\"Changed\", \"http://ont.enapso.com/model/software#Event_e8d3ab92_8f27_4939_9874_aac47ac1ed4a\", false], [\"GridCoumns\", \"http://ont.enapso.com/model/software#GridColumns\", false], [\"GridRows\", \"http://ont.enapso.com/model/software#GridRows\", false], [\"Noun\", \"http://ont.enapso.com/terms#Noun\", false], [\"Term\", \"http://ont.enapso.com/terms#Term\", false], [\"Verb\", \"http://ont.enapso.com/terms#Verb\", false], [\"Delivery Plan\", \"http://ont.enapso.com/truck#DeliveryPlan\", false], [\"Location\", \"http://ont.enapso.com/truck#Location\", true], [\"Geo Location\", \"http://ont.enapso.com/truck#GeoLocation\", false], [\"Street Location\", \"http://ont.enapso.com/truck#StreetLocation\", false], [\"Map\", \"http://ont.enapso.com/truck#Map\", false], [\"Order\", \"http://ont.enapso.com/truck#Order\", false], [\"Rate\", \"http://ont.enapso.com/truck#Rate\", false], [\"Route\", \"http://ont.enapso.com/truck#Route\", false], [\"Transport Company\", \"http://ont.enapso.com/truck#TransportCompany\", false], [\"Truck\", \"http://ont.enapso.com/truck#Truck\", false], [\"Agent\", \"http://purl.org/dc/elements/1.1/Agent\", false], [\"Account\", \"http://www.ebu.ch/metadata/ontologies/ebuccdm#Account\", false], [\"Asset value\", \"http://www.ebu.ch/metadata/ontologies/ebuccdm#AssetValue\", false], [\"Audience\", \"http://www.ebu.ch/metadata/ontologies/ebuccdm#Audience\", false], [\"Audit Report\", \"http://www.ebu.ch/metadata/ontologies/ebuccdm#AuditReport\", false], [\"Campaign\", \"http://www.ebu.ch/metadata/ontologies/ebuccdm#Campaign\", false], [\"Device\", \"http://www.ebu.ch/metadata/ontologies/ebuccdm#ConsumptionDevice\", false], [\"Consumption device profile\", \"http://www.ebu.ch/metadata/ontologies/ebuccdm#ConsumptionDeviceProfile\", false], [\"Consumption event\", \"http://www.ebu.ch/metadata/ontologies/ebuccdm#ConsumptionEvent\", false], [\"Consumption licence\", \"http://www.ebu.ch/metadata/ontologies/ebuccdm#ConsumptionLicence\", false], [\"Contract\", \"http://www.ebu.ch/metadata/ontologies/ebuccdm#Contract\", false], [\"Contract cost\", \"http://www.ebu.ch/metadata/ontologies/ebuccdm#ContractCost\", false], [\"Measure\", \"http://www.ebu.ch/metadata/ontologies/ebuccdm#Measure\", false], [\"On Stage Position\", \"http://www.ebu.ch/metadata/ontologies/ebuccdm#OnStagePosition\", false], [\"Production device\", \"http://www.ebu.ch/metadata/ontologies/ebuccdm#ProductionDevice\", false], [\"Audit Job\", \"http://www.ebu.ch/metadata/ontologies/ebuccdm#AuditJob\", false], [\"Production job\", \"http://www.ebu.ch/metadata/ontologies/ebuccdm#ProductionJob\", true], [\"Production order\", \"http://www.ebu.ch/metadata/ontologies/ebuccdm#ProductionOrder\", false], [\"Resonance\", \"http://www.ebu.ch/metadata/ontologies/ebuccdm#Resonance\", false], [\"Resonance event\", \"http://www.ebu.ch/metadata/ontologies/ebuccdm#ResonanceEvent\", false], [\"Rule\", \"http://www.ebu.ch/metadata/ontologies/ebuccdm#Rule\", false], [\"Stage\", \"http://www.ebu.ch/metadata/ontologies/ebuccdm#Stage\", false], [\"Action\", \"http://www.ebu.ch/metadata/ontologies/ebucore/ebucore#Action\", false], [\"Cast member\", \"http://www.ebu.ch/metadata/ontologies/ebucore/ebucore#Cast\", false], [\"Crew\", \"http://www.ebu.ch/metadata/ontologies/ebucore/ebucore#Crew\", false], [\"Organisation\", \"http://www.ebu.ch/metadata/ontologies/ebucore/ebucore#Organisation\", true], [\"Affiliation\", \"http://www.ebu.ch/metadata/ontologies/ebucore/ebucore#Affiliation\", false], [\"Department\", \"http://www.ebu.ch/metadata/ontologies/ebucore/ebucore#Department\", false], [\"Fictional organisation\", \"http://www.ebu.ch/metadata/ontologies/ebucore/ebucore#FictionalOrganisation\", false], [\"Party\", \"http://www.ebu.ch/metadata/ontologies/ebucore/ebucore#Party\", false], [\"Consumer\", \"http://www.ebu.ch/metadata/ontologies/ebuccdm#Consumer\", false], [\"Character\", \"http://www.ebu.ch/metadata/ontologies/ebucore/ebucore#Character\", false], [\"Contact\", \"http://www.ebu.ch/metadata/ontologies/ebucore/ebucore#Contact\", false], [\"Fictional person\", \"http://www.ebu.ch/metadata/ontologies/ebucore/ebucore#FictionalPerson\", false], [\"Staff member.\", \"http://www.ebu.ch/metadata/ontologies/ebucore/ebucore#Staff\", false], [\"Person\", \"http://www.ebu.ch/metadata/ontologies/ebucore/ebucore#Person\", true], [\"Team\", \"http://www.ebu.ch/metadata/ontologies/ebucore/ebucore#Team\", false], [\"Agent\", \"http://www.ebu.ch/metadata/ontologies/ebucore/ebucore#Agent\", true], [\"Animal\", \"http://www.ebu.ch/metadata/ontologies/ebucore/ebucore#Animal\", false], [\"Annotation\", \"http://www.ebu.ch/metadata/ontologies/ebucore/ebucore#Annotation\", true], [\"Text Annotation\", \"http://www.ebu.ch/metadata/ontologies/ebucore/ebucore#TextAnnotation\", false], [\"Costume\", \"http://www.ebu.ch/metadata/ontologies/ebucore/ebucore#Costume\", false], [\"Food\", \"http://www.ebu.ch/metadata/ontologies/ebucore/ebucore#Food\", false], [\"Props\", \"http://www.ebu.ch/metadata/ontologies/ebucore/ebucore#Props\", false], [\"Artefact\", \"http://www.ebu.ch/metadata/ontologies/ebucore/ebucore#Artefact\", true], [\"Business Object\", \"http://www.ebu.ch/metadata/ontologies/ebucore/ebucore#BusinessObject\", true], [\"Bibliographical object\", \"http://www.ebu.ch/metadata/ontologies/ebucore/ebucore#BibliographicalObject\", true], [\"Biography\", \"http://www.ebu.ch/metadata/ontologies/ebucore/ebucore#Biography\", false], [\"Record\", \"http://www.ebu.ch/metadata/ontologies/ebucore/ebucore#Record\", false], [\"BMContent\", \"http://www.ebu.ch/metadata/ontologies/ebucore/ebucore#BMContent\", false], [\"Clip\", \"http://www.ebu.ch/metadata/ontologies/ebucore/ebucore#Clip\", false], [\"Episode\", \"http://www.ebu.ch/metadata/ontologies/ebucore/ebucore#Episode\", false], [\"Feature\", \"http://www.ebu.ch/metadata/ontologies/ebucore/ebucore#Feature\", false], [\"Item\", \"http://www.ebu.ch/metadata/ontologies/ebucore/ebucore#Item\", true], [\"Breaking news item\", \"http://www.ebu.ch/metadata/ontologies/ebucore/ebucore#BreakingNewsItem\", false], [\"News Item\", \"http://www.ebu.ch/metadata/ontologies/ebucore/ebucore#NewsItem\", false], [\"Review\", \"http://www.ebu.ch/metadata/ontologies/ebucore/ebucore#Review\", false], [\"Sport item\", \"http://www.ebu.ch/metadata/ontologies/ebucore/ebucore#SportItem\", false], [\"Part, Fragment, Segment\", \"http://www.ebu.ch/metadata/ontologies/ebucore/ebucore#Part\", false], [\"Programme\", \"http://www.ebu.ch/metadata/ontologies/ebucore/ebucore#Programme\", true], [\"Audio content\", \"http://www.ebu.ch/metadata/ontologies/ebucore/ebucore#AudioContent\", false], [\"Audio programme\", \"http://www.ebu.ch/metadata/ontologies/ebucore/ebucore#AudioProgramme\", false], [\"Radio Programme\", \"http://www.ebu.ch/metadata/ontologies/ebucore/ebucore#RadioProgramme\", false], [\"TV Programme\", \"http://www.ebu.ch/metadata/ontologies/ebucore/ebucore#TVProgramme\", false], [\"Scene\", \"http://www.ebu.ch/metadata/ontologies/ebucore/ebucore#Scene\", false], [\"Shot\", \"http://www.ebu.ch/metadata/ontologies/ebucore/ebucore#Shot\", false], [\"Take\", \"http://www.ebu.ch/metadata/ontologies/ebucore/ebucore#Take\", false], [\"Version\", \"http://www.ebu.ch/metadata/ontologies/ebucore/ebucore#Version\", false], [\"Editorial object\", \"http://www.ebu.ch/metadata/ontologies/ebucore/ebucore#EditorialObject\", true], [\"Group\", \"http://www.ebu.ch/metadata/ontologies/ebucore/ebucore#Group\", true], [\"Brand\", \"http://www.ebu.ch/metadata/ontologies/ebucore/ebucore#Brand\", false], [\"Collection\", \"http://www.ebu.ch/metadata/ontologies/ebucore/ebucore#Collection\", false], [\"Season\", \"http://www.ebu.ch/metadata/ontologies/ebucore/ebucore#Season\", false], [\"Series\", \"http://www.ebu.ch/metadata/ontologies/ebucore/ebucore#Series\", false], [\"Asset\", \"http://www.ebu.ch/metadata/ontologies/ebucore/ebucore#Asset\", true], [\"Award\", \"http://www.ebu.ch/metadata/ontologies/ebucore/ebucore#Award\", false], [\"Codec\", \"http://www.ebu.ch/metadata/ontologies/ebucore/ebucore#Codec\", true], [\"Audio codec\", \"http://www.ebu.ch/metadata/ontologies/ebucore/ebucore#AudioCodec\", false], [\"Container codec\", \"http://www.ebu.ch/metadata/ontologies/ebucore/ebucore#ContainerCodec\", false], [\"Image codec\", \"http://www.ebu.ch/metadata/ontologies/ebucore/ebucore#ImageCodec\", false], [\"Video codec\", \"http://www.ebu.ch/metadata/ontologies/ebucore/ebucore#VideoCodec\", false], [\"Emotion\", \"http://www.ebu.ch/metadata/ontologies/ebucore/ebucore#Emotion\", false], [\"Depicted Event\", \"http://www.ebu.ch/metadata/ontologies/ebucore/ebucore#DepictedEvent\", false], [\"Fictional event\", \"http://www.ebu.ch/metadata/ontologies/ebucore/ebucore#FictionalEvent\", false], [\"Key event\", \"http://www.ebu.ch/metadata/ontologies/ebucore/ebucore#KeyEvent\", true], [\"Key career event\", \"http://www.ebu.ch/metadata/ontologies/ebucore/ebucore#KeyCareerEvent\", false], [\"Key personal event\", \"http://www.ebu.ch/metadata/ontologies/ebucore/ebucore#KeyPersonalEvent\", false], [\"Event\", \"http://www.ebu.ch/metadata/ontologies/ebucore/ebucore#Event\", true], [\"Identifier\", \"http://www.ebu.ch/metadata/ontologies/ebucore/ebucore#Identifier\", true], [\"EIDR\", \"http://www.ebu.ch/metadata/ontologies/ebucore/ebucore#EidrIdentifier\", false], [\"IMedia Identifier\", \"http://www.ebu.ch/metadata/ontologies/ebucore/ebucore#IMediaIdentifier\", false], [\"ISAN\", \"http://www.ebu.ch/metadata/ontologies/ebucore/ebucore#IsanIdentifier\", false], [\"Link\", \"http://www.ebu.ch/metadata/ontologies/ebucore/ebucore#Link\", false], [\"Fictional location\", \"http://www.ebu.ch/metadata/ontologies/ebucore/ebucore#FictionalLocation\", false], [\"Location\", \"http://www.ebu.ch/metadata/ontologies/ebucore/ebucore#Location\", true], [\"Locator\", \"http://www.ebu.ch/metadata/ontologies/ebucore/ebucore#Locator\", false], [\"Publication Event\", \"http://www.ebu.ch/metadata/ontologies/ebucore/ebucore#PublicationEvent\", false], [\"Publication History\", \"http://www.ebu.ch/metadata/ontologies/ebucore/ebucore#PublicationHistory\", false], [\"Publication logg\", \"http://www.ebu.ch/metadata/ontologies/ebucore/ebucore#PublicationLogg\", false], [\"Publication plan\", \"http://www.ebu.ch/metadata/ontologies/ebucore/ebucore#PublicationPlan\", false], [\"Rating\", \"http://www.ebu.ch/metadata/ontologies/ebucore/ebucore#Rating\", true], [\"Target audience\", \"http://www.ebu.ch/metadata/ontologies/ebucore/ebucore#AudienceLevel\", false], [\"Audience rating\", \"http://www.ebu.ch/metadata/ontologies/ebucore/ebucore#AudienceRating\", false], [\"Relation\", \"http://www.ebu.ch/metadata/ontologies/ebucore/ebucore#Relation\", false], [\"Document\", \"http://www.ebu.ch/metadata/ontologies/ebucore/ebucore#Document\", true], [\"Dopesheet\", \"http://www.ebu.ch/metadata/ontologies/ebucore/ebucore#Dopesheet\", false], [\"Audio object\", \"http://www.ebu.ch/metadata/ontologies/ebucore/ebucore#AudioObject\", false], [\"Component\", \"http://www.ebu.ch/metadata/ontologies/ebucore/ebucore#Component\", true], [\"Stream\", \"http://www.ebu.ch/metadata/ontologies/ebucore/ebucore#Stream\", true], [\"Audio stream\", \"http://www.ebu.ch/metadata/ontologies/ebucore/ebucore#AudioStream\", false], [\"Video stream\", \"http://www.ebu.ch/metadata/ontologies/ebucore/ebucore#VideoStream\", false], [\"BMEssence\", \"http://www.ebu.ch/metadata/ontologies/ebucore/ebucore#BMEssence\", false], [\"Essence\", \"http://www.ebu.ch/metadata/ontologies/ebucore/ebucore#Essence\", true], [\"Media Fragment\", \"http://www.ebu.ch/metadata/ontologies/ebucore/ebucore#MediaFragment\", false], [\"Template\", \"http://www.ebu.ch/metadata/ontologies/ebucore/ebucore#Template\", true], [\"BMTemplate\", \"http://www.ebu.ch/metadata/ontologies/ebucore/ebucore#BMTemplate\", false], [\"Audio track\", \"http://www.ebu.ch/metadata/ontologies/ebucore/ebucore#AudioTrack\", true], [\"Audio description\", \"http://www.ebu.ch/metadata/ontologies/ebucore/ebucore#AudioDescription\", false], [\"Captioning\", \"http://www.ebu.ch/metadata/ontologies/ebucore/ebucore#Captioning\", true], [\"Closed caption\", \"http://www.ebu.ch/metadata/ontologies/ebucore/ebucore#ClosedCaptions\", false], [\"Open captions\", \"http://www.ebu.ch/metadata/ontologies/ebucore/ebucore#OpenCaptions\", false], [\"Data track\", \"http://www.ebu.ch/metadata/ontologies/ebucore/ebucore#DataTrack\", true], [\"Ancillary data\", \"http://www.ebu.ch/metadata/ontologies/ebucore/ebucore#AncillaryData\", false], [\"Metadata track\", \"http://www.ebu.ch/metadata/ontologies/ebucore/ebucore#MetadataTrack\", false], [\"Subtitling\", \"http://www.ebu.ch/metadata/ontologies/ebucore/ebucore#Subtitling\", true], [\"Closed subtitling\", \"http://www.ebu.ch/metadata/ontologies/ebucore/ebucore#ClosedSubtitling\", false], [\"Open subtitling\", \"http://www.ebu.ch/metadata/ontologies/ebucore/ebucore#OpenSubtitling\", false], [\"Timecode track\", \"http://www.ebu.ch/metadata/ontologies/ebucore/ebucore#TimecodeTrack\", false], [\"Video track\", \"http://www.ebu.ch/metadata/ontologies/ebucore/ebucore#VideoTrack\", true], [\"Signing\", \"http://www.ebu.ch/metadata/ontologies/ebucore/ebucore#Signing\", false], [\"Track\", \"http://www.ebu.ch/metadata/ontologies/ebucore/ebucore#Track\", true], [\"Media resource\", \"http://www.ebu.ch/metadata/ontologies/ebucore/ebucore#MediaResource\", true], [\"Physical resource\", \"http://www.ebu.ch/metadata/ontologies/ebucore/ebucore#PhysicalResource\", false], [\"Picture\", \"http://www.ebu.ch/metadata/ontologies/ebucore/ebucore#Picture\", true], [\"key frame\", \"http://www.ebu.ch/metadata/ontologies/ebucore/ebucore#Keyframe\", false], [\"Logo\", \"http://www.ebu.ch/metadata/ontologies/ebucore/ebucore#Logo\", false], [\"Pictogram\", \"http://www.ebu.ch/metadata/ontologies/ebucore/ebucore#Pictogram\", false], [\"Sticker\", \"http://www.ebu.ch/metadata/ontologies/ebucore/ebucore#Sticker\", false], [\"Thumbnail\", \"http://www.ebu.ch/metadata/ontologies/ebucore/ebucore#Thumbnail\", false], [\"Resource\", \"http://www.ebu.ch/metadata/ontologies/ebucore/ebucore#Resource\", true], [\"Access conditions\", \"http://www.ebu.ch/metadata/ontologies/ebucore/ebucore#AccessConditions\", false], [\"Copyright\", \"http://www.ebu.ch/metadata/ontologies/ebucore/ebucore#Copyright\", false], [\"Coverage restrictions\", \"http://www.ebu.ch/metadata/ontologies/ebucore/ebucore#CoverageRestrictions\", false], [\"Creative commons\", \"http://www.ebu.ch/metadata/ontologies/ebucore/ebucore#CreativeCommons\", false], [\"Disclaimer\", \"http://www.ebu.ch/metadata/ontologies/ebucore/ebucore#Disclaimer\", false], [\"Exploitation issues\", \"http://www.ebu.ch/metadata/ontologies/ebucore/ebucore#ExploitationIssues\", false], [\"IPR restrictions\", \"http://www.ebu.ch/metadata/ontologies/ebucore/ebucore#IPRRestrictions\", false], [\"Licensing\", \"http://www.ebu.ch/metadata/ontologies/ebucore/ebucore#Licensing\", false], [\"Rights Clearance\", \"http://www.ebu.ch/metadata/ontologies/ebucore/ebucore#RightsClearance\", false], [\"Usage restrictions\", \"http://www.ebu.ch/metadata/ontologies/ebucore/ebucore#UsageRestrictions\", false], [\"Usage rights\", \"http://www.ebu.ch/metadata/ontologies/ebucore/ebucore#UsageRights\", false], [\"Rights\", \"http://www.ebu.ch/metadata/ontologies/ebucore/ebucore#Rights\", true], [\"Platform\", \"http://www.ebu.ch/metadata/ontologies/ebucore/ebucore#Platform\", false], [\"Publication channel\", \"http://www.ebu.ch/metadata/ontologies/ebucore/ebucore#PublicationChannel\", false], [\"Service\", \"http://www.ebu.ch/metadata/ontologies/ebucore/ebucore#Service\", true], [\"Text line\", \"http://www.ebu.ch/metadata/ontologies/ebucore/ebucore#TextLine\", false], [\"Timeline point\", \"http://www.ebu.ch/metadata/ontologies/ebucore/ebucore#TimelinePoint\", true], [\"Edit unit count\", \"http://www.ebu.ch/metadata/ontologies/ebucore/ebucore#EditUnitCount\", false], [\"Normal play time\", \"http://www.ebu.ch/metadata/ontologies/ebucore/ebucore#NormalPlayTime\", false], [\"Time code\", \"http://www.ebu.ch/metadata/ontologies/ebucore/ebucore#TimeCode\", false], [\"Time code with dropframe\", \"http://www.ebu.ch/metadata/ontologies/ebucore/ebucore#TimeCodeDropFrame\", false], [\"Timeline track\", \"http://www.ebu.ch/metadata/ontologies/ebucore/ebucore#TimelineTrack\", false], [\"Time instant\", \"http://www.w3.org/2006/time#Instant\", true], [\"Uncertain date\", \"http://www.ebu.ch/metadata/ontologies/ebucore/ebucore#UncertainDate\", false], [\"Date-time description\", \"http://www.w3.org/2006/time#DateTimeDescription\", false], [\"Temporal reference system\", \"http://www.w3.org/2006/time#TRS\", false]];\n",
       "\n",
       "    if (typeof require === 'undefined') {\n",
       "        // TODO: This should become the default (use a simple import)\n",
       "        // when the ESM version works independently of whether\n",
       "        // require.js is there or not, see\n",
       "        // https://datatables.net/forums/discussion/69066/esm-es6-module-support?\n",
       "        const {default: $} = await import(\"https://esm.sh/jquery@3.5.0\");\n",
       "        const {default: initDataTables} = await import(\"https://esm.sh/datatables.net@1.11.3?deps=jquery@3.5.0\");\n",
       "\n",
       "        initDataTables();\n",
       "\n",
       "        // Define the dt_args\n",
       "        let dt_args = {\"columnDefs\": [{\"width\": \"120px\", \"className\": \"dt-center\", \"targets\": \"_all\", \"createdCell\": \n",
       "        function (td, cellData, rowData, row, col) {\n",
       "            $(td).css('word-wrap', 'break-word')\n",
       "            if (cellData == false) {\n",
       "                $(td).css('color', '#7CBC97')\n",
       "                $(td).css('font-weight', 'bold')\n",
       "                $(td).html = \"False\"\n",
       "            }\n",
       "            else if (cellData == true) {\n",
       "                $(td).css('color', '#7DA5C0')\n",
       "                $(td).css('font-weight', 'bold')\n",
       "                $(td).html = \"True\"\n",
       "            }\n",
       "        }\n",
       "        }], \"lengthMenu\": [5, 10, 25, 50, -1]};\n",
       "        dt_args[\"data\"] = data;\n",
       "\n",
       "        // Display the table\n",
       "        $(document).ready(function () {\n",
       "            $('#b126c1d1-d450-4c96-8161-1fe9a3a7b07e').DataTable(dt_args);\n",
       "        });\n",
       "    } else {\n",
       "        require([\"jquery\", \"datatables\"], ($, datatables) => {\n",
       "                // Define the dt_args\n",
       "                let dt_args = {\"columnDefs\": [{\"width\": \"120px\", \"className\": \"dt-center\", \"targets\": \"_all\", \"createdCell\": \n",
       "        function (td, cellData, rowData, row, col) {\n",
       "            $(td).css('word-wrap', 'break-word')\n",
       "            if (cellData == false) {\n",
       "                $(td).css('color', '#7CBC97')\n",
       "                $(td).css('font-weight', 'bold')\n",
       "                $(td).html = \"False\"\n",
       "            }\n",
       "            else if (cellData == true) {\n",
       "                $(td).css('color', '#7DA5C0')\n",
       "                $(td).css('font-weight', 'bold')\n",
       "                $(td).html = \"True\"\n",
       "            }\n",
       "        }\n",
       "        }], \"lengthMenu\": [5, 10, 25, 50, -1]};\n",
       "                dt_args[\"data\"] = data;\n",
       "\n",
       "                // Display the table\n",
       "                $(document).ready(function () {\n",
       "                    $('#b126c1d1-d450-4c96-8161-1fe9a3a7b07e').DataTable(dt_args);\n",
       "                });\n",
       "            }\n",
       "        )\n",
       "    }\n",
       "</script>\n"
      ],
      "text/plain": [
       "<IPython.core.display.HTML object>"
      ]
     },
     "metadata": {},
     "output_type": "display_data"
    }
   ],
   "source": [
    "all_classes_df = get_all_classes(source_df=classes_df, \n",
    "                                 language='en', \n",
    "                                 show_table=True)"
   ]
  },
  {
   "cell_type": "code",
   "execution_count": 5,
   "id": "2bea315e-fefd-4913-84dd-eec9566eb8e3",
   "metadata": {},
   "outputs": [
    {
     "data": {
      "text/html": [
       "<table id=\"ed42c3dc-2e8f-47f4-8e7b-d46e21e2bc43\" class=\"cell-border stripe hover\"style=\"max-width:100%\"><h4 style=\"text-alignt:center\"><label style=\"font-weight:bold\">Table: </label><label>Hierarchy of class EditorialObject</label></h4><thead>\n",
       "    <tr style=\"text-align: right;\">\n",
       "      \n",
       "      <th>Class Label</th>\n",
       "      <th>Class IRI</th>\n",
       "      <th>hasSubclasses</th>\n",
       "      <th>Superclass Labels</th>\n",
       "      <th>Superclass IRIs</th>\n",
       "    </tr>\n",
       "  </thead><tbody><tr><td>Loading... (need <a href=https://mwouts.github.io/itables/troubleshooting.html>help</a>?)</td></tr></tbody></table>\n",
       "<link rel=\"stylesheet\" type=\"text/css\" href=\"https://cdn.datatables.net/1.11.3/css/jquery.dataTables.min.css\">\n",
       "<style> table td {\n",
       "    text-overflow: ellipsis;\n",
       "    overflow: hidden;\n",
       "} </style>\n",
       "<style> table th {\n",
       "    text-overflow: ellipsis;\n",
       "    overflow: hidden;\n",
       "} </style>\n",
       "<script type=\"module\">\n",
       "    // Define the table data\n",
       "    const data = [[\"BMContent\", \"http://www.ebu.ch/metadata/ontologies/ebucore/ebucore#BMContent\", false, \"Editorial object\", \"http://www.ebu.ch/metadata/ontologies/ebucore/ebucore#EditorialObject\"], [\"Business Object\", \"http://www.ebu.ch/metadata/ontologies/ebucore/ebucore#BusinessObject\", true, \"Asset\", \"http://www.ebu.ch/metadata/ontologies/ebucore/ebucore#Asset\"], [\"Clip\", \"http://www.ebu.ch/metadata/ontologies/ebucore/ebucore#Clip\", false, \"Editorial object\", \"http://www.ebu.ch/metadata/ontologies/ebucore/ebucore#EditorialObject\"], [\"Editorial object\", \"http://www.ebu.ch/metadata/ontologies/ebucore/ebucore#EditorialObject\", true, \"Business Object\", \"http://www.ebu.ch/metadata/ontologies/ebucore/ebucore#BusinessObject\"], [\"Episode\", \"http://www.ebu.ch/metadata/ontologies/ebucore/ebucore#Episode\", false, \"Editorial object\", \"http://www.ebu.ch/metadata/ontologies/ebucore/ebucore#EditorialObject\"], [\"Feature\", \"http://www.ebu.ch/metadata/ontologies/ebucore/ebucore#Feature\", false, \"Editorial object\", \"http://www.ebu.ch/metadata/ontologies/ebucore/ebucore#EditorialObject\"], [\"Item\", \"http://www.ebu.ch/metadata/ontologies/ebucore/ebucore#Item\", true, \"Editorial object\", \"http://www.ebu.ch/metadata/ontologies/ebucore/ebucore#EditorialObject\"], [\"Part, Fragment, Segment\", \"http://www.ebu.ch/metadata/ontologies/ebucore/ebucore#Part\", false, \"Editorial object\", \"http://www.ebu.ch/metadata/ontologies/ebucore/ebucore#EditorialObject\"], [\"Programme\", \"http://www.ebu.ch/metadata/ontologies/ebucore/ebucore#Programme\", true, \"Editorial object\", \"http://www.ebu.ch/metadata/ontologies/ebucore/ebucore#EditorialObject\"], [\"Scene\", \"http://www.ebu.ch/metadata/ontologies/ebucore/ebucore#Scene\", false, \"Editorial object\", \"http://www.ebu.ch/metadata/ontologies/ebucore/ebucore#EditorialObject\"], [\"Shot\", \"http://www.ebu.ch/metadata/ontologies/ebucore/ebucore#Shot\", false, \"Editorial object\", \"http://www.ebu.ch/metadata/ontologies/ebucore/ebucore#EditorialObject\"], [\"Take\", \"http://www.ebu.ch/metadata/ontologies/ebucore/ebucore#Take\", false, \"Editorial object\", \"http://www.ebu.ch/metadata/ontologies/ebucore/ebucore#EditorialObject\"], [\"Version\", \"http://www.ebu.ch/metadata/ontologies/ebucore/ebucore#Version\", false, \"Editorial object\", \"http://www.ebu.ch/metadata/ontologies/ebucore/ebucore#EditorialObject\"]];\n",
       "\n",
       "    if (typeof require === 'undefined') {\n",
       "        // TODO: This should become the default (use a simple import)\n",
       "        // when the ESM version works independently of whether\n",
       "        // require.js is there or not, see\n",
       "        // https://datatables.net/forums/discussion/69066/esm-es6-module-support?\n",
       "        const {default: $} = await import(\"https://esm.sh/jquery@3.5.0\");\n",
       "        const {default: initDataTables} = await import(\"https://esm.sh/datatables.net@1.11.3?deps=jquery@3.5.0\");\n",
       "\n",
       "        initDataTables();\n",
       "\n",
       "        // Define the dt_args\n",
       "        let dt_args = {\"columnDefs\": [{\"width\": \"120px\", \"className\": \"dt-center\", \"targets\": \"_all\", \"createdCell\": \n",
       "        function (td, cellData, rowData, row, col) {\n",
       "            $(td).css('word-wrap', 'break-word')\n",
       "            if (cellData == false) {\n",
       "                $(td).css('color', '#7CBC97')\n",
       "                $(td).css('font-weight', 'bold')\n",
       "                $(td).html = \"False\"\n",
       "            }\n",
       "            else if (cellData == true) {\n",
       "                $(td).css('color', '#7DA5C0')\n",
       "                $(td).css('font-weight', 'bold')\n",
       "                $(td).html = \"True\"\n",
       "            }\n",
       "        }\n",
       "        }], \"lengthMenu\": [5, 10, 25, 50, -1]};\n",
       "        dt_args[\"data\"] = data;\n",
       "\n",
       "        // Display the table\n",
       "        $(document).ready(function () {\n",
       "            $('#ed42c3dc-2e8f-47f4-8e7b-d46e21e2bc43').DataTable(dt_args);\n",
       "        });\n",
       "    } else {\n",
       "        require([\"jquery\", \"datatables\"], ($, datatables) => {\n",
       "                // Define the dt_args\n",
       "                let dt_args = {\"columnDefs\": [{\"width\": \"120px\", \"className\": \"dt-center\", \"targets\": \"_all\", \"createdCell\": \n",
       "        function (td, cellData, rowData, row, col) {\n",
       "            $(td).css('word-wrap', 'break-word')\n",
       "            if (cellData == false) {\n",
       "                $(td).css('color', '#7CBC97')\n",
       "                $(td).css('font-weight', 'bold')\n",
       "                $(td).html = \"False\"\n",
       "            }\n",
       "            else if (cellData == true) {\n",
       "                $(td).css('color', '#7DA5C0')\n",
       "                $(td).css('font-weight', 'bold')\n",
       "                $(td).html = \"True\"\n",
       "            }\n",
       "        }\n",
       "        }], \"lengthMenu\": [5, 10, 25, 50, -1]};\n",
       "                dt_args[\"data\"] = data;\n",
       "\n",
       "                // Display the table\n",
       "                $(document).ready(function () {\n",
       "                    $('#ed42c3dc-2e8f-47f4-8e7b-d46e21e2bc43').DataTable(dt_args);\n",
       "                });\n",
       "            }\n",
       "        )\n",
       "    }\n",
       "</script>\n"
      ],
      "text/plain": [
       "<IPython.core.display.HTML object>"
      ]
     },
     "metadata": {},
     "output_type": "display_data"
    }
   ],
   "source": [
    "iris = ['http://www.ebu.ch/metadata/ontologies/ebucore/ebucore#EditorialObject']\n",
    "classes_by_labels = get_classes_by_iris(source_df=classes_df, \n",
    "                                        iris=iris, \n",
    "                                        show_subclasses=True, \n",
    "                                        show_superclasses=True, \n",
    "                                        language='en',\n",
    "                                        show_table=True)"
   ]
  },
  {
   "cell_type": "code",
   "execution_count": 6,
   "id": "da5019a1-12ec-4cba-948f-1400124944cf",
   "metadata": {
    "tags": []
   },
   "outputs": [
    {
     "data": {
      "text/html": [
       "\n",
       "        <iframe\n",
       "            width=\"100%\"\n",
       "            height=\"800px\"\n",
       "            src=\"graphs/editorial_object_basic.html\"\n",
       "            frameborder=\"0\"\n",
       "            allowfullscreen\n",
       "            \n",
       "        ></iframe>\n",
       "        "
      ],
      "text/plain": [
       "<IPython.lib.display.IFrame at 0x7fb358ad0a00>"
      ]
     },
     "execution_count": 6,
     "metadata": {},
     "output_type": "execute_result"
    }
   ],
   "source": [
    "iris = ['http://www.ebu.ch/metadata/ontologies/ebucore/ebucore#EditorialObject']\n",
    "network = visualize(username=USERNAME,\n",
    "                    password=PASSWORD,\n",
    "                    tenant=TENANT,\n",
    "                    source_df=classes_df,\n",
    "                    iris=iris, \n",
    "                    title='Hierarchy of class Editorial object', \n",
    "                    show_properties=False, \n",
    "                    show_legend=True,\n",
    "                    show_subclasses=True, \n",
    "                    show_superclasses=True, \n",
    "                    language='en',\n",
    "                    verbose=False)\n",
    "network.show('graphs/editorial_object_basic.html')"
   ]
  },
  {
   "cell_type": "code",
   "execution_count": 7,
   "id": "53317edd-f0b6-42a2-b5cb-ae473d96fdb0",
   "metadata": {},
   "outputs": [
    {
     "data": {
      "text/html": [
       "<table id=\"6f0ded83-b1c4-4212-b097-a43217373b59\" class=\"cell-border stripe hover\"style=\"max-width:100%\"><h4 style=\"text-alignt:center\"><label style=\"font-weight:bold\">Table: </label><label>Properties of class Asset</label></h4><thead>\n",
       "    <tr style=\"text-align: right;\">\n",
       "      \n",
       "      <th>Property</th>\n",
       "      <th>Type</th>\n",
       "      <th>Range</th>\n",
       "      <th>Max Cardinality</th>\n",
       "      <th>Some Values From</th>\n",
       "    </tr>\n",
       "  </thead><tbody><tr><td>Loading... (need <a href=https://mwouts.github.io/itables/troubleshooting.html>help</a>?)</td></tr></tbody></table>\n",
       "<link rel=\"stylesheet\" type=\"text/css\" href=\"https://cdn.datatables.net/1.11.3/css/jquery.dataTables.min.css\">\n",
       "<style> table td {\n",
       "    text-overflow: ellipsis;\n",
       "    overflow: hidden;\n",
       "} </style>\n",
       "<style> table th {\n",
       "    text-overflow: ellipsis;\n",
       "    overflow: hidden;\n",
       "} </style>\n",
       "<script type=\"module\">\n",
       "    // Define the table data\n",
       "    const data = [[\"ec:dateArchived\", \"owl:ObjectProperty\", \"time:Instant\", \"1.0\", \"\"], [\"ec:dateCreated\", \"owl:ObjectProperty\", \"time:Instant\", \"1.0\", \"\"], [\"ec:dateDeleted\", \"owl:ObjectProperty\", \"time:Instant\", \"1.0\", \"\"], [\"ec:dateDistributed\", \"owl:ObjectProperty\", \"time:Instant\", \"1.0\", \"\"], [\"ec:dateLicenseEnd\", \"owl:ObjectProperty\", \"time:Instant\", \"1.0\", \"\"], [\"ec:dateModified\", \"owl:ObjectProperty\", \"time:Instant\", \"1.0\", \"\"], [\"ec:dateProduced\", \"owl:ObjectProperty\", \"time:Instant\", \"1.0\", \"\"], [\"ec:dateReleased\", \"owl:ObjectProperty\", \"time:Instant\", \"1.0\", \"\"], [\"ec:datelicensedStart\", \"owl:ObjectProperty\", \"time:Instant\", \"1.0\", \"\"], [\"ec:objectType\", \"owl:ObjectProperty\", \"skos:Concept\", \"1.0\", \"\"], [\"ec:orderedFlag\", \"owl:DatatypeProperty\", \"xsd:boolean\", \"1.0\", \"\"], [\"ec:isCoveredBy\", \"owl:ObjectProperty\", \"ec:Rights\", \"\", \"ec:Rights\"], [\"ec:description\", \"owl:DatatypeProperty\", \"rdfs:Literal\", \"\", \"\"], [\"ec:name\", \"owl:DatatypeProperty\", \"rdfs:Literal\", \"\", \"\"], [\"ebuccdm:hasAssetValue\", \"owl:ObjectProperty\", \"ebuccdm:AssetValue\", \"\", \"\"], [\"ebuccdm:hasRelatedAsset\", \"owl:ObjectProperty\", \"ec:Asset\", \"\", \"\"], [\"ebuccdm:hasRelatedAuditReport\", \"owl:ObjectProperty\", \"ebuccdm:AuditReport\", \"\", \"\"], [\"ec:derivedTo\", \"owl:ObjectProperty\", \"ec:Asset\", \"\", \"\"], [\"ec:hasAccessConditions\", \"owl:ObjectProperty\", \"ec:AccessConditions\", \"\", \"\"], [\"ec:hasContact\", \"owl:ObjectProperty\", \"ec:Contact\", \"\", \"\"], [\"ec:hasCopyright\", \"owl:ObjectProperty\", \"ec:Copyright\", \"\", \"\"], [\"ec:hasCoverageRestrictions\", \"owl:ObjectProperty\", \"ec:CoverageRestrictions\", \"\", \"\"], [\"ec:hasCreativeCommons\", \"owl:ObjectProperty\", \"ec:CreativeCommons\", \"\", \"\"], [\"ec:hasDisclaimer\", \"owl:ObjectProperty\", \"ec:Disclaimer\", \"\", \"\"], [\"ec:hasExploitationIssues\", \"owl:ObjectProperty\", \"ec:ExploitationIssues\", \"\", \"\"], [\"ec:hasIPRRestrictions\", \"owl:ObjectProperty\", \"ec:IPRRestrictions\", \"\", \"\"], [\"ec:hasIdentifier\", \"owl:ObjectProperty\", \"ec:Identifier\", \"\", \"\"], [\"ec:hasLicensing\", \"owl:ObjectProperty\", \"ec:Licensing\", \"\", \"\"], [\"ec:hasParticipatingAgent\", \"owl:ObjectProperty\", \"ec:Agent\", \"\", \"\"], [\"ec:hasRelatedArtefact\", \"owl:ObjectProperty\", \"ec:Artefact\", \"\", \"\"], [\"ec:hasRelatedAsset\", \"owl:ObjectProperty\", \"ec:Asset\", \"\", \"\"], [\"ec:hasRelatedBusinessObject\", \"owl:ObjectProperty\", \"ec:BusinessObject\", \"\", \"\"], [\"ec:hasRelatedEditorialObject\", \"owl:ObjectProperty\", \"ec:EditorialObject\", \"\", \"\"], [\"ec:hasRelatedPicture\", \"owl:ObjectProperty\", \"ec:Picture\", \"\", \"\"], [\"ec:hasRelatedRecord\", \"owl:ObjectProperty\", \"ec:Record\", \"\", \"\"], [\"ec:hasRightsClearance\", \"owl:ObjectProperty\", \"ec:RightsClearance\", \"\", \"\"], [\"ec:hasUsageRestrictions\", \"owl:ObjectProperty\", \"ec:UsageRestrictions\", \"\", \"\"], [\"ec:hasUsageRights\", \"owl:ObjectProperty\", \"ec:UsageRights\", \"\", \"\"], [\"ec:isDerivedFrom\", \"owl:ObjectProperty\", \"ec:Asset\", \"\", \"\"]];\n",
       "\n",
       "    if (typeof require === 'undefined') {\n",
       "        // TODO: This should become the default (use a simple import)\n",
       "        // when the ESM version works independently of whether\n",
       "        // require.js is there or not, see\n",
       "        // https://datatables.net/forums/discussion/69066/esm-es6-module-support?\n",
       "        const {default: $} = await import(\"https://esm.sh/jquery@3.5.0\");\n",
       "        const {default: initDataTables} = await import(\"https://esm.sh/datatables.net@1.11.3?deps=jquery@3.5.0\");\n",
       "\n",
       "        initDataTables();\n",
       "\n",
       "        // Define the dt_args\n",
       "        let dt_args = {\"columnDefs\": [{\"width\": \"120px\", \"className\": \"dt-center\", \"targets\": \"_all\", \"createdCell\": \n",
       "        function (td, cellData, rowData, row, col) {\n",
       "            $(td).css('word-wrap', 'break-word')\n",
       "            if (cellData == false) {\n",
       "                $(td).css('color', '#7CBC97')\n",
       "                $(td).css('font-weight', 'bold')\n",
       "                $(td).html = \"False\"\n",
       "            }\n",
       "            else if (cellData == true) {\n",
       "                $(td).css('color', '#7DA5C0')\n",
       "                $(td).css('font-weight', 'bold')\n",
       "                $(td).html = \"True\"\n",
       "            }\n",
       "        }\n",
       "        }], \"lengthMenu\": [5, 10, 25, 50, -1]};\n",
       "        dt_args[\"data\"] = data;\n",
       "\n",
       "        // Display the table\n",
       "        $(document).ready(function () {\n",
       "            $('#6f0ded83-b1c4-4212-b097-a43217373b59').DataTable(dt_args);\n",
       "        });\n",
       "    } else {\n",
       "        require([\"jquery\", \"datatables\"], ($, datatables) => {\n",
       "                // Define the dt_args\n",
       "                let dt_args = {\"columnDefs\": [{\"width\": \"120px\", \"className\": \"dt-center\", \"targets\": \"_all\", \"createdCell\": \n",
       "        function (td, cellData, rowData, row, col) {\n",
       "            $(td).css('word-wrap', 'break-word')\n",
       "            if (cellData == false) {\n",
       "                $(td).css('color', '#7CBC97')\n",
       "                $(td).css('font-weight', 'bold')\n",
       "                $(td).html = \"False\"\n",
       "            }\n",
       "            else if (cellData == true) {\n",
       "                $(td).css('color', '#7DA5C0')\n",
       "                $(td).css('font-weight', 'bold')\n",
       "                $(td).html = \"True\"\n",
       "            }\n",
       "        }\n",
       "        }], \"lengthMenu\": [5, 10, 25, 50, -1]};\n",
       "                dt_args[\"data\"] = data;\n",
       "\n",
       "                // Display the table\n",
       "                $(document).ready(function () {\n",
       "                    $('#6f0ded83-b1c4-4212-b097-a43217373b59').DataTable(dt_args);\n",
       "                });\n",
       "            }\n",
       "        )\n",
       "    }\n",
       "</script>\n"
      ],
      "text/plain": [
       "<IPython.core.display.HTML object>"
      ]
     },
     "metadata": {},
     "output_type": "display_data"
    }
   ],
   "source": [
    "properties = get_properties(iri='http://www.ebu.ch/metadata/ontologies/ebucore/ebucore#Asset', \n",
    "                           username=USERNAME, \n",
    "                           password=PASSWORD,\n",
    "                           tenant=TENANT,\n",
    "                           show_table=True)"
   ]
  },
  {
   "cell_type": "code",
   "execution_count": 8,
   "id": "be45e4d0-c427-4e92-a52b-bb1722b7655e",
   "metadata": {},
   "outputs": [
    {
     "data": {
      "text/html": [
       "\n",
       "        <iframe\n",
       "            width=\"100%\"\n",
       "            height=\"800px\"\n",
       "            src=\"graphs/editorial_object.html\"\n",
       "            frameborder=\"0\"\n",
       "            allowfullscreen\n",
       "            \n",
       "        ></iframe>\n",
       "        "
      ],
      "text/plain": [
       "<IPython.lib.display.IFrame at 0x7fb36abaddf0>"
      ]
     },
     "execution_count": 8,
     "metadata": {},
     "output_type": "execute_result"
    }
   ],
   "source": [
    "iris = ['http://www.ebu.ch/metadata/ontologies/ebucore/ebucore#EditorialObject', 'http://www.ebu.ch/metadata/ontologies/ebucore/ebucore#Asset']\n",
    "network = visualize(username=USERNAME,\n",
    "                    password=PASSWORD,\n",
    "                    tenant=TENANT,\n",
    "                    source_df=classes_df,\n",
    "                    iris=iris, \n",
    "                    title='Properties of class Editorial object', \n",
    "                    show_properties=True, \n",
    "                    show_legend=True,\n",
    "                    show_subclasses=True, \n",
    "                    show_superclasses=True, \n",
    "                    language='en',\n",
    "                    verbose=False)\n",
    "    \n",
    "network.show('graphs/editorial_object.html')"
   ]
  },
  {
   "cell_type": "code",
   "execution_count": 9,
   "id": "8db7e8d8-be61-492b-b5f1-6fd86045d2ce",
   "metadata": {},
   "outputs": [
    {
     "data": {
      "text/html": [
       "<table id=\"29b46d6a-1118-4b8d-8a5c-2c784961ba10\" class=\"cell-border stripe hover\"style=\"max-width:100%\"><h4 style=\"text-alignt:center\"><label style=\"font-weight:bold\">Table: </label><label>Individuals of class EditorialObject</label></h4><thead>\n",
       "    <tr style=\"text-align: right;\">\n",
       "      \n",
       "      <th>iri</th>\n",
       "      <th>alternativeTitle</th>\n",
       "      <th>contentDescription</th>\n",
       "    </tr>\n",
       "  </thead><tbody><tr><td>Loading... (need <a href=https://mwouts.github.io/itables/troubleshooting.html>help</a>?)</td></tr></tbody></table>\n",
       "<link rel=\"stylesheet\" type=\"text/css\" href=\"https://cdn.datatables.net/1.11.3/css/jquery.dataTables.min.css\">\n",
       "<style> table td {\n",
       "    text-overflow: ellipsis;\n",
       "    overflow: hidden;\n",
       "} </style>\n",
       "<style> table th {\n",
       "    text-overflow: ellipsis;\n",
       "    overflow: hidden;\n",
       "} </style>\n",
       "<script type=\"module\">\n",
       "    // Define the table data\n",
       "    const data = [[\"http://www.ebu.ch/metadata/ontologies/ebucore/ebucore#SOMEPROGRAMME\", \"Et prg\", \"Et merke\"], [\"http://www.ebu.ch/metadata/ontologies/ebucore/ebucore#SOMEPROGRAMME\", \"Et prg\", \"et annet merke (some tag)\"]];\n",
       "\n",
       "    if (typeof require === 'undefined') {\n",
       "        // TODO: This should become the default (use a simple import)\n",
       "        // when the ESM version works independently of whether\n",
       "        // require.js is there or not, see\n",
       "        // https://datatables.net/forums/discussion/69066/esm-es6-module-support?\n",
       "        const {default: $} = await import(\"https://esm.sh/jquery@3.5.0\");\n",
       "        const {default: initDataTables} = await import(\"https://esm.sh/datatables.net@1.11.3?deps=jquery@3.5.0\");\n",
       "\n",
       "        initDataTables();\n",
       "\n",
       "        // Define the dt_args\n",
       "        let dt_args = {\"columnDefs\": [{\"width\": \"120px\", \"className\": \"dt-center\", \"targets\": \"_all\", \"createdCell\": \n",
       "        function (td, cellData, rowData, row, col) {\n",
       "            $(td).css('word-wrap', 'break-word')\n",
       "            if (cellData == false) {\n",
       "                $(td).css('color', '#7CBC97')\n",
       "                $(td).css('font-weight', 'bold')\n",
       "                $(td).html = \"False\"\n",
       "            }\n",
       "            else if (cellData == true) {\n",
       "                $(td).css('color', '#7DA5C0')\n",
       "                $(td).css('font-weight', 'bold')\n",
       "                $(td).html = \"True\"\n",
       "            }\n",
       "        }\n",
       "        }], \"lengthMenu\": [5, 10, 25, 50, -1], \"paging\": false};\n",
       "        dt_args[\"data\"] = data;\n",
       "\n",
       "        // Display the table\n",
       "        $(document).ready(function () {\n",
       "            $('#29b46d6a-1118-4b8d-8a5c-2c784961ba10').DataTable(dt_args);\n",
       "        });\n",
       "    } else {\n",
       "        require([\"jquery\", \"datatables\"], ($, datatables) => {\n",
       "                // Define the dt_args\n",
       "                let dt_args = {\"columnDefs\": [{\"width\": \"120px\", \"className\": \"dt-center\", \"targets\": \"_all\", \"createdCell\": \n",
       "        function (td, cellData, rowData, row, col) {\n",
       "            $(td).css('word-wrap', 'break-word')\n",
       "            if (cellData == false) {\n",
       "                $(td).css('color', '#7CBC97')\n",
       "                $(td).css('font-weight', 'bold')\n",
       "                $(td).html = \"False\"\n",
       "            }\n",
       "            else if (cellData == true) {\n",
       "                $(td).css('color', '#7DA5C0')\n",
       "                $(td).css('font-weight', 'bold')\n",
       "                $(td).html = \"True\"\n",
       "            }\n",
       "        }\n",
       "        }], \"lengthMenu\": [5, 10, 25, 50, -1], \"paging\": false};\n",
       "                dt_args[\"data\"] = data;\n",
       "\n",
       "                // Display the table\n",
       "                $(document).ready(function () {\n",
       "                    $('#29b46d6a-1118-4b8d-8a5c-2c784961ba10').DataTable(dt_args);\n",
       "                });\n",
       "            }\n",
       "        )\n",
       "    }\n",
       "</script>\n"
      ],
      "text/plain": [
       "<IPython.core.display.HTML object>"
      ]
     },
     "metadata": {},
     "output_type": "display_data"
    }
   ],
   "source": [
    "individuals = get_individuals(iri='http://www.ebu.ch/metadata/ontologies/ebucore/ebucore#EditorialObject', \n",
    "                              username='demo-user', \n",
    "                              password='demo', \n",
    "                              tenant=TENANT,\n",
    "                              show_table=True)"
   ]
  },
  {
   "cell_type": "code",
   "execution_count": 10,
   "id": "93d0bbaa-2b26-4154-857e-a28aca0d058c",
   "metadata": {},
   "outputs": [
    {
     "data": {
      "text/html": [
       "<table id=\"92cc1b02-87ed-4e98-a189-d91281049d27\" class=\"cell-border stripe hover\"style=\"max-width:100%\"><h4 style=\"text-alignt:center\"><label style=\"font-weight:bold\">Table: </label><label>Description of class EditorialObject</label></h4><thead>\n",
       "    <tr style=\"text-align: right;\">\n",
       "      \n",
       "      <th>Class Label</th>\n",
       "      <th>Class IRI</th>\n",
       "      <th>Description</th>\n",
       "    </tr>\n",
       "  </thead><tbody><tr><td>Loading... (need <a href=https://mwouts.github.io/itables/troubleshooting.html>help</a>?)</td></tr></tbody></table>\n",
       "<link rel=\"stylesheet\" type=\"text/css\" href=\"https://cdn.datatables.net/1.11.3/css/jquery.dataTables.min.css\">\n",
       "<style> table td {\n",
       "    text-overflow: ellipsis;\n",
       "    overflow: hidden;\n",
       "} </style>\n",
       "<style> table th {\n",
       "    text-overflow: ellipsis;\n",
       "    overflow: hidden;\n",
       "} </style>\n",
       "<script type=\"module\">\n",
       "    // Define the table data\n",
       "    const data = [[\"Editorial object\", \"http://www.ebu.ch/metadata/ontologies/ebucore/ebucore#EditorialObject\", \"This is the new description for editorial object\"]];\n",
       "\n",
       "    if (typeof require === 'undefined') {\n",
       "        // TODO: This should become the default (use a simple import)\n",
       "        // when the ESM version works independently of whether\n",
       "        // require.js is there or not, see\n",
       "        // https://datatables.net/forums/discussion/69066/esm-es6-module-support?\n",
       "        const {default: $} = await import(\"https://esm.sh/jquery@3.5.0\");\n",
       "        const {default: initDataTables} = await import(\"https://esm.sh/datatables.net@1.11.3?deps=jquery@3.5.0\");\n",
       "\n",
       "        initDataTables();\n",
       "\n",
       "        // Define the dt_args\n",
       "        let dt_args = {\"columnDefs\": [{\"width\": \"120px\", \"className\": \"dt-center\", \"targets\": \"_all\", \"createdCell\": \n",
       "        function (td, cellData, rowData, row, col) {\n",
       "            $(td).css('word-wrap', 'break-word')\n",
       "            if (cellData == false) {\n",
       "                $(td).css('color', '#7CBC97')\n",
       "                $(td).css('font-weight', 'bold')\n",
       "                $(td).html = \"False\"\n",
       "            }\n",
       "            else if (cellData == true) {\n",
       "                $(td).css('color', '#7DA5C0')\n",
       "                $(td).css('font-weight', 'bold')\n",
       "                $(td).html = \"True\"\n",
       "            }\n",
       "        }\n",
       "        }], \"lengthMenu\": [5, 10, 25, 50, -1], \"paging\": false};\n",
       "        dt_args[\"data\"] = data;\n",
       "\n",
       "        // Display the table\n",
       "        $(document).ready(function () {\n",
       "            $('#92cc1b02-87ed-4e98-a189-d91281049d27').DataTable(dt_args);\n",
       "        });\n",
       "    } else {\n",
       "        require([\"jquery\", \"datatables\"], ($, datatables) => {\n",
       "                // Define the dt_args\n",
       "                let dt_args = {\"columnDefs\": [{\"width\": \"120px\", \"className\": \"dt-center\", \"targets\": \"_all\", \"createdCell\": \n",
       "        function (td, cellData, rowData, row, col) {\n",
       "            $(td).css('word-wrap', 'break-word')\n",
       "            if (cellData == false) {\n",
       "                $(td).css('color', '#7CBC97')\n",
       "                $(td).css('font-weight', 'bold')\n",
       "                $(td).html = \"False\"\n",
       "            }\n",
       "            else if (cellData == true) {\n",
       "                $(td).css('color', '#7DA5C0')\n",
       "                $(td).css('font-weight', 'bold')\n",
       "                $(td).html = \"True\"\n",
       "            }\n",
       "        }\n",
       "        }], \"lengthMenu\": [5, 10, 25, 50, -1], \"paging\": false};\n",
       "                dt_args[\"data\"] = data;\n",
       "\n",
       "                // Display the table\n",
       "                $(document).ready(function () {\n",
       "                    $('#92cc1b02-87ed-4e98-a189-d91281049d27').DataTable(dt_args);\n",
       "                });\n",
       "            }\n",
       "        )\n",
       "    }\n",
       "</script>\n"
      ],
      "text/plain": [
       "<IPython.core.display.HTML object>"
      ]
     },
     "metadata": {},
     "output_type": "display_data"
    }
   ],
   "source": [
    "description = get_description(source_df=classes_df, \n",
    "                            iri='http://www.ebu.ch/metadata/ontologies/ebucore/ebucore#EditorialObject', \n",
    "                            language='en', \n",
    "                            show_table=True)"
   ]
  },
  {
   "cell_type": "code",
   "execution_count": null,
   "id": "b8c66de5-6ac4-4014-8743-8ac51e8184fc",
   "metadata": {},
   "outputs": [],
   "source": []
  },
  {
   "cell_type": "code",
   "execution_count": null,
   "id": "a5892193-fd23-4fbf-87c6-32a7dfba799c",
   "metadata": {},
   "outputs": [],
   "source": []
  },
  {
   "cell_type": "code",
   "execution_count": null,
   "id": "5e81ac4e-f39b-4fb3-b6c9-6d328fb21d5b",
   "metadata": {},
   "outputs": [],
   "source": []
  },
  {
   "cell_type": "code",
   "execution_count": null,
   "id": "d8865ce8-3cc9-411f-8f21-4c7c642a4d0d",
   "metadata": {},
   "outputs": [],
   "source": []
  }
 ],
 "metadata": {
  "kernelspec": {
   "display_name": "Python 3 (ipykernel)",
   "language": "python",
   "name": "python3"
  },
  "language_info": {
   "codemirror_mode": {
    "name": "ipython",
    "version": 3
   },
   "file_extension": ".py",
   "mimetype": "text/x-python",
   "name": "python",
   "nbconvert_exporter": "python",
   "pygments_lexer": "ipython3",
   "version": "3.8.13"
  },
  "vscode": {
   "interpreter": {
    "hash": "98807f6c289134d296216f26040d15a7d574bbb60c2c2a89c24c5bf374ecb86a"
   }
  }
 },
 "nbformat": 4,
 "nbformat_minor": 5
}
