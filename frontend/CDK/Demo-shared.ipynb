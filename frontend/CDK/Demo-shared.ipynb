{
 "cells": [
  {
   "cell_type": "markdown",
   "id": "e1f662fd-7acd-48f9-8da0-9b0e8a6aff36",
   "metadata": {
    "deletable": false,
    "editable": false,
    "tags": []
   },
   "source": [
    "# EBUCore+ Demonstrator Kit powered by ENAPSO\n",
    "## Preamble\n",
    ">EBU provides the CDK as a free tool to assist developers in exploring the EBUCore+ model. The CDK is neither licensed nor designed for productive use.\n",
    ">\n",
    ">The CDK documentation is available at https://github.com/ebu/coreplus-demo.\n",
    ">\n",
    ">EBU members can use the CDK online service at https://ebucore-plus-dk.org. To get access, please contact the EBU project coordinator. The CDK online service provides a shared JupyterLab workspace. Notebooks are visible and accessible to all logged in users.\n",
    ">\n",
    ">If you want to modify a notebook, please create a copy with a meaningful name. Leave the copy in the root folder. Executing a notebook in a subfolder is not supported. The original Demo.ipynb notebook is available at https://github.com/ebu/coreplus-demo.\n",
    ">\n",
    ">Users of the EBU online service have read access to a common demo database. The database currently contains a preliminary data model and sample data. The credentials for database access are given in the notebook. You can keep the default setting (demo-tenant, demo-user, demo).\n",
    ">\n",
    ">As a power user you may want to create/update/delete data, import data, or customize the data model. In this case your organization can apply for a private database. Please contact the EBU project coordinator for more information.\n",
    "\n",
    "## History\n",
    "2022-08-29  Release of CDK 1.0\n",
    "\n",
    "## Initialization"
   ]
  },
  {
   "cell_type": "code",
   "execution_count": null,
   "id": "99bddc85",
   "metadata": {
    "deletable": false,
    "editable": false,
    "tags": []
   },
   "outputs": [],
   "source": [
    "import os\n",
    "import sys\n",
    "import pandas as pd\n",
    "import itables.options as opt\n",
    "from itables import init_notebook_mode, show\n",
    "from scripts.ontologies import (load_model, get_all_classes, get_description, get_hierarchy, get_hierarchy_graph, \n",
    "                                get_individuals, get_properties, get_properties_graph, itable_config, get_individual_properties_graph)\n",
    "\n",
    "\n",
    "# Define user credentials\n",
    "TENANT = os.getenv('TENANT', 'demo-tenant')\n",
    "USERNAME = 'demo-user'\n",
    "PASSWORD = 'demo'\n",
    "\n",
    "# Read data from the graph database\n",
    "classes_df = load_model(tenant=TENANT, username=USERNAME, password=PASSWORD)\n",
    "itable_config(opt, init_notebook_mode)"
   ]
  },
  {
   "cell_type": "markdown",
   "id": "cc4fb9e9-40f2-4571-aa8e-e81c7b5cdff7",
   "metadata": {
    "deletable": false,
    "editable": false,
    "tags": []
   },
   "source": [
    "## Classes & properties\n",
    "### List of classes\n",
    "Here you get an overview of all classes contained in the model. You can sort the table by column.\n",
    "\n",
    ">Use the Search function to find all records (rows) that contain the search string in one field (column).\n",
    "\n",
    "__IsLeafClass__ is a computed Boolean value. It indicates if the class is located at the lowest level of the hierarchy – in other words, that the class has no subclasses. We only consider explicitly modeled relations and don't use reasoning."
   ]
  },
  {
   "cell_type": "code",
   "execution_count": null,
   "id": "153bea62-6330-469b-ae20-0e0786248ed1",
   "metadata": {
    "deletable": false,
    "editable": false,
    "tags": []
   },
   "outputs": [],
   "source": [
    "all_classes_df = get_all_classes(source_df=classes_df,\n",
    "                                 language='en',\n",
    "                                 show_table=True)"
   ]
  },
  {
   "cell_type": "markdown",
   "id": "a8edbfea-7a56-4f36-9b00-ad62fe135067",
   "metadata": {
    "deletable": false,
    "editable": false,
    "tags": []
   },
   "source": [
    "### Class descriptions\n",
    "Here you see the description of one or more classes. Use the table above to look up and copy one or more class IRIs to the iris parameter as a comma-separated list.\n",
    "\n",
    ">The basic language is English ('en'). Released versions of EBUCore+ will also support German ('de') and French ('fr'). More languages may be added in the future."
   ]
  },
  {
   "cell_type": "code",
   "execution_count": null,
   "id": "16df2eb9-63cf-4251-a5d3-d4362f524cbf",
   "metadata": {
    "deletable": false,
    "editable": false,
    "tags": []
   },
   "outputs": [],
   "source": [
    "iris = ['http://www.ebu.ch/metadata/ontologies/ebucore/ebucore#EditorialObject']\n",
    "description = get_description(source_df=classes_df,\n",
    "                              iris=iris,\n",
    "                              language='en',\n",
    "                              show_table=True)"
   ]
  },
  {
   "cell_type": "markdown",
   "id": "11fdf1d8-2eb0-4701-bf67-bc011c7ef024",
   "metadata": {
    "deletable": false,
    "editable": false,
    "tags": []
   },
   "source": [
    "### Class hierarchy\n",
    "Here you can examine super- and subclasses of one or more given classes. You can choose between a tabular view and a graphical view. Both are shown below. First copy one or more class IRIs to the iris parameter.\n",
    "\n",
    ">If you want to see superclasses, set \"show_superclasses=True\". Analogously for subclasses. The result set is limited to direct super- and subclasses.\n",
    "\n",
    "You can extend the result set in an incremental manner. Let's assume you start with class A and find superclasses B and C. If you want to learn more about class B, you can either set \"iris = \\[iri_B\\]\" or \"iris = \\[iri_A,iri_B\\]\". In the second case you get class A with its superclasses B, C and in addition all superclasses of class B. The latter are 2nd-level superclasses of class A.\n",
    "\n",
    ">This way you can examine chains of super- and subclasses across as many hierarchical levels as required.\n",
    "\n",
    "This is particularly useful in the graphical view. Elements of the graph are highlighted when selected."
   ]
  },
  {
   "cell_type": "code",
   "execution_count": null,
   "id": "2bea315e-fefd-4913-84dd-eec9566eb8e3",
   "metadata": {
    "deletable": false,
    "editable": false,
    "tags": []
   },
   "outputs": [],
   "source": [
    "iris = ['http://www.ebu.ch/metadata/ontologies/ebucore/ebucore#EditorialObject']\n",
    "hierarchy = get_hierarchy(source_df=classes_df,\n",
    "                          iris=iris,\n",
    "                          show_superclasses=True,\n",
    "                          show_subclasses=True,\n",
    "                          language='en',\n",
    "                          show_table=True)"
   ]
  },
  {
   "cell_type": "code",
   "execution_count": null,
   "id": "da5019a1-12ec-4cba-948f-1400124944cf",
   "metadata": {
    "deletable": false,
    "editable": false,
    "tags": []
   },
   "outputs": [],
   "source": [
    "iris = ['http://www.ebu.ch/metadata/ontologies/ebucore/ebucore#EditorialObject']\n",
    "graph = get_hierarchy_graph(tenant=TENANT,\n",
    "                            username=USERNAME,\n",
    "                            password=PASSWORD,\n",
    "                            source_df=classes_df,\n",
    "                            iris=iris,\n",
    "                            show_superclasses=True,\n",
    "                            show_subclasses=True,\n",
    "                            language='en')\n",
    "graph.show('graphs/editorial_object_basic.html')"
   ]
  },
  {
   "cell_type": "markdown",
   "id": "2318c216-e712-4b0e-9317-434024273161",
   "metadata": {
    "deletable": false,
    "editable": false,
    "tags": []
   },
   "source": [
    "<img src=\"https://image-assets-for-cdk.s3.eu-central-1.amazonaws.com/legend_for_cell.png\" alt=\"Drawing\" style=\"width: 350px;\"/>"
   ]
  },
  {
   "cell_type": "markdown",
   "id": "d1c74e4c-3ac4-484b-ba8a-228faee20bdf",
   "metadata": {
    "deletable": false,
    "editable": false,
    "tags": []
   },
   "source": [
    "### Class properties\n",
    "Here you can examine the properties of a class. Technically speaking, we refer to OWL class restrictions. You can use the tabular view or the graphical view to gain insight.\n",
    "\n",
    ">If you set \"show_superclasses=True\" for the graph, the result will include the properties of all direct superclasses of the specified class. Analogously for subclasses."
   ]
  },
  {
   "cell_type": "code",
   "execution_count": null,
   "id": "e0880103-fb53-4035-b824-de803ecbaa45",
   "metadata": {
    "deletable": false,
    "editable": false,
    "tags": []
   },
   "outputs": [],
   "source": [
    "iri = 'http://www.ebu.ch/metadata/ontologies/ebucore/ebucore#EditorialObject'\n",
    "properties = get_properties(tenant=TENANT,\n",
    "                            username=USERNAME,\n",
    "                            password=PASSWORD,\n",
    "                            iri=iri,\n",
    "                            show_table=True)"
   ]
  },
  {
   "cell_type": "code",
   "execution_count": null,
   "id": "be45e4d0-c427-4e92-a52b-bb1722b7655e",
   "metadata": {
    "deletable": false,
    "editable": false,
    "tags": []
   },
   "outputs": [],
   "source": [
    "iris = ['http://www.ebu.ch/metadata/ontologies/ebucore/ebucore#EditorialObject']\n",
    "graph = get_properties_graph(tenant=TENANT,\n",
    "                             username=USERNAME,\n",
    "                             password=PASSWORD,\n",
    "                             source_df=classes_df,\n",
    "                             iris=iris,\n",
    "                             show_superclasses=False,\n",
    "                             show_subclasses=False,\n",
    "                             language='en')\n",
    "graph.show('graphs/editorial_object.html')"
   ]
  },
  {
   "cell_type": "markdown",
   "id": "6f2b58f3-6b3b-45b4-b76c-d933d2ca1984",
   "metadata": {
    "deletable": false,
    "editable": false,
    "tags": []
   },
   "source": [
    "<img src=\"https://image-assets-for-cdk.s3.eu-central-1.amazonaws.com/legend_for_cell.png\" alt=\"Drawing\" style=\"width: 350px;\"/>\n"
   ]
  },
  {
   "cell_type": "markdown",
   "id": "9a30ffc1-9c51-4909-9ec5-d48e50cd00a8",
   "metadata": {
    "deletable": false,
    "editable": false,
    "tags": []
   },
   "source": [
    "## Sample data\n",
    "### List of individuals\n",
    "Here you get an overview of all individuals of a given class in the sample data.\n",
    "\n",
    ">The data can be imported, created via API, or produced by the test data generator."
   ]
  },
  {
   "cell_type": "code",
   "execution_count": null,
   "id": "8db7e8d8-be61-492b-b5f1-6fd86045d2ce",
   "metadata": {
    "deletable": false,
    "editable": false,
    "tags": []
   },
   "outputs": [],
   "source": [
    "iri = 'http://www.ebu.ch/metadata/ontologies/ebucore/ebucore#EditorialObject'\n",
    "individuals = get_individuals(tenant=TENANT,\n",
    "                              username=USERNAME,\n",
    "                              password=PASSWORD,\n",
    "                              iri=iri,\n",
    "                              show_table=True)"
   ]
  },
  {
   "cell_type": "code",
   "execution_count": null,
   "id": "b8c66de5-6ac4-4014-8743-8ac51e8184fc",
   "metadata": {
    "tags": []
   },
   "outputs": [],
   "source": [
    "iri = 'http://ebu.swr.ex01.tatort._pub_010'\n",
    "graph = get_individual_properties_graph(tenant=TENANT,\n",
    "                                        username=USERNAME,\n",
    "                                        password=PASSWORD,\n",
    "                                        iri=iri)\n",
    "graph.show('graphs/individual_properties.html')"
   ]
  },
  {
   "cell_type": "code",
   "execution_count": null,
   "id": "a5892193-fd23-4fbf-87c6-32a7dfba799c",
   "metadata": {
    "tags": []
   },
   "outputs": [],
   "source": []
  },
  {
   "cell_type": "code",
   "execution_count": null,
   "id": "5e81ac4e-f39b-4fb3-b6c9-6d328fb21d5b",
   "metadata": {
    "tags": []
   },
   "outputs": [],
   "source": []
  }
 ],
 "metadata": {
  "kernelspec": {
   "display_name": "Python 3",
   "language": "python",
   "name": "python3"
  },
  "language_info": {
   "codemirror_mode": {
    "name": "ipython",
    "version": 3
   },
   "file_extension": ".py",
   "mimetype": "text/x-python",
   "name": "python",
   "nbconvert_exporter": "python",
   "pygments_lexer": "ipython3",
   "version": "3.11.0rc1 (main, Aug  8 2022, 11:30:54) [MSC v.1932 64 bit (AMD64)]"
  },
  "toc-autonumbering": false,
  "toc-showmarkdowntxt": false,
  "vscode": {
   "interpreter": {
    "hash": "c261aea317cc0286b3b3261fbba9abdec21eaa57589985bb7a274bf54d6cc0a7"
   }
  }
 },
 "nbformat": 4,
 "nbformat_minor": 5
}
